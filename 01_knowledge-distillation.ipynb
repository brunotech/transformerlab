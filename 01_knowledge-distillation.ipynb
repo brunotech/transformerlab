{
 "cells": [
  {
   "cell_type": "markdown",
   "metadata": {},
   "source": [
    "## Load libraries"
   ]
  },
  {
   "cell_type": "code",
   "execution_count": 118,
   "metadata": {},
   "outputs": [],
   "source": [
    "from datasets import load_dataset, load_metric\n",
    "from transformers import AutoTokenizer, AutoModelForQuestionAnswering, default_data_collator, TrainingArguments, Trainer, EvalPrediction\n",
    "from transformers.trainer_utils import PredictionOutput\n",
    "import numpy as np\n",
    "import torch\n",
    "from typing import Tuple, Optional\n",
    "import collections\n",
    "from tqdm.auto import tqdm\n",
    "import os\n",
    "import json\n",
    "import torch.nn as nn\n",
    "import torch.nn.functional as F\n"
   ]
  },
  {
   "cell_type": "markdown",
   "metadata": {},
   "source": [
    "## Load data"
   ]
  },
  {
   "cell_type": "code",
   "execution_count": 18,
   "metadata": {},
   "outputs": [],
   "source": [
    "squad_v2 = False\n",
    "model_checkpoint = \"bert-base-uncased\"\n",
    "batch_size = 16\n",
    "device = torch.device(\"cuda\" if torch.cuda.is_available() else \"cpu\")"
   ]
  },
  {
   "cell_type": "code",
   "execution_count": 3,
   "metadata": {},
   "outputs": [
    {
     "name": "stderr",
     "output_type": "stream",
     "text": [
      "Reusing dataset squad (/root/.cache/huggingface/datasets/squad/plain_text/1.0.0/4c81550d83a2ac7c7ce23783bd8ff36642800e6633c1f18417fb58c3ff50cdd7)\n"
     ]
    },
    {
     "data": {
      "text/plain": [
       "DatasetDict({\n",
       "    train: Dataset({\n",
       "        features: ['id', 'title', 'context', 'question', 'answers'],\n",
       "        num_rows: 87599\n",
       "    })\n",
       "    validation: Dataset({\n",
       "        features: ['id', 'title', 'context', 'question', 'answers'],\n",
       "        num_rows: 10570\n",
       "    })\n",
       "})"
      ]
     },
     "execution_count": 3,
     "metadata": {},
     "output_type": "execute_result"
    }
   ],
   "source": [
    "datasets = load_dataset(\"squad_v2\" if squad_v2 else \"squad\")\n",
    "datasets"
   ]
  },
  {
   "cell_type": "code",
   "execution_count": 4,
   "metadata": {},
   "outputs": [
    {
     "data": {
      "text/plain": [
       "{'answers': {'answer_start': [515], 'text': ['Saint Bernadette Soubirous']},\n",
       " 'context': 'Architecturally, the school has a Catholic character. Atop the Main Building\\'s gold dome is a golden statue of the Virgin Mary. Immediately in front of the Main Building and facing it, is a copper statue of Christ with arms upraised with the legend \"Venite Ad Me Omnes\". Next to the Main Building is the Basilica of the Sacred Heart. Immediately behind the basilica is the Grotto, a Marian place of prayer and reflection. It is a replica of the grotto at Lourdes, France where the Virgin Mary reputedly appeared to Saint Bernadette Soubirous in 1858. At the end of the main drive (and in a direct line that connects through 3 statues and the Gold Dome), is a simple, modern stone statue of Mary.',\n",
       " 'id': '5733be284776f41900661182',\n",
       " 'question': 'To whom did the Virgin Mary allegedly appear in 1858 in Lourdes France?',\n",
       " 'title': 'University_of_Notre_Dame'}"
      ]
     },
     "execution_count": 4,
     "metadata": {},
     "output_type": "execute_result"
    }
   ],
   "source": [
    "datasets[\"train\"][0]"
   ]
  },
  {
   "cell_type": "markdown",
   "metadata": {},
   "source": [
    "## Preprocess data"
   ]
  },
  {
   "cell_type": "code",
   "execution_count": 5,
   "metadata": {},
   "outputs": [],
   "source": [
    "tokenizer = AutoTokenizer.from_pretrained(model_checkpoint)"
   ]
  },
  {
   "cell_type": "code",
   "execution_count": 6,
   "metadata": {},
   "outputs": [],
   "source": [
    "max_length = 384 # The maximum length of a feature (question and context)\n",
    "doc_stride = 128 # The authorized overlap between two part of the context when splitting it is needed.\n",
    "pad_on_right = tokenizer.padding_side == \"right\""
   ]
  },
  {
   "cell_type": "code",
   "execution_count": 7,
   "metadata": {},
   "outputs": [],
   "source": [
    "def prepare_train_features(examples):\n",
    "    # Tokenize our examples with truncation and padding, but keep the overflows using a stride. This results\n",
    "    # in one example possible giving several features when a context is long, each of those features having a\n",
    "    # context that overlaps a bit the context of the previous feature.\n",
    "    tokenized_examples = tokenizer(\n",
    "        examples[\"question\" if pad_on_right else \"context\"],\n",
    "        examples[\"context\" if pad_on_right else \"question\"],\n",
    "        truncation=\"only_second\" if pad_on_right else \"only_first\",\n",
    "        max_length=max_length,\n",
    "        stride=doc_stride,\n",
    "        return_overflowing_tokens=True,\n",
    "        return_offsets_mapping=True,\n",
    "        padding=\"max_length\",\n",
    "    )\n",
    "\n",
    "    # Since one example might give us several features if it has a long context, we need a map from a feature to\n",
    "    # its corresponding example. This key gives us just that.\n",
    "    sample_mapping = tokenized_examples.pop(\"overflow_to_sample_mapping\")\n",
    "    # The offset mappings will give us a map from token to character position in the original context. This will\n",
    "    # help us compute the start_positions and end_positions.\n",
    "    offset_mapping = tokenized_examples.pop(\"offset_mapping\")\n",
    "\n",
    "    # Let's label those examples!\n",
    "    tokenized_examples[\"start_positions\"] = []\n",
    "    tokenized_examples[\"end_positions\"] = []\n",
    "\n",
    "    for i, offsets in enumerate(offset_mapping):\n",
    "        # We will label impossible answers with the index of the CLS token.\n",
    "        input_ids = tokenized_examples[\"input_ids\"][i]\n",
    "        cls_index = input_ids.index(tokenizer.cls_token_id)\n",
    "\n",
    "        # Grab the sequence corresponding to that example (to know what is the context and what is the question).\n",
    "        sequence_ids = tokenized_examples.sequence_ids(i)\n",
    "\n",
    "        # One example can give several spans, this is the index of the example containing this span of text.\n",
    "        sample_index = sample_mapping[i]\n",
    "        answers = examples[\"answers\"][sample_index]\n",
    "        # If no answers are given, set the cls_index as answer.\n",
    "        if len(answers[\"answer_start\"]) == 0:\n",
    "            tokenized_examples[\"start_positions\"].append(cls_index)\n",
    "            tokenized_examples[\"end_positions\"].append(cls_index)\n",
    "        else:\n",
    "            # Start/end character index of the answer in the text.\n",
    "            start_char = answers[\"answer_start\"][0]\n",
    "            end_char = start_char + len(answers[\"text\"][0])\n",
    "\n",
    "            # Start token index of the current span in the text.\n",
    "            token_start_index = 0\n",
    "            while sequence_ids[token_start_index] != (1 if pad_on_right else 0):\n",
    "                token_start_index += 1\n",
    "\n",
    "            # End token index of the current span in the text.\n",
    "            token_end_index = len(input_ids) - 1\n",
    "            while sequence_ids[token_end_index] != (1 if pad_on_right else 0):\n",
    "                token_end_index -= 1\n",
    "\n",
    "            # Detect if the answer is out of the span (in which case this feature is labeled with the CLS index).\n",
    "            if not (offsets[token_start_index][0] <= start_char and offsets[token_end_index][1] >= end_char):\n",
    "                tokenized_examples[\"start_positions\"].append(cls_index)\n",
    "                tokenized_examples[\"end_positions\"].append(cls_index)\n",
    "            else:\n",
    "                # Otherwise move the token_start_index and token_end_index to the two ends of the answer.\n",
    "                # Note: we could go after the last offset if the answer is the last word (edge case).\n",
    "                while token_start_index < len(offsets) and offsets[token_start_index][0] <= start_char:\n",
    "                    token_start_index += 1\n",
    "                tokenized_examples[\"start_positions\"].append(token_start_index - 1)\n",
    "                while offsets[token_end_index][1] >= end_char:\n",
    "                    token_end_index -= 1\n",
    "                tokenized_examples[\"end_positions\"].append(token_end_index + 1)\n",
    "\n",
    "    return tokenized_examples"
   ]
  },
  {
   "cell_type": "code",
   "execution_count": 8,
   "metadata": {},
   "outputs": [
    {
     "name": "stderr",
     "output_type": "stream",
     "text": [
      "Loading cached processed dataset at /root/.cache/huggingface/datasets/squad/plain_text/1.0.0/4c81550d83a2ac7c7ce23783bd8ff36642800e6633c1f18417fb58c3ff50cdd7/cache-43f99192c6fcfcc0.arrow\n"
     ]
    },
    {
     "data": {
      "text/plain": [
       "Dataset({\n",
       "    features: ['attention_mask', 'end_positions', 'input_ids', 'start_positions', 'token_type_ids'],\n",
       "    num_rows: 88524\n",
       "})"
      ]
     },
     "execution_count": 8,
     "metadata": {},
     "output_type": "execute_result"
    }
   ],
   "source": [
    "train_dataset = datasets['train'].map(prepare_train_features, batched=True, remove_columns=datasets[\"train\"].column_names)\n",
    "train_dataset"
   ]
  },
  {
   "cell_type": "code",
   "execution_count": 9,
   "metadata": {},
   "outputs": [],
   "source": [
    "def prepare_validation_features(examples):\n",
    "    # Tokenize our examples with truncation and maybe padding, but keep the overflows using a stride. This results\n",
    "    # in one example possible giving several features when a context is long, each of those features having a\n",
    "    # context that overlaps a bit the context of the previous feature.\n",
    "    tokenized_examples = tokenizer(\n",
    "        examples['question' if pad_on_right else 'context'],\n",
    "        examples['context' if pad_on_right else 'question'],\n",
    "        truncation=\"only_second\" if pad_on_right else \"only_first\",\n",
    "        max_length=max_length,\n",
    "        stride=doc_stride,\n",
    "        return_overflowing_tokens=True,\n",
    "        return_offsets_mapping=True,\n",
    "        padding=\"max_length\",\n",
    "    )\n",
    "\n",
    "    # Since one example might give us several features if it has a long context, we need a map from a feature to\n",
    "    # its corresponding example. This key gives us just that.\n",
    "    sample_mapping = tokenized_examples.pop(\"overflow_to_sample_mapping\")\n",
    "\n",
    "    # For evaluation, we will need to convert our predictions to substrings of the context, so we keep the\n",
    "    # corresponding example_id and we will store the offset mappings.\n",
    "    tokenized_examples[\"example_id\"] = []\n",
    "\n",
    "    for i in range(len(tokenized_examples[\"input_ids\"])):\n",
    "        # Grab the sequence corresponding to that example (to know what is the context and what is the question).\n",
    "        sequence_ids = tokenized_examples.sequence_ids(i)\n",
    "        context_index = 1 if pad_on_right else 0\n",
    "\n",
    "        # One example can give several spans, this is the index of the example containing this span of text.\n",
    "        sample_index = sample_mapping[i]\n",
    "        tokenized_examples[\"example_id\"].append(examples[\"id\"][sample_index])\n",
    "\n",
    "        # Set to None the offset_mapping that are not part of the context so it's easy to determine if a token\n",
    "        # position is part of the context or not.\n",
    "        tokenized_examples[\"offset_mapping\"][i] = [\n",
    "            (o if sequence_ids[k] == context_index else None)\n",
    "            for k, o in enumerate(tokenized_examples[\"offset_mapping\"][i])\n",
    "        ]\n",
    "\n",
    "    return tokenized_examples"
   ]
  },
  {
   "cell_type": "code",
   "execution_count": 10,
   "metadata": {},
   "outputs": [
    {
     "name": "stderr",
     "output_type": "stream",
     "text": [
      "Loading cached processed dataset at /root/.cache/huggingface/datasets/squad/plain_text/1.0.0/4c81550d83a2ac7c7ce23783bd8ff36642800e6633c1f18417fb58c3ff50cdd7/cache-4cd875f902bb4c09.arrow\n"
     ]
    },
    {
     "data": {
      "text/plain": [
       "Dataset({\n",
       "    features: ['attention_mask', 'example_id', 'input_ids', 'offset_mapping', 'token_type_ids'],\n",
       "    num_rows: 10784\n",
       "})"
      ]
     },
     "execution_count": 10,
     "metadata": {},
     "output_type": "execute_result"
    }
   ],
   "source": [
    "validation_dataset = datasets['validation'].map(prepare_validation_features, batched=True, remove_columns=datasets[\"validation\"].column_names)\n",
    "validation_dataset"
   ]
  },
  {
   "cell_type": "code",
   "execution_count": 11,
   "metadata": {},
   "outputs": [
    {
     "name": "stdout",
     "output_type": "stream",
     "text": [
      "Number of training examples: 88524\n",
      "Number of validation examples: 10784\n",
      "Number of raw validation examples: 10570\n"
     ]
    }
   ],
   "source": [
    "frac_of_samples = 1\n",
    "train_ds = train_dataset#.select(range(int(frac_of_samples * train_dataset.num_rows)))\n",
    "eval_ds = validation_dataset#.select(range(int(frac_of_samples * validation_dataset.num_rows)))\n",
    "eval_raw_ds = datasets[\"validation\"]#.select(range(int(frac_of_samples * validation_dataset.num_rows)))\n",
    "\n",
    "print(f\"Number of training examples: {train_ds.num_rows}\")\n",
    "print(f\"Number of validation examples: {eval_ds.num_rows}\")\n",
    "print(f\"Number of raw validation examples: {eval_raw_ds.num_rows}\")\n"
   ]
  },
  {
   "cell_type": "markdown",
   "metadata": {},
   "source": [
    "## QA Trainer"
   ]
  },
  {
   "cell_type": "code",
   "execution_count": 12,
   "metadata": {},
   "outputs": [],
   "source": [
    "def postprocess_qa_predictions(\n",
    "    examples,\n",
    "    features,\n",
    "    predictions: Tuple[np.ndarray, np.ndarray],\n",
    "    version_2_with_negative: bool = False,\n",
    "    n_best_size: int = 20,\n",
    "    max_answer_length: int = 30,\n",
    "    null_score_diff_threshold: float = 0.0,\n",
    "    output_dir: Optional[str] = None,\n",
    "    prefix: Optional[str] = None,\n",
    "    is_world_process_zero: bool = True,\n",
    "):\n",
    "    \"\"\"\n",
    "    Post-processes the predictions of a question-answering model to convert them to answers that are substrings of the\n",
    "    original contexts. This is the base postprocessing functions for models that only return start and end logits.\n",
    "    Args:\n",
    "        examples: The non-preprocessed dataset (see the main script for more information).\n",
    "        features: The processed dataset (see the main script for more information).\n",
    "        predictions (:obj:`Tuple[np.ndarray, np.ndarray]`):\n",
    "            The predictions of the model: two arrays containing the start logits and the end logits respectively. Its\n",
    "            first dimension must match the number of elements of :obj:`features`.\n",
    "        version_2_with_negative (:obj:`bool`, `optional`, defaults to :obj:`False`):\n",
    "            Whether or not the underlying dataset contains examples with no answers.\n",
    "        n_best_size (:obj:`int`, `optional`, defaults to 20):\n",
    "            The total number of n-best predictions to generate when looking for an answer.\n",
    "        max_answer_length (:obj:`int`, `optional`, defaults to 30):\n",
    "            The maximum length of an answer that can be generated. This is needed because the start and end predictions\n",
    "            are not conditioned on one another.\n",
    "        null_score_diff_threshold (:obj:`float`, `optional`, defaults to 0):\n",
    "            The threshold used to select the null answer: if the best answer has a score that is less than the score of\n",
    "            the null answer minus this threshold, the null answer is selected for this example (note that the score of\n",
    "            the null answer for an example giving several features is the minimum of the scores for the null answer on\n",
    "            each feature: all features must be aligned on the fact they `want` to predict a null answer).\n",
    "            Only useful when :obj:`version_2_with_negative` is :obj:`True`.\n",
    "        output_dir (:obj:`str`, `optional`):\n",
    "            If provided, the dictionaries of predictions, n_best predictions (with their scores and logits) and, if\n",
    "            :obj:`version_2_with_negative=True`, the dictionary of the scores differences between best and null\n",
    "            answers, are saved in `output_dir`.\n",
    "        prefix (:obj:`str`, `optional`):\n",
    "            If provided, the dictionaries mentioned above are saved with `prefix` added to their names.\n",
    "        is_world_process_zero (:obj:`bool`, `optional`, defaults to :obj:`True`):\n",
    "            Whether this process is the main process or not (used to determine if logging/saves should be done).\n",
    "    \"\"\"\n",
    "    assert len(predictions) == 2, \"`predictions` should be a tuple with two elements (start_logits, end_logits).\"\n",
    "    all_start_logits, all_end_logits = predictions\n",
    "\n",
    "    assert len(predictions[0]) == len(features), f\"Got {len(predictions[0])} predictions and {len(features)} features.\"\n",
    "\n",
    "    # Build a map example to its corresponding features.\n",
    "    example_id_to_index = {k: i for i, k in enumerate(examples[\"id\"])}\n",
    "    features_per_example = collections.defaultdict(list)\n",
    "    for i, feature in enumerate(features):\n",
    "        features_per_example[example_id_to_index[feature[\"example_id\"]]].append(i)\n",
    "\n",
    "    # The dictionaries we have to fill.\n",
    "    all_predictions = collections.OrderedDict()\n",
    "    all_nbest_json = collections.OrderedDict()\n",
    "    if version_2_with_negative:\n",
    "        scores_diff_json = collections.OrderedDict()\n",
    "\n",
    "    # Logging.\n",
    "#     logger.setLevel(logging.INFO if is_world_process_zero else logging.WARN)\n",
    "#     logger.info(f\"Post-processing {len(examples)} example predictions split into {len(features)} features.\")\n",
    "\n",
    "    # Let's loop over all the examples!\n",
    "    for example_index, example in enumerate(tqdm(examples)):\n",
    "        # Those are the indices of the features associated to the current example.\n",
    "        feature_indices = features_per_example[example_index]\n",
    "\n",
    "        min_null_prediction = None\n",
    "        prelim_predictions = []\n",
    "\n",
    "        # Looping through all the features associated to the current example.\n",
    "        for feature_index in feature_indices:\n",
    "            # We grab the predictions of the model for this feature.\n",
    "            start_logits = all_start_logits[feature_index]\n",
    "            end_logits = all_end_logits[feature_index]\n",
    "            # This is what will allow us to map some the positions in our logits to span of texts in the original\n",
    "            # context.\n",
    "            offset_mapping = features[feature_index][\"offset_mapping\"]\n",
    "            # Optional `token_is_max_context`, if provided we will remove answers that do not have the maximum context\n",
    "            # available in the current feature.\n",
    "            token_is_max_context = features[feature_index].get(\"token_is_max_context\", None)\n",
    "\n",
    "            # Update minimum null prediction.\n",
    "            feature_null_score = start_logits[0] + end_logits[0]\n",
    "            if min_null_prediction is None or min_null_prediction[\"score\"] > feature_null_score:\n",
    "                min_null_prediction = {\n",
    "                    \"offsets\": (0, 0),\n",
    "                    \"score\": feature_null_score,\n",
    "                    \"start_logit\": start_logits[0],\n",
    "                    \"end_logit\": end_logits[0],\n",
    "                }\n",
    "\n",
    "            # Go through all possibilities for the `n_best_size` greater start and end logits.\n",
    "            start_indexes = np.argsort(start_logits)[-1 : -n_best_size - 1 : -1].tolist()\n",
    "            end_indexes = np.argsort(end_logits)[-1 : -n_best_size - 1 : -1].tolist()\n",
    "            for start_index in start_indexes:\n",
    "                for end_index in end_indexes:\n",
    "                    # Don't consider out-of-scope answers, either because the indices are out of bounds or correspond\n",
    "                    # to part of the input_ids that are not in the context.\n",
    "                    if (\n",
    "                        start_index >= len(offset_mapping)\n",
    "                        or end_index >= len(offset_mapping)\n",
    "                        or offset_mapping[start_index] is None\n",
    "                        or offset_mapping[end_index] is None\n",
    "                    ):\n",
    "                        continue\n",
    "                    # Don't consider answers with a length that is either < 0 or > max_answer_length.\n",
    "                    if end_index < start_index or end_index - start_index + 1 > max_answer_length:\n",
    "                        continue\n",
    "                    # Don't consider answer that don't have the maximum context available (if such information is\n",
    "                    # provided).\n",
    "                    if token_is_max_context is not None and not token_is_max_context.get(str(start_index), False):\n",
    "                        continue\n",
    "                    prelim_predictions.append(\n",
    "                        {\n",
    "                            \"offsets\": (offset_mapping[start_index][0], offset_mapping[end_index][1]),\n",
    "                            \"score\": start_logits[start_index] + end_logits[end_index],\n",
    "                            \"start_logit\": start_logits[start_index],\n",
    "                            \"end_logit\": end_logits[end_index],\n",
    "                        }\n",
    "                    )\n",
    "        if version_2_with_negative:\n",
    "            # Add the minimum null prediction\n",
    "            prelim_predictions.append(min_null_prediction)\n",
    "            null_score = min_null_prediction[\"score\"]\n",
    "\n",
    "        # Only keep the best `n_best_size` predictions.\n",
    "        predictions = sorted(prelim_predictions, key=lambda x: x[\"score\"], reverse=True)[:n_best_size]\n",
    "\n",
    "        # Add back the minimum null prediction if it was removed because of its low score.\n",
    "        if version_2_with_negative and not any(p[\"offsets\"] == (0, 0) for p in predictions):\n",
    "            predictions.append(min_null_prediction)\n",
    "\n",
    "        # Use the offsets to gather the answer text in the original context.\n",
    "        context = example[\"context\"]\n",
    "        for pred in predictions:\n",
    "            offsets = pred.pop(\"offsets\")\n",
    "            pred[\"text\"] = context[offsets[0] : offsets[1]]\n",
    "\n",
    "        # In the very rare edge case we have not a single non-null prediction, we create a fake prediction to avoid\n",
    "        # failure.\n",
    "        if len(predictions) == 0 or (len(predictions) == 1 and predictions[0][\"text\"] == \"\"):\n",
    "            predictions.insert(0, {\"text\": \"empty\", \"start_logit\": 0.0, \"end_logit\": 0.0, \"score\": 0.0})\n",
    "\n",
    "        # Compute the softmax of all scores (we do it with numpy to stay independent from torch/tf in this file, using\n",
    "        # the LogSumExp trick).\n",
    "        scores = np.array([pred.pop(\"score\") for pred in predictions])\n",
    "        exp_scores = np.exp(scores - np.max(scores))\n",
    "        probs = exp_scores / exp_scores.sum()\n",
    "\n",
    "        # Include the probabilities in our predictions.\n",
    "        for prob, pred in zip(probs, predictions):\n",
    "            pred[\"probability\"] = prob\n",
    "\n",
    "        # Pick the best prediction. If the null answer is not possible, this is easy.\n",
    "        if not version_2_with_negative:\n",
    "            all_predictions[example[\"id\"]] = predictions[0][\"text\"]\n",
    "        else:\n",
    "            # Otherwise we first need to find the best non-empty prediction.\n",
    "            i = 0\n",
    "            while predictions[i][\"text\"] == \"\":\n",
    "                i += 1\n",
    "            best_non_null_pred = predictions[i]\n",
    "\n",
    "            # Then we compare to the null prediction using the threshold.\n",
    "            score_diff = null_score - best_non_null_pred[\"start_logit\"] - best_non_null_pred[\"end_logit\"]\n",
    "            scores_diff_json[example[\"id\"]] = float(score_diff)  # To be JSON-serializable.\n",
    "            if score_diff > null_score_diff_threshold:\n",
    "                all_predictions[example[\"id\"]] = \"\"\n",
    "            else:\n",
    "                all_predictions[example[\"id\"]] = best_non_null_pred[\"text\"]\n",
    "\n",
    "        # Make `predictions` JSON-serializable by casting np.float back to float.\n",
    "        all_nbest_json[example[\"id\"]] = [\n",
    "            {k: (float(v) if isinstance(v, (np.float16, np.float32, np.float64)) else v) for k, v in pred.items()}\n",
    "            for pred in predictions\n",
    "        ]\n",
    "\n",
    "    # If we have an output_dir, let's save all those dicts.\n",
    "#     if output_dir is not None:\n",
    "#         assert os.path.isdir(output_dir), f\"{output_dir} is not a directory.\"\n",
    "\n",
    "#         prediction_file = os.path.join(\n",
    "#             output_dir, \"predictions.json\" if prefix is None else f\"predictions_{prefix}\".json\n",
    "#         )\n",
    "#         nbest_file = os.path.join(\n",
    "#             output_dir, \"nbest_predictions.json\" if prefix is None else f\"nbest_predictions_{prefix}\".json\n",
    "#         )\n",
    "#         if version_2_with_negative:\n",
    "#             null_odds_file = os.path.join(\n",
    "#                 output_dir, \"null_odds.json\" if prefix is None else f\"null_odds_{prefix}\".json\n",
    "#             )\n",
    "\n",
    "#         print(f\"Saving predictions to {prediction_file}.\")\n",
    "#         with open(prediction_file, \"w\") as writer:\n",
    "#             writer.write(json.dumps(all_predictions, indent=4) + \"\\n\")\n",
    "#         print(f\"Saving nbest_preds to {nbest_file}.\")\n",
    "#         with open(nbest_file, \"w\") as writer:\n",
    "#             writer.write(json.dumps(all_nbest_json, indent=4) + \"\\n\")\n",
    "#         if version_2_with_negative:\n",
    "#             print(f\"Saving null_odds to {null_odds_file}.\")\n",
    "#             with open(null_odds_file, \"w\") as writer:\n",
    "#                 writer.write(json.dumps(scores_diff_json, indent=4) + \"\\n\")\n",
    "\n",
    "    return all_predictions"
   ]
  },
  {
   "cell_type": "code",
   "execution_count": 13,
   "metadata": {},
   "outputs": [],
   "source": [
    "max_length = 384 # The maximum length of a feature (question and context)\n",
    "doc_stride = 128 # The authorized overlap between two part of the context when splitting it is needed.\n",
    "version_2_with_negative = False\n",
    "null_score_diff_threshold = 0.\n",
    "n_best_size = 20\n",
    "max_answer_length = 30"
   ]
  },
  {
   "cell_type": "code",
   "execution_count": 14,
   "metadata": {},
   "outputs": [],
   "source": [
    "def post_processing_function(examples, features, predictions):\n",
    "    # Post-processing: we match the start logits and end logits to answers in the original context.\n",
    "    predictions = postprocess_qa_predictions(\n",
    "        examples=examples,\n",
    "        features=features,\n",
    "        predictions=predictions,\n",
    "        version_2_with_negative=version_2_with_negative,\n",
    "        n_best_size=n_best_size,\n",
    "        max_answer_length=max_answer_length,\n",
    "        null_score_diff_threshold=null_score_diff_threshold,\n",
    "        output_dir=training_args.output_dir,\n",
    "        is_world_process_zero=trainer.is_world_process_zero(),\n",
    "    )\n",
    "    # Format the result to the format the metric expects.\n",
    "    if version_2_with_negative:\n",
    "        formatted_predictions = [\n",
    "            {\"id\": k, \"prediction_text\": v, \"no_answer_probability\": 0.0} for k, v in predictions.items()\n",
    "        ]\n",
    "    else:\n",
    "        formatted_predictions = [{\"id\": k, \"prediction_text\": v} for k, v in predictions.items()]\n",
    "    references = [{\"id\": ex[\"id\"], \"answers\": ex['answers']} for ex in eval_raw_ds]\n",
    "    return EvalPrediction(predictions=formatted_predictions, label_ids=references)"
   ]
  },
  {
   "cell_type": "code",
   "execution_count": 15,
   "metadata": {},
   "outputs": [],
   "source": [
    "metric = load_metric(\"squad\")"
   ]
  },
  {
   "cell_type": "code",
   "execution_count": 16,
   "metadata": {},
   "outputs": [],
   "source": [
    "def compute_metrics(p: EvalPrediction):\n",
    "    return metric.compute(predictions=p.predictions, references=p.label_ids)"
   ]
  },
  {
   "cell_type": "code",
   "execution_count": 17,
   "metadata": {},
   "outputs": [],
   "source": [
    "class QuestionAnsweringTrainer(Trainer):\n",
    "    def __init__(self, *args, eval_examples=None, post_process_function=None, **kwargs):\n",
    "        super().__init__(*args, **kwargs)\n",
    "        self.eval_examples = eval_examples\n",
    "        self.post_process_function = post_process_function\n",
    "\n",
    "    def evaluate(self, eval_dataset=None, eval_examples=None, ignore_keys=None):\n",
    "        eval_dataset = self.eval_dataset if eval_dataset is None else eval_dataset\n",
    "        eval_dataloader = self.get_eval_dataloader(eval_dataset)\n",
    "        eval_examples = self.eval_examples if eval_examples is None else eval_examples\n",
    "\n",
    "        # Temporarily disable metric computation, we will do it in the loop here.\n",
    "        compute_metrics = self.compute_metrics\n",
    "        self.compute_metrics = None\n",
    "        try:\n",
    "            output = self.prediction_loop(\n",
    "                eval_dataloader,\n",
    "                description=\"Evaluation\",\n",
    "                # No point gathering the predictions if there are no metrics, otherwise we defer to\n",
    "                # self.args.prediction_loss_only\n",
    "                prediction_loss_only=True if compute_metrics is None else None,\n",
    "                ignore_keys=ignore_keys,\n",
    "            )\n",
    "        finally:\n",
    "            self.compute_metrics = compute_metrics\n",
    "\n",
    "        # We might have removed columns from the dataset so we put them back.\n",
    "#         if isinstance(eval_dataset, datasets.Dataset):\n",
    "        eval_dataset.set_format(type=eval_dataset.format[\"type\"], columns=list(eval_dataset.features.keys()))\n",
    "\n",
    "        if self.post_process_function is not None and self.compute_metrics is not None:\n",
    "            eval_preds = self.post_process_function(eval_examples, eval_dataset, output.predictions)\n",
    "            metrics = self.compute_metrics(eval_preds)\n",
    "            # HACK: for some reason the eval_loss is not computed in output\n",
    "            # Problem lies in NotebookProgressCallback which assumes eval_loss exists\n",
    "            metrics['eval_loss'] = 'No log'\n",
    "\n",
    "            self.log(metrics)\n",
    "        else:\n",
    "            metrics = {}\n",
    "\n",
    "        if self.args.tpu_metrics_debug or self.args.debug:\n",
    "            # tpu-comment: Logging debug metrics for PyTorch/XLA (compile, execute times, ops, etc.)\n",
    "            xm.master_print(met.metrics_report())\n",
    "            \n",
    "        for key in list(metrics.keys()):\n",
    "            if not key.startswith(f\"eval_\"):\n",
    "                metrics[f\"eval_{key}\"] = metrics.pop(key)\n",
    "\n",
    "        self.control = self.callback_handler.on_evaluate(self.args, self.state, self.control, metrics)\n",
    "        return metrics\n",
    "\n",
    "    def predict(self, test_dataset, test_examples, ignore_keys=None):\n",
    "        test_dataloader = self.get_test_dataloader(test_dataset)\n",
    "\n",
    "        # Temporarily disable metric computation, we will do it in the loop here.\n",
    "        compute_metrics = self.compute_metrics\n",
    "        self.compute_metrics = None\n",
    "        try:\n",
    "            output = self.prediction_loop(\n",
    "                test_dataloader,\n",
    "                description=\"Evaluation\",\n",
    "                # No point gathering the predictions if there are no metrics, otherwise we defer to\n",
    "                # self.args.prediction_loss_only\n",
    "                prediction_loss_only=None, #True if compute_metrics is None else None,\n",
    "                ignore_keys=ignore_keys,\n",
    "            )\n",
    "        finally:\n",
    "            self.compute_metrics = compute_metrics\n",
    "\n",
    "        if self.post_process_function is None or self.compute_metrics is None:\n",
    "            return output\n",
    "\n",
    "        # We might have removed columns from the dataset so we put them back.\n",
    "#         if isinstance(test_dataset, datasets.Dataset):\n",
    "        test_dataset.set_format(type=test_dataset.format[\"type\"], columns=list(test_dataset.features.keys()))\n",
    "\n",
    "        eval_preds = self.post_process_function(test_examples, test_dataset, output.predictions)\n",
    "        metrics = self.compute_metrics(eval_preds)\n",
    "\n",
    "        return PredictionOutput(predictions=eval_preds.predictions, label_ids=eval_preds.label_ids, metrics=metrics)"
   ]
  },
  {
   "cell_type": "markdown",
   "metadata": {},
   "source": [
    "## Fine-tune"
   ]
  },
  {
   "cell_type": "code",
   "execution_count": 18,
   "metadata": {},
   "outputs": [
    {
     "name": "stderr",
     "output_type": "stream",
     "text": [
      "Some weights of the model checkpoint at bert-base-uncased were not used when initializing BertForQuestionAnswering: ['cls.predictions.bias', 'cls.predictions.transform.dense.weight', 'cls.predictions.transform.dense.bias', 'cls.predictions.decoder.weight', 'cls.seq_relationship.weight', 'cls.seq_relationship.bias', 'cls.predictions.transform.LayerNorm.weight', 'cls.predictions.transform.LayerNorm.bias']\n",
      "- This IS expected if you are initializing BertForQuestionAnswering from the checkpoint of a model trained on another task or with another architecture (e.g. initializing a BertForSequenceClassification model from a BertForPreTraining model).\n",
      "- This IS NOT expected if you are initializing BertForQuestionAnswering from the checkpoint of a model that you expect to be exactly identical (initializing a BertForSequenceClassification model from a BertForSequenceClassification model).\n",
      "Some weights of BertForQuestionAnswering were not initialized from the model checkpoint at bert-base-uncased and are newly initialized: ['qa_outputs.weight', 'qa_outputs.bias']\n",
      "You should probably TRAIN this model on a down-stream task to be able to use it for predictions and inference.\n"
     ]
    }
   ],
   "source": [
    "model = AutoModelForQuestionAnswering.from_pretrained(model_checkpoint)\n",
    "\n",
    "logging_steps = len(train_ds) // batch_size\n",
    "\n",
    "training_args = TrainingArguments(\n",
    "    f\"checkpoints\",\n",
    "    evaluation_strategy = \"epoch\",\n",
    "    learning_rate=2e-5,\n",
    "    per_device_train_batch_size=batch_size,\n",
    "    per_device_eval_batch_size=batch_size,\n",
    "    num_train_epochs=2,\n",
    "    weight_decay=0.01,\n",
    "    logging_steps=logging_steps\n",
    ")"
   ]
  },
  {
   "cell_type": "code",
   "execution_count": 25,
   "metadata": {},
   "outputs": [],
   "source": [
    "data_collator = default_data_collator"
   ]
  },
  {
   "cell_type": "code",
   "execution_count": 20,
   "metadata": {},
   "outputs": [],
   "source": [
    "trainer = QuestionAnsweringTrainer(\n",
    "    model=model,\n",
    "    args=training_args,\n",
    "    train_dataset=train_ds,\n",
    "    eval_dataset=eval_ds,\n",
    "    eval_examples=eval_raw_ds,\n",
    "    tokenizer=tokenizer,\n",
    "    data_collator=data_collator,\n",
    "    post_process_function=post_processing_function,\n",
    "    compute_metrics=compute_metrics\n",
    ")"
   ]
  },
  {
   "cell_type": "code",
   "execution_count": 21,
   "metadata": {},
   "outputs": [
    {
     "data": {
      "text/html": [
       "\n",
       "    <div>\n",
       "        <style>\n",
       "            /* Turns off some styling */\n",
       "            progress {\n",
       "                /* gets rid of default border in Firefox and Opera. */\n",
       "                border: none;\n",
       "                /* Needs to be in here for Safari polyfill so background images work as expected. */\n",
       "                background-size: auto;\n",
       "            }\n",
       "        </style>\n",
       "      \n",
       "      <progress value='11066' max='11066' style='width:300px; height:20px; vertical-align: middle;'></progress>\n",
       "      [11066/11066 2:48:10, Epoch 2/2]\n",
       "    </div>\n",
       "    <table border=\"1\" class=\"dataframe\">\n",
       "  <thead>\n",
       "    <tr style=\"text-align: left;\">\n",
       "      <th>Epoch</th>\n",
       "      <th>Training Loss</th>\n",
       "      <th>Validation Loss</th>\n",
       "      <th>Exact Match</th>\n",
       "      <th>F1</th>\n",
       "    </tr>\n",
       "  </thead>\n",
       "  <tbody>\n",
       "    <tr>\n",
       "      <td>1.000000</td>\n",
       "      <td>1.328662</td>\n",
       "      <td>No log</td>\n",
       "      <td>78.978240</td>\n",
       "      <td>86.866500</td>\n",
       "    </tr>\n",
       "    <tr>\n",
       "      <td>2.000000</td>\n",
       "      <td>0.813893</td>\n",
       "      <td>No log</td>\n",
       "      <td>80.037843</td>\n",
       "      <td>87.747781</td>\n",
       "    </tr>\n",
       "  </tbody>\n",
       "</table><p>"
      ],
      "text/plain": [
       "<IPython.core.display.HTML object>"
      ]
     },
     "metadata": {},
     "output_type": "display_data"
    },
    {
     "name": "stdout",
     "output_type": "stream",
     "text": [
      "Len examples: 10570\n"
     ]
    },
    {
     "data": {
      "application/vnd.jupyter.widget-view+json": {
       "model_id": "9d2df58a734f4c968fbb3bf6c7bfad60",
       "version_major": 2,
       "version_minor": 0
      },
      "text/plain": [
       "HBox(children=(FloatProgress(value=0.0, max=10570.0), HTML(value='')))"
      ]
     },
     "metadata": {},
     "output_type": "display_data"
    },
    {
     "name": "stdout",
     "output_type": "stream",
     "text": [
      "\n",
      "Len examples: 10570\n"
     ]
    },
    {
     "data": {
      "application/vnd.jupyter.widget-view+json": {
       "model_id": "e938e3488d7e45a6915acfb83a77c748",
       "version_major": 2,
       "version_minor": 0
      },
      "text/plain": [
       "HBox(children=(FloatProgress(value=0.0, max=10570.0), HTML(value='')))"
      ]
     },
     "metadata": {},
     "output_type": "display_data"
    },
    {
     "name": "stdout",
     "output_type": "stream",
     "text": [
      "\n"
     ]
    },
    {
     "data": {
      "text/plain": [
       "TrainOutput(global_step=11066, training_loss=1.071235836898787, metrics={'train_runtime': 10091.3891, 'train_samples_per_second': 1.097, 'total_flos': 44419555111514112, 'epoch': 2.0})"
      ]
     },
     "execution_count": 21,
     "metadata": {},
     "output_type": "execute_result"
    }
   ],
   "source": [
    "trainer.train()"
   ]
  },
  {
   "cell_type": "code",
   "execution_count": 23,
   "metadata": {},
   "outputs": [],
   "source": [
    "trainer.save_model('models/bert-base-uncased-finetuned-squad-v1')"
   ]
  },
  {
   "cell_type": "markdown",
   "metadata": {},
   "source": [
    "## Distillation"
   ]
  },
  {
   "cell_type": "code",
   "execution_count": 46,
   "metadata": {},
   "outputs": [
    {
     "name": "stderr",
     "output_type": "stream",
     "text": [
      "Some weights of the model checkpoint at distilbert-base-uncased were not used when initializing DistilBertForQuestionAnswering: ['vocab_transform.weight', 'vocab_transform.bias', 'vocab_layer_norm.weight', 'vocab_layer_norm.bias', 'vocab_projector.weight', 'vocab_projector.bias']\n",
      "- This IS expected if you are initializing DistilBertForQuestionAnswering from the checkpoint of a model trained on another task or with another architecture (e.g. initializing a BertForSequenceClassification model from a BertForPreTraining model).\n",
      "- This IS NOT expected if you are initializing DistilBertForQuestionAnswering from the checkpoint of a model that you expect to be exactly identical (initializing a BertForSequenceClassification model from a BertForSequenceClassification model).\n",
      "Some weights of DistilBertForQuestionAnswering were not initialized from the model checkpoint at distilbert-base-uncased and are newly initialized: ['qa_outputs.weight', 'qa_outputs.bias']\n",
      "You should probably TRAIN this model on a down-stream task to be able to use it for predictions and inference.\n"
     ]
    }
   ],
   "source": [
    "student_name_or_path = 'distilbert-base-uncased'\n",
    "student = AutoModelForQuestionAnswering.from_pretrained(student_name_or_path).to(device)"
   ]
  },
  {
   "cell_type": "code",
   "execution_count": 127,
   "metadata": {},
   "outputs": [],
   "source": [
    "class DistillationTrainer(Trainer):\n",
    "    def __init__(self, *args, teacher_name_or_path=None, **kwargs):\n",
    "        super().__init__(*args, **kwargs)\n",
    "        self.teacher = AutoModelForQuestionAnswering.from_pretrained(teacher_name_or_path).to(device)\n",
    "        \n",
    "        self.teacher.eval()\n",
    "        \n",
    "        self.train_dataset.set_format(type=self.train_dataset.format[\"type\"], columns=list(self.train_dataset.features.keys()))\n",
    "        \n",
    "    def compute_loss(self, model, inputs):\n",
    "        print(inputs.keys())\n",
    "        inputs_stu = {\n",
    "            \"input_ids\": inputs['input_ids'],\n",
    "            \"attention_mask\": inputs['attention_mask'],\n",
    "            \"start_positions\": inputs['start_positions'],\n",
    "            \"end_positions\": inputs['end_positions'],\n",
    "            }\n",
    "        outputs_stu = model(**inputs_stu)\n",
    "        loss = outputs_stu.loss\n",
    "        start_logits_stu = outputs_stu.start_logits\n",
    "        end_logits_stu = outputs_stu.end_logits\n",
    "        \n",
    "        with torch.no_grad():\n",
    "            outputs_tea = self.teacher(\n",
    "                input_ids=inputs[\"input_ids\"],\n",
    "                token_type_ids=inputs[\"token_type_ids\"],\n",
    "                attention_mask=inputs[\"attention_mask\"],\n",
    "            )\n",
    "            print(outputs_tea)\n",
    "            start_logits_tea = outputs_tea.start_logits\n",
    "            end_logits_tea = outputs_tea.end_logits\n",
    "        assert start_logits_tea.size() == start_logits_stu.size()\n",
    "        assert end_logits_tea.size() == end_logits_stu.size()\n",
    "        \n",
    "        loss_fct = nn.KLDivLoss(reduction=\"batchmean\")\n",
    "        loss_start = (\n",
    "            loss_fct(\n",
    "                F.log_softmax(start_logits_stu / self.args.temperature, dim=-1),\n",
    "                F.softmax(start_logits_tea / self.args.temperature, dim=-1),\n",
    "            )\n",
    "            * (self.args.temperature ** 2)\n",
    "        )\n",
    "        loss_end = (\n",
    "            loss_fct(\n",
    "                F.log_softmax(end_logits_stu / self.args.temperature, dim=-1),\n",
    "                F.softmax(end_logits_tea / self.args.temperature, dim=-1),\n",
    "            )\n",
    "            * (self.args.temperature ** 2)\n",
    "        )\n",
    "        loss_ce = (loss_start + loss_end) / 2.0\n",
    "\n",
    "        loss = self.args.alpha_ce * loss_ce + self.args.alpha_squad * loss\n",
    "        return loss"
   ]
  },
  {
   "cell_type": "code",
   "execution_count": 128,
   "metadata": {},
   "outputs": [],
   "source": [
    "class DistillationTrainingArguments(TrainingArguments):\n",
    "    def __init__(self, *args, alpha_ce=0.5, alpha_squad=0.5, temperature=2.0, **kwargs):\n",
    "        super().__init__(*args, **kwargs)\n",
    "        \n",
    "        self.alpha_ce = alpha_ce\n",
    "        self.alpha_squad = alpha_squad\n",
    "        self.temperature = temperature"
   ]
  },
  {
   "cell_type": "code",
   "execution_count": 129,
   "metadata": {},
   "outputs": [],
   "source": [
    "logging_steps = len(train_ds) // batch_size\n",
    "\n",
    "distil_training_args = DistillationTrainingArguments(\n",
    "    f\"checkpoints\",\n",
    "    evaluation_strategy = \"epoch\",\n",
    "    learning_rate=2e-5,\n",
    "    per_device_train_batch_size=batch_size,\n",
    "    per_device_eval_batch_size=batch_size,\n",
    "    num_train_epochs=1,\n",
    "    weight_decay=0.01,\n",
    "    logging_steps=logging_steps\n",
    ")"
   ]
  },
  {
   "cell_type": "code",
   "execution_count": 130,
   "metadata": {},
   "outputs": [],
   "source": [
    "distil_trainer = DistillationTrainer(\n",
    "    model=student,\n",
    "    teacher_name_or_path='models/bert-base-uncased-finetuned-squad-v1',\n",
    "    args=distil_training_args,\n",
    "    train_dataset=train_ds,\n",
    "    eval_dataset=eval_ds,\n",
    "    tokenizer=tokenizer,\n",
    "    data_collator=data_collator,\n",
    "    compute_metrics=compute_metrics\n",
    ")"
   ]
  },
  {
   "cell_type": "code",
   "execution_count": 97,
   "metadata": {},
   "outputs": [],
   "source": [
    "teacher = AutoModelForQuestionAnswering.from_pretrained('models/bert-base-uncased-finetuned-squad-v1').to(device)"
   ]
  },
  {
   "cell_type": "code",
   "execution_count": 71,
   "metadata": {},
   "outputs": [],
   "source": [
    "train_ds.set_format('torch')"
   ]
  },
  {
   "cell_type": "code",
   "execution_count": 106,
   "metadata": {},
   "outputs": [
    {
     "data": {
      "text/plain": [
       "dict_keys(['attention_mask', 'end_positions', 'input_ids', 'start_positions', 'token_type_ids'])"
      ]
     },
     "execution_count": 106,
     "metadata": {},
     "output_type": "execute_result"
    }
   ],
   "source": [
    "inputs = train_ds[:1]\n",
    "inputs.keys()"
   ]
  },
  {
   "cell_type": "code",
   "execution_count": 79,
   "metadata": {},
   "outputs": [
    {
     "data": {
      "text/plain": [
       "torch.Size([1, 384])"
      ]
     },
     "execution_count": 79,
     "metadata": {},
     "output_type": "execute_result"
    }
   ],
   "source": [
    "inputs[\"input_ids\"].shape"
   ]
  },
  {
   "cell_type": "code",
   "execution_count": 110,
   "metadata": {},
   "outputs": [],
   "source": [
    "for k,v in inputs.items():\n",
    "    inputs[k] = v.to(device)"
   ]
  },
  {
   "cell_type": "code",
   "execution_count": 131,
   "metadata": {},
   "outputs": [
    {
     "name": "stdout",
     "output_type": "stream",
     "text": [
      "dict_keys(['attention_mask', 'end_positions', 'input_ids', 'start_positions', 'token_type_ids'])\n",
      "QuestionAnsweringModelOutput(loss=None, start_logits=tensor([[-4.6652, -8.0132, -7.5816, -8.2382, -7.6149, -7.3962, -8.1544, -7.7687,\n",
      "         -7.3767, -7.8555, -7.4182, -8.4014, -7.3238, -8.5080, -7.6641, -8.5293,\n",
      "         -6.9071, -6.7364, -7.7500, -7.5639, -5.9059, -6.2042, -7.5744, -7.3314,\n",
      "         -5.4747, -8.0404, -5.3112, -6.0063, -7.5278, -7.0463, -7.8050, -8.1950,\n",
      "         -8.1110, -6.8236, -7.7947, -7.8189, -6.4224, -6.2942, -6.7087, -8.3498,\n",
      "         -6.4695, -5.3006, -7.1366, -5.4183, -6.0271, -6.8724, -7.4986, -8.3485,\n",
      "         -7.6644, -7.0044, -7.9491, -8.1048, -7.4479, -8.0928, -8.1129, -7.7789,\n",
      "         -6.5656, -5.9835, -6.6300, -8.1376, -2.6580, -7.8433, -7.6818, -7.5613,\n",
      "         -7.9634, -8.3095, -7.8632, -7.0311, -6.8611, -6.2025, -5.3871, -7.3207,\n",
      "         -7.7139, -7.2305, -7.6556, -7.3926, -8.2329, -8.4679, -6.0406, -6.5122,\n",
      "         -8.1576, -7.8451, -7.3838, -8.2108, -8.1625, -6.8196, -5.2279, -8.0815,\n",
      "         -7.6362, -7.2513, -8.1304, -8.1416, -6.8040, -7.4682, -7.9833, -7.0189,\n",
      "         -8.2748, -5.9440, -5.4239, -7.7194, -8.4501, -7.0610, -5.7570, -7.0577,\n",
      "         -8.0373, -6.9461, -8.3586, -7.6675, -7.2112, -5.7078, -7.8526, -6.1643,\n",
      "         -6.8734, -7.7346, -4.7915, -4.0730, -6.5282, -6.4254, -2.8860, -5.4953,\n",
      "         -6.4125, -3.0843, -3.9205, -0.7486, -1.8800, -5.0201, -4.0897, -5.6552,\n",
      "         -3.6510, -1.1191,  7.7854,  4.6796, -1.5308, -1.8735,  1.6595, -2.3961,\n",
      "         -2.4020, -0.8505, -2.9417, -2.4904, -5.3742, -5.0557, -6.9926, -6.8582,\n",
      "         -7.9571, -6.8520, -6.5847, -7.4425, -7.9850, -7.8387, -7.2152, -7.3436,\n",
      "         -7.2873, -7.9447, -8.0141, -7.8249, -7.7944, -6.6889, -7.8512, -8.2397,\n",
      "         -7.4905, -6.9306, -8.0625, -8.4709, -7.5845, -7.4137, -6.0381, -6.1630,\n",
      "         -7.3322, -5.9552, -6.2395, -6.6956, -8.1649, -6.3480, -6.1590, -6.5991,\n",
      "         -8.6194, -8.5841, -8.4627, -8.5746, -8.5731, -8.5546, -8.5073, -8.5475,\n",
      "         -8.6016, -8.5867, -8.5838, -8.5602, -8.5840, -8.6520, -8.6874, -8.7014,\n",
      "         -8.7051, -8.7279, -8.7422, -8.7370, -8.7231, -8.6884, -8.6924, -8.6550,\n",
      "         -8.5768, -8.6125, -8.6135, -8.6251, -8.6681, -8.6771, -8.6670, -8.6612,\n",
      "         -8.6185, -8.6232, -8.6571, -8.6080, -8.5977, -8.5762, -8.4622, -8.5714,\n",
      "         -8.5737, -8.5561, -8.5505, -8.5654, -8.6062, -8.6014, -8.6071, -8.6366,\n",
      "         -8.6626, -8.6746, -8.6305, -8.6419, -8.6094, -8.6475, -8.6479, -8.6035,\n",
      "         -8.5930, -8.6575, -8.6700, -8.6911, -8.7163, -8.7235, -8.7422, -8.7423,\n",
      "         -8.7546, -8.7574, -8.7513, -8.7354, -8.7062, -8.7151, -8.6979, -8.7083,\n",
      "         -8.7144, -8.6875, -8.6812, -8.6960, -8.6662, -8.6150, -8.6541, -8.5984,\n",
      "         -8.5924, -8.6004, -8.6039, -8.5864, -8.5474, -8.6041, -8.5916, -8.5833,\n",
      "         -8.6020, -8.5924, -8.5935, -8.6645, -8.6820, -8.6807, -8.6957, -8.7070,\n",
      "         -8.6842, -8.6750, -8.6743, -8.6802, -8.6577, -8.6227, -8.6293, -8.6777,\n",
      "         -8.6571, -8.6362, -8.6505, -8.6965, -8.7260, -8.7236, -8.6849, -8.6726,\n",
      "         -8.6876, -8.6683, -8.6431, -8.6666, -8.6441, -8.5826, -8.5728, -8.6011,\n",
      "         -8.5913, -8.5872, -8.5656, -8.5670, -8.5824, -8.6167, -8.6465, -8.6552,\n",
      "         -8.6538, -8.6758, -8.6760, -8.7263, -8.7489, -8.7581, -8.7524, -8.7277,\n",
      "         -8.6975, -8.6832, -8.6791, -8.6482, -8.6261, -8.6397, -8.6094, -8.5928,\n",
      "         -8.6210, -8.6211, -8.6146, -8.6345, -8.6565, -8.6397, -8.6805, -8.7074,\n",
      "         -8.7055, -8.6892, -8.6379, -8.6441, -8.6726, -8.6689, -8.6403, -8.6229,\n",
      "         -8.6640, -8.6831, -8.7244, -8.7314, -8.7176, -8.6931, -8.6933, -8.6704,\n",
      "         -8.6681, -8.5952, -8.5490, -8.6089, -8.6088, -8.6347, -8.5890, -8.5608,\n",
      "         -8.5674, -8.6303, -8.6399, -8.6685, -8.6752, -8.6824, -8.6892, -8.7092,\n",
      "         -8.7245, -8.7264, -8.7302, -8.7532, -8.7592, -8.7541, -8.7558, -8.7533,\n",
      "         -8.7350, -8.7179, -8.6713, -8.6658, -8.6937, -8.6580, -8.6491, -8.6479,\n",
      "         -8.6366, -8.6041, -8.6486, -8.6597, -8.6239, -8.6332, -8.6853, -8.6847]],\n",
      "       device='cuda:0'), end_logits=tensor([[-3.8826, -7.6738, -7.0716, -7.9394, -8.2861, -7.9951, -6.8807, -7.9248,\n",
      "         -6.5688, -7.1098, -5.5400, -7.3797, -7.1161, -6.1559, -4.8503, -8.1655,\n",
      "         -5.3087, -7.1480, -7.3986, -7.1970, -6.8176, -5.6074, -7.8341, -7.8784,\n",
      "         -5.1912, -6.6608,  0.5465, -6.5442, -7.2157, -6.7769, -6.1658, -7.5828,\n",
      "         -7.3590, -6.4821, -5.8501, -6.5990, -6.9912, -6.4129, -5.6628, -6.8721,\n",
      "         -6.8060, -6.1001, -4.0808,  0.3272, -6.4851, -7.2389, -6.6526, -7.2252,\n",
      "         -7.3789, -6.7861, -5.8458, -7.6772, -7.3126, -5.4681, -6.5087, -6.9321,\n",
      "         -6.9812, -5.7646, -6.5453, -7.5630, -1.9868, -7.1902, -6.7774, -7.7518,\n",
      "         -7.5600, -6.0607, -7.3542, -7.6847, -6.7725, -7.3036, -7.0736, -7.5449,\n",
      "         -6.5801, -7.1395, -7.1315, -7.3606, -5.0865, -5.5903, -1.2622, -6.8117,\n",
      "         -7.3643, -7.6319, -7.3039, -6.6542, -7.2007, -7.2286, -6.3522, -7.7672,\n",
      "         -7.3603, -7.4051, -5.4270, -5.9081, -6.8770, -7.1314, -7.4929, -5.7242,\n",
      "         -6.9176, -6.7693, -6.7677, -4.6887, -6.0287, -6.8854, -5.7728, -6.5616,\n",
      "         -7.8487, -5.9900, -7.6230, -5.3818, -5.0342, -6.8668, -7.6994, -7.4024,\n",
      "         -6.4409, -7.2316, -5.6649, -5.8651, -3.5402, -4.6330, -5.2871, -1.7705,\n",
      "         -2.9925, -2.0836, -3.1439, -4.8993, -4.9192, -3.4436, -5.2560, -4.2893,\n",
      "         -2.6101, -3.0110, -1.0809, -2.6016, -2.4251,  1.8674, -2.4075, -2.9002,\n",
      "         -2.3332,  8.4580, -1.3873,  0.7677,  0.5510, -6.1017, -6.8282, -6.4845,\n",
      "         -7.3314, -6.4141, -6.1972, -5.5175, -7.0352, -7.7225, -7.7152, -7.5887,\n",
      "         -7.4938, -6.7134, -7.8483, -7.7085, -8.0075, -6.5567, -6.4563, -7.9108,\n",
      "         -7.7536, -6.7385, -5.7900, -5.7636, -4.9112, -6.0712, -6.9735, -6.7406,\n",
      "         -6.4857, -6.6103, -5.6480, -5.9984, -6.5213, -3.4674, -1.3942, -3.4394,\n",
      "         -8.3556, -8.3660, -8.3403, -8.3924, -8.3846, -8.3137, -8.3337, -8.3961,\n",
      "         -8.3659, -8.3833, -8.3839, -8.4030, -8.3876, -8.3239, -8.2782, -8.2577,\n",
      "         -8.2450, -8.2053, -8.1880, -8.1942, -8.2201, -8.2767, -8.2732, -8.3244,\n",
      "         -8.3952, -8.3565, -8.3512, -8.3434, -8.3004, -8.2939, -8.3113, -8.3121,\n",
      "         -8.3515, -8.3483, -8.3152, -8.3579, -8.3641, -8.3825, -8.4321, -8.3846,\n",
      "         -8.3795, -8.3970, -8.3987, -8.3948, -8.3661, -8.3716, -8.3618, -8.3295,\n",
      "         -8.2984, -8.2861, -8.3363, -8.3277, -8.3667, -8.3217, -8.3249, -8.3810,\n",
      "         -8.3860, -8.3131, -8.3014, -8.2765, -8.2356, -8.2370, -8.2041, -8.1925,\n",
      "         -8.1709, -8.1642, -8.1792, -8.2080, -8.2518, -8.2431, -8.2731, -8.2690,\n",
      "         -8.2620, -8.2767, -8.2961, -8.2867, -8.3155, -8.3651, -8.3255, -8.3623,\n",
      "         -8.3701, -8.3537, -8.3470, -8.3622, -8.3856, -8.3431, -8.3649, -8.3821,\n",
      "         -8.3679, -8.3826, -8.3753, -8.3056, -8.2797, -8.2848, -8.2624, -8.2466,\n",
      "         -8.2769, -8.2930, -8.2947, -8.2909, -8.3187, -8.3545, -8.3503, -8.2916,\n",
      "         -8.3191, -8.3454, -8.3322, -8.2813, -8.2330, -8.2345, -8.2910, -8.3056,\n",
      "         -8.2839, -8.3035, -8.3306, -8.3033, -8.3075, -8.3704, -8.3800, -8.3488,\n",
      "         -8.3675, -8.3562, -8.3631, -8.3963, -8.3846, -8.3547, -8.3288, -8.3281,\n",
      "         -8.3273, -8.2923, -8.2909, -8.2110, -8.1680, -8.1618, -8.1759, -8.2208,\n",
      "         -8.2716, -8.2939, -8.3001, -8.3310, -8.3424, -8.3326, -8.3543, -8.3781,\n",
      "         -8.3602, -8.3608, -8.3642, -8.3516, -8.3318, -8.3479, -8.2931, -8.2548,\n",
      "         -8.2565, -8.2793, -8.3470, -8.3399, -8.3055, -8.3120, -8.3508, -8.3669,\n",
      "         -8.3217, -8.2998, -8.2440, -8.2400, -8.2592, -8.2831, -8.2830, -8.3099,\n",
      "         -8.3101, -8.3688, -8.4054, -8.3536, -8.3556, -8.3182, -8.3663, -8.4019,\n",
      "         -8.4037, -8.3499, -8.3399, -8.3082, -8.2980, -8.2866, -8.2761, -8.2515,\n",
      "         -8.2366, -8.2277, -8.2185, -8.1869, -8.1841, -8.1883, -8.1857, -8.1767,\n",
      "         -8.2046, -8.2290, -8.2990, -8.3157, -8.2778, -8.3157, -8.3295, -8.3189,\n",
      "         -8.3285, -8.3496, -8.3164, -8.3133, -8.3503, -8.3433, -8.2949, -8.2913]],\n",
      "       device='cuda:0'), hidden_states=None, attentions=None)\n"
     ]
    },
    {
     "data": {
      "text/plain": [
       "tensor(11.2808, device='cuda:0', grad_fn=<AddBackward0>)"
      ]
     },
     "execution_count": 131,
     "metadata": {},
     "output_type": "execute_result"
    }
   ],
   "source": [
    "distil_trainer.compute_loss(student, inputs)"
   ]
  },
  {
   "cell_type": "code",
   "execution_count": 83,
   "metadata": {},
   "outputs": [],
   "source": [
    "outputs_tea = teacher(input_ids=inputs[\"input_ids\"].to(device),\n",
    "        token_type_ids=inputs[\"token_type_ids\"].to(device),\n",
    "        attention_mask=inputs[\"attention_mask\"].to(device))"
   ]
  },
  {
   "cell_type": "code",
   "execution_count": 98,
   "metadata": {},
   "outputs": [
    {
     "name": "stdout",
     "output_type": "stream",
     "text": [
      "dict_keys(['attention_mask', 'end_positions', 'input_ids', 'start_positions', 'token_type_ids'])\n",
      "QuestionAnsweringModelOutput(loss=None, start_logits=tensor([[-4.7775, -7.5524, -7.7254,  ..., -8.6507, -8.6967, -8.6714],\n",
      "        [-4.9208, -7.5891, -6.2129,  ..., -8.5623, -8.6303, -8.6191],\n",
      "        [-1.6100, -7.1228, -8.0427,  ..., -8.6439, -8.6384, -8.6224],\n",
      "        ...,\n",
      "        [-6.3699, -7.2430, -7.7908,  ..., -8.5658, -8.5296, -8.5410],\n",
      "        [-5.5658, -5.9514, -7.4400,  ..., -8.6072, -8.6467, -8.5977],\n",
      "        [-5.6992, -7.1155, -7.9358,  ..., -8.6977, -8.7139, -8.6897]],\n",
      "       device='cuda:0'), end_logits=tensor([[-4.3387, -7.4138, -8.0216,  ..., -8.3114, -8.2202, -8.2679],\n",
      "        [-4.1776, -8.2655, -7.7807,  ..., -8.4836, -8.3858, -8.3829],\n",
      "        [-0.7879, -7.5929, -7.8885,  ..., -8.4110, -8.4197, -8.4375],\n",
      "        ...,\n",
      "        [-5.9114, -7.2995, -8.3672,  ..., -8.4164, -8.4754, -8.4424],\n",
      "        [-5.1770, -6.1229, -7.1705,  ..., -8.4247, -8.3941, -8.4411],\n",
      "        [-5.3978, -6.5717, -7.9343,  ..., -8.2851, -8.2649, -8.2966]],\n",
      "       device='cuda:0'), hidden_states=None, attentions=None)\n"
     ]
    },
    {
     "ename": "AttributeError",
     "evalue": "'NoneType' object has no attribute 'backward'",
     "output_type": "error",
     "traceback": [
      "\u001b[0;31m---------------------------------------------------------------------------\u001b[0m",
      "\u001b[0;31mAttributeError\u001b[0m                            Traceback (most recent call last)",
      "\u001b[0;32m<ipython-input-98-3b96bdea93a7>\u001b[0m in \u001b[0;36m<module>\u001b[0;34m\u001b[0m\n\u001b[0;32m----> 1\u001b[0;31m \u001b[0mdistil_trainer\u001b[0m\u001b[0;34m.\u001b[0m\u001b[0mtrain\u001b[0m\u001b[0;34m(\u001b[0m\u001b[0;34m)\u001b[0m\u001b[0;34m\u001b[0m\u001b[0;34m\u001b[0m\u001b[0m\n\u001b[0m",
      "\u001b[0;32m/storage/git/transformers/src/transformers/trainer.py\u001b[0m in \u001b[0;36mtrain\u001b[0;34m(self, model_path, trial)\u001b[0m\n\u001b[1;32m    861\u001b[0m                         \u001b[0mtr_loss\u001b[0m \u001b[0;34m+=\u001b[0m \u001b[0mself\u001b[0m\u001b[0;34m.\u001b[0m\u001b[0mtraining_step\u001b[0m\u001b[0;34m(\u001b[0m\u001b[0mmodel\u001b[0m\u001b[0;34m,\u001b[0m \u001b[0minputs\u001b[0m\u001b[0;34m)\u001b[0m\u001b[0;34m\u001b[0m\u001b[0;34m\u001b[0m\u001b[0m\n\u001b[1;32m    862\u001b[0m                 \u001b[0;32melse\u001b[0m\u001b[0;34m:\u001b[0m\u001b[0;34m\u001b[0m\u001b[0;34m\u001b[0m\u001b[0m\n\u001b[0;32m--> 863\u001b[0;31m                     \u001b[0mtr_loss\u001b[0m \u001b[0;34m+=\u001b[0m \u001b[0mself\u001b[0m\u001b[0;34m.\u001b[0m\u001b[0mtraining_step\u001b[0m\u001b[0;34m(\u001b[0m\u001b[0mmodel\u001b[0m\u001b[0;34m,\u001b[0m \u001b[0minputs\u001b[0m\u001b[0;34m)\u001b[0m\u001b[0;34m\u001b[0m\u001b[0;34m\u001b[0m\u001b[0m\n\u001b[0m\u001b[1;32m    864\u001b[0m                 \u001b[0mself\u001b[0m\u001b[0;34m.\u001b[0m\u001b[0m_total_flos\u001b[0m \u001b[0;34m+=\u001b[0m \u001b[0mself\u001b[0m\u001b[0;34m.\u001b[0m\u001b[0mfloating_point_ops\u001b[0m\u001b[0;34m(\u001b[0m\u001b[0minputs\u001b[0m\u001b[0;34m)\u001b[0m\u001b[0;34m\u001b[0m\u001b[0;34m\u001b[0m\u001b[0m\n\u001b[1;32m    865\u001b[0m \u001b[0;34m\u001b[0m\u001b[0m\n",
      "\u001b[0;32m/storage/git/transformers/src/transformers/trainer.py\u001b[0m in \u001b[0;36mtraining_step\u001b[0;34m(self, model, inputs)\u001b[0m\n\u001b[1;32m   1220\u001b[0m                 \u001b[0mscaled_loss\u001b[0m\u001b[0;34m.\u001b[0m\u001b[0mbackward\u001b[0m\u001b[0;34m(\u001b[0m\u001b[0;34m)\u001b[0m\u001b[0;34m\u001b[0m\u001b[0;34m\u001b[0m\u001b[0m\n\u001b[1;32m   1221\u001b[0m         \u001b[0;32melse\u001b[0m\u001b[0;34m:\u001b[0m\u001b[0;34m\u001b[0m\u001b[0;34m\u001b[0m\u001b[0m\n\u001b[0;32m-> 1222\u001b[0;31m             \u001b[0mloss\u001b[0m\u001b[0;34m.\u001b[0m\u001b[0mbackward\u001b[0m\u001b[0;34m(\u001b[0m\u001b[0;34m)\u001b[0m\u001b[0;34m\u001b[0m\u001b[0;34m\u001b[0m\u001b[0m\n\u001b[0m\u001b[1;32m   1223\u001b[0m \u001b[0;34m\u001b[0m\u001b[0m\n\u001b[1;32m   1224\u001b[0m         \u001b[0;32mreturn\u001b[0m \u001b[0mloss\u001b[0m\u001b[0;34m.\u001b[0m\u001b[0mdetach\u001b[0m\u001b[0;34m(\u001b[0m\u001b[0;34m)\u001b[0m\u001b[0;34m\u001b[0m\u001b[0;34m\u001b[0m\u001b[0m\n",
      "\u001b[0;31mAttributeError\u001b[0m: 'NoneType' object has no attribute 'backward'"
     ]
    }
   ],
   "source": [
    "distil_trainer.train()"
   ]
  },
  {
   "cell_type": "code",
   "execution_count": null,
   "metadata": {},
   "outputs": [],
   "source": []
  }
 ],
 "metadata": {
  "kernelspec": {
   "display_name": "Python 3",
   "language": "python",
   "name": "python3"
  },
  "language_info": {
   "codemirror_mode": {
    "name": "ipython",
    "version": 3
   },
   "file_extension": ".py",
   "mimetype": "text/x-python",
   "name": "python",
   "nbconvert_exporter": "python",
   "pygments_lexer": "ipython3",
   "version": "3.6.8"
  }
 },
 "nbformat": 4,
 "nbformat_minor": 4
}
