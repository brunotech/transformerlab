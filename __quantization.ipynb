{
 "cells": [
  {
   "cell_type": "markdown",
   "metadata": {},
   "source": [
    "# Quantization"
   ]
  },
  {
   "cell_type": "markdown",
   "metadata": {},
   "source": [
    "https://pytorch.org/blog/introduction-to-quantization-on-pytorch/\n",
    "\n",
    "https://pytorch.org/docs/stable/quantization.html\n",
    "\n",
    "https://www.onnxruntime.ai/docs/\n",
    "\n",
    "https://towardsdatascience.com/why-you-should-convert-your-nlp-pipelines-to-onnx-2c4a3433325f#:~:text=ONNX%20Runtime's%20built%2Din%20graph,integers%20from%20floating%20point%20decimals).\n",
    "\n",
    "https://www.cortex.dev/post/40x-nlp-inference-with-hugging-face-and-onnx\n",
    "\n",
    "https://towardsdatascience.com/how-to-accelerate-and-compress-neural-networks-with-quantization-edfbbabb6af7\n",
    "\n",
    "https://channel9.msdn.com/Shows/AI-Show/Faster-and-Lighter-Model-Inference-with-ONNX-Runtime-from-Cloud-to-Client"
   ]
  },
  {
   "cell_type": "markdown",
   "metadata": {},
   "source": [
    "## Introduction\n",
    "The idea of distillation and pruning is to reduce the computational and memory cost of a model by reducing the number of computations necessary by reducing layers or dropping individual weights. Quantization takes a different approach and instead of reducing the number of computations aims at making every computation more efficient. This can be achieved by reducing the precision of the floating variables which are by default 32-bits in most deep learning frameworks. You have probably encountered this trick when training large neural networks with modern graphics cards. One can train neural networks with _half-precision_ (16-bits) which can significantly speed up training while reducing the graphics memory utilization.\n",
    "\n",
    "In contrast to half-precision, quantization of a model we usually involves transforming the operations from float32 to int8. This reduces the model size and computation speed by up to a factor of **four**! The actual speedup depends on the hardware and runtime you are using to execute your model and can vary but a speedup between 2-4x is expected.\n",
    "\n",
    "That sounds great, but we don't get that much speedup for free. Changing the precision for all computations in our model introduces small disturbances at each point in the model's computational graph which can compound and affect the model's performance. There are several ways to quantize a model which all have pros and cons. In the following sections we will briefly introduce them."
   ]
  },
  {
   "cell_type": "markdown",
   "metadata": {},
   "source": [
    "### Dynamic Quantization\n",
    "When using dynamic quantization nothing is changed during training and the adaptations are only performed during inference. Like in all quantization methods we will discuss the weights of the model are converted to int8 ahead of time. In addition to the weights also the model's activations are also quantized. This happens during the forward pass for inference, hence the name dynamic quantization. This means that all the matrix multiplications can be calculated with highly optimized int8 functions. Of all the quantization methods discussed here is dynamic quantization the simplest one. However, with dynamic quantization the activations are written and read to memory in floating point format. This conversion between integer and floating point format can be a performance bottleneck. The next section discusses a method that adresses that issue."
   ]
  },
  {
   "cell_type": "markdown",
   "metadata": {},
   "source": [
    "### Static Quantization\n",
    "Instead of just computing the quantization of the activations on the fly one could save the conversion to floating point if the quantization scheme of the activations were pre-computed. Static quantization achieves this by observing the activations patterns on a representative sample of the data ahead of inference time. The ideal quantization scheme is calculated and then saved. This enables us to never convert the values between int8 and float32 resulting in an additional speedup of the computations. However, this requires access to a good data sample and introduces an additional step in the pipeline, since we now need to train, determine the quantization scheme, and finally can perform inference. There is one aspect that also static quantization does not adress and this is the discrepancy between the precision during training and inference which leads to a performance drop in the model's metrics (e.g. accuracy). This can be improved by adapting the training loop as discussed in the next section."
   ]
  },
  {
   "cell_type": "markdown",
   "metadata": {},
   "source": [
    "### Quantization Aware Training (QAT)\n",
    "The affect of quantization can be effectively simulated during training by _\"fake\"_ quantization of the float32 values. Instead of using int8 during training the float32 values are rounded to mimic the effect of quantization. This is done during both the forward and backward pass and improves performance in terms of model metrics over static and dynamic quantization."
   ]
  },
  {
   "cell_type": "markdown",
   "metadata": {},
   "source": [
    "### Quantization of Transformers\n",
    "The main bottleneck for transformers is the compute and memory bandwidth for the weights of the model, since transformer models have an enormous amount of weightsl. For this reason is dynamic quantization the best approach for transformer like models in NLP. In smaller vision models the limiting factor is the memory bandwidth of the activations which is why static quantization is generally used and QAT in cases where the performance drops are too significant."
   ]
  },
  {
   "cell_type": "markdown",
   "metadata": {},
   "source": [
    "## Imports"
   ]
  },
  {
   "cell_type": "code",
   "execution_count": null,
   "metadata": {},
   "outputs": [],
   "source": [
    "# run before onnx import\n",
    "from os import environ\n",
    "from psutil import cpu_count\n",
    "environ[\"OMP_NUM_THREADS\"] = str(cpu_count(logical=True))\n",
    "environ[\"OMP_WAIT_POLICY\"] = 'ACTIVE'"
   ]
  },
  {
   "cell_type": "code",
   "execution_count": null,
   "metadata": {},
   "outputs": [],
   "source": [
    "import torch\n",
    "from transformers import AutoModelForSequenceClassification, AutoTokenizer, pipeline\n",
    "from time import time\n",
    "from contextlib import contextmanager\n",
    "from tqdm import trange\n",
    "import numpy as np\n",
    "from pathlib import Path\n",
    "import matplotlib.pyplot as plt"
   ]
  },
  {
   "cell_type": "markdown",
   "metadata": {},
   "source": [
    "## ONNX Imports & Utils"
   ]
  },
  {
   "cell_type": "code",
   "execution_count": null,
   "metadata": {},
   "outputs": [],
   "source": [
    "from transformers.convert_graph_to_onnx import convert, quantize\n",
    "from onnxruntime_tools import optimizer\n",
    "from onnxruntime_tools.transformers.onnx_model_bert import BertOptimizationOptions\n",
    "from onnxruntime import GraphOptimizationLevel, InferenceSession, SessionOptions, get_all_providers\n",
    "\n",
    "def create_model_for_provider(model_path, provider): \n",
    "    options = SessionOptions()\n",
    "    options.intra_op_num_threads = 1\n",
    "    options.graph_optimization_level = GraphOptimizationLevel.ORT_ENABLE_ALL\n",
    "\n",
    "    session = InferenceSession(model_path, options, providers=[provider])\n",
    "    session.disable_fallback()\n",
    "    return session\n",
    "\n",
    "class ONNXPipeline:\n",
    "    def __init__(self, model, tokenizer):\n",
    "        self.model = model\n",
    "        self.tokenizer = tokenizer\n",
    "        \n",
    "    def __call__(self, prompt):\n",
    "        model_inputs = self.tokenizer(prompt, return_tensors=\"pt\")\n",
    "        inputs_onnx = {k: v.cpu().detach().numpy() for k, v in model_inputs.items()}\n",
    "        return self.model.run(None, inputs_onnx)"
   ]
  },
  {
   "cell_type": "markdown",
   "metadata": {},
   "source": [
    "## Timing Utils"
   ]
  },
  {
   "cell_type": "code",
   "execution_count": null,
   "metadata": {},
   "outputs": [],
   "source": [
    "@contextmanager\n",
    "def track_infer_time(buffer: [int]):\n",
    "    start = time()\n",
    "    yield\n",
    "    end = time()\n",
    "    buffer.append(end - start)\n",
    "\n",
    "def time_pipeline(pipe, prompt='Transformers are great! ', n=100, multiplier=1):\n",
    "    prompt = prompt*multiplier\n",
    "    time_buffer = []\n",
    "    \n",
    "    #warmup\n",
    "    for _ in range(10):\n",
    "        _ = pipe(prompt)\n",
    "    \n",
    "    #timed run\n",
    "    for _ in trange(n):\n",
    "        with track_infer_time(time_buffer):\n",
    "            _ = pipe(prompt)\n",
    "    return 1000*np.mean(time_buffer), 1000*np.std(time_buffer)"
   ]
  },
  {
   "cell_type": "code",
   "execution_count": null,
   "metadata": {},
   "outputs": [],
   "source": [
    "onnx_opset = 12\n",
    "model_name = \"nlptown/bert-base-multilingual-uncased-sentiment\""
   ]
  },
  {
   "cell_type": "markdown",
   "metadata": {},
   "source": [
    "## PyTorch, CPU"
   ]
  },
  {
   "cell_type": "code",
   "execution_count": null,
   "metadata": {},
   "outputs": [],
   "source": [
    "tokenizer = AutoTokenizer.from_pretrained(model_name)\n",
    "model = AutoModelForSequenceClassification.from_pretrained(model_name)"
   ]
  },
  {
   "cell_type": "code",
   "execution_count": null,
   "metadata": {},
   "outputs": [],
   "source": [
    "times_mean, times_std = dict(), dict()"
   ]
  },
  {
   "cell_type": "code",
   "execution_count": null,
   "metadata": {},
   "outputs": [
    {
     "name": "stderr",
     "output_type": "stream",
     "text": [
      "100%|██████████| 100/100 [00:03<00:00, 27.14it/s]\n"
     ]
    }
   ],
   "source": [
    "name = 'cpu, full'\n",
    "pipe = pipeline('sentiment-analysis', model=model, tokenizer=tokenizer)\n",
    "times_mean[name], times_std[name] = time_pipeline(pipe)"
   ]
  },
  {
   "cell_type": "code",
   "execution_count": null,
   "metadata": {},
   "outputs": [],
   "source": [
    "model_quantized = torch.quantization.quantize_dynamic(model,\n",
    "                                                      {torch.nn.Linear},\n",
    "                                                      dtype=torch.qint8)"
   ]
  },
  {
   "cell_type": "code",
   "execution_count": null,
   "metadata": {},
   "outputs": [
    {
     "name": "stderr",
     "output_type": "stream",
     "text": [
      "100%|██████████| 100/100 [00:02<00:00, 47.38it/s]\n"
     ]
    }
   ],
   "source": [
    "name = 'cpu, quant'\n",
    "pipe = pipeline('sentiment-analysis', model=model_quantized, tokenizer=tokenizer)\n",
    "times_mean[name], times_std[name] = time_pipeline(pipe)"
   ]
  },
  {
   "cell_type": "code",
   "execution_count": null,
   "metadata": {},
   "outputs": [
    {
     "data": {
      "image/png": "[encoded data removed]",
      "text/plain": [
       "<Figure size 640x480 with 1 Axes>"
      ]
     },
     "metadata": {},
     "output_type": "display_data"
    }
   ],
   "source": [
    "plt.rcdefaults()\n",
    "fig, ax = plt.subplots()\n",
    "ax.set_ylabel(\"Avg Inference time (ms)\")\n",
    "ax.set_title(\"Average inference time (ms) for each provider\")\n",
    "ax.bar(times_mean.keys(), times_mean.values(), yerr=times_std.values())\n",
    "plt.show()"
   ]
  },
  {
   "cell_type": "markdown",
   "metadata": {},
   "source": [
    "## ONNX and ONNX Runtime\n",
    "The ONNX framework sets up a unified format to save machine learning models from TensorFlow, PyTorch all the way to Scikit-Learn. In addition, it also offers the ONNX Runtime which is an auxiliary framework to run these models efficiently on a wide range of hardware. Because ONNX optimizes the computational graph of the model and the runtime is compatible with a wide range of hardware this leads to a significant speedup over running the vanilla PyTorch model. Like PyTorch offers ONNX quantization methods to further improve the models memory footprint and inference speed."
   ]
  },
  {
   "cell_type": "code",
   "execution_count": null,
   "metadata": {},
   "outputs": [
    {
     "name": "stdout",
     "output_type": "stream",
     "text": [
      "ONNX opset version set to: 12\n",
      "Loading pipeline (model: nlptown/bert-base-multilingual-uncased-sentiment, tokenizer: nlptown/bert-base-multilingual-uncased-sentiment)\n",
      "Creating folder onnx\n",
      "Using framework PyTorch: 1.6.0+cu92\n",
      "Found input input_ids with shape: {0: 'batch', 1: 'sequence'}\n",
      "Found input token_type_ids with shape: {0: 'batch', 1: 'sequence'}\n",
      "Found input attention_mask with shape: {0: 'batch', 1: 'sequence'}\n",
      "Found output output_0 with shape: {0: 'batch', 1: 'sequence'}\n",
      "Found output output_1 with shape: {0: 'batch'}\n",
      "Ensuring inputs are in correct order\n",
      "position_ids is not present in the generated input list.\n",
      "Generated inputs order: ['input_ids', 'attention_mask', 'token_type_ids']\n"
     ]
    },
    {
     "name": "stderr",
     "output_type": "stream",
     "text": [
      "/opt/conda/envs/fastai/lib/python3.8/site-packages/transformers/models/bert/modeling_bert.py:194: TracerWarning: Converting a tensor to a Python index might cause the trace to be incorrect. We can't record the data flow of Python values, so this value will be treated as a constant in the future. This means that the trace might not generalize to other inputs!\n",
      "  position_ids = self.position_ids[:, past_key_values_length : seq_length + past_key_values_length]\n",
      "/opt/conda/envs/fastai/lib/python3.8/site-packages/transformers/modeling_utils.py:1759: TracerWarning: Converting a tensor to a Python boolean might cause the trace to be incorrect. We can't record the data flow of Python values, so this value will be treated as a constant in the future. This means that the trace might not generalize to other inputs!\n",
      "  assert all(\n"
     ]
    }
   ],
   "source": [
    "!rm -rf onnx/\n",
    "\n",
    "convert(framework=\"pt\", model=model_name, output=Path(\"onnx/model.onnx\"), opset=onnx_opset)\n",
    "\n",
    "opt_options = BertOptimizationOptions('bert')\n",
    "opt_options.enable_embed_layer_norm = False\n",
    "\n",
    "opt_model = optimizer.optimize_model(\n",
    "    'onnx/model.onnx',\n",
    "    'bert', \n",
    "    num_heads=12,\n",
    "    hidden_size=768,\n",
    "    optimization_options=opt_options)\n",
    "opt_model.save_model_to_file('bert.opt.onnx')"
   ]
  },
  {
   "cell_type": "code",
   "execution_count": null,
   "metadata": {},
   "outputs": [
    {
     "name": "stderr",
     "output_type": "stream",
     "text": [
      "100%|██████████| 100/100 [00:01<00:00, 64.57it/s]\n"
     ]
    }
   ],
   "source": [
    "name = 'onnx, cpu, full'\n",
    "provider = \"CPUExecutionProvider\"\n",
    "model_onnx = create_model_for_provider(\"onnx/model.onnx\", provider)\n",
    "pipe = ONNXPipeline(model_onnx, tokenizer)\n",
    "\n",
    "times_mean[name], times_std[name] = time_pipeline(pipe)"
   ]
  },
  {
   "cell_type": "code",
   "execution_count": null,
   "metadata": {},
   "outputs": [
    {
     "name": "stdout",
     "output_type": "stream",
     "text": [
      "As of onnxruntime 1.4.0, models larger than 2GB will fail to quantize due to protobuf constraint.\n",
      "This limitation will be removed in the next release of onnxruntime.\n",
      "Warning: onnxruntime.quantization.quantize is deprecated.\n",
      "         Please use quantize_static for static quantization, quantize_dynamic for dynamic quantization.\n",
      "Quantized model has been written at bert.onnx: ✔\n"
     ]
    },
    {
     "name": "stderr",
     "output_type": "stream",
     "text": [
      "100%|██████████| 100/100 [00:00<00:00, 130.40it/s]\n"
     ]
    }
   ],
   "source": [
    "name = 'onnx, cpu, quant'\n",
    "\n",
    "quantized_model_path = quantize(Path(\"bert.opt.onnx\"))\n",
    "quantized_model = create_model_for_provider(quantized_model_path.as_posix(), \"CPUExecutionProvider\")\n",
    "\n",
    "pipe = ONNXPipeline(quantized_model, tokenizer)\n",
    "times_mean[name], times_std[name] = time_pipeline(pipe)"
   ]
  },
  {
   "cell_type": "code",
   "execution_count": null,
   "metadata": {},
   "outputs": [
    {
     "data": {
      "image/png": "[encoded data removed]",
      "text/plain": [
       "<Figure size 640x480 with 1 Axes>"
      ]
     },
     "metadata": {},
     "output_type": "display_data"
    }
   ],
   "source": [
    "plt.rcdefaults()\n",
    "fig, ax = plt.subplots()\n",
    "ax.set_ylabel(\"Avg Inference time (ms)\")\n",
    "ax.set_title(\"Average inference time (ms) for each provider\")\n",
    "ax.bar(times_mean.keys(), times_mean.values(), yerr=times_std.values())\n",
    "plt.show()"
   ]
  },
  {
   "cell_type": "code",
   "execution_count": null,
   "metadata": {},
   "outputs": [
    {
     "data": {
      "text/plain": [
       "4.822253925305406"
      ]
     },
     "execution_count": null,
     "metadata": {},
     "output_type": "execute_result"
    }
   ],
   "source": [
    "times_mean[\"cpu, full\"]/times_mean[\"onnx, cpu, quant\"]"
   ]
  },
  {
   "cell_type": "code",
   "execution_count": null,
   "metadata": {},
   "outputs": [
    {
     "name": "stdout",
     "output_type": "stream",
     "text": [
      "121 µs ± 1.19 µs per loop (mean ± std. dev. of 7 runs, 10000 loops each)\n"
     ]
    }
   ],
   "source": [
    "%%timeit\n",
    "prompt='Transformers are great!'\n",
    "model_inputs = tokenizer(prompt, return_tensors=\"pt\")\n",
    "inputs_onnx = {k: v.cpu().detach().numpy() for k, v in model_inputs.items()}"
   ]
  },
  {
   "cell_type": "code",
   "execution_count": null,
   "metadata": {},
   "outputs": [
    {
     "data": {
      "text/plain": [
       "(10, [7, 8, 9, 10, 11, 12])"
      ]
     },
     "execution_count": null,
     "metadata": {},
     "output_type": "execute_result"
    }
   ],
   "source": [
    "from torch.onnx.symbolic_helper import _onnx_master_opset, _onnx_stable_opsets\n",
    "_onnx_master_opset, _onnx_stable_opsets"
   ]
  },
  {
   "cell_type": "markdown",
   "metadata": {},
   "source": [
    "## Install"
   ]
  },
  {
   "cell_type": "code",
   "execution_count": null,
   "metadata": {},
   "outputs": [
    {
     "name": "stdout",
     "output_type": "stream",
     "text": [
      "Looking in links: https://download.pytorch.org/whl/torch_stable.html\n",
      "Requirement already up-to-date: torch==1.6.0 in /opt/conda/envs/fastai/lib/python3.8/site-packages (1.6.0+cu92)\n",
      "Requirement already up-to-date: torchvision==0.7.0 in /opt/conda/envs/fastai/lib/python3.8/site-packages (0.7.0+cu92)\n",
      "Requirement already satisfied, skipping upgrade: numpy in /opt/conda/envs/fastai/lib/python3.8/site-packages (from torch==1.6.0) (1.19.4)\n",
      "Requirement already satisfied, skipping upgrade: future in /opt/conda/envs/fastai/lib/python3.8/site-packages (from torch==1.6.0) (0.18.2)\n",
      "Requirement already satisfied, skipping upgrade: pillow>=4.1.1 in /opt/conda/envs/fastai/lib/python3.8/site-packages (from torchvision==0.7.0) (8.0.1)\n"
     ]
    }
   ],
   "source": [
    "import sys\n",
    "!{sys.executable} -m pip install --upgrade torch==1.6.0 torchvision==0.7.0 -f https://download.pytorch.org/whl/torch_stable.html\n",
    "!{sys.executable} -m pip install --upgrade onnxruntime==1.4.0\n",
    "!{sys.executable} -m pip install -i https://test.pypi.org/simple/ ort-nightly\n",
    "!{sys.executable} -m pip install --upgrade onnxruntime-tools\n",
    "!{sys.executable} -m pip install onnx psutil"
   ]
  },
  {
   "cell_type": "code",
   "execution_count": null,
   "metadata": {},
   "outputs": [
    {
     "name": "stdout",
     "output_type": "stream",
     "text": [
      "adal==1.2.5\r\n",
      "argon2-cffi @ file:///home/conda/feedstock_root/build_artifacts/argon2-cffi_1605217004767/work\r\n",
      "async-generator==1.10\r\n",
      "attrs @ file:///home/conda/feedstock_root/build_artifacts/attrs_1605083924122/work\r\n",
      "azure-cognitiveservices-search-imagesearch==2.0.0\r\n",
      "azure-common==1.1.26\r\n",
      "backcall @ file:///home/conda/feedstock_root/build_artifacts/backcall_1592338393461/work\r\n",
      "backports.functools-lru-cache==1.6.1\r\n",
      "bleach @ file:///home/conda/feedstock_root/build_artifacts/bleach_1600454382015/work\r\n",
      "blis==0.4.1\r\n",
      "brotlipy==0.7.0\r\n",
      "catalogue @ file:///home/conda/feedstock_root/build_artifacts/catalogue_1605613584677/work\r\n",
      "certifi==2020.11.8\r\n",
      "cffi @ file:///home/conda/feedstock_root/build_artifacts/cffi_1602537222527/work\r\n",
      "chardet @ file:///home/conda/feedstock_root/build_artifacts/chardet_1602255302199/work\r\n",
      "click==7.1.2\r\n",
      "coloredlogs==15.0\r\n",
      "cryptography @ file:///home/conda/feedstock_root/build_artifacts/cryptography_1604179079864/work\r\n",
      "cycler==0.10.0\r\n",
      "cymem @ file:///home/conda/feedstock_root/build_artifacts/cymem_1604919356432/work\r\n",
      "dataclasses==0.6\r\n",
      "decorator==4.4.2\r\n",
      "defusedxml==0.6.0\r\n",
      "entrypoints @ file:///home/conda/feedstock_root/build_artifacts/entrypoints_1605121927639/work/dist/entrypoints-0.3-py2.py3-none-any.whl\r\n",
      "fastai @ file:///home/jhoward/anaconda3/conda-bld/fastai_1604932388885/work\r\n",
      "fastai2==0.0.30\r\n",
      "fastbook==0.0.14\r\n",
      "fastcore @ file:///home/jhoward/anaconda3/conda-bld/fastcore_1605551797847/work\r\n",
      "fastprocess==2.0.0\r\n",
      "fastprogress @ file:///home/conda/feedstock_root/build_artifacts/fastprogress_1597932925331/work\r\n",
      "filelock==3.0.12\r\n",
      "future==0.18.2\r\n",
      "graphviz==0.15\r\n",
      "humanfriendly==9.1\r\n",
      "idna @ file:///home/conda/feedstock_root/build_artifacts/idna_1593328102638/work\r\n",
      "importlib-metadata @ file:///home/conda/feedstock_root/build_artifacts/importlib-metadata_1602263269022/work\r\n",
      "ipykernel @ file:///home/conda/feedstock_root/build_artifacts/ipykernel_1605455374814/work/dist/ipykernel-5.3.4-py3-none-any.whl\r\n",
      "ipython @ file:///home/conda/feedstock_root/build_artifacts/ipython_1604159561527/work\r\n",
      "ipython-genutils==0.2.0\r\n",
      "ipywidgets @ file:///home/conda/feedstock_root/build_artifacts/ipywidgets_1599554010055/work\r\n",
      "isodate==0.6.0\r\n",
      "jedi @ file:///home/conda/feedstock_root/build_artifacts/jedi_1605054524035/work\r\n",
      "Jinja2==2.11.2\r\n",
      "joblib @ file:///home/conda/feedstock_root/build_artifacts/joblib_1601671685479/work\r\n",
      "jsonschema @ file:///home/conda/feedstock_root/build_artifacts/jsonschema_1602551949684/work\r\n",
      "jupyter-client @ file:///home/conda/feedstock_root/build_artifacts/jupyter_client_1598486169312/work\r\n",
      "jupyter-console @ file:///home/conda/feedstock_root/build_artifacts/jupyter_console_1598728807792/work\r\n",
      "jupyter-core @ file:///home/conda/feedstock_root/build_artifacts/jupyter_core_1605735009305/work\r\n",
      "jupyterlab-pygments @ file:///home/conda/feedstock_root/build_artifacts/jupyterlab_pygments_1601375948261/work\r\n",
      "kiwisolver @ file:///home/conda/feedstock_root/build_artifacts/kiwisolver_1604322295622/work\r\n",
      "MarkupSafe @ file:///home/conda/feedstock_root/build_artifacts/markupsafe_1602267312178/work\r\n",
      "matplotlib @ file:///home/conda/feedstock_root/build_artifacts/matplotlib-suite_1605180228501/work\r\n",
      "mistune @ file:///home/conda/feedstock_root/build_artifacts/mistune_1605115651871/work\r\n",
      "msrest==0.6.19\r\n",
      "msrestazure==0.6.4\r\n",
      "murmurhash==1.0.4\r\n",
      "nbclient @ file:///home/conda/feedstock_root/build_artifacts/nbclient_1602859080374/work\r\n",
      "nbconvert==5.6.1\r\n",
      "nbdev==1.1.5\r\n",
      "nbformat @ file:///home/conda/feedstock_root/build_artifacts/nbformat_1602732862338/work\r\n",
      "nest-asyncio @ file:///home/conda/feedstock_root/build_artifacts/nest-asyncio_1605195931949/work\r\n",
      "notebook @ file:///home/conda/feedstock_root/build_artifacts/notebook_1605103633466/work\r\n",
      "numpy @ file:///home/conda/feedstock_root/build_artifacts/numpy_1604945996350/work\r\n",
      "nvidia-ml-py3==7.352.0\r\n",
      "oauthlib==3.1.0\r\n",
      "olefile @ file:///home/conda/feedstock_root/build_artifacts/olefile_1602866521163/work\r\n",
      "onnx==1.8.0\r\n",
      "onnxruntime==1.6.0\r\n",
      "onnxruntime-tools==1.5.2\r\n",
      "ort-nightly==1.6.0.dev202101251\r\n",
      "packaging @ file:///home/conda/feedstock_root/build_artifacts/packaging_1589925210001/work\r\n",
      "pandas==1.1.4\r\n",
      "pandocfilters==1.4.2\r\n",
      "parso @ file:///home/conda/feedstock_root/build_artifacts/parso_1595548966091/work\r\n",
      "pexpect @ file:///home/conda/feedstock_root/build_artifacts/pexpect_1602535608087/work\r\n",
      "pickleshare @ file:///home/conda/feedstock_root/build_artifacts/pickleshare_1602536217715/work\r\n",
      "Pillow @ file:///home/conda/feedstock_root/build_artifacts/pillow_1604748700719/work\r\n",
      "plac==0.9.6\r\n",
      "preshed @ file:///home/conda/feedstock_root/build_artifacts/preshed_1605166129992/work\r\n",
      "prometheus-client @ file:///home/conda/feedstock_root/build_artifacts/prometheus_client_1605543085815/work\r\n",
      "prompt-toolkit @ file:///home/conda/feedstock_root/build_artifacts/prompt-toolkit_1605053337398/work\r\n",
      "protobuf==3.14.0\r\n",
      "psutil==5.8.0\r\n",
      "ptyprocess==0.6.0\r\n",
      "py-cpuinfo==7.0.0\r\n",
      "py3nvml==0.2.6\r\n",
      "pycparser @ file:///home/conda/feedstock_root/build_artifacts/pycparser_1593275161868/work\r\n",
      "Pygments @ file:///home/conda/feedstock_root/build_artifacts/pygments_1603558917696/work\r\n",
      "PyJWT==1.7.1\r\n",
      "pyOpenSSL==19.1.0\r\n",
      "pyparsing==2.4.7\r\n",
      "PyQt5==5.12.3\r\n",
      "PyQt5-sip==4.19.18\r\n",
      "PyQtChart==5.12\r\n",
      "PyQtWebEngine==5.12.1\r\n",
      "pyrsistent @ file:///home/conda/feedstock_root/build_artifacts/pyrsistent_1605115595652/work\r\n",
      "PySocks @ file:///home/conda/feedstock_root/build_artifacts/pysocks_1602326928339/work\r\n",
      "python-dateutil==2.8.1\r\n",
      "pytz @ file:///home/conda/feedstock_root/build_artifacts/pytz_1604321279890/work\r\n",
      "PyYAML==5.3.1\r\n",
      "pyzmq==20.0.0\r\n",
      "qtconsole @ file:///home/conda/feedstock_root/build_artifacts/qtconsole_1599147533948/work\r\n",
      "QtPy==1.9.0\r\n",
      "regex==2020.11.13\r\n",
      "requests @ file:///home/conda/feedstock_root/build_artifacts/requests_1605186911681/work\r\n",
      "requests-oauthlib==1.3.0\r\n",
      "sacremoses==0.0.43\r\n",
      "scikit-learn @ file:///home/conda/feedstock_root/build_artifacts/scikit-learn_1604232448678/work\r\n",
      "scipy @ file:///home/conda/feedstock_root/build_artifacts/scipy_1604304779838/work\r\n",
      "Send2Trash==1.5.0\r\n",
      "sentencepiece==0.1.94\r\n",
      "six @ file:///home/conda/feedstock_root/build_artifacts/six_1590081179328/work\r\n",
      "spacy @ file:///home/conda/feedstock_root/build_artifacts/spacy_1605692171608/work\r\n",
      "srsly @ file:///home/conda/feedstock_root/build_artifacts/srsly_1605085673973/work\r\n",
      "terminado @ file:///home/conda/feedstock_root/build_artifacts/terminado_1602679586280/work\r\n",
      "testpath==0.4.4\r\n",
      "thinc @ file:///home/conda/feedstock_root/build_artifacts/thinc_1605620876750/work\r\n",
      "threadpoolctl @ file:///tmp/tmp79xdzxkt/threadpoolctl-2.1.0-py3-none-any.whl\r\n",
      "tokenizers==0.9.4\r\n",
      "torch==1.6.0+cu92\r\n",
      "torchvision==0.7.0+cu92\r\n",
      "tornado @ file:///home/conda/feedstock_root/build_artifacts/tornado_1604105045397/work\r\n",
      "tqdm @ file:///home/conda/feedstock_root/build_artifacts/tqdm_1605543106900/work\r\n",
      "traitlets @ file:///home/conda/feedstock_root/build_artifacts/traitlets_1602771532708/work\r\n",
      "transformers @ git+https://github.com/huggingface/transformers@626116b7d76efef5137c3b4a92e64e3bb57a6882\r\n",
      "typing-extensions @ file:///home/conda/feedstock_root/build_artifacts/typing_extensions_1602702424206/work\r\n",
      "urllib3 @ file:///home/conda/feedstock_root/build_artifacts/urllib3_1603125704209/work\r\n",
      "utils==1.0.1\r\n",
      "wasabi @ file:///home/conda/feedstock_root/build_artifacts/wasabi_1600272362626/work\r\n",
      "wcwidth @ file:///home/conda/feedstock_root/build_artifacts/wcwidth_1600965781394/work\r\n",
      "webencodings==0.5.1\r\n",
      "widgetsnbextension @ file:///home/conda/feedstock_root/build_artifacts/widgetsnbextension_1605475534911/work\r\n",
      "xmltodict==0.12.0\r\n",
      "zipp @ file:///home/conda/feedstock_root/build_artifacts/zipp_1603668650351/work\r\n"
     ]
    }
   ],
   "source": [
    "import sys\n",
    "!{sys.executable} -m pip freeze"
   ]
  },
  {
   "cell_type": "markdown",
   "metadata": {},
   "source": [
    "The following list contains the relevant packages (to the best of my knowledge). It could be that onnxruntime and ort-nightly are the same thing.\n",
    "\n",
    "onnx==1.8.0\n",
    "\n",
    "onnxruntime==1.6.0\n",
    "\n",
    "ort-nightly==1.6.0.dev202101251\n",
    "\n",
    "onnxruntime-tools==1.5.2\n",
    "\n",
    "torch==1.6.0+cu92\n",
    "\n",
    "torchvision==0.7.0+cu92\n"
   ]
  },
  {
   "cell_type": "code",
   "execution_count": null,
   "metadata": {},
   "outputs": [],
   "source": []
  }
 ],
 "metadata": {
  "kernelspec": {
   "display_name": "Python 3",
   "language": "python",
   "name": "python3"
  }
 },
 "nbformat": 4,
 "nbformat_minor": 4
}
