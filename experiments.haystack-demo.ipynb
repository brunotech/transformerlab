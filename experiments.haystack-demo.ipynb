{
 "cells": [
  {
   "cell_type": "markdown",
   "metadata": {},
   "source": [
    "## Imports"
   ]
  },
  {
   "cell_type": "code",
   "execution_count": null,
   "metadata": {},
   "outputs": [],
   "source": [
    "%load_ext autoreload\n",
    "%autoreload 2"
   ]
  },
  {
   "cell_type": "code",
   "execution_count": null,
   "metadata": {},
   "outputs": [
    {
     "name": "stderr",
     "output_type": "stream",
     "text": [
      "03/06/2021 10:33:27 - INFO - faiss.loader -   Loading faiss with AVX2 support.\n",
      "03/06/2021 10:33:27 - INFO - faiss.loader -   Loading faiss.\n",
      "03/06/2021 10:33:28 - INFO - farm.modeling.prediction_head -   Better speed can be achieved with apex installed from https://www.github.com/nvidia/apex .\n"
     ]
    }
   ],
   "source": [
    "from pathlib import Path\n",
    "import pandas as pd\n",
    "from tqdm import tqdm\n",
    "import json\n",
    "import os\n",
    "from subprocess import Popen, PIPE, STDOUT\n",
    "\n",
    "from haystack.preprocessor.cleaning import clean_wiki_text\n",
    "from haystack.preprocessor.utils import convert_files_to_dicts, fetch_archive_from_http\n",
    "from haystack.reader.farm import FARMReader\n",
    "from haystack.reader.transformers import TransformersReader\n",
    "from haystack.utils import print_answers\n",
    "from haystack.document_store.elasticsearch import ElasticsearchDocumentStore\n",
    "from haystack.retriever.sparse import ElasticsearchRetriever\n",
    "from haystack.pipeline import ExtractiveQAPipeline"
   ]
  },
  {
   "cell_type": "markdown",
   "metadata": {},
   "source": [
    "## Load data"
   ]
  },
  {
   "cell_type": "markdown",
   "metadata": {},
   "source": [
    "There are four types of dataset associated with AmazonQA:\n",
    "\n",
    "* Products: combination of Amazon reviews and questions\n",
    "* QA pairs: heuristics applied to the products dataset to generate QA pairs and query-relevant review snippets (the main contribution from the paper)\n",
    "* SQuAD style: conversion of QA pairs to extractive QA format\n",
    "* MS MARCO: conversion of QA pairs to abstractive QA format'\n",
    "\n",
    "Task:\n",
    "\n",
    "> Given a set of product reviews and a question concerning a specific product, generate an informative\n",
    "natural language answer.\n",
    "\n",
    "So could build a system where you search for a product and then ask questions about that product. Will need a way to lookup Amazon Standard Identification Number (ASIN) per product to be human readable. "
   ]
  },
  {
   "cell_type": "code",
   "execution_count": null,
   "metadata": {},
   "outputs": [
    {
     "name": "stdout",
     "output_type": "stream",
     "text": [
      "test-qar_squad_all.jsonl  train-qar_msmarco.jsonl      train-qar_squad.json\n",
      "train-qar.jsonl\t\t  train-qar_products.jsonl     train-qar_squad.jsonl\n",
      "train-qar.jsonl.bak\t  train-qar_squad-music.json   val-qar_squad-music.json\n",
      "train-qar_meta.jsonl\t  train-qar_squad-music.jsonl  val-qar_squad.jsonl\n"
     ]
    }
   ],
   "source": [
    "data = Path('./data/amazon-qa')\n",
    "!ls {data}"
   ]
  },
  {
   "cell_type": "markdown",
   "metadata": {},
   "source": [
    "### Products"
   ]
  },
  {
   "cell_type": "code",
   "execution_count": null,
   "metadata": {},
   "outputs": [
    {
     "data": {
      "text/html": [
       "<div>\n",
       "<style scoped>\n",
       "    .dataframe tbody tr th:only-of-type {\n",
       "        vertical-align: middle;\n",
       "    }\n",
       "\n",
       "    .dataframe tbody tr th {\n",
       "        vertical-align: top;\n",
       "    }\n",
       "\n",
       "    .dataframe thead th {\n",
       "        text-align: right;\n",
       "    }\n",
       "</style>\n",
       "<table border=\"1\" class=\"dataframe\">\n",
       "  <thead>\n",
       "    <tr style=\"text-align: right;\">\n",
       "      <th></th>\n",
       "      <th>asin</th>\n",
       "      <th>questions</th>\n",
       "      <th>reviews</th>\n",
       "      <th>category</th>\n",
       "    </tr>\n",
       "  </thead>\n",
       "  <tbody>\n",
       "    <tr>\n",
       "      <th>0</th>\n",
       "      <td>B007F357HQ</td>\n",
       "      <td>[{'questionText': 'I had shoulder surgery 6 months ago and have a 4\" wide sc...</td>\n",
       "      <td>[{'helpful': [1, 1], 'reviewText': 'Love this - wasn't sure I would as I tho...</td>\n",
       "      <td>Beauty</td>\n",
       "    </tr>\n",
       "    <tr>\n",
       "      <th>1</th>\n",
       "      <td>B00CRAJZFW</td>\n",
       "      <td>[{'questionText': 'is it for iphones', 'questionType': 'yesno', 'answers': [...</td>\n",
       "      <td>[{'helpful': [2, 4], 'reviewText': 'This product arrived exactly as pictured...</td>\n",
       "      <td>Cell_Phones_and_Accessories</td>\n",
       "    </tr>\n",
       "    <tr>\n",
       "      <th>2</th>\n",
       "      <td>B002ZAZ7H4</td>\n",
       "      <td>[{'questionText': 'what is the width and ht of the cells?', 'questionType': ...</td>\n",
       "      <td>[{'helpful': [0, 0], 'reviewText': 'Very well constructed and designed.I lik...</td>\n",
       "      <td>Home_and_Kitchen</td>\n",
       "    </tr>\n",
       "    <tr>\n",
       "      <th>3</th>\n",
       "      <td>B008SCP8UE</td>\n",
       "      <td>[{'questionText': 'is it big for a bunny', 'questionType': 'yesno', 'answers...</td>\n",
       "      <td>[{'helpful': [0, 0], 'reviewText': 'Absolutely love!!! It was cute and easy ...</td>\n",
       "      <td>Pet_Supplies</td>\n",
       "    </tr>\n",
       "    <tr>\n",
       "      <th>4</th>\n",
       "      <td>B001O4F8Y4</td>\n",
       "      <td>[{'questionText': 'We are having a problem with the range. We have an old ho...</td>\n",
       "      <td>[{'helpful': [0, 0], 'reviewText': 'We have a two story home and notice that...</td>\n",
       "      <td>Tools_and_Home_Improvement</td>\n",
       "    </tr>\n",
       "  </tbody>\n",
       "</table>\n",
       "</div>"
      ],
      "text/plain": [
       "         asin  \\\n",
       "0  B007F357HQ   \n",
       "1  B00CRAJZFW   \n",
       "2  B002ZAZ7H4   \n",
       "3  B008SCP8UE   \n",
       "4  B001O4F8Y4   \n",
       "\n",
       "                                                                         questions  \\\n",
       "0  [{'questionText': 'I had shoulder surgery 6 months ago and have a 4\" wide sc...   \n",
       "1  [{'questionText': 'is it for iphones', 'questionType': 'yesno', 'answers': [...   \n",
       "2  [{'questionText': 'what is the width and ht of the cells?', 'questionType': ...   \n",
       "3  [{'questionText': 'is it big for a bunny', 'questionType': 'yesno', 'answers...   \n",
       "4  [{'questionText': 'We are having a problem with the range. We have an old ho...   \n",
       "\n",
       "                                                                           reviews  \\\n",
       "0  [{'helpful': [1, 1], 'reviewText': 'Love this - wasn't sure I would as I tho...   \n",
       "1  [{'helpful': [2, 4], 'reviewText': 'This product arrived exactly as pictured...   \n",
       "2  [{'helpful': [0, 0], 'reviewText': 'Very well constructed and designed.I lik...   \n",
       "3  [{'helpful': [0, 0], 'reviewText': 'Absolutely love!!! It was cute and easy ...   \n",
       "4  [{'helpful': [0, 0], 'reviewText': 'We have a two story home and notice that...   \n",
       "\n",
       "                      category  \n",
       "0                       Beauty  \n",
       "1  Cell_Phones_and_Accessories  \n",
       "2             Home_and_Kitchen  \n",
       "3                 Pet_Supplies  \n",
       "4   Tools_and_Home_Improvement  "
      ]
     },
     "execution_count": null,
     "metadata": {},
     "output_type": "execute_result"
    }
   ],
   "source": [
    "products_df = pd.read_json(data/'train-qar_products.jsonl', lines=True, nrows=10)\n",
    "products_df.head()"
   ]
  },
  {
   "cell_type": "markdown",
   "metadata": {},
   "source": [
    "### QA pairs"
   ]
  },
  {
   "cell_type": "code",
   "execution_count": null,
   "metadata": {},
   "outputs": [
    {
     "data": {
      "text/html": [
       "<div>\n",
       "<style scoped>\n",
       "    .dataframe tbody tr th:only-of-type {\n",
       "        vertical-align: middle;\n",
       "    }\n",
       "\n",
       "    .dataframe tbody tr th {\n",
       "        vertical-align: top;\n",
       "    }\n",
       "\n",
       "    .dataframe thead th {\n",
       "        text-align: right;\n",
       "    }\n",
       "</style>\n",
       "<table border=\"1\" class=\"dataframe\">\n",
       "  <thead>\n",
       "    <tr style=\"text-align: right;\">\n",
       "      <th></th>\n",
       "      <th>asin</th>\n",
       "      <th>category</th>\n",
       "      <th>questionText</th>\n",
       "      <th>questionType</th>\n",
       "      <th>review_snippets</th>\n",
       "      <th>answers</th>\n",
       "      <th>is_answerable</th>\n",
       "      <th>qid</th>\n",
       "    </tr>\n",
       "  </thead>\n",
       "  <tbody>\n",
       "    <tr>\n",
       "      <th>0</th>\n",
       "      <td>B000MP20BU</td>\n",
       "      <td>Toys_and_Games</td>\n",
       "      <td>Many have stated similar to the following: \"Paint Chips Off Easily; Pieces a...</td>\n",
       "      <td>descriptive</td>\n",
       "      <td>[A lot of reviewers have said things about this puzzle not being that durabl...</td>\n",
       "      <td>[{'answerText': 'The paint has held up through two toddlers and still going ...</td>\n",
       "      <td>1</td>\n",
       "      <td>0</td>\n",
       "    </tr>\n",
       "    <tr>\n",
       "      <th>1</th>\n",
       "      <td>B00BOXZZU2</td>\n",
       "      <td>Health_and_Personal_Care</td>\n",
       "      <td>Will these work with the Phillips sonicare handles?</td>\n",
       "      <td>descriptive</td>\n",
       "      <td>[I didn't even realize such a small electric tooth-brush existed till I acci...</td>\n",
       "      <td>[{'answerText': 'The answer unfortunately, is no. The Slim Sonic is a compac...</td>\n",
       "      <td>0</td>\n",
       "      <td>1</td>\n",
       "    </tr>\n",
       "    <tr>\n",
       "      <th>2</th>\n",
       "      <td>B00CSYD4M2</td>\n",
       "      <td>Cell_Phones_and_Accessories</td>\n",
       "      <td>What kind of sim card it use?</td>\n",
       "      <td>descriptive</td>\n",
       "      <td>[I bought this phone a few weeks ago.I am using it in Costa Rica with a Kolb...</td>\n",
       "      <td>[{'answerText': 'This phone is an unlocked GSM device, it requires a MINI SI...</td>\n",
       "      <td>1</td>\n",
       "      <td>2</td>\n",
       "    </tr>\n",
       "    <tr>\n",
       "      <th>3</th>\n",
       "      <td>B00C5TNSRG</td>\n",
       "      <td>Home_and_Kitchen</td>\n",
       "      <td>does anyone know if this dinnerware set does not contain lead or traces of l...</td>\n",
       "      <td>descriptive</td>\n",
       "      <td>[I love my new dishes! They are so versatile. I can set a casual table and y...</td>\n",
       "      <td>[{'answerText': 'According to the internet search:   three-layer glass lamin...</td>\n",
       "      <td>0</td>\n",
       "      <td>3</td>\n",
       "    </tr>\n",
       "    <tr>\n",
       "      <th>4</th>\n",
       "      <td>B0099XQBD4</td>\n",
       "      <td>Musical_Instruments</td>\n",
       "      <td>I'm thinking of getting in to modular synthesizers.  Would this work for that?</td>\n",
       "      <td>descriptive</td>\n",
       "      <td>[Will order another in the near future and arrived very quickly. Easy to ins...</td>\n",
       "      <td>[{'answerText': 'Yes it will.', 'answerType': 'NA', 'helpful': [1, 1]}, {'an...</td>\n",
       "      <td>0</td>\n",
       "      <td>4</td>\n",
       "    </tr>\n",
       "  </tbody>\n",
       "</table>\n",
       "</div>"
      ],
      "text/plain": [
       "         asin                     category  \\\n",
       "0  B000MP20BU               Toys_and_Games   \n",
       "1  B00BOXZZU2     Health_and_Personal_Care   \n",
       "2  B00CSYD4M2  Cell_Phones_and_Accessories   \n",
       "3  B00C5TNSRG             Home_and_Kitchen   \n",
       "4  B0099XQBD4          Musical_Instruments   \n",
       "\n",
       "                                                                      questionText  \\\n",
       "0  Many have stated similar to the following: \"Paint Chips Off Easily; Pieces a...   \n",
       "1                              Will these work with the Phillips sonicare handles?   \n",
       "2                                                    What kind of sim card it use?   \n",
       "3  does anyone know if this dinnerware set does not contain lead or traces of l...   \n",
       "4   I'm thinking of getting in to modular synthesizers.  Would this work for that?   \n",
       "\n",
       "  questionType  \\\n",
       "0  descriptive   \n",
       "1  descriptive   \n",
       "2  descriptive   \n",
       "3  descriptive   \n",
       "4  descriptive   \n",
       "\n",
       "                                                                   review_snippets  \\\n",
       "0  [A lot of reviewers have said things about this puzzle not being that durabl...   \n",
       "1  [I didn't even realize such a small electric tooth-brush existed till I acci...   \n",
       "2  [I bought this phone a few weeks ago.I am using it in Costa Rica with a Kolb...   \n",
       "3  [I love my new dishes! They are so versatile. I can set a casual table and y...   \n",
       "4  [Will order another in the near future and arrived very quickly. Easy to ins...   \n",
       "\n",
       "                                                                           answers  \\\n",
       "0  [{'answerText': 'The paint has held up through two toddlers and still going ...   \n",
       "1  [{'answerText': 'The answer unfortunately, is no. The Slim Sonic is a compac...   \n",
       "2  [{'answerText': 'This phone is an unlocked GSM device, it requires a MINI SI...   \n",
       "3  [{'answerText': 'According to the internet search:   three-layer glass lamin...   \n",
       "4  [{'answerText': 'Yes it will.', 'answerType': 'NA', 'helpful': [1, 1]}, {'an...   \n",
       "\n",
       "   is_answerable  qid  \n",
       "0              1    0  \n",
       "1              0    1  \n",
       "2              1    2  \n",
       "3              0    3  \n",
       "4              0    4  "
      ]
     },
     "execution_count": null,
     "metadata": {},
     "output_type": "execute_result"
    }
   ],
   "source": [
    "qar_df = pd.read_json(data/'train-qar.jsonl', lines=True, nrows=10)\n",
    "qar_df.head()"
   ]
  },
  {
   "cell_type": "markdown",
   "metadata": {},
   "source": [
    "### SQuAD"
   ]
  },
  {
   "cell_type": "code",
   "execution_count": null,
   "metadata": {},
   "outputs": [
    {
     "data": {
      "text/html": [
       "<div>\n",
       "<style scoped>\n",
       "    .dataframe tbody tr th:only-of-type {\n",
       "        vertical-align: middle;\n",
       "    }\n",
       "\n",
       "    .dataframe tbody tr th {\n",
       "        vertical-align: top;\n",
       "    }\n",
       "\n",
       "    .dataframe thead th {\n",
       "        text-align: right;\n",
       "    }\n",
       "</style>\n",
       "<table border=\"1\" class=\"dataframe\">\n",
       "  <thead>\n",
       "    <tr style=\"text-align: right;\">\n",
       "      <th></th>\n",
       "      <th>context</th>\n",
       "      <th>qas</th>\n",
       "    </tr>\n",
       "  </thead>\n",
       "  <tbody>\n",
       "    <tr>\n",
       "      <th>0</th>\n",
       "      <td>This is the perfect kit to get started. Everything is miniaturized and comes...</td>\n",
       "      <td>[{'id': 331392, 'is_impossible': False, 'question': 'What exactly comes in t...</td>\n",
       "    </tr>\n",
       "    <tr>\n",
       "      <th>1</th>\n",
       "      <td>... it doesn't last quite as long as advertised so therefore, I had to conti...</td>\n",
       "      <td>[{'id': 684949, 'is_impossible': False, 'question': 'How do you apply this p...</td>\n",
       "    </tr>\n",
       "    <tr>\n",
       "      <th>2</th>\n",
       "      <td>This is a pretty cool filter. If you spin it around it will totally change t...</td>\n",
       "      <td>[{'id': 604553, 'is_impossible': False, 'question': 'Does this come with a c...</td>\n",
       "    </tr>\n",
       "    <tr>\n",
       "      <th>3</th>\n",
       "      <td>This product was the exact match of the original manufactured equipment.. On...</td>\n",
       "      <td>[{'id': 341653, 'is_impossible': False, 'question': 'How to remove midgate r...</td>\n",
       "    </tr>\n",
       "    <tr>\n",
       "      <th>4</th>\n",
       "      <td>Nice kit. Works well. Adjustable for proper sighting. Good quality. Instruct...</td>\n",
       "      <td>[{'id': 192046, 'is_impossible': False, 'question': 'does this include the m...</td>\n",
       "    </tr>\n",
       "  </tbody>\n",
       "</table>\n",
       "</div>"
      ],
      "text/plain": [
       "                                                                           context  \\\n",
       "0  This is the perfect kit to get started. Everything is miniaturized and comes...   \n",
       "1  ... it doesn't last quite as long as advertised so therefore, I had to conti...   \n",
       "2  This is a pretty cool filter. If you spin it around it will totally change t...   \n",
       "3  This product was the exact match of the original manufactured equipment.. On...   \n",
       "4  Nice kit. Works well. Adjustable for proper sighting. Good quality. Instruct...   \n",
       "\n",
       "                                                                               qas  \n",
       "0  [{'id': 331392, 'is_impossible': False, 'question': 'What exactly comes in t...  \n",
       "1  [{'id': 684949, 'is_impossible': False, 'question': 'How do you apply this p...  \n",
       "2  [{'id': 604553, 'is_impossible': False, 'question': 'Does this come with a c...  \n",
       "3  [{'id': 341653, 'is_impossible': False, 'question': 'How to remove midgate r...  \n",
       "4  [{'id': 192046, 'is_impossible': False, 'question': 'does this include the m...  "
      ]
     },
     "execution_count": null,
     "metadata": {},
     "output_type": "execute_result"
    }
   ],
   "source": [
    "squad_df = pd.read_json(data/'train-qar_squad.jsonl', lines=True, nrows=10)\n",
    "squad_df.head()"
   ]
  },
  {
   "cell_type": "markdown",
   "metadata": {},
   "source": [
    "### MARCO"
   ]
  },
  {
   "cell_type": "code",
   "execution_count": null,
   "metadata": {},
   "outputs": [
    {
     "data": {
      "text/html": [
       "<div>\n",
       "<style scoped>\n",
       "    .dataframe tbody tr th:only-of-type {\n",
       "        vertical-align: middle;\n",
       "    }\n",
       "\n",
       "    .dataframe tbody tr th {\n",
       "        vertical-align: top;\n",
       "    }\n",
       "\n",
       "    .dataframe thead th {\n",
       "        text-align: right;\n",
       "    }\n",
       "</style>\n",
       "<table border=\"1\" class=\"dataframe\">\n",
       "  <thead>\n",
       "    <tr style=\"text-align: right;\">\n",
       "      <th></th>\n",
       "      <th>answers</th>\n",
       "      <th>passages</th>\n",
       "      <th>query</th>\n",
       "      <th>query_id</th>\n",
       "      <th>query_type</th>\n",
       "      <th>wellFormedAnswers</th>\n",
       "    </tr>\n",
       "  </thead>\n",
       "  <tbody>\n",
       "    <tr>\n",
       "      <th>0</th>\n",
       "      <td>[If your VHS tapes are getting old you may have problems like that.  Also He...</td>\n",
       "      <td>[{'is_selected': 1, 'url': '', 'passage_text': 'This product arrived in a &amp;#...</td>\n",
       "      <td>I am having issues with dropped video. Audio is fine. I'm getting video abou...</td>\n",
       "      <td>384160</td>\n",
       "      <td>DESCRIPTION</td>\n",
       "      <td>[]</td>\n",
       "    </tr>\n",
       "    <tr>\n",
       "      <th>1</th>\n",
       "      <td>[No they are not made in USA  not the ones I got sorry, I am not sure. I bel...</td>\n",
       "      <td>[{'is_selected': 1, 'url': '', 'passage_text': 'My wife and I looked for mon...</td>\n",
       "      <td>Are all mattress materials made in the USA?</td>\n",
       "      <td>282084</td>\n",
       "      <td>DESCRIPTION</td>\n",
       "      <td>[]</td>\n",
       "    </tr>\n",
       "    <tr>\n",
       "      <th>2</th>\n",
       "      <td>[It's not really suited for handling large debris. It should only be used fo...</td>\n",
       "      <td>[{'is_selected': 1, 'url': '', 'passage_text': 'We purchased our home a few ...</td>\n",
       "      <td>How well does it handle leaves?  especially large leaves?  I had a KK severa...</td>\n",
       "      <td>454427</td>\n",
       "      <td>DESCRIPTION</td>\n",
       "      <td>[]</td>\n",
       "    </tr>\n",
       "    <tr>\n",
       "      <th>3</th>\n",
       "      <td>[There is no adapter, just the micro SD card., It comes with a standard SD c...</td>\n",
       "      <td>[{'is_selected': 1, 'url': '', 'passage_text': 'I purchased this card for my...</td>\n",
       "      <td>Does this card come with the adapter for the larger slots as in a RaspberryPI?</td>\n",
       "      <td>193420</td>\n",
       "      <td>DESCRIPTION</td>\n",
       "      <td>[]</td>\n",
       "    </tr>\n",
       "    <tr>\n",
       "      <th>4</th>\n",
       "      <td>[I have done that to another grease gun before.  You would probably have to ...</td>\n",
       "      <td>[{'is_selected': 1, 'url': '', 'passage_text': 'The first one I got didn't w...</td>\n",
       "      <td>would this work with oil instead of grease?  I have a old milling machine wi...</td>\n",
       "      <td>661529</td>\n",
       "      <td>YESNO</td>\n",
       "      <td>[]</td>\n",
       "    </tr>\n",
       "  </tbody>\n",
       "</table>\n",
       "</div>"
      ],
      "text/plain": [
       "                                                                           answers  \\\n",
       "0  [If your VHS tapes are getting old you may have problems like that.  Also He...   \n",
       "1  [No they are not made in USA  not the ones I got sorry, I am not sure. I bel...   \n",
       "2  [It's not really suited for handling large debris. It should only be used fo...   \n",
       "3  [There is no adapter, just the micro SD card., It comes with a standard SD c...   \n",
       "4  [I have done that to another grease gun before.  You would probably have to ...   \n",
       "\n",
       "                                                                          passages  \\\n",
       "0  [{'is_selected': 1, 'url': '', 'passage_text': 'This product arrived in a &#...   \n",
       "1  [{'is_selected': 1, 'url': '', 'passage_text': 'My wife and I looked for mon...   \n",
       "2  [{'is_selected': 1, 'url': '', 'passage_text': 'We purchased our home a few ...   \n",
       "3  [{'is_selected': 1, 'url': '', 'passage_text': 'I purchased this card for my...   \n",
       "4  [{'is_selected': 1, 'url': '', 'passage_text': 'The first one I got didn't w...   \n",
       "\n",
       "                                                                             query  \\\n",
       "0  I am having issues with dropped video. Audio is fine. I'm getting video abou...   \n",
       "1                                      Are all mattress materials made in the USA?   \n",
       "2  How well does it handle leaves?  especially large leaves?  I had a KK severa...   \n",
       "3   Does this card come with the adapter for the larger slots as in a RaspberryPI?   \n",
       "4  would this work with oil instead of grease?  I have a old milling machine wi...   \n",
       "\n",
       "   query_id   query_type wellFormedAnswers  \n",
       "0    384160  DESCRIPTION                []  \n",
       "1    282084  DESCRIPTION                []  \n",
       "2    454427  DESCRIPTION                []  \n",
       "3    193420  DESCRIPTION                []  \n",
       "4    661529        YESNO                []  "
      ]
     },
     "execution_count": null,
     "metadata": {},
     "output_type": "execute_result"
    }
   ],
   "source": [
    "marco_df = pd.read_json(data/'train-qar_msmarco.jsonl', lines=True, nrows=10)\n",
    "marco_df.head()"
   ]
  },
  {
   "cell_type": "markdown",
   "metadata": {},
   "source": [
    "### Metadata\n",
    "Let's pick out the mapping from ASIN to QID from the training set:"
   ]
  },
  {
   "cell_type": "code",
   "execution_count": null,
   "metadata": {},
   "outputs": [
    {
     "name": "stderr",
     "output_type": "stream",
     "text": [
      "738776it [00:44, 16552.33it/s]\n"
     ]
    }
   ],
   "source": [
    "rows = []\n",
    "with open(data/'train-qar.jsonl', 'r') as f:\n",
    "    for _, line in tqdm(enumerate(f)):\n",
    "        row = json.loads(line)\n",
    "        rows.append((row['asin'], row['category'], row['qid'], row['is_answerable']))"
   ]
  },
  {
   "cell_type": "code",
   "execution_count": null,
   "metadata": {},
   "outputs": [
    {
     "data": {
      "text/html": [
       "<div>\n",
       "<style scoped>\n",
       "    .dataframe tbody tr th:only-of-type {\n",
       "        vertical-align: middle;\n",
       "    }\n",
       "\n",
       "    .dataframe tbody tr th {\n",
       "        vertical-align: top;\n",
       "    }\n",
       "\n",
       "    .dataframe thead th {\n",
       "        text-align: right;\n",
       "    }\n",
       "</style>\n",
       "<table border=\"1\" class=\"dataframe\">\n",
       "  <thead>\n",
       "    <tr style=\"text-align: right;\">\n",
       "      <th></th>\n",
       "      <th>asin</th>\n",
       "      <th>category</th>\n",
       "      <th>qid</th>\n",
       "      <th>is_answerable</th>\n",
       "    </tr>\n",
       "  </thead>\n",
       "  <tbody>\n",
       "    <tr>\n",
       "      <th>0</th>\n",
       "      <td>B000MP20BU</td>\n",
       "      <td>Toys_and_Games</td>\n",
       "      <td>0</td>\n",
       "      <td>1</td>\n",
       "    </tr>\n",
       "    <tr>\n",
       "      <th>1</th>\n",
       "      <td>B00BOXZZU2</td>\n",
       "      <td>Health_and_Personal_Care</td>\n",
       "      <td>1</td>\n",
       "      <td>0</td>\n",
       "    </tr>\n",
       "    <tr>\n",
       "      <th>2</th>\n",
       "      <td>B00CSYD4M2</td>\n",
       "      <td>Cell_Phones_and_Accessories</td>\n",
       "      <td>2</td>\n",
       "      <td>1</td>\n",
       "    </tr>\n",
       "    <tr>\n",
       "      <th>3</th>\n",
       "      <td>B00C5TNSRG</td>\n",
       "      <td>Home_and_Kitchen</td>\n",
       "      <td>3</td>\n",
       "      <td>0</td>\n",
       "    </tr>\n",
       "    <tr>\n",
       "      <th>4</th>\n",
       "      <td>B0099XQBD4</td>\n",
       "      <td>Musical_Instruments</td>\n",
       "      <td>4</td>\n",
       "      <td>0</td>\n",
       "    </tr>\n",
       "  </tbody>\n",
       "</table>\n",
       "</div>"
      ],
      "text/plain": [
       "         asin                     category  qid  is_answerable\n",
       "0  B000MP20BU               Toys_and_Games    0              1\n",
       "1  B00BOXZZU2     Health_and_Personal_Care    1              0\n",
       "2  B00CSYD4M2  Cell_Phones_and_Accessories    2              1\n",
       "3  B00C5TNSRG             Home_and_Kitchen    3              0\n",
       "4  B0099XQBD4          Musical_Instruments    4              0"
      ]
     },
     "execution_count": null,
     "metadata": {},
     "output_type": "execute_result"
    }
   ],
   "source": [
    "meta_df = pd.DataFrame(rows, columns=['asin', 'category', 'qid', 'is_answerable'])\n",
    "meta_df.head()"
   ]
  },
  {
   "cell_type": "code",
   "execution_count": null,
   "metadata": {},
   "outputs": [
    {
     "data": {
      "text/plain": [
       "(738776, 4)"
      ]
     },
     "execution_count": null,
     "metadata": {},
     "output_type": "execute_result"
    }
   ],
   "source": [
    "meta_df.shape"
   ]
  },
  {
   "cell_type": "code",
   "execution_count": null,
   "metadata": {},
   "outputs": [],
   "source": [
    "assert meta_df['qid'].nunique() == len(meta_df)"
   ]
  },
  {
   "cell_type": "code",
   "execution_count": null,
   "metadata": {},
   "outputs": [
    {
     "data": {
      "text/plain": [
       "Electronics                    169764\n",
       "Home_and_Kitchen               107423\n",
       "Sports_and_Outdoors             70824\n",
       "Tools_and_Home_Improvement      62995\n",
       "Health_and_Personal_Care        47589\n",
       "Automotive                      45892\n",
       "Cell_Phones_and_Accessories     42211\n",
       "Patio_Lawn_and_Garden           36693\n",
       "Toys_and_Games                  30838\n",
       "Office_Products                 26086\n",
       "Beauty                          24956\n",
       "Pet_Supplies                    21668\n",
       "Baby                            14427\n",
       "Musical_Instruments             14285\n",
       "Grocery_and_Gourmet_Food        11553\n",
       "Video_Games                      5901\n",
       "Clothing_Shoes_and_Jewelry       5671\n",
       "Name: category, dtype: int64"
      ]
     },
     "execution_count": null,
     "metadata": {},
     "output_type": "execute_result"
    }
   ],
   "source": [
    "meta_df['category'].value_counts()"
   ]
  },
  {
   "cell_type": "code",
   "execution_count": null,
   "metadata": {},
   "outputs": [
    {
     "data": {
      "text/plain": [
       "category\n",
       "Electronics                    28696\n",
       "Home_and_Kitchen               17640\n",
       "Sports_and_Outdoors            11881\n",
       "Tools_and_Home_Improvement     10283\n",
       "Automotive                      8172\n",
       "Health_and_Personal_Care        8051\n",
       "Cell_Phones_and_Accessories     7133\n",
       "Patio_Lawn_and_Garden           6108\n",
       "Toys_and_Games                  5725\n",
       "Beauty                          4450\n",
       "Office_Products                 4339\n",
       "Pet_Supplies                    3349\n",
       "Baby                            2466\n",
       "Musical_Instruments             2366\n",
       "Grocery_and_Gourmet_Food        2272\n",
       "Clothing_Shoes_and_Jewelry      1021\n",
       "Video_Games                      886\n",
       "Name: asin, dtype: int64"
      ]
     },
     "execution_count": null,
     "metadata": {},
     "output_type": "execute_result"
    }
   ],
   "source": [
    "meta_df.groupby('category')['asin'].nunique().sort_values(ascending=False)"
   ]
  },
  {
   "cell_type": "code",
   "execution_count": null,
   "metadata": {},
   "outputs": [
    {
     "data": {
      "text/plain": [
       "category                     is_answerable\n",
       "Automotive                   0                 23656\n",
       "                             1                 22236\n",
       "Baby                         1                 10255\n",
       "                             0                  4172\n",
       "Beauty                       1                 15243\n",
       "                             0                  9713\n",
       "Cell_Phones_and_Accessories  1                 27446\n",
       "                             0                 14765\n",
       "Clothing_Shoes_and_Jewelry   1                  3315\n",
       "                             0                  2356\n",
       "Electronics                  1                108614\n",
       "                             0                 61150\n",
       "Grocery_and_Gourmet_Food     1                  6774\n",
       "                             0                  4779\n",
       "Health_and_Personal_Care     1                 29539\n",
       "                             0                 18050\n",
       "Home_and_Kitchen             1                 66384\n",
       "                             0                 41039\n",
       "Musical_Instruments          1                  8694\n",
       "                             0                  5591\n",
       "Office_Products              1                 16862\n",
       "                             0                  9224\n",
       "Patio_Lawn_and_Garden        1                 22200\n",
       "                             0                 14493\n",
       "Pet_Supplies                 1                 14431\n",
       "                             0                  7237\n",
       "Sports_and_Outdoors          1                 43278\n",
       "                             0                 27546\n",
       "Tools_and_Home_Improvement   1                 36872\n",
       "                             0                 26123\n",
       "Toys_and_Games               1                 19128\n",
       "                             0                 11710\n",
       "Video_Games                  1                  4660\n",
       "                             0                  1241\n",
       "Name: is_answerable, dtype: int64"
      ]
     },
     "execution_count": null,
     "metadata": {},
     "output_type": "execute_result"
    }
   ],
   "source": [
    "meta_df.groupby('category')['is_answerable'].value_counts()"
   ]
  },
  {
   "cell_type": "code",
   "execution_count": null,
   "metadata": {},
   "outputs": [
    {
     "data": {
      "text/html": [
       "<div>\n",
       "<style scoped>\n",
       "    .dataframe tbody tr th:only-of-type {\n",
       "        vertical-align: middle;\n",
       "    }\n",
       "\n",
       "    .dataframe tbody tr th {\n",
       "        vertical-align: top;\n",
       "    }\n",
       "\n",
       "    .dataframe thead th {\n",
       "        text-align: right;\n",
       "    }\n",
       "</style>\n",
       "<table border=\"1\" class=\"dataframe\">\n",
       "  <thead>\n",
       "    <tr style=\"text-align: right;\">\n",
       "      <th></th>\n",
       "      <th>asin</th>\n",
       "      <th>category</th>\n",
       "      <th>qid</th>\n",
       "      <th>is_answerable</th>\n",
       "    </tr>\n",
       "  </thead>\n",
       "  <tbody>\n",
       "    <tr>\n",
       "      <th>4</th>\n",
       "      <td>B0099XQBD4</td>\n",
       "      <td>Musical_Instruments</td>\n",
       "      <td>4</td>\n",
       "      <td>0</td>\n",
       "    </tr>\n",
       "    <tr>\n",
       "      <th>55</th>\n",
       "      <td>B00F9ECDRU</td>\n",
       "      <td>Musical_Instruments</td>\n",
       "      <td>55</td>\n",
       "      <td>0</td>\n",
       "    </tr>\n",
       "    <tr>\n",
       "      <th>59</th>\n",
       "      <td>B0083FTVB8</td>\n",
       "      <td>Musical_Instruments</td>\n",
       "      <td>59</td>\n",
       "      <td>0</td>\n",
       "    </tr>\n",
       "    <tr>\n",
       "      <th>231</th>\n",
       "      <td>B005ETZ7NW</td>\n",
       "      <td>Musical_Instruments</td>\n",
       "      <td>231</td>\n",
       "      <td>0</td>\n",
       "    </tr>\n",
       "    <tr>\n",
       "      <th>269</th>\n",
       "      <td>B000EJTXZU</td>\n",
       "      <td>Musical_Instruments</td>\n",
       "      <td>269</td>\n",
       "      <td>0</td>\n",
       "    </tr>\n",
       "    <tr>\n",
       "      <th>...</th>\n",
       "      <td>...</td>\n",
       "      <td>...</td>\n",
       "      <td>...</td>\n",
       "      <td>...</td>\n",
       "    </tr>\n",
       "    <tr>\n",
       "      <th>738436</th>\n",
       "      <td>B001KPWU7A</td>\n",
       "      <td>Musical_Instruments</td>\n",
       "      <td>738436</td>\n",
       "      <td>0</td>\n",
       "    </tr>\n",
       "    <tr>\n",
       "      <th>738527</th>\n",
       "      <td>B00AMPDYDS</td>\n",
       "      <td>Musical_Instruments</td>\n",
       "      <td>738527</td>\n",
       "      <td>0</td>\n",
       "    </tr>\n",
       "    <tr>\n",
       "      <th>738581</th>\n",
       "      <td>B005IQGKX2</td>\n",
       "      <td>Musical_Instruments</td>\n",
       "      <td>738581</td>\n",
       "      <td>1</td>\n",
       "    </tr>\n",
       "    <tr>\n",
       "      <th>738652</th>\n",
       "      <td>B001KPWU7A</td>\n",
       "      <td>Musical_Instruments</td>\n",
       "      <td>738652</td>\n",
       "      <td>1</td>\n",
       "    </tr>\n",
       "    <tr>\n",
       "      <th>738656</th>\n",
       "      <td>B0001ARCFA</td>\n",
       "      <td>Musical_Instruments</td>\n",
       "      <td>738656</td>\n",
       "      <td>0</td>\n",
       "    </tr>\n",
       "  </tbody>\n",
       "</table>\n",
       "<p>14285 rows × 4 columns</p>\n",
       "</div>"
      ],
      "text/plain": [
       "              asin             category     qid  is_answerable\n",
       "4       B0099XQBD4  Musical_Instruments       4              0\n",
       "55      B00F9ECDRU  Musical_Instruments      55              0\n",
       "59      B0083FTVB8  Musical_Instruments      59              0\n",
       "231     B005ETZ7NW  Musical_Instruments     231              0\n",
       "269     B000EJTXZU  Musical_Instruments     269              0\n",
       "...            ...                  ...     ...            ...\n",
       "738436  B001KPWU7A  Musical_Instruments  738436              0\n",
       "738527  B00AMPDYDS  Musical_Instruments  738527              0\n",
       "738581  B005IQGKX2  Musical_Instruments  738581              1\n",
       "738652  B001KPWU7A  Musical_Instruments  738652              1\n",
       "738656  B0001ARCFA  Musical_Instruments  738656              0\n",
       "\n",
       "[14285 rows x 4 columns]"
      ]
     },
     "execution_count": null,
     "metadata": {},
     "output_type": "execute_result"
    }
   ],
   "source": [
    "meta_df.query(\"category == 'Musical_Instruments'\")"
   ]
  },
  {
   "cell_type": "markdown",
   "metadata": {},
   "source": [
    "## Warmup: no fine-tuning"
   ]
  },
  {
   "cell_type": "markdown",
   "metadata": {},
   "source": [
    "Let's pick a single category like `Musical_Instruments` and build a `DataFrame` that has `asin`, `context` columns that we can use to create a simple QA system with an existing model fine-tuned on SQuAD:"
   ]
  },
  {
   "cell_type": "code",
   "execution_count": null,
   "metadata": {},
   "outputs": [
    {
     "data": {
      "text/plain": [
       "'Toys_and_Games'"
      ]
     },
     "execution_count": null,
     "metadata": {},
     "output_type": "execute_result"
    }
   ],
   "source": [
    "qid2category = pd.Series(meta_df[\"category\"].values, index=meta_df[\"qid\"]).to_dict()\n",
    "qid2category[0]"
   ]
  },
  {
   "cell_type": "code",
   "execution_count": null,
   "metadata": {},
   "outputs": [
    {
     "data": {
      "text/plain": [
       "'B000MP20BU'"
      ]
     },
     "execution_count": null,
     "metadata": {},
     "output_type": "execute_result"
    }
   ],
   "source": [
    "qid2asin = pd.Series(meta_df[\"asin\"].values, index=meta_df[\"qid\"]).to_dict()\n",
    "qid2asin[0]"
   ]
  },
  {
   "cell_type": "markdown",
   "metadata": {},
   "source": [
    "It seems that all SQuAD entries are answerable (does this make sense?). What about SQuAD v2 with impossible questions?"
   ]
  },
  {
   "cell_type": "code",
   "execution_count": null,
   "metadata": {},
   "outputs": [
    {
     "data": {
      "text/plain": [
       "0"
      ]
     },
     "execution_count": null,
     "metadata": {},
     "output_type": "execute_result"
    }
   ],
   "source": [
    "qid2isanswer = pd.Series(meta_df[\"is_answerable\"].values, index=meta_df[\"qid\"]).to_dict()\n",
    "qid2isanswer[4]"
   ]
  },
  {
   "cell_type": "code",
   "execution_count": null,
   "metadata": {},
   "outputs": [
    {
     "data": {
      "text/plain": [
       "'B0057JCYYE'"
      ]
     },
     "execution_count": null,
     "metadata": {},
     "output_type": "execute_result"
    }
   ],
   "source": [
    "qid2asin[331392]"
   ]
  },
  {
   "cell_type": "code",
   "execution_count": null,
   "metadata": {},
   "outputs": [
    {
     "name": "stderr",
     "output_type": "stream",
     "text": [
      "455931it [00:30, 15122.32it/s]\n"
     ]
    }
   ],
   "source": [
    "rows = []\n",
    "\n",
    "with open(data/'train-qar_squad.jsonl', 'r', encoding='utf-8') as f:\n",
    "    for _, line in tqdm(enumerate(f)):\n",
    "        row = json.loads(line)\n",
    "        qid = row[\"qas\"][0][\"id\"]\n",
    "        if qid2category[qid] == \"Musical_Instruments\":\n",
    "            rows.append((qid2asin[qid], row[\"context\"], row[\"qas\"], qid2isanswer[qid]))"
   ]
  },
  {
   "cell_type": "code",
   "execution_count": null,
   "metadata": {},
   "outputs": [
    {
     "data": {
      "text/html": [
       "<div>\n",
       "<style scoped>\n",
       "    .dataframe tbody tr th:only-of-type {\n",
       "        vertical-align: middle;\n",
       "    }\n",
       "\n",
       "    .dataframe tbody tr th {\n",
       "        vertical-align: top;\n",
       "    }\n",
       "\n",
       "    .dataframe thead th {\n",
       "        text-align: right;\n",
       "    }\n",
       "</style>\n",
       "<table border=\"1\" class=\"dataframe\">\n",
       "  <thead>\n",
       "    <tr style=\"text-align: right;\">\n",
       "      <th></th>\n",
       "      <th>asin</th>\n",
       "      <th>text</th>\n",
       "      <th>qas</th>\n",
       "      <th>is_answerable</th>\n",
       "    </tr>\n",
       "  </thead>\n",
       "  <tbody>\n",
       "    <tr>\n",
       "      <th>0</th>\n",
       "      <td>B005OZE9SA</td>\n",
       "      <td>Works perfectly and easy to use. Software download also great.The only surpr...</td>\n",
       "      <td>[{'id': 943, 'is_impossible': False, 'question': 'ipad', 'answers': [{'answe...</td>\n",
       "      <td>1</td>\n",
       "    </tr>\n",
       "    <tr>\n",
       "      <th>1</th>\n",
       "      <td>B001RR9BZA</td>\n",
       "      <td>I'm not totally happy with it because it squeals a lot and doesn't really he...</td>\n",
       "      <td>[{'id': 6381, 'is_impossible': False, 'question': 'Does it amplify your voic...</td>\n",
       "      <td>1</td>\n",
       "    </tr>\n",
       "    <tr>\n",
       "      <th>2</th>\n",
       "      <td>B00B9060X6</td>\n",
       "      <td>I've tried computer studios but prefer twiddling knobs. With my Portastudio ...</td>\n",
       "      <td>[{'id': 440217, 'is_impossible': False, 'question': 'Can you record a drum m...</td>\n",
       "      <td>1</td>\n",
       "    </tr>\n",
       "    <tr>\n",
       "      <th>3</th>\n",
       "      <td>B009VDW4OW</td>\n",
       "      <td>I just received this drum in the mail. I had no idea how much assembly was r...</td>\n",
       "      <td>[{'id': 693739, 'is_impossible': False, 'question': 'What are thoughts on di...</td>\n",
       "      <td>1</td>\n",
       "    </tr>\n",
       "    <tr>\n",
       "      <th>4</th>\n",
       "      <td>B004STXY3E</td>\n",
       "      <td>This DMX controller is a great start for getting into DMX lighting control. ...</td>\n",
       "      <td>[{'id': 27683, 'is_impossible': False, 'question': 'I have RGB par cans and ...</td>\n",
       "      <td>1</td>\n",
       "    </tr>\n",
       "  </tbody>\n",
       "</table>\n",
       "</div>"
      ],
      "text/plain": [
       "         asin  \\\n",
       "0  B005OZE9SA   \n",
       "1  B001RR9BZA   \n",
       "2  B00B9060X6   \n",
       "3  B009VDW4OW   \n",
       "4  B004STXY3E   \n",
       "\n",
       "                                                                              text  \\\n",
       "0  Works perfectly and easy to use. Software download also great.The only surpr...   \n",
       "1  I'm not totally happy with it because it squeals a lot and doesn't really he...   \n",
       "2  I've tried computer studios but prefer twiddling knobs. With my Portastudio ...   \n",
       "3  I just received this drum in the mail. I had no idea how much assembly was r...   \n",
       "4  This DMX controller is a great start for getting into DMX lighting control. ...   \n",
       "\n",
       "                                                                               qas  \\\n",
       "0  [{'id': 943, 'is_impossible': False, 'question': 'ipad', 'answers': [{'answe...   \n",
       "1  [{'id': 6381, 'is_impossible': False, 'question': 'Does it amplify your voic...   \n",
       "2  [{'id': 440217, 'is_impossible': False, 'question': 'Can you record a drum m...   \n",
       "3  [{'id': 693739, 'is_impossible': False, 'question': 'What are thoughts on di...   \n",
       "4  [{'id': 27683, 'is_impossible': False, 'question': 'I have RGB par cans and ...   \n",
       "\n",
       "   is_answerable  \n",
       "0              1  \n",
       "1              1  \n",
       "2              1  \n",
       "3              1  \n",
       "4              1  "
      ]
     },
     "execution_count": null,
     "metadata": {},
     "output_type": "execute_result"
    }
   ],
   "source": [
    "qa_df = pd.DataFrame(rows, columns=['asin', 'text', \"qas\", 'is_answerable'])\n",
    "qa_df.head()"
   ]
  },
  {
   "cell_type": "code",
   "execution_count": null,
   "metadata": {},
   "outputs": [
    {
     "data": {
      "text/plain": [
       "1    8694\n",
       "Name: is_answerable, dtype: int64"
      ]
     },
     "execution_count": null,
     "metadata": {},
     "output_type": "execute_result"
    }
   ],
   "source": [
    "qa_df['is_answerable'].value_counts()"
   ]
  },
  {
   "cell_type": "code",
   "execution_count": null,
   "metadata": {},
   "outputs": [
    {
     "data": {
      "text/plain": [
       "(8694, 4)"
      ]
     },
     "execution_count": null,
     "metadata": {},
     "output_type": "execute_result"
    }
   ],
   "source": [
    "qa_df.shape"
   ]
  },
  {
   "cell_type": "code",
   "execution_count": null,
   "metadata": {},
   "outputs": [
    {
     "data": {
      "text/plain": [
       "2100"
      ]
     },
     "execution_count": null,
     "metadata": {},
     "output_type": "execute_result"
    }
   ],
   "source": [
    "qa_df['asin'].nunique()"
   ]
  },
  {
   "cell_type": "markdown",
   "metadata": {},
   "source": [
    "### Boot ES"
   ]
  },
  {
   "cell_type": "code",
   "execution_count": null,
   "metadata": {},
   "outputs": [],
   "source": [
    "! wget -nc https://artifacts.elastic.co/downloads/elasticsearch/elasticsearch-7.9.2-linux-x86_64.tar.gz -q\n",
    "! tar -xzf elasticsearch-7.9.2-linux-x86_64.tar.gz\n",
    "! chown -R daemon:daemon elasticsearch-7.9.2\n",
    "\n",
    "es_server = Popen(['elasticsearch-7.9.2/bin/elasticsearch'],\n",
    "                   stdout=PIPE, stderr=STDOUT,\n",
    "                   preexec_fn=lambda: os.setuid(1)  # as daemon\n",
    "                  )\n",
    "# wait until ES has started\n",
    "! sleep 30"
   ]
  },
  {
   "cell_type": "code",
   "execution_count": null,
   "metadata": {},
   "outputs": [
    {
     "name": "stderr",
     "output_type": "stream",
     "text": [
      "03/05/2021 15:11:00 - INFO - elasticsearch -   HEAD http://localhost:9200/ [status:200 request:0.094s]\n",
      "03/05/2021 15:11:00 - INFO - elasticsearch -   HEAD http://localhost:9200/document [status:200 request:0.011s]\n",
      "03/05/2021 15:11:00 - INFO - elasticsearch -   GET http://localhost:9200/document [status:200 request:0.004s]\n",
      "03/05/2021 15:11:00 - INFO - elasticsearch -   PUT http://localhost:9200/document/_mapping [status:200 request:0.024s]\n",
      "03/05/2021 15:11:00 - INFO - elasticsearch -   HEAD http://localhost:9200/label [status:200 request:0.002s]\n"
     ]
    }
   ],
   "source": [
    "document_store = ElasticsearchDocumentStore(host=\"localhost\", username=\"\", password=\"\", index=\"document\")"
   ]
  },
  {
   "cell_type": "code",
   "execution_count": null,
   "metadata": {},
   "outputs": [
    {
     "name": "stderr",
     "output_type": "stream",
     "text": [
      "03/04/2021 21:20:03 - INFO - elasticsearch -   POST http://localhost:9200/document/_delete_by_query [status:200 request:0.970s]\n"
     ]
    }
   ],
   "source": [
    "document_store.delete_all_documents()"
   ]
  },
  {
   "cell_type": "markdown",
   "metadata": {},
   "source": [
    "### Index docs"
   ]
  },
  {
   "cell_type": "code",
   "execution_count": null,
   "metadata": {},
   "outputs": [
    {
     "data": {
      "text/plain": [
       "{'text': \"Works perfectly and easy to use. Software download also great.The only surprise was that the one I ordered, (USB) doesn't work with an iPad.I was thinking it would work with both PC and iPad. My mistake. I use this with Logic Pro X on an iMac running Mavericks (it's replacing an Mbox) and with a Sony Vaio running Windows 7 and get excellent results (don't forget to install the Windows drivers or you'll run into latency issues). I also use it with the Auria App on my iPad Air. I did appreciate the direct line in switch...I could hear exactly what was being played into the unit without having to route through the computer. That was a nice feature. More recently, I was very happy to get this working with my ipad mini. I did purchase a recommended usb powered hub Belkin model &#34; F4U020&#34; and with that - I'm good to play music into and out of my ipad. Focusrite. An industry standard.I bought this specifically for use with an iPad to do mobile recording. The app I use is Auria, but GarageBand will work as well. Be sure to use/buy a POWERED USB hub in order to power the Scarlett.Wonderfully quiet device. Simple to use and the mic/instrument inputs are very warm sounding. It is truly shocking to see that you can achieve some VERY convincing, near commercial grade recording with this interface. Mac OS X 10.8.42: UpdateAmazon didn't sent me a 3rd replacement. And I'm really glad they didn't. I ended up saving a lot of money and buyingApogee Duet Audio Interface for iPad & Mac. After using Duet, I can tell you that any sound interface priced between 60 to 200 are the same thing. You may as well buy the simplest cheapest sound interface instead of this show off failure.I am very very VERY surprised about how many stars this product has. when i conect the headphones into the interface and give a test, i cant hear a suitable volume, i hear it very low; and if i increase the volume, this saturated.. very good this is honestly the best interface I've used for recording. this is a must but item you won't regret it. this is a beautiful piece of hardware. sounds really good. easy to use. and the director monitor function is great. the software that came with it is outdated and does not support Mavericks. however, I got on the help line and the gentlemen pointed me to a program called reaper that helped install the software so that I can take full advantage of it's benefits.Other than that! It's GREAT! and I love recording my guitar on it. Clean with no noise.\",\n",
       " 'meta': {'asin': 'B005OZE9SA', 'is_answerable': 1}}"
      ]
     },
     "execution_count": null,
     "metadata": {},
     "output_type": "execute_result"
    }
   ],
   "source": [
    "docs = [{\"text\": row[\"text\"], \"meta\":{\"asin\": row[\"asin\"], \"is_answerable\": row[\"is_answerable\"]}} for _, row in qa_df.iterrows()]\n",
    "docs[0]"
   ]
  },
  {
   "cell_type": "code",
   "execution_count": null,
   "metadata": {},
   "outputs": [
    {
     "name": "stderr",
     "output_type": "stream",
     "text": [
      "03/05/2021 15:11:02 - INFO - elasticsearch -   POST http://localhost:9200/_bulk?refresh=wait_for [status:200 request:1.124s]\n",
      "03/05/2021 15:11:04 - INFO - elasticsearch -   POST http://localhost:9200/_bulk?refresh=wait_for [status:200 request:1.382s]\n",
      "03/05/2021 15:11:05 - INFO - elasticsearch -   POST http://localhost:9200/_bulk?refresh=wait_for [status:200 request:1.381s]\n",
      "03/05/2021 15:11:06 - INFO - elasticsearch -   POST http://localhost:9200/_bulk?refresh=wait_for [status:200 request:1.281s]\n",
      "03/05/2021 15:11:08 - INFO - elasticsearch -   POST http://localhost:9200/_bulk?refresh=wait_for [status:200 request:1.237s]\n",
      "03/05/2021 15:11:09 - INFO - elasticsearch -   POST http://localhost:9200/_bulk?refresh=wait_for [status:200 request:1.254s]\n",
      "03/05/2021 15:11:10 - INFO - elasticsearch -   POST http://localhost:9200/_bulk?refresh=wait_for [status:200 request:1.260s]\n",
      "03/05/2021 15:11:12 - INFO - elasticsearch -   POST http://localhost:9200/_bulk?refresh=wait_for [status:200 request:1.275s]\n",
      "03/05/2021 15:11:13 - INFO - elasticsearch -   POST http://localhost:9200/_bulk?refresh=wait_for [status:200 request:1.273s]\n",
      "03/05/2021 15:11:14 - INFO - elasticsearch -   POST http://localhost:9200/_bulk?refresh=wait_for [status:200 request:1.272s]\n",
      "03/05/2021 15:11:16 - INFO - elasticsearch -   POST http://localhost:9200/_bulk?refresh=wait_for [status:200 request:1.264s]\n",
      "03/05/2021 15:11:17 - INFO - elasticsearch -   POST http://localhost:9200/_bulk?refresh=wait_for [status:200 request:1.276s]\n",
      "03/05/2021 15:11:18 - INFO - elasticsearch -   POST http://localhost:9200/_bulk?refresh=wait_for [status:200 request:1.331s]\n",
      "03/05/2021 15:11:20 - INFO - elasticsearch -   POST http://localhost:9200/_bulk?refresh=wait_for [status:200 request:1.288s]\n",
      "03/05/2021 15:11:21 - INFO - elasticsearch -   POST http://localhost:9200/_bulk?refresh=wait_for [status:200 request:1.285s]\n",
      "03/05/2021 15:11:22 - INFO - elasticsearch -   POST http://localhost:9200/_bulk?refresh=wait_for [status:200 request:1.257s]\n",
      "03/05/2021 15:11:24 - INFO - elasticsearch -   POST http://localhost:9200/_bulk?refresh=wait_for [status:200 request:1.265s]\n",
      "03/05/2021 15:11:25 - INFO - elasticsearch -   POST http://localhost:9200/_bulk?refresh=wait_for [status:200 request:1.238s]\n"
     ]
    }
   ],
   "source": [
    "document_store.write_documents(docs)"
   ]
  },
  {
   "cell_type": "markdown",
   "metadata": {},
   "source": [
    "### Retriever"
   ]
  },
  {
   "cell_type": "code",
   "execution_count": null,
   "metadata": {},
   "outputs": [],
   "source": [
    "retriever = ElasticsearchRetriever(document_store=document_store)"
   ]
  },
  {
   "cell_type": "markdown",
   "metadata": {},
   "source": [
    "### Reader"
   ]
  },
  {
   "cell_type": "code",
   "execution_count": null,
   "metadata": {},
   "outputs": [
    {
     "name": "stderr",
     "output_type": "stream",
     "text": [
      "03/06/2021 10:59:24 - INFO - farm.utils -   Using device: CUDA \n",
      "03/06/2021 10:59:24 - INFO - farm.utils -   Number of GPUs: 1\n",
      "03/06/2021 10:59:24 - INFO - farm.utils -   Distributed Training: False\n",
      "03/06/2021 10:59:24 - INFO - farm.utils -   Automatic Mixed Precision: None\n",
      "Some weights of RobertaModel were not initialized from the model checkpoint at deepset/roberta-base-squad2 and are newly initialized: ['roberta.pooler.dense.weight', 'roberta.pooler.dense.bias']\n",
      "You should probably TRAIN this model on a down-stream task to be able to use it for predictions and inference.\n",
      "03/06/2021 10:59:42 - WARNING - farm.utils -   ML Logging is turned off. No parameters, metrics or artifacts will be logged to MLFlow.\n",
      "03/06/2021 10:59:42 - INFO - farm.utils -   Using device: CUDA \n",
      "03/06/2021 10:59:42 - INFO - farm.utils -   Number of GPUs: 1\n",
      "03/06/2021 10:59:42 - INFO - farm.utils -   Distributed Training: False\n",
      "03/06/2021 10:59:42 - INFO - farm.utils -   Automatic Mixed Precision: None\n",
      "03/06/2021 10:59:45 - INFO - farm.infer -   Got ya 7 parallel workers to do inference ...\n",
      "03/06/2021 10:59:45 - INFO - farm.infer -    0    0    0    0    0    0    0 \n",
      "03/06/2021 10:59:45 - INFO - farm.infer -   /w\\  /w\\  /w\\  /w\\  /w\\  /w\\  /w\\\n",
      "03/06/2021 10:59:45 - INFO - farm.infer -   /'\\  / \\  /'\\  /'\\  / \\  / \\  /'\\\n",
      "03/06/2021 10:59:45 - INFO - farm.infer -               \n"
     ]
    }
   ],
   "source": [
    "reader = FARMReader(model_name_or_path=\"deepset/roberta-base-squad2\", use_gpu=True, context_window_size=500)"
   ]
  },
  {
   "cell_type": "code",
   "execution_count": null,
   "metadata": {},
   "outputs": [
    {
     "name": "stderr",
     "output_type": "stream",
     "text": [
      "Preprocessing Dataset data/squad/dev-v2.0.json: 100%|██████████| 1204/1204 [00:07<00:00, 162.32 Dicts/s]\n",
      "Evaluating: 100%|██████████| 274/274 [02:36<00:00,  1.75it/s]\n"
     ]
    }
   ],
   "source": [
    "# check evaluation on SQuAD v2\n",
    "reader_eval_results = reader.eval_on_file(\"data/squad\", \"dev-v2.0.json\", device='cuda')"
   ]
  },
  {
   "cell_type": "code",
   "execution_count": null,
   "metadata": {},
   "outputs": [
    {
     "name": "stdout",
     "output_type": "stream",
     "text": [
      "Reader Top-N-Accuracy: 0.9746483618293608\n",
      "Reader Exact Match: 0.7843005137707403\n",
      "Reader F1-Score: 0.8260896852846605\n"
     ]
    }
   ],
   "source": [
    "print(\"Reader Top-N-Accuracy:\", reader_eval_results[\"top_n_accuracy\"])\n",
    "## Reader Exact Match is the proportion of questions where the predicted answer is exactly the same as the correct answer\n",
    "print(\"Reader Exact Match:\", reader_eval_results[\"EM\"])\n",
    "## Reader F1-Score is the average overlap between the predicted answers and the correct answers\n",
    "print(\"Reader F1-Score:\", reader_eval_results[\"f1\"])"
   ]
  },
  {
   "cell_type": "code",
   "execution_count": null,
   "metadata": {},
   "outputs": [
    {
     "name": "stderr",
     "output_type": "stream",
     "text": [
      "Preprocessing Dataset data/amazon-qa/val-qar_squad-music.json: 100%|██████████| 1150/1150 [00:03<00:00, 371.15 Dicts/s]\n",
      "Evaluating: 100%|██████████| 133/133 [01:17<00:00,  1.72it/s]\n"
     ]
    }
   ],
   "source": [
    "# check evaluation on AmazonQA\n",
    "reader_eval_results = reader.eval_on_file(\"data/amazon-qa\", \"val-qar_squad-music.json\", device='cuda')"
   ]
  },
  {
   "cell_type": "code",
   "execution_count": null,
   "metadata": {},
   "outputs": [
    {
     "name": "stdout",
     "output_type": "stream",
     "text": [
      "Reader Top-N-Accuracy: 0.542608695652174\n",
      "Reader Exact Match: 0.0008695652173913044\n",
      "Reader F1-Score: 0.0752376647890378\n"
     ]
    }
   ],
   "source": [
    "print(\"Reader Top-N-Accuracy:\", reader_eval_results[\"top_n_accuracy\"])\n",
    "## Reader Exact Match is the proportion of questions where the predicted answer is exactly the same as the correct answer\n",
    "print(\"Reader Exact Match:\", reader_eval_results[\"EM\"])\n",
    "## Reader F1-Score is the average overlap between the predicted answers and the correct answers\n",
    "print(\"Reader F1-Score:\", reader_eval_results[\"f1\"])"
   ]
  },
  {
   "cell_type": "code",
   "execution_count": null,
   "metadata": {},
   "outputs": [],
   "source": [
    "pipe = ExtractiveQAPipeline(reader, retriever)"
   ]
  },
  {
   "cell_type": "code",
   "execution_count": null,
   "metadata": {},
   "outputs": [
    {
     "name": "stderr",
     "output_type": "stream",
     "text": [
      "03/05/2021 14:39:19 - INFO - elasticsearch -   POST http://localhost:9200/document/_search [status:200 request:0.088s]\n",
      "Inferencing Samples: 100%|██████████| 1/1 [00:00<00:00,  7.25 Batches/s]\n",
      "Inferencing Samples: 100%|██████████| 1/1 [00:00<00:00, 12.66 Batches/s]\n",
      "Inferencing Samples: 100%|██████████| 1/1 [00:00<00:00, 12.14 Batches/s]\n",
      "Inferencing Samples: 100%|██████████| 1/1 [00:00<00:00, 15.83 Batches/s]\n",
      "Inferencing Samples: 100%|██████████| 1/1 [00:00<00:00, 15.97 Batches/s]\n",
      "Inferencing Samples: 100%|██████████| 1/1 [00:00<00:00, 15.93 Batches/s]\n",
      "Inferencing Samples: 100%|██████████| 1/1 [00:00<00:00, 18.37 Batches/s]\n",
      "Inferencing Samples: 100%|██████████| 1/1 [00:00<00:00, 18.49 Batches/s]\n",
      "Inferencing Samples: 100%|██████████| 1/1 [00:00<00:00, 15.88 Batches/s]\n",
      "Inferencing Samples: 100%|██████████| 1/1 [00:00<00:00, 15.86 Batches/s]"
     ]
    },
    {
     "name": "stdout",
     "output_type": "stream",
     "text": [
      "Question: Is a snare included?\n",
      "\n",
      "\n",
      "#1\n",
      "Answer: this one only came with one\n",
      "ASIN: B009VDW4OW\n",
      "Is answerable?: 1\n",
      "Context: the correct sounds out of it. When I slapped the \"bass\", it would play a \"snare\" sound combined with the bass. When I slapped the \"snare\", I would just get a wood sound.I've also seen images that most cajons come with multiple snares... this one only came with one.I'm really not sure what else to say. I wanted a Cajon to play with.but didn't want to pay 100.00 plus. This was a great option, Easy to put together with the limited tools I had on hand. And cheap enough that I wasn't worried to have \n",
      "\n",
      "\n",
      "\n",
      "#2\n",
      "Answer: this one only came with one\n",
      "ASIN: B009VDW4OW\n",
      "Is answerable?: 1\n",
      "Context: the correct sounds out of it. When I slapped the \"bass\", it would play a \"snare\" sound combined with the bass. When I slapped the \"snare\", I would just get a wood sound.I've also seen images that most cajons come with multiple snares... this one only came with one.I'm really not sure what else to say. I wanted a Cajon to play with.but didn't want to pay 100.00 plus. This was a great option, Easy to put together with the limited tools I had on hand. And cheap enough that I wasn't worried to have \n",
      "\n",
      "\n",
      "\n",
      "#3\n",
      "Answer: minimal snare sound\n",
      "ASIN: B009VDW4OW\n",
      "Is answerable?: 1\n",
      "Context: ussionist but a terrible wood worker so my husband built this for me. He said it was super easy and did not require a lot of tools. I've stained it black and added silver glitter paint and it looks snazzy. My only complaint is that it has a minimal snare sound. If you are a real percussionist, before you build this you may want to get some snare wires if you want more of a snare sound. I knew going in this would not be easy to put together. I tried to do as much research as possible, but... if y\n",
      "\n",
      "\n",
      "\n"
     ]
    },
    {
     "name": "stderr",
     "output_type": "stream",
     "text": [
      "\n"
     ]
    }
   ],
   "source": [
    "query = \"Is a snare included?\"\n",
    "# DIY drumkit\n",
    "asin = \"B009VDW4OW\"\n",
    "number_of_answers_to_fetch = 3\n",
    "\n",
    "prediction = pipe.run(query=query, filters={\"asin\": [asin]}, top_k_retriever=10, top_k_reader=number_of_answers_to_fetch)\n",
    "print(f\"Question: {prediction['query']}\")\n",
    "print(\"\\n\")\n",
    "for i in range(number_of_answers_to_fetch):\n",
    "    print(f\"#{i+1}\")\n",
    "    print(f\"Answer: {prediction['answers'][i]['answer']}\")\n",
    "    print(f\"ASIN: {prediction['answers'][i]['meta']['asin']}\")\n",
    "    print(f\"Is answerable?: {prediction['answers'][i]['meta']['is_answerable']}\")\n",
    "    print(f\"Context: {prediction['answers'][i]['context']}\")\n",
    "    print('\\n\\n')"
   ]
  },
  {
   "cell_type": "markdown",
   "metadata": {},
   "source": [
    "## Fine-tuning"
   ]
  },
  {
   "cell_type": "markdown",
   "metadata": {},
   "source": [
    "### Converting to the true SQuAD format"
   ]
  },
  {
   "cell_type": "markdown",
   "metadata": {},
   "source": [
    "One problem with our SQuAD dataset is that it is composed of _line-separated_ JSON instead of the single JSON object that SQuAD traditionally uses. So instead of having examples like \n",
    "\n",
    "```json\n",
    "{\n",
    "    \"context\": \"blah blah\",\n",
    "    \"qas\": [\n",
    "        {\n",
    "            \"id\": 331392,\n",
    "            \"is_impossible\": false,\n",
    "            \"question\": \"blah blah?\",\n",
    "            \"answers\": [\n",
    "                {\n",
    "                    \"answer_start\": 2881,\n",
    "                    \"text\": \"blah blah\"\n",
    "                },\n",
    "                ...\n",
    "            ],\n",
    "            \"human_answers\": [\n",
    "                \"blah blah\",\n",
    "                ...\n",
    "            ]\n",
    "        }\n",
    "    ]\n",
    "}\n",
    "```\n",
    "\n",
    "what we really need is a JSON of the form\n",
    "\n",
    "```json\n",
    "{\n",
    "    \"data\": [\n",
    "        {\n",
    "            \"title\": \"Beyoncé\",\n",
    "            \"paragraphs\": [\n",
    "                {\n",
    "                    \"qas\": [\n",
    "                        {\n",
    "                            \"question\": \"When did Beyonce start becoming popular?\",\n",
    "                            \"id\": \"56be85543aeaaa14008c9063\",\n",
    "                            \"answers\": [\n",
    "                                {\n",
    "                                    \"text\": \"in the late 1990s\",\n",
    "                                    \"answer_start\": 269\n",
    "                                }\n",
    "                            ],\n",
    "                            \"is_impossible\": false\n",
    "                        }\n",
    "                        ...\n",
    "                    ],\n",
    "                    \"context\": \"Beyoncé ...\"\n",
    "                },\n",
    "                ...\n",
    "            ]\n",
    "        }\n",
    "    ]\n",
    "}\n",
    "```\n",
    "\n",
    "Let's write a function that does the conversion for us. To warm-up let's load a single example from the training set:"
   ]
  },
  {
   "cell_type": "code",
   "execution_count": null,
   "metadata": {},
   "outputs": [],
   "source": [
    "examples = []\n",
    "\n",
    "with open(data/\"train-qar_squad.jsonl\", 'r', encoding='utf-8') as f:\n",
    "    for line in f:\n",
    "        ex = json.loads(line)\n",
    "        qid = ex[\"qas\"][0][\"id\"]\n",
    "        asin = qid2asin[qid]\n",
    "        if asin == \"B0057JCYYE\" or asin == \"B00F9ECDRU\":\n",
    "            examples.append(ex)\n",
    "        if len(examples) > 4:\n",
    "            break\n",
    "examples"
   ]
  },
  {
   "cell_type": "markdown",
   "metadata": {},
   "source": [
    "We don't need the human answers, but we do need the mapping from `qid` to `asin` so that we can collect all questions together that belong to the same product."
   ]
  },
  {
   "cell_type": "code",
   "execution_count": null,
   "metadata": {},
   "outputs": [],
   "source": [
    "asin2qas = {}\n",
    "seen_asin = set()\n",
    "\n",
    "for ex in examples:\n",
    "    qid = ex[\"qas\"][0][\"id\"]\n",
    "    asin = qid2asin[qid]\n",
    "    qas = [{k:v for k,v in ex[\"qas\"][0].items() if k != \"human_answers\"}]\n",
    "    par = [{\"qas\": qas, \"context\": ex[\"context\"]}]\n",
    "\n",
    "    if asin in seen_asin:\n",
    "        asin2qas[asin].extend(par)\n",
    "    else:\n",
    "        asin2qas[asin] = par\n",
    "        seen_asin.add(asin)\n",
    "\n",
    "\n",
    "# asin2qas"
   ]
  },
  {
   "cell_type": "code",
   "execution_count": null,
   "metadata": {},
   "outputs": [],
   "source": [
    "squad_data = []\n",
    "\n",
    "for k,v in asin2qas.items():\n",
    "    squad_ex = {}\n",
    "    squad_ex[\"title\"] = k\n",
    "    squad_ex[\"paragraphs\"] = v\n",
    "    squad_data.append(squad_ex)\n",
    "    \n",
    "squad_data"
   ]
  },
  {
   "cell_type": "code",
   "execution_count": null,
   "metadata": {},
   "outputs": [],
   "source": [
    "squad_dict = {\"data\": squad_data}"
   ]
  },
  {
   "cell_type": "code",
   "execution_count": null,
   "metadata": {},
   "outputs": [],
   "source": [
    "with open(data/\"train-qar_squad.json\", 'w', encoding='utf-8') as f:\n",
    "    json.dump(squad_dict, f)"
   ]
  },
  {
   "cell_type": "code",
   "execution_count": null,
   "metadata": {},
   "outputs": [],
   "source": [
    "# pick out answer fields\n",
    "with open(data/\"val-qar_squad.jsonl\", 'r', encoding='utf-8') as f:\n",
    "    for line in f:\n",
    "        ex = json.loads(line)\n",
    "        break"
   ]
  },
  {
   "cell_type": "code",
   "execution_count": null,
   "metadata": {},
   "outputs": [
    {
     "data": {
      "text/plain": [
       "['answers_snippet_spans_bleu2',\n",
       " 'answers_snippet_spans_bleu4',\n",
       " 'answers_snippet_spans_rouge',\n",
       " 'answers_sentence_ir',\n",
       " 'answers_sentence_bleu2',\n",
       " 'answers_sentence_bleu4']"
      ]
     },
     "execution_count": null,
     "metadata": {},
     "output_type": "execute_result"
    }
   ],
   "source": [
    "[k for k in ex[\"qas\"][0].keys() if k.startswith(\"answers\")]"
   ]
  },
  {
   "cell_type": "code",
   "execution_count": null,
   "metadata": {},
   "outputs": [],
   "source": [
    "def convert_to_squad_format(input_file: Path, output_file: Path, category: str = \"Musical_Instruments\"):\n",
    "    squad_data = []\n",
    "    asin2qas = {}\n",
    "    seen_asin = set()\n",
    "    answer_fields = [k for k in ex[\"qas\"][0].keys() if k.startswith(\"answers\")]\n",
    "    \n",
    "    with open(input_file, 'r', encoding='utf-8') as f:\n",
    "        for _, line in tqdm(enumerate(f)):\n",
    "            row = json.loads(line)\n",
    "            qid = row[\"qas\"][0][\"id\"]\n",
    "            if qid2category[qid] == category:\n",
    "                asin = qid2asin[qid]\n",
    "                qas = [{\"answers\" if k in answer_fields else k:v for k,v in row[\"qas\"][0].items()}]\n",
    "                par = [{\"qas\": qas, \"context\": row[\"context\"]}]\n",
    "                \n",
    "                if asin in seen_asin:\n",
    "                    asin2qas[asin].extend(par)\n",
    "                else:\n",
    "                    asin2qas[asin] = par\n",
    "                    seen_asin.add(asin)\n",
    "                    \n",
    "    for k,v in asin2qas.items():\n",
    "        squad_ex = {}\n",
    "        squad_ex[\"title\"] = k\n",
    "        squad_ex[\"paragraphs\"] = v\n",
    "        squad_data.append(squad_ex)\n",
    "\n",
    "    squad_dict = {\"data\": squad_data}\n",
    "        \n",
    "    with open(output_file, 'w', encoding='utf-8') as f:\n",
    "        json.dump(squad_dict, f)    "
   ]
  },
  {
   "cell_type": "code",
   "execution_count": null,
   "metadata": {},
   "outputs": [
    {
     "name": "stderr",
     "output_type": "stream",
     "text": [
      "455931it [00:11, 39335.58it/s]\n"
     ]
    }
   ],
   "source": [
    "convert_to_squad_format(data/'train-qar_squad.jsonl', data/'train-qar_squad-music.json')"
   ]
  },
  {
   "cell_type": "code",
   "execution_count": null,
   "metadata": {},
   "outputs": [
    {
     "name": "stderr",
     "output_type": "stream",
     "text": [
      "58969it [00:03, 18374.60it/s]\n"
     ]
    }
   ],
   "source": [
    "convert_to_squad_format(data/'val-qar_squad.jsonl', data/'val-qar_squad-music.json')"
   ]
  },
  {
   "cell_type": "markdown",
   "metadata": {},
   "source": [
    "### Load single example"
   ]
  },
  {
   "cell_type": "code",
   "execution_count": null,
   "metadata": {},
   "outputs": [],
   "source": [
    "val_df = pd.read_json(data/'val-qar_squad-music.json')"
   ]
  },
  {
   "cell_type": "code",
   "execution_count": null,
   "metadata": {},
   "outputs": [
    {
     "data": {
      "text/html": [
       "<div>\n",
       "<style scoped>\n",
       "    .dataframe tbody tr th:only-of-type {\n",
       "        vertical-align: middle;\n",
       "    }\n",
       "\n",
       "    .dataframe tbody tr th {\n",
       "        vertical-align: top;\n",
       "    }\n",
       "\n",
       "    .dataframe thead th {\n",
       "        text-align: right;\n",
       "    }\n",
       "</style>\n",
       "<table border=\"1\" class=\"dataframe\">\n",
       "  <thead>\n",
       "    <tr style=\"text-align: right;\">\n",
       "      <th></th>\n",
       "      <th>data</th>\n",
       "    </tr>\n",
       "  </thead>\n",
       "  <tbody>\n",
       "    <tr>\n",
       "      <th>0</th>\n",
       "      <td>{'title': 'B007A98S8U', 'paragraphs': [{'qas': [{'id': 63917, 'is_impossible...</td>\n",
       "    </tr>\n",
       "    <tr>\n",
       "      <th>1</th>\n",
       "      <td>{'title': 'B00D6RMFG6', 'paragraphs': [{'qas': [{'id': 63342, 'is_impossible...</td>\n",
       "    </tr>\n",
       "    <tr>\n",
       "      <th>2</th>\n",
       "      <td>{'title': 'B007566BLE', 'paragraphs': [{'qas': [{'id': 86214, 'is_impossible...</td>\n",
       "    </tr>\n",
       "    <tr>\n",
       "      <th>3</th>\n",
       "      <td>{'title': 'B001QCXSDW', 'paragraphs': [{'qas': [{'id': 21580, 'is_impossible...</td>\n",
       "    </tr>\n",
       "    <tr>\n",
       "      <th>4</th>\n",
       "      <td>{'title': 'B006Z9D9UI', 'paragraphs': [{'qas': [{'id': 8108, 'is_impossible'...</td>\n",
       "    </tr>\n",
       "    <tr>\n",
       "      <th>...</th>\n",
       "      <td>...</td>\n",
       "    </tr>\n",
       "    <tr>\n",
       "      <th>909</th>\n",
       "      <td>{'title': 'B005M1U7GO', 'paragraphs': [{'qas': [{'id': 34674, 'is_impossible...</td>\n",
       "    </tr>\n",
       "    <tr>\n",
       "      <th>910</th>\n",
       "      <td>{'title': 'B005OEM43S', 'paragraphs': [{'qas': [{'id': 77380, 'is_impossible...</td>\n",
       "    </tr>\n",
       "    <tr>\n",
       "      <th>911</th>\n",
       "      <td>{'title': 'B00CZ6VB6Y', 'paragraphs': [{'qas': [{'id': 83011, 'is_impossible...</td>\n",
       "    </tr>\n",
       "    <tr>\n",
       "      <th>912</th>\n",
       "      <td>{'title': 'B001EC5ECW', 'paragraphs': [{'qas': [{'id': 21693, 'is_impossible...</td>\n",
       "    </tr>\n",
       "    <tr>\n",
       "      <th>913</th>\n",
       "      <td>{'title': 'B001RRJ1AK', 'paragraphs': [{'qas': [{'id': 3159, 'is_impossible'...</td>\n",
       "    </tr>\n",
       "  </tbody>\n",
       "</table>\n",
       "<p>914 rows × 1 columns</p>\n",
       "</div>"
      ],
      "text/plain": [
       "                                                                                data\n",
       "0    {'title': 'B007A98S8U', 'paragraphs': [{'qas': [{'id': 63917, 'is_impossible...\n",
       "1    {'title': 'B00D6RMFG6', 'paragraphs': [{'qas': [{'id': 63342, 'is_impossible...\n",
       "2    {'title': 'B007566BLE', 'paragraphs': [{'qas': [{'id': 86214, 'is_impossible...\n",
       "3    {'title': 'B001QCXSDW', 'paragraphs': [{'qas': [{'id': 21580, 'is_impossible...\n",
       "4    {'title': 'B006Z9D9UI', 'paragraphs': [{'qas': [{'id': 8108, 'is_impossible'...\n",
       "..                                                                               ...\n",
       "909  {'title': 'B005M1U7GO', 'paragraphs': [{'qas': [{'id': 34674, 'is_impossible...\n",
       "910  {'title': 'B005OEM43S', 'paragraphs': [{'qas': [{'id': 77380, 'is_impossible...\n",
       "911  {'title': 'B00CZ6VB6Y', 'paragraphs': [{'qas': [{'id': 83011, 'is_impossible...\n",
       "912  {'title': 'B001EC5ECW', 'paragraphs': [{'qas': [{'id': 21693, 'is_impossible...\n",
       "913  {'title': 'B001RRJ1AK', 'paragraphs': [{'qas': [{'id': 3159, 'is_impossible'...\n",
       "\n",
       "[914 rows x 1 columns]"
      ]
     },
     "execution_count": null,
     "metadata": {},
     "output_type": "execute_result"
    }
   ],
   "source": [
    "val_df"
   ]
  },
  {
   "cell_type": "markdown",
   "metadata": {},
   "source": [
    "### Fine-tune model"
   ]
  },
  {
   "cell_type": "markdown",
   "metadata": {},
   "source": [
    "Either something is wrong with my data preparation or getting the model to generalise is _hard_!"
   ]
  },
  {
   "cell_type": "code",
   "execution_count": null,
   "metadata": {},
   "outputs": [],
   "source": [
    "train_data = \"data/amazon-qa/\""
   ]
  },
  {
   "cell_type": "code",
   "execution_count": null,
   "metadata": {},
   "outputs": [
    {
     "name": "stderr",
     "output_type": "stream",
     "text": [
      "03/06/2021 11:37:42 - INFO - farm.utils -   Using device: CUDA \n",
      "03/06/2021 11:37:42 - INFO - farm.utils -   Number of GPUs: 1\n",
      "03/06/2021 11:37:42 - INFO - farm.utils -   Distributed Training: False\n",
      "03/06/2021 11:37:42 - INFO - farm.utils -   Automatic Mixed Precision: None\n",
      "Preprocessing Dataset data/amazon-qa/train-qar_squad-music.json: 100%|██████████| 8694/8694 [00:11<00:00, 742.55 Dicts/s] \n",
      "Preprocessing Dataset data/amazon-qa/val-qar_squad-music.json: 100%|██████████| 1150/1150 [00:02<00:00, 388.12 Dicts/s]\n",
      "03/06/2021 11:38:06 - WARNING - farm.modeling.prediction_head -   Some unused parameters are passed to the QuestionAnsweringHead. Might not be a problem. Params: {\"training\": false, \"num_labels\": 2, \"ph_output_type\": \"per_token_squad\", \"model_type\": \"span_classification\", \"label_tensor_name\": \"question_answering_label_ids\", \"label_list\": [\"start_token\", \"end_token\"], \"metric\": \"squad\", \"name\": \"QuestionAnsweringHead\"}\n",
      "03/06/2021 11:38:06 - INFO - farm.modeling.optimization -   Loading optimizer `TransformersAdamW`: '{'correct_bias': False, 'weight_decay': 0.01, 'lr': 1e-05}'\n",
      "03/06/2021 11:38:06 - INFO - farm.modeling.optimization -   Using scheduler 'get_linear_schedule_with_warmup'\n",
      "03/06/2021 11:38:06 - INFO - farm.modeling.optimization -   Loading schedule `get_linear_schedule_with_warmup`: '{'num_training_steps': 4210, 'num_warmup_steps': 842}'\n",
      "Train epoch 0/0 (Cur. train loss: 2.0989):   7%|▋         | 300/4210 [01:51<24:55,  2.61it/s]\n",
      "Evaluating:   0%|          | 0/665 [00:00<?, ?it/s]\u001b[A\n",
      "Evaluating:  13%|█▎        | 87/665 [00:10<01:06,  8.68it/s]\u001b[A\n",
      "Evaluating:  26%|██▋       | 175/665 [00:20<00:56,  8.69it/s]\u001b[A\n",
      "Evaluating:  40%|███▉      | 263/665 [00:30<00:46,  8.69it/s]\u001b[A\n",
      "Evaluating:  53%|█████▎    | 350/665 [00:40<00:36,  8.69it/s]\u001b[A\n",
      "Evaluating:  66%|██████▌   | 437/665 [00:50<00:26,  8.68it/s]\u001b[A\n",
      "Evaluating:  79%|███████▉  | 524/665 [01:00<00:16,  8.68it/s]\u001b[A\n",
      "Evaluating: 100%|██████████| 665/665 [01:16<00:00,  8.67it/s]\u001b[A\n",
      "03/06/2021 11:41:15 - INFO - farm.eval -   \n",
      "\n",
      "\\\\|//       \\\\|//      \\\\|//       \\\\|//     \\\\|//\n",
      "^^^^^^^^^^^^^^^^^^^^^^^^^^^^^^^^^^^^^^^^^^^^^^^^^^^^^^\n",
      "***************************************************\n",
      "***** EVALUATION | DEV SET | AFTER 300 BATCHES *****\n",
      "***************************************************\n",
      "\\\\|//       \\\\|//      \\\\|//       \\\\|//     \\\\|//\n",
      "^^^^^^^^^^^^^^^^^^^^^^^^^^^^^^^^^^^^^^^^^^^^^^^^^^^^^^\n",
      "\n",
      "03/06/2021 11:41:15 - INFO - farm.eval -   \n",
      " _________ question_answering _________\n",
      "03/06/2021 11:41:15 - INFO - farm.eval -   loss: 2.1129679013015634\n",
      "03/06/2021 11:41:15 - INFO - farm.eval -   task_name: question_answering\n",
      "03/06/2021 11:41:15 - INFO - farm.eval -   EM: 0.0\n",
      "03/06/2021 11:41:15 - INFO - farm.eval -   f1: 0.0\n",
      "03/06/2021 11:41:15 - INFO - farm.eval -   top_n_accuracy: 0.6260869565217392\n",
      "03/06/2021 11:41:15 - INFO - farm.eval -   report: \n",
      " Not Implemented\n",
      "Train epoch 0/0 (Cur. train loss: 1.3280):  14%|█▍        | 600/4210 [04:58<21:54,  2.75it/s]   \n",
      "Evaluating:   0%|          | 0/665 [00:00<?, ?it/s]\u001b[A\n",
      "Evaluating:  13%|█▎        | 85/665 [00:10<01:08,  8.45it/s]\u001b[A\n",
      "Evaluating:  26%|██▌       | 171/665 [00:20<00:58,  8.46it/s]\u001b[A\n",
      "Evaluating:  39%|███▊      | 257/665 [00:30<00:48,  8.48it/s]\u001b[A\n",
      "Evaluating:  52%|█████▏    | 343/665 [00:40<00:37,  8.48it/s]\u001b[A\n",
      "Evaluating:  64%|██████▍   | 428/665 [00:50<00:27,  8.47it/s]\u001b[A\n",
      "Evaluating:  77%|███████▋  | 513/665 [01:00<00:17,  8.46it/s]\u001b[A\n",
      "Evaluating: 100%|██████████| 665/665 [01:18<00:00,  8.47it/s]\u001b[A\n",
      "03/06/2021 11:44:23 - INFO - farm.eval -   \n",
      "\n",
      "\\\\|//       \\\\|//      \\\\|//       \\\\|//     \\\\|//\n",
      "^^^^^^^^^^^^^^^^^^^^^^^^^^^^^^^^^^^^^^^^^^^^^^^^^^^^^^\n",
      "***************************************************\n",
      "***** EVALUATION | DEV SET | AFTER 600 BATCHES *****\n",
      "***************************************************\n",
      "\\\\|//       \\\\|//      \\\\|//       \\\\|//     \\\\|//\n",
      "^^^^^^^^^^^^^^^^^^^^^^^^^^^^^^^^^^^^^^^^^^^^^^^^^^^^^^\n",
      "\n",
      "03/06/2021 11:44:23 - INFO - farm.eval -   \n",
      " _________ question_answering _________\n",
      "03/06/2021 11:44:23 - INFO - farm.eval -   loss: 1.9994186825501292\n",
      "03/06/2021 11:44:23 - INFO - farm.eval -   task_name: question_answering\n",
      "03/06/2021 11:44:23 - INFO - farm.eval -   EM: 0.0\n",
      "03/06/2021 11:44:23 - INFO - farm.eval -   f1: 0.0\n",
      "03/06/2021 11:44:23 - INFO - farm.eval -   top_n_accuracy: 0.7095652173913043\n",
      "03/06/2021 11:44:23 - INFO - farm.eval -   report: \n",
      " Not Implemented\n",
      "Train epoch 0/0 (Cur. train loss: 0.6817):  21%|██▏       | 900/4210 [08:07<22:50,  2.41it/s]   \n",
      "Evaluating:   0%|          | 0/665 [00:00<?, ?it/s]\u001b[A\n",
      "Evaluating:  13%|█▎        | 86/665 [00:10<01:07,  8.54it/s]\u001b[A\n",
      "Evaluating:  26%|██▌       | 172/665 [00:20<00:57,  8.53it/s]\u001b[A\n",
      "Evaluating:  39%|███▊      | 257/665 [00:30<00:47,  8.52it/s]\u001b[A\n",
      "Evaluating:  51%|█████▏    | 342/665 [00:40<00:37,  8.51it/s]\u001b[A\n",
      "Evaluating:  64%|██████▍   | 427/665 [00:50<00:28,  8.48it/s]\u001b[A\n",
      "Evaluating:  77%|███████▋  | 512/665 [01:00<00:18,  8.47it/s]\u001b[A\n",
      "Evaluating: 100%|██████████| 665/665 [01:18<00:00,  8.48it/s]\u001b[A\n",
      "03/06/2021 11:47:33 - INFO - farm.eval -   \n",
      "\n",
      "\\\\|//       \\\\|//      \\\\|//       \\\\|//     \\\\|//\n",
      "^^^^^^^^^^^^^^^^^^^^^^^^^^^^^^^^^^^^^^^^^^^^^^^^^^^^^^\n",
      "***************************************************\n",
      "***** EVALUATION | DEV SET | AFTER 900 BATCHES *****\n",
      "***************************************************\n",
      "\\\\|//       \\\\|//      \\\\|//       \\\\|//     \\\\|//\n",
      "^^^^^^^^^^^^^^^^^^^^^^^^^^^^^^^^^^^^^^^^^^^^^^^^^^^^^^\n",
      "\n",
      "03/06/2021 11:47:33 - INFO - farm.eval -   \n",
      " _________ question_answering _________\n",
      "03/06/2021 11:47:33 - INFO - farm.eval -   loss: 2.0153631525828426\n",
      "03/06/2021 11:47:33 - INFO - farm.eval -   task_name: question_answering\n",
      "03/06/2021 11:47:33 - INFO - farm.eval -   EM: 0.0\n",
      "03/06/2021 11:47:33 - INFO - farm.eval -   f1: 0.0\n",
      "03/06/2021 11:47:33 - INFO - farm.eval -   top_n_accuracy: 0.7626086956521739\n",
      "03/06/2021 11:47:33 - INFO - farm.eval -   report: \n",
      " Not Implemented\n",
      "Train epoch 0/0 (Cur. train loss: 0.8982):  29%|██▊       | 1200/4210 [11:17<18:23,  2.73it/s]  \n",
      "Evaluating:   0%|          | 0/665 [00:00<?, ?it/s]\u001b[A\n",
      "Evaluating:  13%|█▎        | 85/665 [00:10<01:08,  8.45it/s]\u001b[A\n",
      "Evaluating:  26%|██▌       | 170/665 [00:20<00:58,  8.45it/s]\u001b[A\n",
      "Evaluating:  38%|███▊      | 255/665 [00:30<00:48,  8.46it/s]\u001b[A\n",
      "Evaluating:  51%|█████     | 340/665 [00:40<00:38,  8.46it/s]\u001b[A\n",
      "Evaluating:  64%|██████▍   | 425/665 [00:50<00:28,  8.46it/s]\u001b[A\n",
      "Evaluating:  77%|███████▋  | 510/665 [01:00<00:18,  8.45it/s]\u001b[A\n",
      "Evaluating: 100%|██████████| 665/665 [01:18<00:00,  8.46it/s]\u001b[A\n",
      "03/06/2021 11:50:43 - INFO - farm.eval -   \n",
      "\n",
      "\\\\|//       \\\\|//      \\\\|//       \\\\|//     \\\\|//\n",
      "^^^^^^^^^^^^^^^^^^^^^^^^^^^^^^^^^^^^^^^^^^^^^^^^^^^^^^\n",
      "***************************************************\n",
      "***** EVALUATION | DEV SET | AFTER 1200 BATCHES *****\n",
      "***************************************************\n",
      "\\\\|//       \\\\|//      \\\\|//       \\\\|//     \\\\|//\n",
      "^^^^^^^^^^^^^^^^^^^^^^^^^^^^^^^^^^^^^^^^^^^^^^^^^^^^^^\n",
      "\n",
      "03/06/2021 11:50:43 - INFO - farm.eval -   \n",
      " _________ question_answering _________\n",
      "03/06/2021 11:50:43 - INFO - farm.eval -   loss: 2.020995613255895\n",
      "03/06/2021 11:50:43 - INFO - farm.eval -   task_name: question_answering\n",
      "03/06/2021 11:50:43 - INFO - farm.eval -   EM: 0.0\n",
      "03/06/2021 11:50:43 - INFO - farm.eval -   f1: 0.0\n",
      "03/06/2021 11:50:43 - INFO - farm.eval -   top_n_accuracy: 0.7460869565217392\n",
      "03/06/2021 11:50:43 - INFO - farm.eval -   report: \n",
      " Not Implemented\n",
      "Train epoch 0/0 (Cur. train loss: 0.8341):  36%|███▌      | 1500/4210 [14:27<16:26,  2.75it/s]   \n",
      "Evaluating:   0%|          | 0/665 [00:00<?, ?it/s]\u001b[A\n",
      "Evaluating:  13%|█▎        | 85/665 [00:10<01:08,  8.50it/s]\u001b[A\n",
      "Evaluating:  26%|██▌       | 170/665 [00:20<00:58,  8.49it/s]\u001b[A\n",
      "Evaluating:  38%|███▊      | 255/665 [00:30<00:48,  8.49it/s]\u001b[A\n",
      "Evaluating:  51%|█████     | 340/665 [00:40<00:38,  8.48it/s]\u001b[A\n",
      "Evaluating:  64%|██████▍   | 425/665 [00:50<00:28,  8.48it/s]\u001b[A\n",
      "Evaluating:  77%|███████▋  | 510/665 [01:00<00:18,  8.47it/s]\u001b[A\n",
      "Evaluating: 100%|██████████| 665/665 [01:18<00:00,  8.47it/s]\u001b[A\n",
      "03/06/2021 11:53:53 - INFO - farm.eval -   \n",
      "\n",
      "\\\\|//       \\\\|//      \\\\|//       \\\\|//     \\\\|//\n",
      "^^^^^^^^^^^^^^^^^^^^^^^^^^^^^^^^^^^^^^^^^^^^^^^^^^^^^^\n",
      "***************************************************\n",
      "***** EVALUATION | DEV SET | AFTER 1500 BATCHES *****\n",
      "***************************************************\n",
      "\\\\|//       \\\\|//      \\\\|//       \\\\|//     \\\\|//\n",
      "^^^^^^^^^^^^^^^^^^^^^^^^^^^^^^^^^^^^^^^^^^^^^^^^^^^^^^\n",
      "\n",
      "03/06/2021 11:53:53 - INFO - farm.eval -   \n",
      " _________ question_answering _________\n",
      "03/06/2021 11:53:53 - INFO - farm.eval -   loss: 2.031555987946073\n",
      "03/06/2021 11:53:53 - INFO - farm.eval -   task_name: question_answering\n",
      "03/06/2021 11:53:53 - INFO - farm.eval -   EM: 0.0\n",
      "03/06/2021 11:53:53 - INFO - farm.eval -   f1: 0.0\n",
      "03/06/2021 11:53:53 - INFO - farm.eval -   top_n_accuracy: 0.7547826086956522\n",
      "03/06/2021 11:53:53 - INFO - farm.eval -   report: \n",
      " Not Implemented\n",
      "Train epoch 0/0 (Cur. train loss: 2.1045):  43%|████▎     | 1800/4210 [17:37<14:47,  2.72it/s]   \n",
      "Evaluating:   0%|          | 0/665 [00:00<?, ?it/s]\u001b[A\n",
      "Evaluating:  13%|█▎        | 86/665 [00:10<01:07,  8.52it/s]\u001b[A\n",
      "Evaluating:  26%|██▌       | 172/665 [00:20<00:57,  8.50it/s]\u001b[A\n",
      "Evaluating:  39%|███▊      | 257/665 [00:30<00:48,  8.49it/s]\u001b[A\n",
      "Evaluating:  51%|█████▏    | 342/665 [00:40<00:38,  8.49it/s]\u001b[A\n",
      "Evaluating:  64%|██████▍   | 427/665 [00:50<00:28,  8.48it/s]\u001b[A\n",
      "Evaluating:  77%|███████▋  | 512/665 [01:00<00:18,  8.48it/s]\u001b[A\n",
      "Evaluating: 100%|██████████| 665/665 [01:18<00:00,  8.48it/s]\u001b[A\n",
      "03/06/2021 11:57:02 - INFO - farm.eval -   \n",
      "\n",
      "\\\\|//       \\\\|//      \\\\|//       \\\\|//     \\\\|//\n",
      "^^^^^^^^^^^^^^^^^^^^^^^^^^^^^^^^^^^^^^^^^^^^^^^^^^^^^^\n",
      "***************************************************\n",
      "***** EVALUATION | DEV SET | AFTER 1800 BATCHES *****\n",
      "***************************************************\n",
      "\\\\|//       \\\\|//      \\\\|//       \\\\|//     \\\\|//\n",
      "^^^^^^^^^^^^^^^^^^^^^^^^^^^^^^^^^^^^^^^^^^^^^^^^^^^^^^\n",
      "\n",
      "03/06/2021 11:57:02 - INFO - farm.eval -   \n",
      " _________ question_answering _________\n",
      "03/06/2021 11:57:02 - INFO - farm.eval -   loss: 2.1735448540422255\n",
      "03/06/2021 11:57:02 - INFO - farm.eval -   task_name: question_answering\n",
      "03/06/2021 11:57:02 - INFO - farm.eval -   EM: 0.0\n",
      "03/06/2021 11:57:02 - INFO - farm.eval -   f1: 0.0\n",
      "03/06/2021 11:57:02 - INFO - farm.eval -   top_n_accuracy: 0.7017391304347826\n",
      "03/06/2021 11:57:02 - INFO - farm.eval -   report: \n",
      " Not Implemented\n",
      "Train epoch 0/0 (Cur. train loss: 1.4165):  50%|████▉     | 2100/4210 [20:46<12:59,  2.71it/s]   \n",
      "Evaluating:   0%|          | 0/665 [00:00<?, ?it/s]\u001b[A\n",
      "Evaluating:  13%|█▎        | 85/665 [00:10<01:08,  8.48it/s]\u001b[A\n",
      "Evaluating:  26%|██▌       | 171/665 [00:20<00:58,  8.49it/s]\u001b[A\n",
      "Evaluating:  39%|███▊      | 257/665 [00:30<00:47,  8.50it/s]\u001b[A\n",
      "Evaluating:  52%|█████▏    | 343/665 [00:40<00:37,  8.48it/s]\u001b[A\n",
      "Evaluating:  64%|██████▍   | 428/665 [00:50<00:27,  8.49it/s]\u001b[A\n",
      "Evaluating:  77%|███████▋  | 513/665 [01:00<00:17,  8.49it/s]\u001b[A\n",
      "Evaluating: 100%|██████████| 665/665 [01:18<00:00,  8.49it/s]\u001b[A\n",
      "03/06/2021 12:00:11 - INFO - farm.eval -   \n",
      "\n",
      "\\\\|//       \\\\|//      \\\\|//       \\\\|//     \\\\|//\n",
      "^^^^^^^^^^^^^^^^^^^^^^^^^^^^^^^^^^^^^^^^^^^^^^^^^^^^^^\n",
      "***************************************************\n",
      "***** EVALUATION | DEV SET | AFTER 2100 BATCHES *****\n",
      "***************************************************\n",
      "\\\\|//       \\\\|//      \\\\|//       \\\\|//     \\\\|//\n",
      "^^^^^^^^^^^^^^^^^^^^^^^^^^^^^^^^^^^^^^^^^^^^^^^^^^^^^^\n",
      "\n",
      "03/06/2021 12:00:11 - INFO - farm.eval -   \n",
      " _________ question_answering _________\n",
      "03/06/2021 12:00:11 - INFO - farm.eval -   loss: 1.9342627471550964\n",
      "03/06/2021 12:00:11 - INFO - farm.eval -   task_name: question_answering\n",
      "03/06/2021 12:00:11 - INFO - farm.eval -   EM: 0.0008695652173913044\n",
      "03/06/2021 12:00:11 - INFO - farm.eval -   f1: 0.0028998257469505717\n",
      "03/06/2021 12:00:11 - INFO - farm.eval -   top_n_accuracy: 0.717391304347826\n",
      "03/06/2021 12:00:11 - INFO - farm.eval -   report: \n",
      " Not Implemented\n",
      "Train epoch 0/0 (Cur. train loss: 2.4795):  57%|█████▋    | 2400/4210 [23:55<11:00,  2.74it/s]   \n",
      "Evaluating:   0%|          | 0/665 [00:00<?, ?it/s]\u001b[A\n",
      "Evaluating:  13%|█▎        | 86/665 [00:10<01:08,  8.51it/s]\u001b[A\n",
      "Evaluating:  26%|██▌       | 172/665 [00:20<00:57,  8.51it/s]\u001b[A\n",
      "Evaluating:  39%|███▉      | 258/665 [00:30<00:47,  8.51it/s]\u001b[A\n",
      "Evaluating:  52%|█████▏    | 344/665 [00:40<00:37,  8.51it/s]\u001b[A\n",
      "Evaluating:  65%|██████▍   | 430/665 [00:50<00:27,  8.50it/s]\u001b[A\n",
      "Evaluating:  77%|███████▋  | 515/665 [01:00<00:17,  8.50it/s]\u001b[A\n",
      "Evaluating: 100%|██████████| 665/665 [01:18<00:00,  8.50it/s]\u001b[A\n",
      "03/06/2021 12:03:21 - INFO - farm.eval -   \n",
      "\n",
      "\\\\|//       \\\\|//      \\\\|//       \\\\|//     \\\\|//\n",
      "^^^^^^^^^^^^^^^^^^^^^^^^^^^^^^^^^^^^^^^^^^^^^^^^^^^^^^\n",
      "***************************************************\n",
      "***** EVALUATION | DEV SET | AFTER 2400 BATCHES *****\n",
      "***************************************************\n",
      "\\\\|//       \\\\|//      \\\\|//       \\\\|//     \\\\|//\n",
      "^^^^^^^^^^^^^^^^^^^^^^^^^^^^^^^^^^^^^^^^^^^^^^^^^^^^^^\n",
      "\n",
      "03/06/2021 12:03:21 - INFO - farm.eval -   \n",
      " _________ question_answering _________\n",
      "03/06/2021 12:03:21 - INFO - farm.eval -   loss: 1.9268690896930551\n",
      "03/06/2021 12:03:21 - INFO - farm.eval -   task_name: question_answering\n",
      "03/06/2021 12:03:21 - INFO - farm.eval -   EM: 0.0\n",
      "03/06/2021 12:03:21 - INFO - farm.eval -   f1: 0.0\n",
      "03/06/2021 12:03:21 - INFO - farm.eval -   top_n_accuracy: 0.7321739130434782\n",
      "03/06/2021 12:03:21 - INFO - farm.eval -   report: \n",
      " Not Implemented\n",
      "Train epoch 0/0 (Cur. train loss: 2.8425):  64%|██████▍   | 2700/4210 [27:05<09:17,  2.71it/s]   \n",
      "Evaluating:   0%|          | 0/665 [00:00<?, ?it/s]\u001b[A\n",
      "Evaluating:  13%|█▎        | 86/665 [00:10<01:07,  8.52it/s]\u001b[A\n",
      "Evaluating:  26%|██▌       | 172/665 [00:20<00:57,  8.51it/s]\u001b[A\n",
      "Evaluating:  39%|███▊      | 257/665 [00:30<00:47,  8.51it/s]\u001b[A\n",
      "Evaluating:  51%|█████▏    | 342/665 [00:40<00:38,  8.50it/s]\u001b[A\n",
      "Evaluating:  64%|██████▍   | 427/665 [00:50<00:28,  8.50it/s]\u001b[A\n",
      "Evaluating:  77%|███████▋  | 512/665 [01:00<00:18,  8.50it/s]\u001b[A\n",
      "Evaluating: 100%|██████████| 665/665 [01:18<00:00,  8.49it/s]\u001b[A\n",
      "03/06/2021 12:06:30 - INFO - farm.eval -   \n",
      "\n",
      "\\\\|//       \\\\|//      \\\\|//       \\\\|//     \\\\|//\n",
      "^^^^^^^^^^^^^^^^^^^^^^^^^^^^^^^^^^^^^^^^^^^^^^^^^^^^^^\n",
      "***************************************************\n",
      "***** EVALUATION | DEV SET | AFTER 2700 BATCHES *****\n",
      "***************************************************\n",
      "\\\\|//       \\\\|//      \\\\|//       \\\\|//     \\\\|//\n",
      "^^^^^^^^^^^^^^^^^^^^^^^^^^^^^^^^^^^^^^^^^^^^^^^^^^^^^^\n",
      "\n",
      "03/06/2021 12:06:30 - INFO - farm.eval -   \n",
      " _________ question_answering _________\n",
      "03/06/2021 12:06:30 - INFO - farm.eval -   loss: 2.0286378235834883\n",
      "03/06/2021 12:06:30 - INFO - farm.eval -   task_name: question_answering\n",
      "03/06/2021 12:06:30 - INFO - farm.eval -   EM: 0.0\n",
      "03/06/2021 12:06:30 - INFO - farm.eval -   f1: 0.0\n",
      "03/06/2021 12:06:30 - INFO - farm.eval -   top_n_accuracy: 0.7521739130434782\n",
      "03/06/2021 12:06:30 - INFO - farm.eval -   report: \n",
      " Not Implemented\n",
      "Train epoch 0/0 (Cur. train loss: 1.9983):  71%|███████▏  | 3000/4210 [30:14<07:26,  2.71it/s]   \n",
      "Evaluating:   0%|          | 0/665 [00:00<?, ?it/s]\u001b[A\n",
      "Evaluating:  13%|█▎        | 85/665 [00:10<01:08,  8.47it/s]\u001b[A\n",
      "Evaluating:  26%|██▌       | 170/665 [00:20<00:58,  8.47it/s]\u001b[A\n",
      "Evaluating:  38%|███▊      | 256/665 [00:30<00:48,  8.48it/s]\u001b[A\n",
      "Evaluating:  51%|█████▏    | 342/665 [00:40<00:38,  8.49it/s]\u001b[A\n",
      "Evaluating:  64%|██████▍   | 428/665 [00:50<00:27,  8.50it/s]\u001b[A\n",
      "Evaluating:  77%|███████▋  | 514/665 [01:00<00:17,  8.51it/s]\u001b[A\n",
      "Evaluating: 100%|██████████| 665/665 [01:18<00:00,  8.50it/s]\u001b[A\n",
      "03/06/2021 12:09:40 - INFO - farm.eval -   \n",
      "\n",
      "\\\\|//       \\\\|//      \\\\|//       \\\\|//     \\\\|//\n",
      "^^^^^^^^^^^^^^^^^^^^^^^^^^^^^^^^^^^^^^^^^^^^^^^^^^^^^^\n",
      "***************************************************\n",
      "***** EVALUATION | DEV SET | AFTER 3000 BATCHES *****\n",
      "***************************************************\n",
      "\\\\|//       \\\\|//      \\\\|//       \\\\|//     \\\\|//\n",
      "^^^^^^^^^^^^^^^^^^^^^^^^^^^^^^^^^^^^^^^^^^^^^^^^^^^^^^\n",
      "\n",
      "03/06/2021 12:09:40 - INFO - farm.eval -   \n",
      " _________ question_answering _________\n",
      "03/06/2021 12:09:40 - INFO - farm.eval -   loss: 1.9508853748328703\n",
      "03/06/2021 12:09:40 - INFO - farm.eval -   task_name: question_answering\n",
      "03/06/2021 12:09:40 - INFO - farm.eval -   EM: 0.0\n",
      "03/06/2021 12:09:40 - INFO - farm.eval -   f1: 0.0\n",
      "03/06/2021 12:09:40 - INFO - farm.eval -   top_n_accuracy: 0.7617391304347826\n",
      "03/06/2021 12:09:40 - INFO - farm.eval -   report: \n",
      " Not Implemented\n",
      "Train epoch 0/0 (Cur. train loss: 0.7240):  78%|███████▊  | 3300/4210 [33:23<05:32,  2.74it/s]  \n",
      "Evaluating:   0%|          | 0/665 [00:00<?, ?it/s]\u001b[A\n",
      "Evaluating:  13%|█▎        | 86/665 [00:10<01:08,  8.51it/s]\u001b[A\n",
      "Evaluating:  26%|██▌       | 172/665 [00:20<00:57,  8.51it/s]\u001b[A\n",
      "Evaluating:  39%|███▉      | 258/665 [00:30<00:47,  8.51it/s]\u001b[A\n",
      "Evaluating:  52%|█████▏    | 344/665 [00:40<00:37,  8.51it/s]\u001b[A\n",
      "Evaluating:  65%|██████▍   | 430/665 [00:50<00:27,  8.51it/s]\u001b[A\n",
      "Evaluating:  78%|███████▊  | 516/665 [01:00<00:17,  8.46it/s]\u001b[A\n",
      "Evaluating: 100%|██████████| 665/665 [01:18<00:00,  8.49it/s]\u001b[A\n",
      "03/06/2021 12:12:49 - INFO - farm.eval -   \n",
      "\n",
      "\\\\|//       \\\\|//      \\\\|//       \\\\|//     \\\\|//\n",
      "^^^^^^^^^^^^^^^^^^^^^^^^^^^^^^^^^^^^^^^^^^^^^^^^^^^^^^\n",
      "***************************************************\n",
      "***** EVALUATION | DEV SET | AFTER 3300 BATCHES *****\n",
      "***************************************************\n",
      "\\\\|//       \\\\|//      \\\\|//       \\\\|//     \\\\|//\n",
      "^^^^^^^^^^^^^^^^^^^^^^^^^^^^^^^^^^^^^^^^^^^^^^^^^^^^^^\n",
      "\n",
      "03/06/2021 12:12:49 - INFO - farm.eval -   \n",
      " _________ question_answering _________\n",
      "03/06/2021 12:12:49 - INFO - farm.eval -   loss: 1.9411595656280232\n",
      "03/06/2021 12:12:49 - INFO - farm.eval -   task_name: question_answering\n",
      "03/06/2021 12:12:49 - INFO - farm.eval -   EM: 0.0\n",
      "03/06/2021 12:12:49 - INFO - farm.eval -   f1: 0.0\n",
      "03/06/2021 12:12:49 - INFO - farm.eval -   top_n_accuracy: 0.7478260869565218\n",
      "03/06/2021 12:12:49 - INFO - farm.eval -   report: \n",
      " Not Implemented\n",
      "Train epoch 0/0 (Cur. train loss: 2.5088):  86%|████████▌ | 3600/4210 [36:32<03:43,  2.73it/s]  \n",
      "Evaluating:   0%|          | 0/665 [00:00<?, ?it/s]\u001b[A\n",
      "Evaluating:  13%|█▎        | 85/665 [00:10<01:08,  8.49it/s]\u001b[A\n",
      "Evaluating:  26%|██▌       | 171/665 [00:20<00:58,  8.50it/s]\u001b[A\n",
      "Evaluating:  39%|███▊      | 257/665 [00:30<00:47,  8.51it/s]\u001b[A\n",
      "Evaluating:  52%|█████▏    | 343/665 [00:40<00:37,  8.51it/s]\u001b[A\n",
      "Evaluating:  65%|██████▍   | 429/665 [00:50<00:27,  8.51it/s]\u001b[A\n",
      "Evaluating:  77%|███████▋  | 515/665 [01:00<00:17,  8.51it/s]\u001b[A\n",
      "Evaluating: 100%|██████████| 665/665 [01:18<00:00,  8.51it/s]\u001b[A\n",
      "03/06/2021 12:15:58 - INFO - farm.eval -   \n",
      "\n",
      "\\\\|//       \\\\|//      \\\\|//       \\\\|//     \\\\|//\n",
      "^^^^^^^^^^^^^^^^^^^^^^^^^^^^^^^^^^^^^^^^^^^^^^^^^^^^^^\n",
      "***************************************************\n",
      "***** EVALUATION | DEV SET | AFTER 3600 BATCHES *****\n",
      "***************************************************\n",
      "\\\\|//       \\\\|//      \\\\|//       \\\\|//     \\\\|//\n",
      "^^^^^^^^^^^^^^^^^^^^^^^^^^^^^^^^^^^^^^^^^^^^^^^^^^^^^^\n",
      "\n",
      "03/06/2021 12:15:58 - INFO - farm.eval -   \n",
      " _________ question_answering _________\n",
      "03/06/2021 12:15:58 - INFO - farm.eval -   loss: 2.015251635124809\n",
      "03/06/2021 12:15:58 - INFO - farm.eval -   task_name: question_answering\n",
      "03/06/2021 12:15:58 - INFO - farm.eval -   EM: 0.0\n",
      "03/06/2021 12:15:58 - INFO - farm.eval -   f1: 0.0\n",
      "03/06/2021 12:15:58 - INFO - farm.eval -   top_n_accuracy: 0.7486956521739131\n",
      "03/06/2021 12:15:58 - INFO - farm.eval -   report: \n",
      " Not Implemented\n",
      "Train epoch 0/0 (Cur. train loss: 2.0609):  93%|█████████▎| 3900/4210 [39:42<01:53,  2.74it/s]  \n",
      "Evaluating:   0%|          | 0/665 [00:00<?, ?it/s]\u001b[A\n",
      "Evaluating:  13%|█▎        | 86/665 [00:10<01:07,  8.57it/s]\u001b[A\n",
      "Evaluating:  26%|██▌       | 172/665 [00:20<00:57,  8.51it/s]\u001b[A\n",
      "Evaluating:  39%|███▊      | 257/665 [00:30<00:47,  8.50it/s]\u001b[A\n",
      "Evaluating:  52%|█████▏    | 343/665 [00:40<00:37,  8.51it/s]\u001b[A\n",
      "Evaluating:  65%|██████▍   | 429/665 [00:50<00:27,  8.51it/s]\u001b[A\n",
      "Evaluating:  77%|███████▋  | 514/665 [01:00<00:17,  8.50it/s]\u001b[A\n",
      "Evaluating: 100%|██████████| 665/665 [01:18<00:00,  8.50it/s]\u001b[A\n",
      "03/06/2021 12:19:07 - INFO - farm.eval -   \n",
      "\n",
      "\\\\|//       \\\\|//      \\\\|//       \\\\|//     \\\\|//\n",
      "^^^^^^^^^^^^^^^^^^^^^^^^^^^^^^^^^^^^^^^^^^^^^^^^^^^^^^\n",
      "***************************************************\n",
      "***** EVALUATION | DEV SET | AFTER 3900 BATCHES *****\n",
      "***************************************************\n",
      "\\\\|//       \\\\|//      \\\\|//       \\\\|//     \\\\|//\n",
      "^^^^^^^^^^^^^^^^^^^^^^^^^^^^^^^^^^^^^^^^^^^^^^^^^^^^^^\n",
      "\n",
      "03/06/2021 12:19:07 - INFO - farm.eval -   \n",
      " _________ question_answering _________\n",
      "03/06/2021 12:19:07 - INFO - farm.eval -   loss: 1.9984988468033926\n",
      "03/06/2021 12:19:07 - INFO - farm.eval -   task_name: question_answering\n",
      "03/06/2021 12:19:07 - INFO - farm.eval -   EM: 0.0\n",
      "03/06/2021 12:19:07 - INFO - farm.eval -   f1: 0.0\n",
      "03/06/2021 12:19:07 - INFO - farm.eval -   top_n_accuracy: 0.7365217391304347\n",
      "03/06/2021 12:19:07 - INFO - farm.eval -   report: \n",
      " Not Implemented\n",
      "Train epoch 0/0 (Cur. train loss: 2.3273): 100%|█████████▉| 4200/4210 [42:51<00:03,  2.72it/s]  \n",
      "Evaluating:   0%|          | 0/665 [00:00<?, ?it/s]\u001b[A\n",
      "Evaluating:  13%|█▎        | 86/665 [00:10<01:08,  8.51it/s]\u001b[A\n",
      "Evaluating:  26%|██▌       | 172/665 [00:20<00:57,  8.50it/s]\u001b[A\n",
      "Evaluating:  39%|███▊      | 257/665 [00:30<00:47,  8.50it/s]\u001b[A\n",
      "Evaluating:  51%|█████▏    | 342/665 [00:40<00:38,  8.50it/s]\u001b[A\n",
      "Evaluating:  64%|██████▍   | 427/665 [00:50<00:28,  8.50it/s]\u001b[A\n",
      "Evaluating:  77%|███████▋  | 512/665 [01:00<00:18,  8.50it/s]\u001b[A\n",
      "Evaluating: 100%|██████████| 665/665 [01:18<00:00,  8.50it/s]\u001b[A\n",
      "03/06/2021 12:22:17 - INFO - farm.eval -   \n",
      "\n",
      "\\\\|//       \\\\|//      \\\\|//       \\\\|//     \\\\|//\n",
      "^^^^^^^^^^^^^^^^^^^^^^^^^^^^^^^^^^^^^^^^^^^^^^^^^^^^^^\n",
      "***************************************************\n",
      "***** EVALUATION | DEV SET | AFTER 4200 BATCHES *****\n",
      "***************************************************\n",
      "\\\\|//       \\\\|//      \\\\|//       \\\\|//     \\\\|//\n",
      "^^^^^^^^^^^^^^^^^^^^^^^^^^^^^^^^^^^^^^^^^^^^^^^^^^^^^^\n",
      "\n",
      "03/06/2021 12:22:17 - INFO - farm.eval -   \n",
      " _________ question_answering _________\n",
      "03/06/2021 12:22:17 - INFO - farm.eval -   loss: 1.971747899234743\n",
      "03/06/2021 12:22:17 - INFO - farm.eval -   task_name: question_answering\n",
      "03/06/2021 12:22:17 - INFO - farm.eval -   EM: 0.0\n",
      "03/06/2021 12:22:17 - INFO - farm.eval -   f1: 0.0\n",
      "03/06/2021 12:22:17 - INFO - farm.eval -   top_n_accuracy: 0.7417391304347826\n",
      "03/06/2021 12:22:17 - INFO - farm.eval -   report: \n",
      " Not Implemented\n",
      "Train epoch 0/0 (Cur. train loss: 2.3452): 100%|██████████| 4210/4210 [44:13<00:00,  1.59it/s]\n",
      "03/06/2021 12:22:20 - INFO - haystack.reader.farm -   Saving reader model to models/haystack\n"
     ]
    }
   ],
   "source": [
    "reader.train(data_dir=train_data, \n",
    "             train_filename=\"train-qar_squad-music.json\", \n",
    "             dev_filename=\"val-qar_squad-music.json\", \n",
    "             use_gpu=True, n_epochs=1, save_dir=\"models/haystack\")"
   ]
  },
  {
   "cell_type": "code",
   "execution_count": null,
   "metadata": {},
   "outputs": [
    {
     "name": "stderr",
     "output_type": "stream",
     "text": [
      "03/06/2021 12:40:51 - INFO - farm.utils -   Using device: CUDA \n",
      "03/06/2021 12:40:51 - INFO - farm.utils -   Number of GPUs: 1\n",
      "03/06/2021 12:40:51 - INFO - farm.utils -   Distributed Training: False\n",
      "03/06/2021 12:40:51 - INFO - farm.utils -   Automatic Mixed Precision: None\n",
      "03/06/2021 12:40:54 - WARNING - farm.modeling.prediction_head -   Some unused parameters are passed to the QuestionAnsweringHead. Might not be a problem. Params: {\"training\": false, \"num_labels\": 2, \"ph_output_type\": \"per_token_squad\", \"model_type\": \"span_classification\", \"label_tensor_name\": \"question_answering_label_ids\", \"label_list\": [\"start_token\", \"end_token\"], \"metric\": \"squad\", \"name\": \"QuestionAnsweringHead\"}\n",
      "03/06/2021 12:40:54 - WARNING - farm.utils -   ML Logging is turned off. No parameters, metrics or artifacts will be logged to MLFlow.\n",
      "03/06/2021 12:40:54 - INFO - farm.utils -   Using device: CUDA \n",
      "03/06/2021 12:40:54 - INFO - farm.utils -   Number of GPUs: 1\n",
      "03/06/2021 12:40:54 - INFO - farm.utils -   Distributed Training: False\n",
      "03/06/2021 12:40:54 - INFO - farm.utils -   Automatic Mixed Precision: None\n",
      "03/06/2021 12:40:55 - INFO - farm.infer -   Got ya 7 parallel workers to do inference ...\n",
      "03/06/2021 12:40:55 - INFO - farm.infer -    0    0    0    0    0    0    0 \n",
      "03/06/2021 12:40:55 - INFO - farm.infer -   /w\\  /w\\  /w\\  /w\\  /w\\  /w\\  /w\\\n",
      "03/06/2021 12:40:55 - INFO - farm.infer -   /'\\  / \\  /'\\  /'\\  / \\  / \\  /'\\\n",
      "03/06/2021 12:40:55 - INFO - farm.infer -               \n"
     ]
    }
   ],
   "source": [
    "new_reader = FARMReader(model_name_or_path=\"models/haystack\")"
   ]
  },
  {
   "cell_type": "code",
   "execution_count": null,
   "metadata": {},
   "outputs": [
    {
     "name": "stderr",
     "output_type": "stream",
     "text": [
      "Preprocessing Dataset data/amazon-qa/val-qar_squad-music.json: 100%|██████████| 1150/1150 [00:02<00:00, 390.39 Dicts/s]\n",
      "Evaluating: 100%|██████████| 133/133 [01:17<00:00,  1.71it/s]\n"
     ]
    }
   ],
   "source": [
    "# eval\n",
    "reader_eval_results = new_reader.eval_on_file(\"data/amazon-qa\", \"val-qar_squad-music.json\", device='cuda')"
   ]
  },
  {
   "cell_type": "code",
   "execution_count": null,
   "metadata": {},
   "outputs": [
    {
     "name": "stdout",
     "output_type": "stream",
     "text": [
      "Reader Top-N-Accuracy: 0.7417391304347826\n",
      "Reader Exact Match: 0.0\n",
      "Reader F1-Score: 0.0\n"
     ]
    }
   ],
   "source": [
    "print(\"Reader Top-N-Accuracy:\", reader_eval_results[\"top_n_accuracy\"])\n",
    "## Reader Exact Match is the proportion of questions where the predicted answer is exactly the same as the correct answer\n",
    "print(\"Reader Exact Match:\", reader_eval_results[\"EM\"])\n",
    "## Reader F1-Score is the average overlap between the predicted answers and the correct answers\n",
    "print(\"Reader F1-Score:\", reader_eval_results[\"f1\"])"
   ]
  },
  {
   "cell_type": "code",
   "execution_count": null,
   "metadata": {},
   "outputs": [],
   "source": [
    "pipe = ExtractiveQAPipeline(new_reader, retriever)"
   ]
  },
  {
   "cell_type": "code",
   "execution_count": null,
   "metadata": {},
   "outputs": [
    {
     "name": "stderr",
     "output_type": "stream",
     "text": [
      "03/05/2021 18:21:35 - WARNING - elasticsearch -   POST http://localhost:9200/document/_search [status:N/A request:0.002s]\n",
      "Traceback (most recent call last):\n",
      "  File \"/root/miniconda3/envs/transformerlab/lib/python3.8/site-packages/urllib3/connection.py\", line 156, in _new_conn\n",
      "    conn = connection.create_connection(\n",
      "  File \"/root/miniconda3/envs/transformerlab/lib/python3.8/site-packages/urllib3/util/connection.py\", line 84, in create_connection\n",
      "    raise err\n",
      "  File \"/root/miniconda3/envs/transformerlab/lib/python3.8/site-packages/urllib3/util/connection.py\", line 74, in create_connection\n",
      "    sock.connect(sa)\n",
      "ConnectionRefusedError: [Errno 111] Connection refused\n",
      "\n",
      "During handling of the above exception, another exception occurred:\n",
      "\n",
      "Traceback (most recent call last):\n",
      "  File \"/root/miniconda3/envs/transformerlab/lib/python3.8/site-packages/elasticsearch/connection/http_urllib3.py\", line 245, in perform_request\n",
      "    response = self.pool.urlopen(\n",
      "  File \"/root/miniconda3/envs/transformerlab/lib/python3.8/site-packages/urllib3/connectionpool.py\", line 719, in urlopen\n",
      "    retries = retries.increment(\n",
      "  File \"/root/miniconda3/envs/transformerlab/lib/python3.8/site-packages/urllib3/util/retry.py\", line 376, in increment\n",
      "    raise six.reraise(type(error), error, _stacktrace)\n",
      "  File \"/root/miniconda3/envs/transformerlab/lib/python3.8/site-packages/urllib3/packages/six.py\", line 735, in reraise\n",
      "    raise value\n",
      "  File \"/root/miniconda3/envs/transformerlab/lib/python3.8/site-packages/urllib3/connectionpool.py\", line 665, in urlopen\n",
      "    httplib_response = self._make_request(\n",
      "  File \"/root/miniconda3/envs/transformerlab/lib/python3.8/site-packages/urllib3/connectionpool.py\", line 387, in _make_request\n",
      "    conn.request(method, url, **httplib_request_kw)\n",
      "  File \"/root/miniconda3/envs/transformerlab/lib/python3.8/http/client.py\", line 1255, in request\n",
      "    self._send_request(method, url, body, headers, encode_chunked)\n",
      "  File \"/root/miniconda3/envs/transformerlab/lib/python3.8/http/client.py\", line 1301, in _send_request\n",
      "    self.endheaders(body, encode_chunked=encode_chunked)\n",
      "  File \"/root/miniconda3/envs/transformerlab/lib/python3.8/http/client.py\", line 1250, in endheaders\n",
      "    self._send_output(message_body, encode_chunked=encode_chunked)\n",
      "  File \"/root/miniconda3/envs/transformerlab/lib/python3.8/http/client.py\", line 1010, in _send_output\n",
      "    self.send(msg)\n",
      "  File \"/root/miniconda3/envs/transformerlab/lib/python3.8/http/client.py\", line 950, in send\n",
      "    self.connect()\n",
      "  File \"/root/miniconda3/envs/transformerlab/lib/python3.8/site-packages/urllib3/connection.py\", line 184, in connect\n",
      "    conn = self._new_conn()\n",
      "  File \"/root/miniconda3/envs/transformerlab/lib/python3.8/site-packages/urllib3/connection.py\", line 168, in _new_conn\n",
      "    raise NewConnectionError(\n",
      "urllib3.exceptions.NewConnectionError: <urllib3.connection.HTTPConnection object at 0x7ff914bc2580>: Failed to establish a new connection: [Errno 111] Connection refused\n",
      "03/05/2021 18:21:35 - WARNING - elasticsearch -   POST http://localhost:9200/document/_search [status:N/A request:0.001s]\n",
      "Traceback (most recent call last):\n",
      "  File \"/root/miniconda3/envs/transformerlab/lib/python3.8/site-packages/urllib3/connection.py\", line 156, in _new_conn\n",
      "    conn = connection.create_connection(\n",
      "  File \"/root/miniconda3/envs/transformerlab/lib/python3.8/site-packages/urllib3/util/connection.py\", line 84, in create_connection\n",
      "    raise err\n",
      "  File \"/root/miniconda3/envs/transformerlab/lib/python3.8/site-packages/urllib3/util/connection.py\", line 74, in create_connection\n",
      "    sock.connect(sa)\n",
      "ConnectionRefusedError: [Errno 111] Connection refused\n",
      "\n",
      "During handling of the above exception, another exception occurred:\n",
      "\n",
      "Traceback (most recent call last):\n",
      "  File \"/root/miniconda3/envs/transformerlab/lib/python3.8/site-packages/elasticsearch/connection/http_urllib3.py\", line 245, in perform_request\n",
      "    response = self.pool.urlopen(\n",
      "  File \"/root/miniconda3/envs/transformerlab/lib/python3.8/site-packages/urllib3/connectionpool.py\", line 719, in urlopen\n",
      "    retries = retries.increment(\n",
      "  File \"/root/miniconda3/envs/transformerlab/lib/python3.8/site-packages/urllib3/util/retry.py\", line 376, in increment\n",
      "    raise six.reraise(type(error), error, _stacktrace)\n",
      "  File \"/root/miniconda3/envs/transformerlab/lib/python3.8/site-packages/urllib3/packages/six.py\", line 735, in reraise\n",
      "    raise value\n",
      "  File \"/root/miniconda3/envs/transformerlab/lib/python3.8/site-packages/urllib3/connectionpool.py\", line 665, in urlopen\n",
      "    httplib_response = self._make_request(\n",
      "  File \"/root/miniconda3/envs/transformerlab/lib/python3.8/site-packages/urllib3/connectionpool.py\", line 387, in _make_request\n",
      "    conn.request(method, url, **httplib_request_kw)\n",
      "  File \"/root/miniconda3/envs/transformerlab/lib/python3.8/http/client.py\", line 1255, in request\n",
      "    self._send_request(method, url, body, headers, encode_chunked)\n",
      "  File \"/root/miniconda3/envs/transformerlab/lib/python3.8/http/client.py\", line 1301, in _send_request\n",
      "    self.endheaders(body, encode_chunked=encode_chunked)\n",
      "  File \"/root/miniconda3/envs/transformerlab/lib/python3.8/http/client.py\", line 1250, in endheaders\n",
      "    self._send_output(message_body, encode_chunked=encode_chunked)\n",
      "  File \"/root/miniconda3/envs/transformerlab/lib/python3.8/http/client.py\", line 1010, in _send_output\n",
      "    self.send(msg)\n",
      "  File \"/root/miniconda3/envs/transformerlab/lib/python3.8/http/client.py\", line 950, in send\n",
      "    self.connect()\n",
      "  File \"/root/miniconda3/envs/transformerlab/lib/python3.8/site-packages/urllib3/connection.py\", line 184, in connect\n",
      "    conn = self._new_conn()\n",
      "  File \"/root/miniconda3/envs/transformerlab/lib/python3.8/site-packages/urllib3/connection.py\", line 168, in _new_conn\n",
      "    raise NewConnectionError(\n",
      "urllib3.exceptions.NewConnectionError: <urllib3.connection.HTTPConnection object at 0x7ff914bc2400>: Failed to establish a new connection: [Errno 111] Connection refused\n",
      "03/05/2021 18:21:35 - WARNING - elasticsearch -   POST http://localhost:9200/document/_search [status:N/A request:0.001s]\n",
      "Traceback (most recent call last):\n",
      "  File \"/root/miniconda3/envs/transformerlab/lib/python3.8/site-packages/urllib3/connection.py\", line 156, in _new_conn\n",
      "    conn = connection.create_connection(\n",
      "  File \"/root/miniconda3/envs/transformerlab/lib/python3.8/site-packages/urllib3/util/connection.py\", line 84, in create_connection\n",
      "    raise err\n",
      "  File \"/root/miniconda3/envs/transformerlab/lib/python3.8/site-packages/urllib3/util/connection.py\", line 74, in create_connection\n",
      "    sock.connect(sa)\n",
      "ConnectionRefusedError: [Errno 111] Connection refused\n",
      "\n",
      "During handling of the above exception, another exception occurred:\n",
      "\n",
      "Traceback (most recent call last):\n",
      "  File \"/root/miniconda3/envs/transformerlab/lib/python3.8/site-packages/elasticsearch/connection/http_urllib3.py\", line 245, in perform_request\n",
      "    response = self.pool.urlopen(\n",
      "  File \"/root/miniconda3/envs/transformerlab/lib/python3.8/site-packages/urllib3/connectionpool.py\", line 719, in urlopen\n",
      "    retries = retries.increment(\n",
      "  File \"/root/miniconda3/envs/transformerlab/lib/python3.8/site-packages/urllib3/util/retry.py\", line 376, in increment\n",
      "    raise six.reraise(type(error), error, _stacktrace)\n",
      "  File \"/root/miniconda3/envs/transformerlab/lib/python3.8/site-packages/urllib3/packages/six.py\", line 735, in reraise\n",
      "    raise value\n",
      "  File \"/root/miniconda3/envs/transformerlab/lib/python3.8/site-packages/urllib3/connectionpool.py\", line 665, in urlopen\n",
      "    httplib_response = self._make_request(\n",
      "  File \"/root/miniconda3/envs/transformerlab/lib/python3.8/site-packages/urllib3/connectionpool.py\", line 387, in _make_request\n",
      "    conn.request(method, url, **httplib_request_kw)\n",
      "  File \"/root/miniconda3/envs/transformerlab/lib/python3.8/http/client.py\", line 1255, in request\n",
      "    self._send_request(method, url, body, headers, encode_chunked)\n",
      "  File \"/root/miniconda3/envs/transformerlab/lib/python3.8/http/client.py\", line 1301, in _send_request\n",
      "    self.endheaders(body, encode_chunked=encode_chunked)\n",
      "  File \"/root/miniconda3/envs/transformerlab/lib/python3.8/http/client.py\", line 1250, in endheaders\n",
      "    self._send_output(message_body, encode_chunked=encode_chunked)\n",
      "  File \"/root/miniconda3/envs/transformerlab/lib/python3.8/http/client.py\", line 1010, in _send_output\n",
      "    self.send(msg)\n",
      "  File \"/root/miniconda3/envs/transformerlab/lib/python3.8/http/client.py\", line 950, in send\n",
      "    self.connect()\n",
      "  File \"/root/miniconda3/envs/transformerlab/lib/python3.8/site-packages/urllib3/connection.py\", line 184, in connect\n",
      "    conn = self._new_conn()\n",
      "  File \"/root/miniconda3/envs/transformerlab/lib/python3.8/site-packages/urllib3/connection.py\", line 168, in _new_conn\n",
      "    raise NewConnectionError(\n",
      "urllib3.exceptions.NewConnectionError: <urllib3.connection.HTTPConnection object at 0x7ff914bc2a60>: Failed to establish a new connection: [Errno 111] Connection refused\n",
      "03/05/2021 18:21:35 - WARNING - elasticsearch -   POST http://localhost:9200/document/_search [status:N/A request:0.001s]\n",
      "Traceback (most recent call last):\n",
      "  File \"/root/miniconda3/envs/transformerlab/lib/python3.8/site-packages/urllib3/connection.py\", line 156, in _new_conn\n",
      "    conn = connection.create_connection(\n",
      "  File \"/root/miniconda3/envs/transformerlab/lib/python3.8/site-packages/urllib3/util/connection.py\", line 84, in create_connection\n",
      "    raise err\n",
      "  File \"/root/miniconda3/envs/transformerlab/lib/python3.8/site-packages/urllib3/util/connection.py\", line 74, in create_connection\n",
      "    sock.connect(sa)\n",
      "ConnectionRefusedError: [Errno 111] Connection refused\n",
      "\n",
      "During handling of the above exception, another exception occurred:\n",
      "\n",
      "Traceback (most recent call last):\n",
      "  File \"/root/miniconda3/envs/transformerlab/lib/python3.8/site-packages/elasticsearch/connection/http_urllib3.py\", line 245, in perform_request\n",
      "    response = self.pool.urlopen(\n",
      "  File \"/root/miniconda3/envs/transformerlab/lib/python3.8/site-packages/urllib3/connectionpool.py\", line 719, in urlopen\n",
      "    retries = retries.increment(\n",
      "  File \"/root/miniconda3/envs/transformerlab/lib/python3.8/site-packages/urllib3/util/retry.py\", line 376, in increment\n",
      "    raise six.reraise(type(error), error, _stacktrace)\n",
      "  File \"/root/miniconda3/envs/transformerlab/lib/python3.8/site-packages/urllib3/packages/six.py\", line 735, in reraise\n",
      "    raise value\n",
      "  File \"/root/miniconda3/envs/transformerlab/lib/python3.8/site-packages/urllib3/connectionpool.py\", line 665, in urlopen\n",
      "    httplib_response = self._make_request(\n",
      "  File \"/root/miniconda3/envs/transformerlab/lib/python3.8/site-packages/urllib3/connectionpool.py\", line 387, in _make_request\n",
      "    conn.request(method, url, **httplib_request_kw)\n",
      "  File \"/root/miniconda3/envs/transformerlab/lib/python3.8/http/client.py\", line 1255, in request\n",
      "    self._send_request(method, url, body, headers, encode_chunked)\n",
      "  File \"/root/miniconda3/envs/transformerlab/lib/python3.8/http/client.py\", line 1301, in _send_request\n",
      "    self.endheaders(body, encode_chunked=encode_chunked)\n",
      "  File \"/root/miniconda3/envs/transformerlab/lib/python3.8/http/client.py\", line 1250, in endheaders\n",
      "    self._send_output(message_body, encode_chunked=encode_chunked)\n",
      "  File \"/root/miniconda3/envs/transformerlab/lib/python3.8/http/client.py\", line 1010, in _send_output\n",
      "    self.send(msg)\n",
      "  File \"/root/miniconda3/envs/transformerlab/lib/python3.8/http/client.py\", line 950, in send\n",
      "    self.connect()\n",
      "  File \"/root/miniconda3/envs/transformerlab/lib/python3.8/site-packages/urllib3/connection.py\", line 184, in connect\n",
      "    conn = self._new_conn()\n",
      "  File \"/root/miniconda3/envs/transformerlab/lib/python3.8/site-packages/urllib3/connection.py\", line 168, in _new_conn\n",
      "    raise NewConnectionError(\n",
      "urllib3.exceptions.NewConnectionError: <urllib3.connection.HTTPConnection object at 0x7ff914bc2d00>: Failed to establish a new connection: [Errno 111] Connection refused\n"
     ]
    },
    {
     "ename": "ConnectionError",
     "evalue": "ConnectionError(<urllib3.connection.HTTPConnection object at 0x7ff914bc2d00>: Failed to establish a new connection: [Errno 111] Connection refused) caused by: NewConnectionError(<urllib3.connection.HTTPConnection object at 0x7ff914bc2d00>: Failed to establish a new connection: [Errno 111] Connection refused)",
     "output_type": "error",
     "traceback": [
      "\u001b[0;31m---------------------------------------------------------------------------\u001b[0m",
      "\u001b[0;31mConnectionRefusedError\u001b[0m                    Traceback (most recent call last)",
      "\u001b[0;32m~/miniconda3/envs/transformerlab/lib/python3.8/site-packages/urllib3/connection.py\u001b[0m in \u001b[0;36m_new_conn\u001b[0;34m(self)\u001b[0m\n\u001b[1;32m    155\u001b[0m         \u001b[0;32mtry\u001b[0m\u001b[0;34m:\u001b[0m\u001b[0;34m\u001b[0m\u001b[0;34m\u001b[0m\u001b[0m\n\u001b[0;32m--> 156\u001b[0;31m             conn = connection.create_connection(\n\u001b[0m\u001b[1;32m    157\u001b[0m                 \u001b[0;34m(\u001b[0m\u001b[0mself\u001b[0m\u001b[0;34m.\u001b[0m\u001b[0m_dns_host\u001b[0m\u001b[0;34m,\u001b[0m \u001b[0mself\u001b[0m\u001b[0;34m.\u001b[0m\u001b[0mport\u001b[0m\u001b[0;34m)\u001b[0m\u001b[0;34m,\u001b[0m \u001b[0mself\u001b[0m\u001b[0;34m.\u001b[0m\u001b[0mtimeout\u001b[0m\u001b[0;34m,\u001b[0m \u001b[0;34m**\u001b[0m\u001b[0mextra_kw\u001b[0m\u001b[0;34m\u001b[0m\u001b[0;34m\u001b[0m\u001b[0m\n",
      "\u001b[0;32m~/miniconda3/envs/transformerlab/lib/python3.8/site-packages/urllib3/util/connection.py\u001b[0m in \u001b[0;36mcreate_connection\u001b[0;34m(address, timeout, source_address, socket_options)\u001b[0m\n\u001b[1;32m     83\u001b[0m     \u001b[0;32mif\u001b[0m \u001b[0merr\u001b[0m \u001b[0;32mis\u001b[0m \u001b[0;32mnot\u001b[0m \u001b[0;32mNone\u001b[0m\u001b[0;34m:\u001b[0m\u001b[0;34m\u001b[0m\u001b[0;34m\u001b[0m\u001b[0m\n\u001b[0;32m---> 84\u001b[0;31m         \u001b[0;32mraise\u001b[0m \u001b[0merr\u001b[0m\u001b[0;34m\u001b[0m\u001b[0;34m\u001b[0m\u001b[0m\n\u001b[0m\u001b[1;32m     85\u001b[0m \u001b[0;34m\u001b[0m\u001b[0m\n",
      "\u001b[0;32m~/miniconda3/envs/transformerlab/lib/python3.8/site-packages/urllib3/util/connection.py\u001b[0m in \u001b[0;36mcreate_connection\u001b[0;34m(address, timeout, source_address, socket_options)\u001b[0m\n\u001b[1;32m     73\u001b[0m                 \u001b[0msock\u001b[0m\u001b[0;34m.\u001b[0m\u001b[0mbind\u001b[0m\u001b[0;34m(\u001b[0m\u001b[0msource_address\u001b[0m\u001b[0;34m)\u001b[0m\u001b[0;34m\u001b[0m\u001b[0;34m\u001b[0m\u001b[0m\n\u001b[0;32m---> 74\u001b[0;31m             \u001b[0msock\u001b[0m\u001b[0;34m.\u001b[0m\u001b[0mconnect\u001b[0m\u001b[0;34m(\u001b[0m\u001b[0msa\u001b[0m\u001b[0;34m)\u001b[0m\u001b[0;34m\u001b[0m\u001b[0;34m\u001b[0m\u001b[0m\n\u001b[0m\u001b[1;32m     75\u001b[0m             \u001b[0;32mreturn\u001b[0m \u001b[0msock\u001b[0m\u001b[0;34m\u001b[0m\u001b[0;34m\u001b[0m\u001b[0m\n",
      "\u001b[0;31mConnectionRefusedError\u001b[0m: [Errno 111] Connection refused",
      "\nDuring handling of the above exception, another exception occurred:\n",
      "\u001b[0;31mNewConnectionError\u001b[0m                        Traceback (most recent call last)",
      "\u001b[0;32m~/miniconda3/envs/transformerlab/lib/python3.8/site-packages/elasticsearch/connection/http_urllib3.py\u001b[0m in \u001b[0;36mperform_request\u001b[0;34m(self, method, url, params, body, timeout, ignore, headers)\u001b[0m\n\u001b[1;32m    244\u001b[0m \u001b[0;34m\u001b[0m\u001b[0m\n\u001b[0;32m--> 245\u001b[0;31m             response = self.pool.urlopen(\n\u001b[0m\u001b[1;32m    246\u001b[0m                 \u001b[0mmethod\u001b[0m\u001b[0;34m,\u001b[0m \u001b[0murl\u001b[0m\u001b[0;34m,\u001b[0m \u001b[0mbody\u001b[0m\u001b[0;34m,\u001b[0m \u001b[0mretries\u001b[0m\u001b[0;34m=\u001b[0m\u001b[0mRetry\u001b[0m\u001b[0;34m(\u001b[0m\u001b[0;32mFalse\u001b[0m\u001b[0;34m)\u001b[0m\u001b[0;34m,\u001b[0m \u001b[0mheaders\u001b[0m\u001b[0;34m=\u001b[0m\u001b[0mrequest_headers\u001b[0m\u001b[0;34m,\u001b[0m \u001b[0;34m**\u001b[0m\u001b[0mkw\u001b[0m\u001b[0;34m\u001b[0m\u001b[0;34m\u001b[0m\u001b[0m\n",
      "\u001b[0;32m~/miniconda3/envs/transformerlab/lib/python3.8/site-packages/urllib3/connectionpool.py\u001b[0m in \u001b[0;36murlopen\u001b[0;34m(self, method, url, body, headers, retries, redirect, assert_same_host, timeout, pool_timeout, release_conn, chunked, body_pos, **response_kw)\u001b[0m\n\u001b[1;32m    718\u001b[0m \u001b[0;34m\u001b[0m\u001b[0m\n\u001b[0;32m--> 719\u001b[0;31m             retries = retries.increment(\n\u001b[0m\u001b[1;32m    720\u001b[0m                 \u001b[0mmethod\u001b[0m\u001b[0;34m,\u001b[0m \u001b[0murl\u001b[0m\u001b[0;34m,\u001b[0m \u001b[0merror\u001b[0m\u001b[0;34m=\u001b[0m\u001b[0me\u001b[0m\u001b[0;34m,\u001b[0m \u001b[0m_pool\u001b[0m\u001b[0;34m=\u001b[0m\u001b[0mself\u001b[0m\u001b[0;34m,\u001b[0m \u001b[0m_stacktrace\u001b[0m\u001b[0;34m=\u001b[0m\u001b[0msys\u001b[0m\u001b[0;34m.\u001b[0m\u001b[0mexc_info\u001b[0m\u001b[0;34m(\u001b[0m\u001b[0;34m)\u001b[0m\u001b[0;34m[\u001b[0m\u001b[0;36m2\u001b[0m\u001b[0;34m]\u001b[0m\u001b[0;34m\u001b[0m\u001b[0;34m\u001b[0m\u001b[0m\n",
      "\u001b[0;32m~/miniconda3/envs/transformerlab/lib/python3.8/site-packages/urllib3/util/retry.py\u001b[0m in \u001b[0;36mincrement\u001b[0;34m(self, method, url, response, error, _pool, _stacktrace)\u001b[0m\n\u001b[1;32m    375\u001b[0m             \u001b[0;31m# Disabled, indicate to re-raise the error.\u001b[0m\u001b[0;34m\u001b[0m\u001b[0;34m\u001b[0m\u001b[0;34m\u001b[0m\u001b[0m\n\u001b[0;32m--> 376\u001b[0;31m             \u001b[0;32mraise\u001b[0m \u001b[0msix\u001b[0m\u001b[0;34m.\u001b[0m\u001b[0mreraise\u001b[0m\u001b[0;34m(\u001b[0m\u001b[0mtype\u001b[0m\u001b[0;34m(\u001b[0m\u001b[0merror\u001b[0m\u001b[0;34m)\u001b[0m\u001b[0;34m,\u001b[0m \u001b[0merror\u001b[0m\u001b[0;34m,\u001b[0m \u001b[0m_stacktrace\u001b[0m\u001b[0;34m)\u001b[0m\u001b[0;34m\u001b[0m\u001b[0;34m\u001b[0m\u001b[0m\n\u001b[0m\u001b[1;32m    377\u001b[0m \u001b[0;34m\u001b[0m\u001b[0m\n",
      "\u001b[0;32m~/miniconda3/envs/transformerlab/lib/python3.8/site-packages/urllib3/packages/six.py\u001b[0m in \u001b[0;36mreraise\u001b[0;34m(tp, value, tb)\u001b[0m\n\u001b[1;32m    734\u001b[0m                 \u001b[0;32mraise\u001b[0m \u001b[0mvalue\u001b[0m\u001b[0;34m.\u001b[0m\u001b[0mwith_traceback\u001b[0m\u001b[0;34m(\u001b[0m\u001b[0mtb\u001b[0m\u001b[0;34m)\u001b[0m\u001b[0;34m\u001b[0m\u001b[0;34m\u001b[0m\u001b[0m\n\u001b[0;32m--> 735\u001b[0;31m             \u001b[0;32mraise\u001b[0m \u001b[0mvalue\u001b[0m\u001b[0;34m\u001b[0m\u001b[0;34m\u001b[0m\u001b[0m\n\u001b[0m\u001b[1;32m    736\u001b[0m         \u001b[0;32mfinally\u001b[0m\u001b[0;34m:\u001b[0m\u001b[0;34m\u001b[0m\u001b[0;34m\u001b[0m\u001b[0m\n",
      "\u001b[0;32m~/miniconda3/envs/transformerlab/lib/python3.8/site-packages/urllib3/connectionpool.py\u001b[0m in \u001b[0;36murlopen\u001b[0;34m(self, method, url, body, headers, retries, redirect, assert_same_host, timeout, pool_timeout, release_conn, chunked, body_pos, **response_kw)\u001b[0m\n\u001b[1;32m    664\u001b[0m             \u001b[0;31m# Make the request on the httplib connection object.\u001b[0m\u001b[0;34m\u001b[0m\u001b[0;34m\u001b[0m\u001b[0;34m\u001b[0m\u001b[0m\n\u001b[0;32m--> 665\u001b[0;31m             httplib_response = self._make_request(\n\u001b[0m\u001b[1;32m    666\u001b[0m                 \u001b[0mconn\u001b[0m\u001b[0;34m,\u001b[0m\u001b[0;34m\u001b[0m\u001b[0;34m\u001b[0m\u001b[0m\n",
      "\u001b[0;32m~/miniconda3/envs/transformerlab/lib/python3.8/site-packages/urllib3/connectionpool.py\u001b[0m in \u001b[0;36m_make_request\u001b[0;34m(self, conn, method, url, timeout, chunked, **httplib_request_kw)\u001b[0m\n\u001b[1;32m    386\u001b[0m         \u001b[0;32melse\u001b[0m\u001b[0;34m:\u001b[0m\u001b[0;34m\u001b[0m\u001b[0;34m\u001b[0m\u001b[0m\n\u001b[0;32m--> 387\u001b[0;31m             \u001b[0mconn\u001b[0m\u001b[0;34m.\u001b[0m\u001b[0mrequest\u001b[0m\u001b[0;34m(\u001b[0m\u001b[0mmethod\u001b[0m\u001b[0;34m,\u001b[0m \u001b[0murl\u001b[0m\u001b[0;34m,\u001b[0m \u001b[0;34m**\u001b[0m\u001b[0mhttplib_request_kw\u001b[0m\u001b[0;34m)\u001b[0m\u001b[0;34m\u001b[0m\u001b[0;34m\u001b[0m\u001b[0m\n\u001b[0m\u001b[1;32m    388\u001b[0m \u001b[0;34m\u001b[0m\u001b[0m\n",
      "\u001b[0;32m~/miniconda3/envs/transformerlab/lib/python3.8/http/client.py\u001b[0m in \u001b[0;36mrequest\u001b[0;34m(self, method, url, body, headers, encode_chunked)\u001b[0m\n\u001b[1;32m   1254\u001b[0m         \u001b[0;34m\"\"\"Send a complete request to the server.\"\"\"\u001b[0m\u001b[0;34m\u001b[0m\u001b[0;34m\u001b[0m\u001b[0m\n\u001b[0;32m-> 1255\u001b[0;31m         \u001b[0mself\u001b[0m\u001b[0;34m.\u001b[0m\u001b[0m_send_request\u001b[0m\u001b[0;34m(\u001b[0m\u001b[0mmethod\u001b[0m\u001b[0;34m,\u001b[0m \u001b[0murl\u001b[0m\u001b[0;34m,\u001b[0m \u001b[0mbody\u001b[0m\u001b[0;34m,\u001b[0m \u001b[0mheaders\u001b[0m\u001b[0;34m,\u001b[0m \u001b[0mencode_chunked\u001b[0m\u001b[0;34m)\u001b[0m\u001b[0;34m\u001b[0m\u001b[0;34m\u001b[0m\u001b[0m\n\u001b[0m\u001b[1;32m   1256\u001b[0m \u001b[0;34m\u001b[0m\u001b[0m\n",
      "\u001b[0;32m~/miniconda3/envs/transformerlab/lib/python3.8/http/client.py\u001b[0m in \u001b[0;36m_send_request\u001b[0;34m(self, method, url, body, headers, encode_chunked)\u001b[0m\n\u001b[1;32m   1300\u001b[0m             \u001b[0mbody\u001b[0m \u001b[0;34m=\u001b[0m \u001b[0m_encode\u001b[0m\u001b[0;34m(\u001b[0m\u001b[0mbody\u001b[0m\u001b[0;34m,\u001b[0m \u001b[0;34m'body'\u001b[0m\u001b[0;34m)\u001b[0m\u001b[0;34m\u001b[0m\u001b[0;34m\u001b[0m\u001b[0m\n\u001b[0;32m-> 1301\u001b[0;31m         \u001b[0mself\u001b[0m\u001b[0;34m.\u001b[0m\u001b[0mendheaders\u001b[0m\u001b[0;34m(\u001b[0m\u001b[0mbody\u001b[0m\u001b[0;34m,\u001b[0m \u001b[0mencode_chunked\u001b[0m\u001b[0;34m=\u001b[0m\u001b[0mencode_chunked\u001b[0m\u001b[0;34m)\u001b[0m\u001b[0;34m\u001b[0m\u001b[0;34m\u001b[0m\u001b[0m\n\u001b[0m\u001b[1;32m   1302\u001b[0m \u001b[0;34m\u001b[0m\u001b[0m\n",
      "\u001b[0;32m~/miniconda3/envs/transformerlab/lib/python3.8/http/client.py\u001b[0m in \u001b[0;36mendheaders\u001b[0;34m(self, message_body, encode_chunked)\u001b[0m\n\u001b[1;32m   1249\u001b[0m             \u001b[0;32mraise\u001b[0m \u001b[0mCannotSendHeader\u001b[0m\u001b[0;34m(\u001b[0m\u001b[0;34m)\u001b[0m\u001b[0;34m\u001b[0m\u001b[0;34m\u001b[0m\u001b[0m\n\u001b[0;32m-> 1250\u001b[0;31m         \u001b[0mself\u001b[0m\u001b[0;34m.\u001b[0m\u001b[0m_send_output\u001b[0m\u001b[0;34m(\u001b[0m\u001b[0mmessage_body\u001b[0m\u001b[0;34m,\u001b[0m \u001b[0mencode_chunked\u001b[0m\u001b[0;34m=\u001b[0m\u001b[0mencode_chunked\u001b[0m\u001b[0;34m)\u001b[0m\u001b[0;34m\u001b[0m\u001b[0;34m\u001b[0m\u001b[0m\n\u001b[0m\u001b[1;32m   1251\u001b[0m \u001b[0;34m\u001b[0m\u001b[0m\n",
      "\u001b[0;32m~/miniconda3/envs/transformerlab/lib/python3.8/http/client.py\u001b[0m in \u001b[0;36m_send_output\u001b[0;34m(self, message_body, encode_chunked)\u001b[0m\n\u001b[1;32m   1009\u001b[0m         \u001b[0;32mdel\u001b[0m \u001b[0mself\u001b[0m\u001b[0;34m.\u001b[0m\u001b[0m_buffer\u001b[0m\u001b[0;34m[\u001b[0m\u001b[0;34m:\u001b[0m\u001b[0;34m]\u001b[0m\u001b[0;34m\u001b[0m\u001b[0;34m\u001b[0m\u001b[0m\n\u001b[0;32m-> 1010\u001b[0;31m         \u001b[0mself\u001b[0m\u001b[0;34m.\u001b[0m\u001b[0msend\u001b[0m\u001b[0;34m(\u001b[0m\u001b[0mmsg\u001b[0m\u001b[0;34m)\u001b[0m\u001b[0;34m\u001b[0m\u001b[0;34m\u001b[0m\u001b[0m\n\u001b[0m\u001b[1;32m   1011\u001b[0m \u001b[0;34m\u001b[0m\u001b[0m\n",
      "\u001b[0;32m~/miniconda3/envs/transformerlab/lib/python3.8/http/client.py\u001b[0m in \u001b[0;36msend\u001b[0;34m(self, data)\u001b[0m\n\u001b[1;32m    949\u001b[0m             \u001b[0;32mif\u001b[0m \u001b[0mself\u001b[0m\u001b[0;34m.\u001b[0m\u001b[0mauto_open\u001b[0m\u001b[0;34m:\u001b[0m\u001b[0;34m\u001b[0m\u001b[0;34m\u001b[0m\u001b[0m\n\u001b[0;32m--> 950\u001b[0;31m                 \u001b[0mself\u001b[0m\u001b[0;34m.\u001b[0m\u001b[0mconnect\u001b[0m\u001b[0;34m(\u001b[0m\u001b[0;34m)\u001b[0m\u001b[0;34m\u001b[0m\u001b[0;34m\u001b[0m\u001b[0m\n\u001b[0m\u001b[1;32m    951\u001b[0m             \u001b[0;32melse\u001b[0m\u001b[0;34m:\u001b[0m\u001b[0;34m\u001b[0m\u001b[0;34m\u001b[0m\u001b[0m\n",
      "\u001b[0;32m~/miniconda3/envs/transformerlab/lib/python3.8/site-packages/urllib3/connection.py\u001b[0m in \u001b[0;36mconnect\u001b[0;34m(self)\u001b[0m\n\u001b[1;32m    183\u001b[0m     \u001b[0;32mdef\u001b[0m \u001b[0mconnect\u001b[0m\u001b[0;34m(\u001b[0m\u001b[0mself\u001b[0m\u001b[0;34m)\u001b[0m\u001b[0;34m:\u001b[0m\u001b[0;34m\u001b[0m\u001b[0;34m\u001b[0m\u001b[0m\n\u001b[0;32m--> 184\u001b[0;31m         \u001b[0mconn\u001b[0m \u001b[0;34m=\u001b[0m \u001b[0mself\u001b[0m\u001b[0;34m.\u001b[0m\u001b[0m_new_conn\u001b[0m\u001b[0;34m(\u001b[0m\u001b[0;34m)\u001b[0m\u001b[0;34m\u001b[0m\u001b[0;34m\u001b[0m\u001b[0m\n\u001b[0m\u001b[1;32m    185\u001b[0m         \u001b[0mself\u001b[0m\u001b[0;34m.\u001b[0m\u001b[0m_prepare_conn\u001b[0m\u001b[0;34m(\u001b[0m\u001b[0mconn\u001b[0m\u001b[0;34m)\u001b[0m\u001b[0;34m\u001b[0m\u001b[0;34m\u001b[0m\u001b[0m\n",
      "\u001b[0;32m~/miniconda3/envs/transformerlab/lib/python3.8/site-packages/urllib3/connection.py\u001b[0m in \u001b[0;36m_new_conn\u001b[0;34m(self)\u001b[0m\n\u001b[1;32m    167\u001b[0m         \u001b[0;32mexcept\u001b[0m \u001b[0mSocketError\u001b[0m \u001b[0;32mas\u001b[0m \u001b[0me\u001b[0m\u001b[0;34m:\u001b[0m\u001b[0;34m\u001b[0m\u001b[0;34m\u001b[0m\u001b[0m\n\u001b[0;32m--> 168\u001b[0;31m             raise NewConnectionError(\n\u001b[0m\u001b[1;32m    169\u001b[0m                 \u001b[0mself\u001b[0m\u001b[0;34m,\u001b[0m \u001b[0;34m\"Failed to establish a new connection: %s\"\u001b[0m \u001b[0;34m%\u001b[0m \u001b[0me\u001b[0m\u001b[0;34m\u001b[0m\u001b[0;34m\u001b[0m\u001b[0m\n",
      "\u001b[0;31mNewConnectionError\u001b[0m: <urllib3.connection.HTTPConnection object at 0x7ff914bc2d00>: Failed to establish a new connection: [Errno 111] Connection refused",
      "\nDuring handling of the above exception, another exception occurred:\n",
      "\u001b[0;31mConnectionError\u001b[0m                           Traceback (most recent call last)",
      "\u001b[0;32m<ipython-input-66-671ad1318973>\u001b[0m in \u001b[0;36m<module>\u001b[0;34m\u001b[0m\n\u001b[1;32m      4\u001b[0m \u001b[0mnumber_of_answers_to_fetch\u001b[0m \u001b[0;34m=\u001b[0m \u001b[0;36m3\u001b[0m\u001b[0;34m\u001b[0m\u001b[0;34m\u001b[0m\u001b[0m\n\u001b[1;32m      5\u001b[0m \u001b[0;34m\u001b[0m\u001b[0m\n\u001b[0;32m----> 6\u001b[0;31m \u001b[0mprediction\u001b[0m \u001b[0;34m=\u001b[0m \u001b[0mpipe\u001b[0m\u001b[0;34m.\u001b[0m\u001b[0mrun\u001b[0m\u001b[0;34m(\u001b[0m\u001b[0mquery\u001b[0m\u001b[0;34m=\u001b[0m\u001b[0mquery\u001b[0m\u001b[0;34m,\u001b[0m \u001b[0mfilters\u001b[0m\u001b[0;34m=\u001b[0m\u001b[0;34m{\u001b[0m\u001b[0;34m\"asin\"\u001b[0m\u001b[0;34m:\u001b[0m \u001b[0;34m[\u001b[0m\u001b[0masin\u001b[0m\u001b[0;34m]\u001b[0m\u001b[0;34m}\u001b[0m\u001b[0;34m,\u001b[0m \u001b[0mtop_k_retriever\u001b[0m\u001b[0;34m=\u001b[0m\u001b[0;36m10\u001b[0m\u001b[0;34m,\u001b[0m \u001b[0mtop_k_reader\u001b[0m\u001b[0;34m=\u001b[0m\u001b[0mnumber_of_answers_to_fetch\u001b[0m\u001b[0;34m)\u001b[0m\u001b[0;34m\u001b[0m\u001b[0;34m\u001b[0m\u001b[0m\n\u001b[0m\u001b[1;32m      7\u001b[0m \u001b[0mprint\u001b[0m\u001b[0;34m(\u001b[0m\u001b[0;34mf\"Question: {prediction['query']}\"\u001b[0m\u001b[0;34m)\u001b[0m\u001b[0;34m\u001b[0m\u001b[0;34m\u001b[0m\u001b[0m\n\u001b[1;32m      8\u001b[0m \u001b[0mprint\u001b[0m\u001b[0;34m(\u001b[0m\u001b[0;34m\"\\n\"\u001b[0m\u001b[0;34m)\u001b[0m\u001b[0;34m\u001b[0m\u001b[0;34m\u001b[0m\u001b[0m\n",
      "\u001b[0;32m~/miniconda3/envs/transformerlab/lib/python3.8/site-packages/haystack/pipeline.py\u001b[0m in \u001b[0;36mrun\u001b[0;34m(self, query, filters, top_k_retriever, top_k_reader)\u001b[0m\n\u001b[1;32m    334\u001b[0m \u001b[0;34m\u001b[0m\u001b[0m\n\u001b[1;32m    335\u001b[0m     \u001b[0;32mdef\u001b[0m \u001b[0mrun\u001b[0m\u001b[0;34m(\u001b[0m\u001b[0mself\u001b[0m\u001b[0;34m,\u001b[0m \u001b[0mquery\u001b[0m\u001b[0;34m:\u001b[0m \u001b[0mstr\u001b[0m\u001b[0;34m,\u001b[0m \u001b[0mfilters\u001b[0m\u001b[0;34m:\u001b[0m \u001b[0mOptional\u001b[0m\u001b[0;34m[\u001b[0m\u001b[0mDict\u001b[0m\u001b[0;34m]\u001b[0m \u001b[0;34m=\u001b[0m \u001b[0;32mNone\u001b[0m\u001b[0;34m,\u001b[0m \u001b[0mtop_k_retriever\u001b[0m\u001b[0;34m:\u001b[0m \u001b[0mint\u001b[0m \u001b[0;34m=\u001b[0m \u001b[0;36m10\u001b[0m\u001b[0;34m,\u001b[0m \u001b[0mtop_k_reader\u001b[0m\u001b[0;34m:\u001b[0m \u001b[0mint\u001b[0m \u001b[0;34m=\u001b[0m \u001b[0;36m10\u001b[0m\u001b[0;34m)\u001b[0m\u001b[0;34m:\u001b[0m\u001b[0;34m\u001b[0m\u001b[0;34m\u001b[0m\u001b[0m\n\u001b[0;32m--> 336\u001b[0;31m         output = self.pipeline.run(\n\u001b[0m\u001b[1;32m    337\u001b[0m             \u001b[0mquery\u001b[0m\u001b[0;34m=\u001b[0m\u001b[0mquery\u001b[0m\u001b[0;34m,\u001b[0m \u001b[0mfilters\u001b[0m\u001b[0;34m=\u001b[0m\u001b[0mfilters\u001b[0m\u001b[0;34m,\u001b[0m \u001b[0mtop_k_retriever\u001b[0m\u001b[0;34m=\u001b[0m\u001b[0mtop_k_retriever\u001b[0m\u001b[0;34m,\u001b[0m \u001b[0mtop_k_reader\u001b[0m\u001b[0;34m=\u001b[0m\u001b[0mtop_k_reader\u001b[0m\u001b[0;34m\u001b[0m\u001b[0;34m\u001b[0m\u001b[0m\n\u001b[1;32m    338\u001b[0m         )\n",
      "\u001b[0;32m~/miniconda3/envs/transformerlab/lib/python3.8/site-packages/haystack/pipeline.py\u001b[0m in \u001b[0;36mrun\u001b[0;34m(self, **kwargs)\u001b[0m\n\u001b[1;32m    106\u001b[0m \u001b[0;34m\u001b[0m\u001b[0m\n\u001b[1;32m    107\u001b[0m         \u001b[0;32mwhile\u001b[0m \u001b[0mhas_next_node\u001b[0m\u001b[0;34m:\u001b[0m\u001b[0;34m\u001b[0m\u001b[0;34m\u001b[0m\u001b[0m\n\u001b[0;32m--> 108\u001b[0;31m             \u001b[0moutput_dict\u001b[0m\u001b[0;34m,\u001b[0m \u001b[0mstream_id\u001b[0m \u001b[0;34m=\u001b[0m \u001b[0mself\u001b[0m\u001b[0;34m.\u001b[0m\u001b[0mgraph\u001b[0m\u001b[0;34m.\u001b[0m\u001b[0mnodes\u001b[0m\u001b[0;34m[\u001b[0m\u001b[0mcurrent_node_id\u001b[0m\u001b[0;34m]\u001b[0m\u001b[0;34m[\u001b[0m\u001b[0;34m\"component\"\u001b[0m\u001b[0;34m]\u001b[0m\u001b[0;34m.\u001b[0m\u001b[0mrun\u001b[0m\u001b[0;34m(\u001b[0m\u001b[0;34m**\u001b[0m\u001b[0minput_dict\u001b[0m\u001b[0;34m)\u001b[0m\u001b[0;34m\u001b[0m\u001b[0;34m\u001b[0m\u001b[0m\n\u001b[0m\u001b[1;32m    109\u001b[0m             \u001b[0minput_dict\u001b[0m \u001b[0;34m=\u001b[0m \u001b[0moutput_dict\u001b[0m\u001b[0;34m\u001b[0m\u001b[0;34m\u001b[0m\u001b[0m\n\u001b[1;32m    110\u001b[0m             \u001b[0mnext_nodes\u001b[0m \u001b[0;34m=\u001b[0m \u001b[0mself\u001b[0m\u001b[0;34m.\u001b[0m\u001b[0mget_next_nodes\u001b[0m\u001b[0;34m(\u001b[0m\u001b[0mcurrent_node_id\u001b[0m\u001b[0;34m,\u001b[0m \u001b[0mstream_id\u001b[0m\u001b[0;34m)\u001b[0m\u001b[0;34m\u001b[0m\u001b[0;34m\u001b[0m\u001b[0m\n",
      "\u001b[0;32m~/miniconda3/envs/transformerlab/lib/python3.8/site-packages/haystack/retriever/base.py\u001b[0m in \u001b[0;36mrun\u001b[0;34m(self, pipeline_type, **kwargs)\u001b[0m\n\u001b[1;32m    171\u001b[0m     \u001b[0;32mdef\u001b[0m \u001b[0mrun\u001b[0m\u001b[0;34m(\u001b[0m\u001b[0mself\u001b[0m\u001b[0;34m,\u001b[0m \u001b[0mpipeline_type\u001b[0m\u001b[0;34m:\u001b[0m \u001b[0mstr\u001b[0m\u001b[0;34m,\u001b[0m \u001b[0;34m**\u001b[0m\u001b[0mkwargs\u001b[0m\u001b[0;34m)\u001b[0m\u001b[0;34m:\u001b[0m\u001b[0;34m\u001b[0m\u001b[0;34m\u001b[0m\u001b[0m\n\u001b[1;32m    172\u001b[0m         \u001b[0;32mif\u001b[0m \u001b[0mpipeline_type\u001b[0m \u001b[0;34m==\u001b[0m \u001b[0;34m\"Query\"\u001b[0m\u001b[0;34m:\u001b[0m\u001b[0;34m\u001b[0m\u001b[0;34m\u001b[0m\u001b[0m\n\u001b[0;32m--> 173\u001b[0;31m             \u001b[0moutput\u001b[0m\u001b[0;34m,\u001b[0m \u001b[0mstream\u001b[0m \u001b[0;34m=\u001b[0m \u001b[0mself\u001b[0m\u001b[0;34m.\u001b[0m\u001b[0mrun_query\u001b[0m\u001b[0;34m(\u001b[0m\u001b[0;34m**\u001b[0m\u001b[0mkwargs\u001b[0m\u001b[0;34m)\u001b[0m\u001b[0;34m\u001b[0m\u001b[0;34m\u001b[0m\u001b[0m\n\u001b[0m\u001b[1;32m    174\u001b[0m         \u001b[0;32melif\u001b[0m \u001b[0mpipeline_type\u001b[0m \u001b[0;34m==\u001b[0m \u001b[0;34m\"Indexing\"\u001b[0m\u001b[0;34m:\u001b[0m\u001b[0;34m\u001b[0m\u001b[0;34m\u001b[0m\u001b[0m\n\u001b[1;32m    175\u001b[0m             \u001b[0moutput\u001b[0m\u001b[0;34m,\u001b[0m \u001b[0mstream\u001b[0m \u001b[0;34m=\u001b[0m \u001b[0mself\u001b[0m\u001b[0;34m.\u001b[0m\u001b[0mrun_indexing\u001b[0m\u001b[0;34m(\u001b[0m\u001b[0;34m**\u001b[0m\u001b[0mkwargs\u001b[0m\u001b[0;34m)\u001b[0m\u001b[0;34m\u001b[0m\u001b[0;34m\u001b[0m\u001b[0m\n",
      "\u001b[0;32m~/miniconda3/envs/transformerlab/lib/python3.8/site-packages/haystack/retriever/base.py\u001b[0m in \u001b[0;36mrun_query\u001b[0;34m(self, query, filters, top_k_retriever, **kwargs)\u001b[0m\n\u001b[1;32m    186\u001b[0m     ):\n\u001b[1;32m    187\u001b[0m         \u001b[0;32mif\u001b[0m \u001b[0mtop_k_retriever\u001b[0m\u001b[0;34m:\u001b[0m\u001b[0;34m\u001b[0m\u001b[0;34m\u001b[0m\u001b[0m\n\u001b[0;32m--> 188\u001b[0;31m             \u001b[0mdocuments\u001b[0m \u001b[0;34m=\u001b[0m \u001b[0mself\u001b[0m\u001b[0;34m.\u001b[0m\u001b[0mretrieve\u001b[0m\u001b[0;34m(\u001b[0m\u001b[0mquery\u001b[0m\u001b[0;34m=\u001b[0m\u001b[0mquery\u001b[0m\u001b[0;34m,\u001b[0m \u001b[0mfilters\u001b[0m\u001b[0;34m=\u001b[0m\u001b[0mfilters\u001b[0m\u001b[0;34m,\u001b[0m \u001b[0mtop_k\u001b[0m\u001b[0;34m=\u001b[0m\u001b[0mtop_k_retriever\u001b[0m\u001b[0;34m)\u001b[0m\u001b[0;34m\u001b[0m\u001b[0;34m\u001b[0m\u001b[0m\n\u001b[0m\u001b[1;32m    189\u001b[0m         \u001b[0;32melse\u001b[0m\u001b[0;34m:\u001b[0m\u001b[0;34m\u001b[0m\u001b[0;34m\u001b[0m\u001b[0m\n\u001b[1;32m    190\u001b[0m             \u001b[0mdocuments\u001b[0m \u001b[0;34m=\u001b[0m \u001b[0mself\u001b[0m\u001b[0;34m.\u001b[0m\u001b[0mretrieve\u001b[0m\u001b[0;34m(\u001b[0m\u001b[0mquery\u001b[0m\u001b[0;34m=\u001b[0m\u001b[0mquery\u001b[0m\u001b[0;34m,\u001b[0m \u001b[0mfilters\u001b[0m\u001b[0;34m=\u001b[0m\u001b[0mfilters\u001b[0m\u001b[0;34m)\u001b[0m\u001b[0;34m\u001b[0m\u001b[0;34m\u001b[0m\u001b[0m\n",
      "\u001b[0;32m~/miniconda3/envs/transformerlab/lib/python3.8/site-packages/haystack/retriever/sparse.py\u001b[0m in \u001b[0;36mretrieve\u001b[0;34m(self, query, filters, top_k, index)\u001b[0m\n\u001b[1;32m     68\u001b[0m             \u001b[0mindex\u001b[0m \u001b[0;34m=\u001b[0m \u001b[0mself\u001b[0m\u001b[0;34m.\u001b[0m\u001b[0mdocument_store\u001b[0m\u001b[0;34m.\u001b[0m\u001b[0mindex\u001b[0m\u001b[0;34m\u001b[0m\u001b[0;34m\u001b[0m\u001b[0m\n\u001b[1;32m     69\u001b[0m \u001b[0;34m\u001b[0m\u001b[0m\n\u001b[0;32m---> 70\u001b[0;31m         \u001b[0mdocuments\u001b[0m \u001b[0;34m=\u001b[0m \u001b[0mself\u001b[0m\u001b[0;34m.\u001b[0m\u001b[0mdocument_store\u001b[0m\u001b[0;34m.\u001b[0m\u001b[0mquery\u001b[0m\u001b[0;34m(\u001b[0m\u001b[0mquery\u001b[0m\u001b[0;34m,\u001b[0m \u001b[0mfilters\u001b[0m\u001b[0;34m,\u001b[0m \u001b[0mtop_k\u001b[0m\u001b[0;34m,\u001b[0m \u001b[0mself\u001b[0m\u001b[0;34m.\u001b[0m\u001b[0mcustom_query\u001b[0m\u001b[0;34m,\u001b[0m \u001b[0mindex\u001b[0m\u001b[0;34m)\u001b[0m\u001b[0;34m\u001b[0m\u001b[0;34m\u001b[0m\u001b[0m\n\u001b[0m\u001b[1;32m     71\u001b[0m         \u001b[0;32mreturn\u001b[0m \u001b[0mdocuments\u001b[0m\u001b[0;34m\u001b[0m\u001b[0;34m\u001b[0m\u001b[0m\n\u001b[1;32m     72\u001b[0m \u001b[0;34m\u001b[0m\u001b[0m\n",
      "\u001b[0;32m~/miniconda3/envs/transformerlab/lib/python3.8/site-packages/haystack/document_store/elasticsearch.py\u001b[0m in \u001b[0;36mquery\u001b[0;34m(self, query, filters, top_k, custom_query, index)\u001b[0m\n\u001b[1;32m    656\u001b[0m \u001b[0;34m\u001b[0m\u001b[0m\n\u001b[1;32m    657\u001b[0m         \u001b[0mlogger\u001b[0m\u001b[0;34m.\u001b[0m\u001b[0mdebug\u001b[0m\u001b[0;34m(\u001b[0m\u001b[0;34mf\"Retriever query: {body}\"\u001b[0m\u001b[0;34m)\u001b[0m\u001b[0;34m\u001b[0m\u001b[0;34m\u001b[0m\u001b[0m\n\u001b[0;32m--> 658\u001b[0;31m         \u001b[0mresult\u001b[0m \u001b[0;34m=\u001b[0m \u001b[0mself\u001b[0m\u001b[0;34m.\u001b[0m\u001b[0mclient\u001b[0m\u001b[0;34m.\u001b[0m\u001b[0msearch\u001b[0m\u001b[0;34m(\u001b[0m\u001b[0mindex\u001b[0m\u001b[0;34m=\u001b[0m\u001b[0mindex\u001b[0m\u001b[0;34m,\u001b[0m \u001b[0mbody\u001b[0m\u001b[0;34m=\u001b[0m\u001b[0mbody\u001b[0m\u001b[0;34m)\u001b[0m\u001b[0;34m[\u001b[0m\u001b[0;34m\"hits\"\u001b[0m\u001b[0;34m]\u001b[0m\u001b[0;34m[\u001b[0m\u001b[0;34m\"hits\"\u001b[0m\u001b[0;34m]\u001b[0m\u001b[0;34m\u001b[0m\u001b[0;34m\u001b[0m\u001b[0m\n\u001b[0m\u001b[1;32m    659\u001b[0m \u001b[0;34m\u001b[0m\u001b[0m\n\u001b[1;32m    660\u001b[0m         \u001b[0mdocuments\u001b[0m \u001b[0;34m=\u001b[0m \u001b[0;34m[\u001b[0m\u001b[0mself\u001b[0m\u001b[0;34m.\u001b[0m\u001b[0m_convert_es_hit_to_document\u001b[0m\u001b[0;34m(\u001b[0m\u001b[0mhit\u001b[0m\u001b[0;34m,\u001b[0m \u001b[0mreturn_embedding\u001b[0m\u001b[0;34m=\u001b[0m\u001b[0mself\u001b[0m\u001b[0;34m.\u001b[0m\u001b[0mreturn_embedding\u001b[0m\u001b[0;34m)\u001b[0m \u001b[0;32mfor\u001b[0m \u001b[0mhit\u001b[0m \u001b[0;32min\u001b[0m \u001b[0mresult\u001b[0m\u001b[0;34m]\u001b[0m\u001b[0;34m\u001b[0m\u001b[0;34m\u001b[0m\u001b[0m\n",
      "\u001b[0;32m~/miniconda3/envs/transformerlab/lib/python3.8/site-packages/elasticsearch/client/utils.py\u001b[0m in \u001b[0;36m_wrapped\u001b[0;34m(*args, **kwargs)\u001b[0m\n\u001b[1;32m    150\u001b[0m                 \u001b[0;32mif\u001b[0m \u001b[0mp\u001b[0m \u001b[0;32min\u001b[0m \u001b[0mkwargs\u001b[0m\u001b[0;34m:\u001b[0m\u001b[0;34m\u001b[0m\u001b[0;34m\u001b[0m\u001b[0m\n\u001b[1;32m    151\u001b[0m                     \u001b[0mparams\u001b[0m\u001b[0;34m[\u001b[0m\u001b[0mp\u001b[0m\u001b[0;34m]\u001b[0m \u001b[0;34m=\u001b[0m \u001b[0mkwargs\u001b[0m\u001b[0;34m.\u001b[0m\u001b[0mpop\u001b[0m\u001b[0;34m(\u001b[0m\u001b[0mp\u001b[0m\u001b[0;34m)\u001b[0m\u001b[0;34m\u001b[0m\u001b[0;34m\u001b[0m\u001b[0m\n\u001b[0;32m--> 152\u001b[0;31m             \u001b[0;32mreturn\u001b[0m \u001b[0mfunc\u001b[0m\u001b[0;34m(\u001b[0m\u001b[0;34m*\u001b[0m\u001b[0margs\u001b[0m\u001b[0;34m,\u001b[0m \u001b[0mparams\u001b[0m\u001b[0;34m=\u001b[0m\u001b[0mparams\u001b[0m\u001b[0;34m,\u001b[0m \u001b[0mheaders\u001b[0m\u001b[0;34m=\u001b[0m\u001b[0mheaders\u001b[0m\u001b[0;34m,\u001b[0m \u001b[0;34m**\u001b[0m\u001b[0mkwargs\u001b[0m\u001b[0;34m)\u001b[0m\u001b[0;34m\u001b[0m\u001b[0;34m\u001b[0m\u001b[0m\n\u001b[0m\u001b[1;32m    153\u001b[0m \u001b[0;34m\u001b[0m\u001b[0m\n\u001b[1;32m    154\u001b[0m         \u001b[0;32mreturn\u001b[0m \u001b[0m_wrapped\u001b[0m\u001b[0;34m\u001b[0m\u001b[0;34m\u001b[0m\u001b[0m\n",
      "\u001b[0;32m~/miniconda3/envs/transformerlab/lib/python3.8/site-packages/elasticsearch/client/__init__.py\u001b[0m in \u001b[0;36msearch\u001b[0;34m(self, body, index, doc_type, params, headers)\u001b[0m\n\u001b[1;32m   1656\u001b[0m             \u001b[0mparams\u001b[0m\u001b[0;34m[\u001b[0m\u001b[0;34m\"from\"\u001b[0m\u001b[0;34m]\u001b[0m \u001b[0;34m=\u001b[0m \u001b[0mparams\u001b[0m\u001b[0;34m.\u001b[0m\u001b[0mpop\u001b[0m\u001b[0;34m(\u001b[0m\u001b[0;34m\"from_\"\u001b[0m\u001b[0;34m)\u001b[0m\u001b[0;34m\u001b[0m\u001b[0;34m\u001b[0m\u001b[0m\n\u001b[1;32m   1657\u001b[0m \u001b[0;34m\u001b[0m\u001b[0m\n\u001b[0;32m-> 1658\u001b[0;31m         return self.transport.perform_request(\n\u001b[0m\u001b[1;32m   1659\u001b[0m             \u001b[0;34m\"POST\"\u001b[0m\u001b[0;34m,\u001b[0m\u001b[0;34m\u001b[0m\u001b[0;34m\u001b[0m\u001b[0m\n\u001b[1;32m   1660\u001b[0m             \u001b[0m_make_path\u001b[0m\u001b[0;34m(\u001b[0m\u001b[0mindex\u001b[0m\u001b[0;34m,\u001b[0m \u001b[0mdoc_type\u001b[0m\u001b[0;34m,\u001b[0m \u001b[0;34m\"_search\"\u001b[0m\u001b[0;34m)\u001b[0m\u001b[0;34m,\u001b[0m\u001b[0;34m\u001b[0m\u001b[0;34m\u001b[0m\u001b[0m\n",
      "\u001b[0;32m~/miniconda3/envs/transformerlab/lib/python3.8/site-packages/elasticsearch/transport.py\u001b[0m in \u001b[0;36mperform_request\u001b[0;34m(self, method, url, headers, params, body)\u001b[0m\n\u001b[1;32m    388\u001b[0m                     \u001b[0;31m# raise exception on last retry\u001b[0m\u001b[0;34m\u001b[0m\u001b[0;34m\u001b[0m\u001b[0;34m\u001b[0m\u001b[0m\n\u001b[1;32m    389\u001b[0m                     \u001b[0;32mif\u001b[0m \u001b[0mattempt\u001b[0m \u001b[0;34m==\u001b[0m \u001b[0mself\u001b[0m\u001b[0;34m.\u001b[0m\u001b[0mmax_retries\u001b[0m\u001b[0;34m:\u001b[0m\u001b[0;34m\u001b[0m\u001b[0;34m\u001b[0m\u001b[0m\n\u001b[0;32m--> 390\u001b[0;31m                         \u001b[0;32mraise\u001b[0m \u001b[0me\u001b[0m\u001b[0;34m\u001b[0m\u001b[0;34m\u001b[0m\u001b[0m\n\u001b[0m\u001b[1;32m    391\u001b[0m                 \u001b[0;32melse\u001b[0m\u001b[0;34m:\u001b[0m\u001b[0;34m\u001b[0m\u001b[0;34m\u001b[0m\u001b[0m\n\u001b[1;32m    392\u001b[0m                     \u001b[0;32mraise\u001b[0m \u001b[0me\u001b[0m\u001b[0;34m\u001b[0m\u001b[0;34m\u001b[0m\u001b[0m\n",
      "\u001b[0;32m~/miniconda3/envs/transformerlab/lib/python3.8/site-packages/elasticsearch/transport.py\u001b[0m in \u001b[0;36mperform_request\u001b[0;34m(self, method, url, headers, params, body)\u001b[0m\n\u001b[1;32m    356\u001b[0m \u001b[0;34m\u001b[0m\u001b[0m\n\u001b[1;32m    357\u001b[0m             \u001b[0;32mtry\u001b[0m\u001b[0;34m:\u001b[0m\u001b[0;34m\u001b[0m\u001b[0;34m\u001b[0m\u001b[0m\n\u001b[0;32m--> 358\u001b[0;31m                 status, headers_response, data = connection.perform_request(\n\u001b[0m\u001b[1;32m    359\u001b[0m                     \u001b[0mmethod\u001b[0m\u001b[0;34m,\u001b[0m\u001b[0;34m\u001b[0m\u001b[0;34m\u001b[0m\u001b[0m\n\u001b[1;32m    360\u001b[0m                     \u001b[0murl\u001b[0m\u001b[0;34m,\u001b[0m\u001b[0;34m\u001b[0m\u001b[0;34m\u001b[0m\u001b[0m\n",
      "\u001b[0;32m~/miniconda3/envs/transformerlab/lib/python3.8/site-packages/elasticsearch/connection/http_urllib3.py\u001b[0m in \u001b[0;36mperform_request\u001b[0;34m(self, method, url, params, body, timeout, ignore, headers)\u001b[0m\n\u001b[1;32m    256\u001b[0m             \u001b[0;32mif\u001b[0m \u001b[0misinstance\u001b[0m\u001b[0;34m(\u001b[0m\u001b[0me\u001b[0m\u001b[0;34m,\u001b[0m \u001b[0mReadTimeoutError\u001b[0m\u001b[0;34m)\u001b[0m\u001b[0;34m:\u001b[0m\u001b[0;34m\u001b[0m\u001b[0;34m\u001b[0m\u001b[0m\n\u001b[1;32m    257\u001b[0m                 \u001b[0;32mraise\u001b[0m \u001b[0mConnectionTimeout\u001b[0m\u001b[0;34m(\u001b[0m\u001b[0;34m\"TIMEOUT\"\u001b[0m\u001b[0;34m,\u001b[0m \u001b[0mstr\u001b[0m\u001b[0;34m(\u001b[0m\u001b[0me\u001b[0m\u001b[0;34m)\u001b[0m\u001b[0;34m,\u001b[0m \u001b[0me\u001b[0m\u001b[0;34m)\u001b[0m\u001b[0;34m\u001b[0m\u001b[0;34m\u001b[0m\u001b[0m\n\u001b[0;32m--> 258\u001b[0;31m             \u001b[0;32mraise\u001b[0m \u001b[0mConnectionError\u001b[0m\u001b[0;34m(\u001b[0m\u001b[0;34m\"N/A\"\u001b[0m\u001b[0;34m,\u001b[0m \u001b[0mstr\u001b[0m\u001b[0;34m(\u001b[0m\u001b[0me\u001b[0m\u001b[0;34m)\u001b[0m\u001b[0;34m,\u001b[0m \u001b[0me\u001b[0m\u001b[0;34m)\u001b[0m\u001b[0;34m\u001b[0m\u001b[0;34m\u001b[0m\u001b[0m\n\u001b[0m\u001b[1;32m    259\u001b[0m \u001b[0;34m\u001b[0m\u001b[0m\n\u001b[1;32m    260\u001b[0m         \u001b[0;31m# raise warnings if any from the 'Warnings' header.\u001b[0m\u001b[0;34m\u001b[0m\u001b[0;34m\u001b[0m\u001b[0;34m\u001b[0m\u001b[0m\n",
      "\u001b[0;31mConnectionError\u001b[0m: ConnectionError(<urllib3.connection.HTTPConnection object at 0x7ff914bc2d00>: Failed to establish a new connection: [Errno 111] Connection refused) caused by: NewConnectionError(<urllib3.connection.HTTPConnection object at 0x7ff914bc2d00>: Failed to establish a new connection: [Errno 111] Connection refused)"
     ]
    }
   ],
   "source": [
    "query = \"Is a snare included?\"\n",
    "# DIY drumkit\n",
    "asin = \"B009VDW4OW\"\n",
    "number_of_answers_to_fetch = 3\n",
    "\n",
    "prediction = pipe.run(query=query, filters={\"asin\": [asin]}, top_k_retriever=10, top_k_reader=number_of_answers_to_fetch)\n",
    "print(f\"Question: {prediction['query']}\")\n",
    "print(\"\\n\")\n",
    "for i in range(number_of_answers_to_fetch):\n",
    "    print(f\"#{i+1}\")\n",
    "    print(f\"Answer: {prediction['answers'][i]['answer']}\")\n",
    "    print(f\"ASIN: {prediction['answers'][i]['meta']['asin']}\")\n",
    "    print(f\"Is answerable?: {prediction['answers'][i]['meta']['is_answerable']}\")\n",
    "    print(f\"Context: {prediction['answers'][i]['context']}\")\n",
    "    print('\\n\\n')"
   ]
  },
  {
   "cell_type": "markdown",
   "metadata": {},
   "source": [
    "### Evaluation\n",
    "\n",
    "#### New reader"
   ]
  },
  {
   "cell_type": "code",
   "execution_count": null,
   "metadata": {},
   "outputs": [
    {
     "name": "stderr",
     "output_type": "stream",
     "text": [
      "Preprocessing Dataset data/amazon-qa/val-qar_squad-music.json: 100%|██████████| 1828/1828 [00:03<00:00, 507.82 Dicts/s]\n",
      "Evaluating: 100%|██████████| 238/238 [02:16<00:00,  1.74it/s]\n"
     ]
    },
    {
     "name": "stdout",
     "output_type": "stream",
     "text": [
      "Reader Top-N-Accuracy: 0.5\n",
      "Reader Exact Match: 0.0\n",
      "Reader F1-Score: 0.0\n"
     ]
    }
   ],
   "source": [
    "reader_eval_results = new_reader.eval_on_file(train_data, \"val-qar_squad-music.json\", device='cuda')\n",
    "\n",
    "## Reader Top-N-Accuracy is the proportion of predicted answers that match with their corresponding correct answer\n",
    "print(\"Reader Top-N-Accuracy:\", reader_eval_results[\"top_n_accuracy\"])\n",
    "## Reader Exact Match is the proportion of questions where the predicted answer is exactly the same as the correct answer\n",
    "print(\"Reader Exact Match:\", reader_eval_results[\"EM\"])\n",
    "## Reader F1-Score is the average overlap between the predicted answers and the correct answers\n",
    "print(\"Reader F1-Score:\", reader_eval_results[\"f1\"])"
   ]
  },
  {
   "cell_type": "markdown",
   "metadata": {},
   "source": [
    "#### SQuAD reader"
   ]
  },
  {
   "cell_type": "code",
   "execution_count": null,
   "metadata": {},
   "outputs": [
    {
     "name": "stderr",
     "output_type": "stream",
     "text": [
      "Preprocessing Dataset data/amazon-qa/train-qar_squad-music.json: 100%|██████████| 2100/2100 [00:03<00:00, 664.52 Dicts/s]\n",
      "Evaluating: 100%|██████████| 210/210 [02:00<00:00,  1.75it/s]\n"
     ]
    },
    {
     "name": "stdout",
     "output_type": "stream",
     "text": [
      "Reader Top-N-Accuracy: 0.0\n",
      "Reader Exact Match: 0.0\n",
      "Reader F1-Score: 0.0\n"
     ]
    }
   ],
   "source": [
    "reader_eval_results = reader.eval_on_file(train_data, \"train-qar_squad-music.json\", device='cuda')\n",
    "\n",
    "## Reader Top-N-Accuracy is the proportion of predicted answers that match with their corresponding correct answer\n",
    "print(\"Reader Top-N-Accuracy:\", reader_eval_results[\"top_n_accuracy\"])\n",
    "## Reader Exact Match is the proportion of questions where the predicted answer is exactly the same as the correct answer\n",
    "print(\"Reader Exact Match:\", reader_eval_results[\"EM\"])\n",
    "## Reader F1-Score is the average overlap between the predicted answers and the correct answers\n",
    "print(\"Reader F1-Score:\", reader_eval_results[\"f1\"])"
   ]
  },
  {
   "cell_type": "code",
   "execution_count": null,
   "metadata": {},
   "outputs": [],
   "source": []
  }
 ],
 "metadata": {
  "kernelspec": {
   "display_name": "transformerlab",
   "language": "python",
   "name": "transformerlab"
  }
 },
 "nbformat": 4,
 "nbformat_minor": 4
}
