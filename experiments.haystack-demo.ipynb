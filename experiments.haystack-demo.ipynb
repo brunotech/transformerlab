{
 "cells": [
  {
   "cell_type": "markdown",
   "metadata": {},
   "source": [
    "## Imports"
   ]
  },
  {
   "cell_type": "code",
   "execution_count": null,
   "metadata": {},
   "outputs": [],
   "source": [
    "%load_ext autoreload\n",
    "%autoreload 2"
   ]
  },
  {
   "cell_type": "code",
   "execution_count": null,
   "metadata": {},
   "outputs": [
    {
     "name": "stderr",
     "output_type": "stream",
     "text": [
      "03/04/2021 20:34:00 - INFO - faiss.loader -   Loading faiss with AVX2 support.\n",
      "03/04/2021 20:34:00 - INFO - faiss.loader -   Loading faiss.\n",
      "03/04/2021 20:34:01 - INFO - farm.modeling.prediction_head -   Better speed can be achieved with apex installed from https://www.github.com/nvidia/apex .\n"
     ]
    }
   ],
   "source": [
    "from pathlib import Path\n",
    "import pandas as pd\n",
    "from tqdm import tqdm\n",
    "import json\n",
    "import os\n",
    "from subprocess import Popen, PIPE, STDOUT\n",
    "\n",
    "from haystack.preprocessor.cleaning import clean_wiki_text\n",
    "from haystack.preprocessor.utils import convert_files_to_dicts, fetch_archive_from_http\n",
    "from haystack.reader.farm import FARMReader\n",
    "from haystack.reader.transformers import TransformersReader\n",
    "from haystack.utils import print_answers\n",
    "from haystack.document_store.elasticsearch import ElasticsearchDocumentStore\n",
    "from haystack.retriever.sparse import ElasticsearchRetriever\n",
    "from haystack.pipeline import ExtractiveQAPipeline"
   ]
  },
  {
   "cell_type": "markdown",
   "metadata": {},
   "source": [
    "## Load data"
   ]
  },
  {
   "cell_type": "markdown",
   "metadata": {},
   "source": [
    "There are four types of dataset associated with AmazonQA:\n",
    "\n",
    "* Products: combination of Amazon reviews and questions\n",
    "* QA pairs: heuristics applied to the products dataset to generate QA pairs and query-relevant review snippets (the main contribution from the paper)\n",
    "* SQuAD style: conversion of QA pairs to extractive QA format\n",
    "* MS MARCO: conversion of QA pairs to abstractive QA format'\n",
    "\n",
    "Task:\n",
    "\n",
    "> Given a set of product reviews and a question concerning a specific product, generate an informative\n",
    "natural language answer.\n",
    "\n",
    "So could build a system where you search for a product and then ask questions about that product. Will need a way to lookup Amazon Standard Identification Number (ASIN) per product to be human readable. "
   ]
  },
  {
   "cell_type": "code",
   "execution_count": null,
   "metadata": {},
   "outputs": [
    {
     "name": "stdout",
     "output_type": "stream",
     "text": [
      "meta_Computers.json.gz\ttrain-qar_clean.jsonl\t train-qar_products.jsonl\n",
      "train-qar.jsonl\t\ttrain-qar_meta.jsonl\t train-qar_squad.jsonl\n",
      "train-qar.jsonl.bak\ttrain-qar_msmarco.jsonl\n"
     ]
    }
   ],
   "source": [
    "data = Path('./data/amazon-qa')\n",
    "!ls {data}"
   ]
  },
  {
   "cell_type": "markdown",
   "metadata": {},
   "source": [
    "### Products"
   ]
  },
  {
   "cell_type": "code",
   "execution_count": null,
   "metadata": {},
   "outputs": [
    {
     "data": {
      "text/html": [
       "<div>\n",
       "<style scoped>\n",
       "    .dataframe tbody tr th:only-of-type {\n",
       "        vertical-align: middle;\n",
       "    }\n",
       "\n",
       "    .dataframe tbody tr th {\n",
       "        vertical-align: top;\n",
       "    }\n",
       "\n",
       "    .dataframe thead th {\n",
       "        text-align: right;\n",
       "    }\n",
       "</style>\n",
       "<table border=\"1\" class=\"dataframe\">\n",
       "  <thead>\n",
       "    <tr style=\"text-align: right;\">\n",
       "      <th></th>\n",
       "      <th>asin</th>\n",
       "      <th>questions</th>\n",
       "      <th>reviews</th>\n",
       "      <th>category</th>\n",
       "    </tr>\n",
       "  </thead>\n",
       "  <tbody>\n",
       "    <tr>\n",
       "      <th>0</th>\n",
       "      <td>B007F357HQ</td>\n",
       "      <td>[{'questionText': 'I had shoulder surgery 6 months ago and have a 4\" wide sc...</td>\n",
       "      <td>[{'helpful': [1, 1], 'reviewText': 'Love this - wasn't sure I would as I tho...</td>\n",
       "      <td>Beauty</td>\n",
       "    </tr>\n",
       "    <tr>\n",
       "      <th>1</th>\n",
       "      <td>B00CRAJZFW</td>\n",
       "      <td>[{'questionText': 'is it for iphones', 'questionType': 'yesno', 'answers': [...</td>\n",
       "      <td>[{'helpful': [2, 4], 'reviewText': 'This product arrived exactly as pictured...</td>\n",
       "      <td>Cell_Phones_and_Accessories</td>\n",
       "    </tr>\n",
       "    <tr>\n",
       "      <th>2</th>\n",
       "      <td>B002ZAZ7H4</td>\n",
       "      <td>[{'questionText': 'what is the width and ht of the cells?', 'questionType': ...</td>\n",
       "      <td>[{'helpful': [0, 0], 'reviewText': 'Very well constructed and designed.I lik...</td>\n",
       "      <td>Home_and_Kitchen</td>\n",
       "    </tr>\n",
       "    <tr>\n",
       "      <th>3</th>\n",
       "      <td>B008SCP8UE</td>\n",
       "      <td>[{'questionText': 'is it big for a bunny', 'questionType': 'yesno', 'answers...</td>\n",
       "      <td>[{'helpful': [0, 0], 'reviewText': 'Absolutely love!!! It was cute and easy ...</td>\n",
       "      <td>Pet_Supplies</td>\n",
       "    </tr>\n",
       "    <tr>\n",
       "      <th>4</th>\n",
       "      <td>B001O4F8Y4</td>\n",
       "      <td>[{'questionText': 'We are having a problem with the range. We have an old ho...</td>\n",
       "      <td>[{'helpful': [0, 0], 'reviewText': 'We have a two story home and notice that...</td>\n",
       "      <td>Tools_and_Home_Improvement</td>\n",
       "    </tr>\n",
       "  </tbody>\n",
       "</table>\n",
       "</div>"
      ],
      "text/plain": [
       "         asin  \\\n",
       "0  B007F357HQ   \n",
       "1  B00CRAJZFW   \n",
       "2  B002ZAZ7H4   \n",
       "3  B008SCP8UE   \n",
       "4  B001O4F8Y4   \n",
       "\n",
       "                                                                         questions  \\\n",
       "0  [{'questionText': 'I had shoulder surgery 6 months ago and have a 4\" wide sc...   \n",
       "1  [{'questionText': 'is it for iphones', 'questionType': 'yesno', 'answers': [...   \n",
       "2  [{'questionText': 'what is the width and ht of the cells?', 'questionType': ...   \n",
       "3  [{'questionText': 'is it big for a bunny', 'questionType': 'yesno', 'answers...   \n",
       "4  [{'questionText': 'We are having a problem with the range. We have an old ho...   \n",
       "\n",
       "                                                                           reviews  \\\n",
       "0  [{'helpful': [1, 1], 'reviewText': 'Love this - wasn't sure I would as I tho...   \n",
       "1  [{'helpful': [2, 4], 'reviewText': 'This product arrived exactly as pictured...   \n",
       "2  [{'helpful': [0, 0], 'reviewText': 'Very well constructed and designed.I lik...   \n",
       "3  [{'helpful': [0, 0], 'reviewText': 'Absolutely love!!! It was cute and easy ...   \n",
       "4  [{'helpful': [0, 0], 'reviewText': 'We have a two story home and notice that...   \n",
       "\n",
       "                      category  \n",
       "0                       Beauty  \n",
       "1  Cell_Phones_and_Accessories  \n",
       "2             Home_and_Kitchen  \n",
       "3                 Pet_Supplies  \n",
       "4   Tools_and_Home_Improvement  "
      ]
     },
     "execution_count": null,
     "metadata": {},
     "output_type": "execute_result"
    }
   ],
   "source": [
    "products_df = pd.read_json(data/'train-qar_products.jsonl', lines=True, nrows=10)\n",
    "products_df.head()"
   ]
  },
  {
   "cell_type": "markdown",
   "metadata": {},
   "source": [
    "### QA pairs"
   ]
  },
  {
   "cell_type": "code",
   "execution_count": null,
   "metadata": {},
   "outputs": [
    {
     "data": {
      "text/html": [
       "<div>\n",
       "<style scoped>\n",
       "    .dataframe tbody tr th:only-of-type {\n",
       "        vertical-align: middle;\n",
       "    }\n",
       "\n",
       "    .dataframe tbody tr th {\n",
       "        vertical-align: top;\n",
       "    }\n",
       "\n",
       "    .dataframe thead th {\n",
       "        text-align: right;\n",
       "    }\n",
       "</style>\n",
       "<table border=\"1\" class=\"dataframe\">\n",
       "  <thead>\n",
       "    <tr style=\"text-align: right;\">\n",
       "      <th></th>\n",
       "      <th>asin</th>\n",
       "      <th>category</th>\n",
       "      <th>questionText</th>\n",
       "      <th>questionType</th>\n",
       "      <th>review_snippets</th>\n",
       "      <th>answers</th>\n",
       "      <th>is_answerable</th>\n",
       "      <th>qid</th>\n",
       "    </tr>\n",
       "  </thead>\n",
       "  <tbody>\n",
       "    <tr>\n",
       "      <th>0</th>\n",
       "      <td>B000MP20BU</td>\n",
       "      <td>Toys_and_Games</td>\n",
       "      <td>Many have stated similar to the following: \"Paint Chips Off Easily; Pieces a...</td>\n",
       "      <td>descriptive</td>\n",
       "      <td>[A lot of reviewers have said things about this puzzle not being that durabl...</td>\n",
       "      <td>[{'answerText': 'The paint has held up through two toddlers and still going ...</td>\n",
       "      <td>1</td>\n",
       "      <td>0</td>\n",
       "    </tr>\n",
       "    <tr>\n",
       "      <th>1</th>\n",
       "      <td>B00BOXZZU2</td>\n",
       "      <td>Health_and_Personal_Care</td>\n",
       "      <td>Will these work with the Phillips sonicare handles?</td>\n",
       "      <td>descriptive</td>\n",
       "      <td>[I didn't even realize such a small electric tooth-brush existed till I acci...</td>\n",
       "      <td>[{'answerText': 'The answer unfortunately, is no. The Slim Sonic is a compac...</td>\n",
       "      <td>0</td>\n",
       "      <td>1</td>\n",
       "    </tr>\n",
       "    <tr>\n",
       "      <th>2</th>\n",
       "      <td>B00CSYD4M2</td>\n",
       "      <td>Cell_Phones_and_Accessories</td>\n",
       "      <td>What kind of sim card it use?</td>\n",
       "      <td>descriptive</td>\n",
       "      <td>[I bought this phone a few weeks ago.I am using it in Costa Rica with a Kolb...</td>\n",
       "      <td>[{'answerText': 'This phone is an unlocked GSM device, it requires a MINI SI...</td>\n",
       "      <td>1</td>\n",
       "      <td>2</td>\n",
       "    </tr>\n",
       "    <tr>\n",
       "      <th>3</th>\n",
       "      <td>B00C5TNSRG</td>\n",
       "      <td>Home_and_Kitchen</td>\n",
       "      <td>does anyone know if this dinnerware set does not contain lead or traces of l...</td>\n",
       "      <td>descriptive</td>\n",
       "      <td>[I love my new dishes! They are so versatile. I can set a casual table and y...</td>\n",
       "      <td>[{'answerText': 'According to the internet search:   three-layer glass lamin...</td>\n",
       "      <td>0</td>\n",
       "      <td>3</td>\n",
       "    </tr>\n",
       "    <tr>\n",
       "      <th>4</th>\n",
       "      <td>B0099XQBD4</td>\n",
       "      <td>Musical_Instruments</td>\n",
       "      <td>I'm thinking of getting in to modular synthesizers.  Would this work for that?</td>\n",
       "      <td>descriptive</td>\n",
       "      <td>[Will order another in the near future and arrived very quickly. Easy to ins...</td>\n",
       "      <td>[{'answerText': 'Yes it will.', 'answerType': 'NA', 'helpful': [1, 1]}, {'an...</td>\n",
       "      <td>0</td>\n",
       "      <td>4</td>\n",
       "    </tr>\n",
       "  </tbody>\n",
       "</table>\n",
       "</div>"
      ],
      "text/plain": [
       "         asin                     category  \\\n",
       "0  B000MP20BU               Toys_and_Games   \n",
       "1  B00BOXZZU2     Health_and_Personal_Care   \n",
       "2  B00CSYD4M2  Cell_Phones_and_Accessories   \n",
       "3  B00C5TNSRG             Home_and_Kitchen   \n",
       "4  B0099XQBD4          Musical_Instruments   \n",
       "\n",
       "                                                                      questionText  \\\n",
       "0  Many have stated similar to the following: \"Paint Chips Off Easily; Pieces a...   \n",
       "1                              Will these work with the Phillips sonicare handles?   \n",
       "2                                                    What kind of sim card it use?   \n",
       "3  does anyone know if this dinnerware set does not contain lead or traces of l...   \n",
       "4   I'm thinking of getting in to modular synthesizers.  Would this work for that?   \n",
       "\n",
       "  questionType  \\\n",
       "0  descriptive   \n",
       "1  descriptive   \n",
       "2  descriptive   \n",
       "3  descriptive   \n",
       "4  descriptive   \n",
       "\n",
       "                                                                   review_snippets  \\\n",
       "0  [A lot of reviewers have said things about this puzzle not being that durabl...   \n",
       "1  [I didn't even realize such a small electric tooth-brush existed till I acci...   \n",
       "2  [I bought this phone a few weeks ago.I am using it in Costa Rica with a Kolb...   \n",
       "3  [I love my new dishes! They are so versatile. I can set a casual table and y...   \n",
       "4  [Will order another in the near future and arrived very quickly. Easy to ins...   \n",
       "\n",
       "                                                                           answers  \\\n",
       "0  [{'answerText': 'The paint has held up through two toddlers and still going ...   \n",
       "1  [{'answerText': 'The answer unfortunately, is no. The Slim Sonic is a compac...   \n",
       "2  [{'answerText': 'This phone is an unlocked GSM device, it requires a MINI SI...   \n",
       "3  [{'answerText': 'According to the internet search:   three-layer glass lamin...   \n",
       "4  [{'answerText': 'Yes it will.', 'answerType': 'NA', 'helpful': [1, 1]}, {'an...   \n",
       "\n",
       "   is_answerable  qid  \n",
       "0              1    0  \n",
       "1              0    1  \n",
       "2              1    2  \n",
       "3              0    3  \n",
       "4              0    4  "
      ]
     },
     "execution_count": null,
     "metadata": {},
     "output_type": "execute_result"
    }
   ],
   "source": [
    "qar_df = pd.read_json(data/'train-qar.jsonl', lines=True, nrows=10)\n",
    "qar_df.head()"
   ]
  },
  {
   "cell_type": "markdown",
   "metadata": {},
   "source": [
    "### SQuAD"
   ]
  },
  {
   "cell_type": "code",
   "execution_count": null,
   "metadata": {},
   "outputs": [
    {
     "data": {
      "text/html": [
       "<div>\n",
       "<style scoped>\n",
       "    .dataframe tbody tr th:only-of-type {\n",
       "        vertical-align: middle;\n",
       "    }\n",
       "\n",
       "    .dataframe tbody tr th {\n",
       "        vertical-align: top;\n",
       "    }\n",
       "\n",
       "    .dataframe thead th {\n",
       "        text-align: right;\n",
       "    }\n",
       "</style>\n",
       "<table border=\"1\" class=\"dataframe\">\n",
       "  <thead>\n",
       "    <tr style=\"text-align: right;\">\n",
       "      <th></th>\n",
       "      <th>context</th>\n",
       "      <th>qas</th>\n",
       "    </tr>\n",
       "  </thead>\n",
       "  <tbody>\n",
       "    <tr>\n",
       "      <th>0</th>\n",
       "      <td>This is the perfect kit to get started. Everything is miniaturized and comes...</td>\n",
       "      <td>[{'id': 331392, 'is_impossible': False, 'question': 'What exactly comes in t...</td>\n",
       "    </tr>\n",
       "    <tr>\n",
       "      <th>1</th>\n",
       "      <td>... it doesn't last quite as long as advertised so therefore, I had to conti...</td>\n",
       "      <td>[{'id': 684949, 'is_impossible': False, 'question': 'How do you apply this p...</td>\n",
       "    </tr>\n",
       "    <tr>\n",
       "      <th>2</th>\n",
       "      <td>This is a pretty cool filter. If you spin it around it will totally change t...</td>\n",
       "      <td>[{'id': 604553, 'is_impossible': False, 'question': 'Does this come with a c...</td>\n",
       "    </tr>\n",
       "    <tr>\n",
       "      <th>3</th>\n",
       "      <td>This product was the exact match of the original manufactured equipment.. On...</td>\n",
       "      <td>[{'id': 341653, 'is_impossible': False, 'question': 'How to remove midgate r...</td>\n",
       "    </tr>\n",
       "    <tr>\n",
       "      <th>4</th>\n",
       "      <td>Nice kit. Works well. Adjustable for proper sighting. Good quality. Instruct...</td>\n",
       "      <td>[{'id': 192046, 'is_impossible': False, 'question': 'does this include the m...</td>\n",
       "    </tr>\n",
       "  </tbody>\n",
       "</table>\n",
       "</div>"
      ],
      "text/plain": [
       "                                                                           context  \\\n",
       "0  This is the perfect kit to get started. Everything is miniaturized and comes...   \n",
       "1  ... it doesn't last quite as long as advertised so therefore, I had to conti...   \n",
       "2  This is a pretty cool filter. If you spin it around it will totally change t...   \n",
       "3  This product was the exact match of the original manufactured equipment.. On...   \n",
       "4  Nice kit. Works well. Adjustable for proper sighting. Good quality. Instruct...   \n",
       "\n",
       "                                                                               qas  \n",
       "0  [{'id': 331392, 'is_impossible': False, 'question': 'What exactly comes in t...  \n",
       "1  [{'id': 684949, 'is_impossible': False, 'question': 'How do you apply this p...  \n",
       "2  [{'id': 604553, 'is_impossible': False, 'question': 'Does this come with a c...  \n",
       "3  [{'id': 341653, 'is_impossible': False, 'question': 'How to remove midgate r...  \n",
       "4  [{'id': 192046, 'is_impossible': False, 'question': 'does this include the m...  "
      ]
     },
     "execution_count": null,
     "metadata": {},
     "output_type": "execute_result"
    }
   ],
   "source": [
    "squad_df = pd.read_json(data/'train-qar_squad.jsonl', lines=True, nrows=10)\n",
    "squad_df.head()"
   ]
  },
  {
   "cell_type": "markdown",
   "metadata": {},
   "source": [
    "### MARCO"
   ]
  },
  {
   "cell_type": "code",
   "execution_count": null,
   "metadata": {},
   "outputs": [
    {
     "data": {
      "text/html": [
       "<div>\n",
       "<style scoped>\n",
       "    .dataframe tbody tr th:only-of-type {\n",
       "        vertical-align: middle;\n",
       "    }\n",
       "\n",
       "    .dataframe tbody tr th {\n",
       "        vertical-align: top;\n",
       "    }\n",
       "\n",
       "    .dataframe thead th {\n",
       "        text-align: right;\n",
       "    }\n",
       "</style>\n",
       "<table border=\"1\" class=\"dataframe\">\n",
       "  <thead>\n",
       "    <tr style=\"text-align: right;\">\n",
       "      <th></th>\n",
       "      <th>answers</th>\n",
       "      <th>passages</th>\n",
       "      <th>query</th>\n",
       "      <th>query_id</th>\n",
       "      <th>query_type</th>\n",
       "      <th>wellFormedAnswers</th>\n",
       "    </tr>\n",
       "  </thead>\n",
       "  <tbody>\n",
       "    <tr>\n",
       "      <th>0</th>\n",
       "      <td>[If your VHS tapes are getting old you may have problems like that.  Also He...</td>\n",
       "      <td>[{'is_selected': 1, 'url': '', 'passage_text': 'This product arrived in a &amp;#...</td>\n",
       "      <td>I am having issues with dropped video. Audio is fine. I'm getting video abou...</td>\n",
       "      <td>384160</td>\n",
       "      <td>DESCRIPTION</td>\n",
       "      <td>[]</td>\n",
       "    </tr>\n",
       "    <tr>\n",
       "      <th>1</th>\n",
       "      <td>[No they are not made in USA  not the ones I got sorry, I am not sure. I bel...</td>\n",
       "      <td>[{'is_selected': 1, 'url': '', 'passage_text': 'My wife and I looked for mon...</td>\n",
       "      <td>Are all mattress materials made in the USA?</td>\n",
       "      <td>282084</td>\n",
       "      <td>DESCRIPTION</td>\n",
       "      <td>[]</td>\n",
       "    </tr>\n",
       "    <tr>\n",
       "      <th>2</th>\n",
       "      <td>[It's not really suited for handling large debris. It should only be used fo...</td>\n",
       "      <td>[{'is_selected': 1, 'url': '', 'passage_text': 'We purchased our home a few ...</td>\n",
       "      <td>How well does it handle leaves?  especially large leaves?  I had a KK severa...</td>\n",
       "      <td>454427</td>\n",
       "      <td>DESCRIPTION</td>\n",
       "      <td>[]</td>\n",
       "    </tr>\n",
       "    <tr>\n",
       "      <th>3</th>\n",
       "      <td>[There is no adapter, just the micro SD card., It comes with a standard SD c...</td>\n",
       "      <td>[{'is_selected': 1, 'url': '', 'passage_text': 'I purchased this card for my...</td>\n",
       "      <td>Does this card come with the adapter for the larger slots as in a RaspberryPI?</td>\n",
       "      <td>193420</td>\n",
       "      <td>DESCRIPTION</td>\n",
       "      <td>[]</td>\n",
       "    </tr>\n",
       "    <tr>\n",
       "      <th>4</th>\n",
       "      <td>[I have done that to another grease gun before.  You would probably have to ...</td>\n",
       "      <td>[{'is_selected': 1, 'url': '', 'passage_text': 'The first one I got didn't w...</td>\n",
       "      <td>would this work with oil instead of grease?  I have a old milling machine wi...</td>\n",
       "      <td>661529</td>\n",
       "      <td>YESNO</td>\n",
       "      <td>[]</td>\n",
       "    </tr>\n",
       "  </tbody>\n",
       "</table>\n",
       "</div>"
      ],
      "text/plain": [
       "                                                                           answers  \\\n",
       "0  [If your VHS tapes are getting old you may have problems like that.  Also He...   \n",
       "1  [No they are not made in USA  not the ones I got sorry, I am not sure. I bel...   \n",
       "2  [It's not really suited for handling large debris. It should only be used fo...   \n",
       "3  [There is no adapter, just the micro SD card., It comes with a standard SD c...   \n",
       "4  [I have done that to another grease gun before.  You would probably have to ...   \n",
       "\n",
       "                                                                          passages  \\\n",
       "0  [{'is_selected': 1, 'url': '', 'passage_text': 'This product arrived in a &#...   \n",
       "1  [{'is_selected': 1, 'url': '', 'passage_text': 'My wife and I looked for mon...   \n",
       "2  [{'is_selected': 1, 'url': '', 'passage_text': 'We purchased our home a few ...   \n",
       "3  [{'is_selected': 1, 'url': '', 'passage_text': 'I purchased this card for my...   \n",
       "4  [{'is_selected': 1, 'url': '', 'passage_text': 'The first one I got didn't w...   \n",
       "\n",
       "                                                                             query  \\\n",
       "0  I am having issues with dropped video. Audio is fine. I'm getting video abou...   \n",
       "1                                      Are all mattress materials made in the USA?   \n",
       "2  How well does it handle leaves?  especially large leaves?  I had a KK severa...   \n",
       "3   Does this card come with the adapter for the larger slots as in a RaspberryPI?   \n",
       "4  would this work with oil instead of grease?  I have a old milling machine wi...   \n",
       "\n",
       "   query_id   query_type wellFormedAnswers  \n",
       "0    384160  DESCRIPTION                []  \n",
       "1    282084  DESCRIPTION                []  \n",
       "2    454427  DESCRIPTION                []  \n",
       "3    193420  DESCRIPTION                []  \n",
       "4    661529        YESNO                []  "
      ]
     },
     "execution_count": null,
     "metadata": {},
     "output_type": "execute_result"
    }
   ],
   "source": [
    "marco_df = pd.read_json(data/'train-qar_msmarco.jsonl', lines=True, nrows=10)\n",
    "marco_df.head()"
   ]
  },
  {
   "cell_type": "markdown",
   "metadata": {},
   "source": [
    "### Metadata\n",
    "Let's pick out the mapping from ASIN to QID from the training set:"
   ]
  },
  {
   "cell_type": "code",
   "execution_count": null,
   "metadata": {},
   "outputs": [
    {
     "name": "stderr",
     "output_type": "stream",
     "text": [
      "738776it [00:19, 38838.14it/s]\n"
     ]
    }
   ],
   "source": [
    "rows = []\n",
    "with open(data/'train-qar.jsonl', 'r') as f:\n",
    "    for _, line in tqdm(enumerate(f)):\n",
    "        row = json.loads(line)\n",
    "        rows.append((row['asin'], row['category'], row['qid'], row['is_answerable']))"
   ]
  },
  {
   "cell_type": "code",
   "execution_count": null,
   "metadata": {},
   "outputs": [
    {
     "data": {
      "text/html": [
       "<div>\n",
       "<style scoped>\n",
       "    .dataframe tbody tr th:only-of-type {\n",
       "        vertical-align: middle;\n",
       "    }\n",
       "\n",
       "    .dataframe tbody tr th {\n",
       "        vertical-align: top;\n",
       "    }\n",
       "\n",
       "    .dataframe thead th {\n",
       "        text-align: right;\n",
       "    }\n",
       "</style>\n",
       "<table border=\"1\" class=\"dataframe\">\n",
       "  <thead>\n",
       "    <tr style=\"text-align: right;\">\n",
       "      <th></th>\n",
       "      <th>asin</th>\n",
       "      <th>category</th>\n",
       "      <th>qid</th>\n",
       "      <th>is_answerable</th>\n",
       "    </tr>\n",
       "  </thead>\n",
       "  <tbody>\n",
       "    <tr>\n",
       "      <th>0</th>\n",
       "      <td>B000MP20BU</td>\n",
       "      <td>Toys_and_Games</td>\n",
       "      <td>0</td>\n",
       "      <td>1</td>\n",
       "    </tr>\n",
       "    <tr>\n",
       "      <th>1</th>\n",
       "      <td>B00BOXZZU2</td>\n",
       "      <td>Health_and_Personal_Care</td>\n",
       "      <td>1</td>\n",
       "      <td>0</td>\n",
       "    </tr>\n",
       "    <tr>\n",
       "      <th>2</th>\n",
       "      <td>B00CSYD4M2</td>\n",
       "      <td>Cell_Phones_and_Accessories</td>\n",
       "      <td>2</td>\n",
       "      <td>1</td>\n",
       "    </tr>\n",
       "    <tr>\n",
       "      <th>3</th>\n",
       "      <td>B00C5TNSRG</td>\n",
       "      <td>Home_and_Kitchen</td>\n",
       "      <td>3</td>\n",
       "      <td>0</td>\n",
       "    </tr>\n",
       "    <tr>\n",
       "      <th>4</th>\n",
       "      <td>B0099XQBD4</td>\n",
       "      <td>Musical_Instruments</td>\n",
       "      <td>4</td>\n",
       "      <td>0</td>\n",
       "    </tr>\n",
       "  </tbody>\n",
       "</table>\n",
       "</div>"
      ],
      "text/plain": [
       "         asin                     category  qid  is_answerable\n",
       "0  B000MP20BU               Toys_and_Games    0              1\n",
       "1  B00BOXZZU2     Health_and_Personal_Care    1              0\n",
       "2  B00CSYD4M2  Cell_Phones_and_Accessories    2              1\n",
       "3  B00C5TNSRG             Home_and_Kitchen    3              0\n",
       "4  B0099XQBD4          Musical_Instruments    4              0"
      ]
     },
     "execution_count": null,
     "metadata": {},
     "output_type": "execute_result"
    }
   ],
   "source": [
    "meta_df = pd.DataFrame(rows, columns=['asin', 'category', 'qid', 'is_answerable'])\n",
    "meta_df.head()"
   ]
  },
  {
   "cell_type": "code",
   "execution_count": null,
   "metadata": {},
   "outputs": [
    {
     "data": {
      "text/plain": [
       "(738776, 4)"
      ]
     },
     "execution_count": null,
     "metadata": {},
     "output_type": "execute_result"
    }
   ],
   "source": [
    "meta_df.shape"
   ]
  },
  {
   "cell_type": "code",
   "execution_count": null,
   "metadata": {},
   "outputs": [],
   "source": [
    "assert meta_df['qid'].nunique() == len(meta_df)"
   ]
  },
  {
   "cell_type": "code",
   "execution_count": null,
   "metadata": {},
   "outputs": [
    {
     "data": {
      "text/plain": [
       "Electronics                    169764\n",
       "Home_and_Kitchen               107423\n",
       "Sports_and_Outdoors             70824\n",
       "Tools_and_Home_Improvement      62995\n",
       "Health_and_Personal_Care        47589\n",
       "Automotive                      45892\n",
       "Cell_Phones_and_Accessories     42211\n",
       "Patio_Lawn_and_Garden           36693\n",
       "Toys_and_Games                  30838\n",
       "Office_Products                 26086\n",
       "Beauty                          24956\n",
       "Pet_Supplies                    21668\n",
       "Baby                            14427\n",
       "Musical_Instruments             14285\n",
       "Grocery_and_Gourmet_Food        11553\n",
       "Video_Games                      5901\n",
       "Clothing_Shoes_and_Jewelry       5671\n",
       "Name: category, dtype: int64"
      ]
     },
     "execution_count": null,
     "metadata": {},
     "output_type": "execute_result"
    }
   ],
   "source": [
    "meta_df['category'].value_counts()"
   ]
  },
  {
   "cell_type": "code",
   "execution_count": null,
   "metadata": {},
   "outputs": [
    {
     "data": {
      "text/plain": [
       "category\n",
       "Electronics                    28696\n",
       "Home_and_Kitchen               17640\n",
       "Sports_and_Outdoors            11881\n",
       "Tools_and_Home_Improvement     10283\n",
       "Automotive                      8172\n",
       "Health_and_Personal_Care        8051\n",
       "Cell_Phones_and_Accessories     7133\n",
       "Patio_Lawn_and_Garden           6108\n",
       "Toys_and_Games                  5725\n",
       "Beauty                          4450\n",
       "Office_Products                 4339\n",
       "Pet_Supplies                    3349\n",
       "Baby                            2466\n",
       "Musical_Instruments             2366\n",
       "Grocery_and_Gourmet_Food        2272\n",
       "Clothing_Shoes_and_Jewelry      1021\n",
       "Video_Games                      886\n",
       "Name: asin, dtype: int64"
      ]
     },
     "execution_count": null,
     "metadata": {},
     "output_type": "execute_result"
    }
   ],
   "source": [
    "meta_df.groupby('category')['asin'].nunique().sort_values(ascending=False)"
   ]
  },
  {
   "cell_type": "code",
   "execution_count": null,
   "metadata": {},
   "outputs": [
    {
     "data": {
      "text/plain": [
       "category                     is_answerable\n",
       "Automotive                   0                 23656\n",
       "                             1                 22236\n",
       "Baby                         1                 10255\n",
       "                             0                  4172\n",
       "Beauty                       1                 15243\n",
       "                             0                  9713\n",
       "Cell_Phones_and_Accessories  1                 27446\n",
       "                             0                 14765\n",
       "Clothing_Shoes_and_Jewelry   1                  3315\n",
       "                             0                  2356\n",
       "Electronics                  1                108614\n",
       "                             0                 61150\n",
       "Grocery_and_Gourmet_Food     1                  6774\n",
       "                             0                  4779\n",
       "Health_and_Personal_Care     1                 29539\n",
       "                             0                 18050\n",
       "Home_and_Kitchen             1                 66384\n",
       "                             0                 41039\n",
       "Musical_Instruments          1                  8694\n",
       "                             0                  5591\n",
       "Office_Products              1                 16862\n",
       "                             0                  9224\n",
       "Patio_Lawn_and_Garden        1                 22200\n",
       "                             0                 14493\n",
       "Pet_Supplies                 1                 14431\n",
       "                             0                  7237\n",
       "Sports_and_Outdoors          1                 43278\n",
       "                             0                 27546\n",
       "Tools_and_Home_Improvement   1                 36872\n",
       "                             0                 26123\n",
       "Toys_and_Games               1                 19128\n",
       "                             0                 11710\n",
       "Video_Games                  1                  4660\n",
       "                             0                  1241\n",
       "Name: is_answerable, dtype: int64"
      ]
     },
     "execution_count": null,
     "metadata": {},
     "output_type": "execute_result"
    }
   ],
   "source": [
    "meta_df.groupby('category')['is_answerable'].value_counts()"
   ]
  },
  {
   "cell_type": "code",
   "execution_count": null,
   "metadata": {},
   "outputs": [
    {
     "data": {
      "text/html": [
       "<div>\n",
       "<style scoped>\n",
       "    .dataframe tbody tr th:only-of-type {\n",
       "        vertical-align: middle;\n",
       "    }\n",
       "\n",
       "    .dataframe tbody tr th {\n",
       "        vertical-align: top;\n",
       "    }\n",
       "\n",
       "    .dataframe thead th {\n",
       "        text-align: right;\n",
       "    }\n",
       "</style>\n",
       "<table border=\"1\" class=\"dataframe\">\n",
       "  <thead>\n",
       "    <tr style=\"text-align: right;\">\n",
       "      <th></th>\n",
       "      <th>asin</th>\n",
       "      <th>category</th>\n",
       "      <th>qid</th>\n",
       "      <th>is_answerable</th>\n",
       "    </tr>\n",
       "  </thead>\n",
       "  <tbody>\n",
       "    <tr>\n",
       "      <th>4</th>\n",
       "      <td>B0099XQBD4</td>\n",
       "      <td>Musical_Instruments</td>\n",
       "      <td>4</td>\n",
       "      <td>0</td>\n",
       "    </tr>\n",
       "    <tr>\n",
       "      <th>55</th>\n",
       "      <td>B00F9ECDRU</td>\n",
       "      <td>Musical_Instruments</td>\n",
       "      <td>55</td>\n",
       "      <td>0</td>\n",
       "    </tr>\n",
       "    <tr>\n",
       "      <th>59</th>\n",
       "      <td>B0083FTVB8</td>\n",
       "      <td>Musical_Instruments</td>\n",
       "      <td>59</td>\n",
       "      <td>0</td>\n",
       "    </tr>\n",
       "    <tr>\n",
       "      <th>231</th>\n",
       "      <td>B005ETZ7NW</td>\n",
       "      <td>Musical_Instruments</td>\n",
       "      <td>231</td>\n",
       "      <td>0</td>\n",
       "    </tr>\n",
       "    <tr>\n",
       "      <th>269</th>\n",
       "      <td>B000EJTXZU</td>\n",
       "      <td>Musical_Instruments</td>\n",
       "      <td>269</td>\n",
       "      <td>0</td>\n",
       "    </tr>\n",
       "    <tr>\n",
       "      <th>...</th>\n",
       "      <td>...</td>\n",
       "      <td>...</td>\n",
       "      <td>...</td>\n",
       "      <td>...</td>\n",
       "    </tr>\n",
       "    <tr>\n",
       "      <th>738436</th>\n",
       "      <td>B001KPWU7A</td>\n",
       "      <td>Musical_Instruments</td>\n",
       "      <td>738436</td>\n",
       "      <td>0</td>\n",
       "    </tr>\n",
       "    <tr>\n",
       "      <th>738527</th>\n",
       "      <td>B00AMPDYDS</td>\n",
       "      <td>Musical_Instruments</td>\n",
       "      <td>738527</td>\n",
       "      <td>0</td>\n",
       "    </tr>\n",
       "    <tr>\n",
       "      <th>738581</th>\n",
       "      <td>B005IQGKX2</td>\n",
       "      <td>Musical_Instruments</td>\n",
       "      <td>738581</td>\n",
       "      <td>1</td>\n",
       "    </tr>\n",
       "    <tr>\n",
       "      <th>738652</th>\n",
       "      <td>B001KPWU7A</td>\n",
       "      <td>Musical_Instruments</td>\n",
       "      <td>738652</td>\n",
       "      <td>1</td>\n",
       "    </tr>\n",
       "    <tr>\n",
       "      <th>738656</th>\n",
       "      <td>B0001ARCFA</td>\n",
       "      <td>Musical_Instruments</td>\n",
       "      <td>738656</td>\n",
       "      <td>0</td>\n",
       "    </tr>\n",
       "  </tbody>\n",
       "</table>\n",
       "<p>14285 rows × 4 columns</p>\n",
       "</div>"
      ],
      "text/plain": [
       "              asin             category     qid  is_answerable\n",
       "4       B0099XQBD4  Musical_Instruments       4              0\n",
       "55      B00F9ECDRU  Musical_Instruments      55              0\n",
       "59      B0083FTVB8  Musical_Instruments      59              0\n",
       "231     B005ETZ7NW  Musical_Instruments     231              0\n",
       "269     B000EJTXZU  Musical_Instruments     269              0\n",
       "...            ...                  ...     ...            ...\n",
       "738436  B001KPWU7A  Musical_Instruments  738436              0\n",
       "738527  B00AMPDYDS  Musical_Instruments  738527              0\n",
       "738581  B005IQGKX2  Musical_Instruments  738581              1\n",
       "738652  B001KPWU7A  Musical_Instruments  738652              1\n",
       "738656  B0001ARCFA  Musical_Instruments  738656              0\n",
       "\n",
       "[14285 rows x 4 columns]"
      ]
     },
     "execution_count": null,
     "metadata": {},
     "output_type": "execute_result"
    }
   ],
   "source": [
    "meta_df.query(\"category == 'Musical_Instruments'\")"
   ]
  },
  {
   "cell_type": "markdown",
   "metadata": {},
   "source": [
    "## Warmup: no fine-tuning"
   ]
  },
  {
   "cell_type": "markdown",
   "metadata": {},
   "source": [
    "Let's pick a single category like `Musical_Instruments` and build a `DataFrame` that has `asin`, `context` columns that we can use to create a simple QA system with an existing model fine-tuned on SQuAD:"
   ]
  },
  {
   "cell_type": "code",
   "execution_count": null,
   "metadata": {},
   "outputs": [
    {
     "data": {
      "text/plain": [
       "'Toys_and_Games'"
      ]
     },
     "execution_count": null,
     "metadata": {},
     "output_type": "execute_result"
    }
   ],
   "source": [
    "qid2category = pd.Series(meta_df[\"category\"].values, index=meta_df[\"qid\"]).to_dict()\n",
    "qid2category[0]"
   ]
  },
  {
   "cell_type": "code",
   "execution_count": null,
   "metadata": {},
   "outputs": [
    {
     "data": {
      "text/plain": [
       "'B000MP20BU'"
      ]
     },
     "execution_count": null,
     "metadata": {},
     "output_type": "execute_result"
    }
   ],
   "source": [
    "qid2asin = pd.Series(meta_df[\"asin\"].values, index=meta_df[\"qid\"]).to_dict()\n",
    "qid2asin[0]"
   ]
  },
  {
   "cell_type": "markdown",
   "metadata": {},
   "source": [
    "It seems that all SQuAD entries are answerable (does this make sense?). What about SQuAD v2 with impossible questions?"
   ]
  },
  {
   "cell_type": "code",
   "execution_count": null,
   "metadata": {},
   "outputs": [
    {
     "data": {
      "text/plain": [
       "0"
      ]
     },
     "execution_count": null,
     "metadata": {},
     "output_type": "execute_result"
    }
   ],
   "source": [
    "qid2isanswer = pd.Series(meta_df[\"is_answerable\"].values, index=meta_df[\"qid\"]).to_dict()\n",
    "qid2isanswer[4]"
   ]
  },
  {
   "cell_type": "code",
   "execution_count": null,
   "metadata": {},
   "outputs": [
    {
     "name": "stderr",
     "output_type": "stream",
     "text": [
      "455931it [00:10, 41691.95it/s]\n"
     ]
    }
   ],
   "source": [
    "rows = []\n",
    "\n",
    "with open(data/'train-qar_squad.jsonl', 'r', encoding='utf-8') as f:\n",
    "    for _, line in tqdm(enumerate(f)):\n",
    "        row = json.loads(line)\n",
    "        qid = row[\"qas\"][0][\"id\"]\n",
    "        if qid2category[qid] == \"Musical_Instruments\":\n",
    "            rows.append((qid2asin[qid], row[\"context\"], row[\"qas\"], qid2isanswer[qid]))"
   ]
  },
  {
   "cell_type": "code",
   "execution_count": null,
   "metadata": {},
   "outputs": [
    {
     "data": {
      "text/html": [
       "<div>\n",
       "<style scoped>\n",
       "    .dataframe tbody tr th:only-of-type {\n",
       "        vertical-align: middle;\n",
       "    }\n",
       "\n",
       "    .dataframe tbody tr th {\n",
       "        vertical-align: top;\n",
       "    }\n",
       "\n",
       "    .dataframe thead th {\n",
       "        text-align: right;\n",
       "    }\n",
       "</style>\n",
       "<table border=\"1\" class=\"dataframe\">\n",
       "  <thead>\n",
       "    <tr style=\"text-align: right;\">\n",
       "      <th></th>\n",
       "      <th>asin</th>\n",
       "      <th>text</th>\n",
       "      <th>qas</th>\n",
       "      <th>is_answerable</th>\n",
       "    </tr>\n",
       "  </thead>\n",
       "  <tbody>\n",
       "    <tr>\n",
       "      <th>0</th>\n",
       "      <td>B005OZE9SA</td>\n",
       "      <td>Works perfectly and easy to use. Software download also great.The only surpr...</td>\n",
       "      <td>[{'id': 943, 'is_impossible': False, 'question': 'ipad', 'answers': [{'answe...</td>\n",
       "      <td>1</td>\n",
       "    </tr>\n",
       "    <tr>\n",
       "      <th>1</th>\n",
       "      <td>B001RR9BZA</td>\n",
       "      <td>I'm not totally happy with it because it squeals a lot and doesn't really he...</td>\n",
       "      <td>[{'id': 6381, 'is_impossible': False, 'question': 'Does it amplify your voic...</td>\n",
       "      <td>1</td>\n",
       "    </tr>\n",
       "    <tr>\n",
       "      <th>2</th>\n",
       "      <td>B00B9060X6</td>\n",
       "      <td>I've tried computer studios but prefer twiddling knobs. With my Portastudio ...</td>\n",
       "      <td>[{'id': 440217, 'is_impossible': False, 'question': 'Can you record a drum m...</td>\n",
       "      <td>1</td>\n",
       "    </tr>\n",
       "    <tr>\n",
       "      <th>3</th>\n",
       "      <td>B009VDW4OW</td>\n",
       "      <td>I just received this drum in the mail. I had no idea how much assembly was r...</td>\n",
       "      <td>[{'id': 693739, 'is_impossible': False, 'question': 'What are thoughts on di...</td>\n",
       "      <td>1</td>\n",
       "    </tr>\n",
       "    <tr>\n",
       "      <th>4</th>\n",
       "      <td>B004STXY3E</td>\n",
       "      <td>This DMX controller is a great start for getting into DMX lighting control. ...</td>\n",
       "      <td>[{'id': 27683, 'is_impossible': False, 'question': 'I have RGB par cans and ...</td>\n",
       "      <td>1</td>\n",
       "    </tr>\n",
       "  </tbody>\n",
       "</table>\n",
       "</div>"
      ],
      "text/plain": [
       "         asin  \\\n",
       "0  B005OZE9SA   \n",
       "1  B001RR9BZA   \n",
       "2  B00B9060X6   \n",
       "3  B009VDW4OW   \n",
       "4  B004STXY3E   \n",
       "\n",
       "                                                                              text  \\\n",
       "0  Works perfectly and easy to use. Software download also great.The only surpr...   \n",
       "1  I'm not totally happy with it because it squeals a lot and doesn't really he...   \n",
       "2  I've tried computer studios but prefer twiddling knobs. With my Portastudio ...   \n",
       "3  I just received this drum in the mail. I had no idea how much assembly was r...   \n",
       "4  This DMX controller is a great start for getting into DMX lighting control. ...   \n",
       "\n",
       "                                                                               qas  \\\n",
       "0  [{'id': 943, 'is_impossible': False, 'question': 'ipad', 'answers': [{'answe...   \n",
       "1  [{'id': 6381, 'is_impossible': False, 'question': 'Does it amplify your voic...   \n",
       "2  [{'id': 440217, 'is_impossible': False, 'question': 'Can you record a drum m...   \n",
       "3  [{'id': 693739, 'is_impossible': False, 'question': 'What are thoughts on di...   \n",
       "4  [{'id': 27683, 'is_impossible': False, 'question': 'I have RGB par cans and ...   \n",
       "\n",
       "   is_answerable  \n",
       "0              1  \n",
       "1              1  \n",
       "2              1  \n",
       "3              1  \n",
       "4              1  "
      ]
     },
     "execution_count": null,
     "metadata": {},
     "output_type": "execute_result"
    }
   ],
   "source": [
    "qa_df = pd.DataFrame(rows, columns=['asin', 'text', \"qas\", 'is_answerable'])\n",
    "qa_df.head()"
   ]
  },
  {
   "cell_type": "code",
   "execution_count": null,
   "metadata": {},
   "outputs": [
    {
     "data": {
      "text/plain": [
       "1    8694\n",
       "Name: is_answerable, dtype: int64"
      ]
     },
     "execution_count": null,
     "metadata": {},
     "output_type": "execute_result"
    }
   ],
   "source": [
    "qa_df['is_answerable'].value_counts()"
   ]
  },
  {
   "cell_type": "code",
   "execution_count": null,
   "metadata": {},
   "outputs": [
    {
     "data": {
      "text/plain": [
       "(8694, 3)"
      ]
     },
     "execution_count": null,
     "metadata": {},
     "output_type": "execute_result"
    }
   ],
   "source": [
    "qa_df.shape"
   ]
  },
  {
   "cell_type": "markdown",
   "metadata": {},
   "source": [
    "### Boot ES"
   ]
  },
  {
   "cell_type": "code",
   "execution_count": null,
   "metadata": {},
   "outputs": [],
   "source": [
    "! wget -nc https://artifacts.elastic.co/downloads/elasticsearch/elasticsearch-7.9.2-linux-x86_64.tar.gz -q\n",
    "! tar -xzf elasticsearch-7.9.2-linux-x86_64.tar.gz\n",
    "! chown -R daemon:daemon elasticsearch-7.9.2\n",
    "\n",
    "es_server = Popen(['elasticsearch-7.9.2/bin/elasticsearch'],\n",
    "                   stdout=PIPE, stderr=STDOUT,\n",
    "                   preexec_fn=lambda: os.setuid(1)  # as daemon\n",
    "                  )\n",
    "# wait until ES has started\n",
    "! sleep 30"
   ]
  },
  {
   "cell_type": "code",
   "execution_count": null,
   "metadata": {},
   "outputs": [
    {
     "name": "stderr",
     "output_type": "stream",
     "text": [
      "03/04/2021 20:36:14 - INFO - elasticsearch -   HEAD http://localhost:9200/ [status:200 request:0.093s]\n",
      "03/04/2021 20:36:14 - INFO - elasticsearch -   HEAD http://localhost:9200/document [status:200 request:0.012s]\n",
      "03/04/2021 20:36:14 - INFO - elasticsearch -   GET http://localhost:9200/document [status:200 request:0.005s]\n",
      "03/04/2021 20:36:14 - INFO - elasticsearch -   PUT http://localhost:9200/document/_mapping [status:200 request:0.022s]\n",
      "03/04/2021 20:36:14 - INFO - elasticsearch -   HEAD http://localhost:9200/label [status:200 request:0.003s]\n"
     ]
    }
   ],
   "source": [
    "document_store = ElasticsearchDocumentStore(host=\"localhost\", username=\"\", password=\"\", index=\"document\")"
   ]
  },
  {
   "cell_type": "code",
   "execution_count": null,
   "metadata": {},
   "outputs": [
    {
     "name": "stderr",
     "output_type": "stream",
     "text": [
      "03/04/2021 21:20:03 - INFO - elasticsearch -   POST http://localhost:9200/document/_delete_by_query [status:200 request:0.970s]\n"
     ]
    }
   ],
   "source": [
    "document_store.delete_all_documents()"
   ]
  },
  {
   "cell_type": "markdown",
   "metadata": {},
   "source": [
    "### Index docs"
   ]
  },
  {
   "cell_type": "code",
   "execution_count": null,
   "metadata": {},
   "outputs": [
    {
     "data": {
      "text/plain": [
       "{'text': \"Works perfectly and easy to use. Software download also great.The only surprise was that the one I ordered, (USB) doesn't work with an iPad.I was thinking it would work with both PC and iPad. My mistake. I use this with Logic Pro X on an iMac running Mavericks (it's replacing an Mbox) and with a Sony Vaio running Windows 7 and get excellent results (don't forget to install the Windows drivers or you'll run into latency issues). I also use it with the Auria App on my iPad Air. I did appreciate the direct line in switch...I could hear exactly what was being played into the unit without having to route through the computer. That was a nice feature. More recently, I was very happy to get this working with my ipad mini. I did purchase a recommended usb powered hub Belkin model &#34; F4U020&#34; and with that - I'm good to play music into and out of my ipad. Focusrite. An industry standard.I bought this specifically for use with an iPad to do mobile recording. The app I use is Auria, but GarageBand will work as well. Be sure to use/buy a POWERED USB hub in order to power the Scarlett.Wonderfully quiet device. Simple to use and the mic/instrument inputs are very warm sounding. It is truly shocking to see that you can achieve some VERY convincing, near commercial grade recording with this interface. Mac OS X 10.8.42: UpdateAmazon didn't sent me a 3rd replacement. And I'm really glad they didn't. I ended up saving a lot of money and buyingApogee Duet Audio Interface for iPad & Mac. After using Duet, I can tell you that any sound interface priced between 60 to 200 are the same thing. You may as well buy the simplest cheapest sound interface instead of this show off failure.I am very very VERY surprised about how many stars this product has. when i conect the headphones into the interface and give a test, i cant hear a suitable volume, i hear it very low; and if i increase the volume, this saturated.. very good this is honestly the best interface I've used for recording. this is a must but item you won't regret it. this is a beautiful piece of hardware. sounds really good. easy to use. and the director monitor function is great. the software that came with it is outdated and does not support Mavericks. however, I got on the help line and the gentlemen pointed me to a program called reaper that helped install the software so that I can take full advantage of it's benefits.Other than that! It's GREAT! and I love recording my guitar on it. Clean with no noise.\",\n",
       " 'meta': {'asin': 'B005OZE9SA', 'is_answerable': 1}}"
      ]
     },
     "execution_count": null,
     "metadata": {},
     "output_type": "execute_result"
    }
   ],
   "source": [
    "docs = [{\"text\": row[\"text\"], \"meta\":{\"asin\": row[\"asin\"], \"is_answerable\": row[\"is_answerable\"]}} for _, row in qa_df.iterrows()]\n",
    "docs[0]"
   ]
  },
  {
   "cell_type": "code",
   "execution_count": null,
   "metadata": {},
   "outputs": [
    {
     "name": "stderr",
     "output_type": "stream",
     "text": [
      "03/04/2021 21:20:19 - INFO - elasticsearch -   POST http://localhost:9200/_bulk?refresh=wait_for [status:200 request:1.093s]\n",
      "03/04/2021 21:20:21 - INFO - elasticsearch -   POST http://localhost:9200/_bulk?refresh=wait_for [status:200 request:1.437s]\n",
      "03/04/2021 21:20:22 - INFO - elasticsearch -   POST http://localhost:9200/_bulk?refresh=wait_for [status:200 request:1.527s]\n",
      "03/04/2021 21:20:24 - INFO - elasticsearch -   POST http://localhost:9200/_bulk?refresh=wait_for [status:200 request:1.488s]\n",
      "03/04/2021 21:20:25 - INFO - elasticsearch -   POST http://localhost:9200/_bulk?refresh=wait_for [status:200 request:1.512s]\n",
      "03/04/2021 21:20:27 - INFO - elasticsearch -   POST http://localhost:9200/_bulk?refresh=wait_for [status:200 request:1.446s]\n",
      "03/04/2021 21:20:28 - INFO - elasticsearch -   POST http://localhost:9200/_bulk?refresh=wait_for [status:200 request:1.502s]\n",
      "03/04/2021 21:20:30 - INFO - elasticsearch -   POST http://localhost:9200/_bulk?refresh=wait_for [status:200 request:1.486s]\n",
      "03/04/2021 21:20:31 - INFO - elasticsearch -   POST http://localhost:9200/_bulk?refresh=wait_for [status:200 request:1.434s]\n",
      "03/04/2021 21:20:33 - INFO - elasticsearch -   POST http://localhost:9200/_bulk?refresh=wait_for [status:200 request:1.472s]\n",
      "03/04/2021 21:20:34 - INFO - elasticsearch -   POST http://localhost:9200/_bulk?refresh=wait_for [status:200 request:1.490s]\n",
      "03/04/2021 21:20:36 - INFO - elasticsearch -   POST http://localhost:9200/_bulk?refresh=wait_for [status:200 request:1.465s]\n",
      "03/04/2021 21:20:37 - INFO - elasticsearch -   POST http://localhost:9200/_bulk?refresh=wait_for [status:200 request:1.516s]\n",
      "03/04/2021 21:20:39 - INFO - elasticsearch -   POST http://localhost:9200/_bulk?refresh=wait_for [status:200 request:1.440s]\n",
      "03/04/2021 21:20:40 - INFO - elasticsearch -   POST http://localhost:9200/_bulk?refresh=wait_for [status:200 request:1.502s]\n",
      "03/04/2021 21:20:42 - INFO - elasticsearch -   POST http://localhost:9200/_bulk?refresh=wait_for [status:200 request:1.466s]\n",
      "03/04/2021 21:20:43 - INFO - elasticsearch -   POST http://localhost:9200/_bulk?refresh=wait_for [status:200 request:1.453s]\n",
      "03/04/2021 21:20:45 - INFO - elasticsearch -   POST http://localhost:9200/_bulk?refresh=wait_for [status:200 request:1.338s]\n"
     ]
    }
   ],
   "source": [
    "document_store.write_documents(docs)"
   ]
  },
  {
   "cell_type": "markdown",
   "metadata": {},
   "source": [
    "### Retriever"
   ]
  },
  {
   "cell_type": "code",
   "execution_count": null,
   "metadata": {},
   "outputs": [],
   "source": [
    "retriever = ElasticsearchRetriever(document_store=document_store)"
   ]
  },
  {
   "cell_type": "markdown",
   "metadata": {},
   "source": [
    "### Reader"
   ]
  },
  {
   "cell_type": "code",
   "execution_count": null,
   "metadata": {},
   "outputs": [
    {
     "name": "stderr",
     "output_type": "stream",
     "text": [
      "03/04/2021 20:36:44 - INFO - farm.utils -   Using device: CUDA \n",
      "03/04/2021 20:36:44 - INFO - farm.utils -   Number of GPUs: 1\n",
      "03/04/2021 20:36:44 - INFO - farm.utils -   Distributed Training: False\n",
      "03/04/2021 20:36:44 - INFO - farm.utils -   Automatic Mixed Precision: None\n",
      "Some weights of RobertaModel were not initialized from the model checkpoint at deepset/roberta-base-squad2 and are newly initialized: ['roberta.pooler.dense.weight', 'roberta.pooler.dense.bias']\n",
      "You should probably TRAIN this model on a down-stream task to be able to use it for predictions and inference.\n",
      "03/04/2021 20:36:57 - WARNING - farm.utils -   ML Logging is turned off. No parameters, metrics or artifacts will be logged to MLFlow.\n",
      "03/04/2021 20:36:57 - INFO - farm.utils -   Using device: CUDA \n",
      "03/04/2021 20:36:57 - INFO - farm.utils -   Number of GPUs: 1\n",
      "03/04/2021 20:36:57 - INFO - farm.utils -   Distributed Training: False\n",
      "03/04/2021 20:36:57 - INFO - farm.utils -   Automatic Mixed Precision: None\n",
      "03/04/2021 20:36:58 - INFO - farm.infer -   Got ya 7 parallel workers to do inference ...\n",
      "03/04/2021 20:36:58 - INFO - farm.infer -    0    0    0    0    0    0    0 \n",
      "03/04/2021 20:36:58 - INFO - farm.infer -   /w\\  /w\\  /w\\  /w\\  /w\\  /w\\  /w\\\n",
      "03/04/2021 20:36:58 - INFO - farm.infer -   /'\\  / \\  /'\\  /'\\  / \\  / \\  /'\\\n",
      "03/04/2021 20:36:58 - INFO - farm.infer -               \n"
     ]
    }
   ],
   "source": [
    "reader = FARMReader(model_name_or_path=\"deepset/roberta-base-squad2\", use_gpu=True, context_window_size=500)"
   ]
  },
  {
   "cell_type": "code",
   "execution_count": null,
   "metadata": {},
   "outputs": [],
   "source": [
    "pipe = ExtractiveQAPipeline(reader, retriever)"
   ]
  },
  {
   "cell_type": "code",
   "execution_count": null,
   "metadata": {},
   "outputs": [
    {
     "name": "stderr",
     "output_type": "stream",
     "text": [
      "03/04/2021 21:23:18 - INFO - elasticsearch -   POST http://localhost:9200/document/_search [status:200 request:0.009s]\n",
      "Inferencing Samples: 100%|██████████| 1/1 [00:00<00:00, 12.33 Batches/s]\n",
      "Inferencing Samples: 100%|██████████| 1/1 [00:00<00:00, 15.22 Batches/s]\n",
      "Inferencing Samples: 100%|██████████| 1/1 [00:00<00:00, 14.97 Batches/s]\n",
      "Inferencing Samples: 100%|██████████| 1/1 [00:00<00:00, 18.20 Batches/s]\n",
      "Inferencing Samples: 100%|██████████| 1/1 [00:00<00:00, 16.03 Batches/s]\n",
      "Inferencing Samples: 100%|██████████| 1/1 [00:00<00:00, 16.05 Batches/s]"
     ]
    },
    {
     "name": "stdout",
     "output_type": "stream",
     "text": [
      "Question: Is a snare included?\n",
      "\n",
      "\n",
      "#1\n",
      "Answer: this one only came with one\n",
      "ASIN: B009VDW4OW\n",
      "Is answerable?: 1\n",
      "Context: the correct sounds out of it. When I slapped the \"bass\", it would play a \"snare\" sound combined with the bass. When I slapped the \"snare\", I would just get a wood sound.I've also seen images that most cajons come with multiple snares... this one only came with one.I'm really not sure what else to say. I wanted a Cajon to play with.but didn't want to pay 100.00 plus. This was a great option, Easy to put together with the limited tools I had on hand. And cheap enough that I wasn't worried to have \n",
      "\n",
      "\n",
      "\n",
      "#2\n",
      "Answer: If you are a real percussionist, before you build this you may want to get some snare wires\n",
      "ASIN: B009VDW4OW\n",
      "Is answerable?: 1\n",
      "Context: this for me. He said it was super easy and did not require a lot of tools. I've stained it black and added silver glitter paint and it looks snazzy. My only complaint is that it has a minimal snare sound. If you are a real percussionist, before you build this you may want to get some snare wires if you want more of a snare sound. Not bad for the money I guess, if you compare to buying a finished model.The instructions are a bit confusing in places, but if you have wood working experience its a n\n",
      "\n",
      "\n",
      "\n",
      "#3\n",
      "Answer: minimal snare sound\n",
      "ASIN: B009VDW4OW\n",
      "Is answerable?: 1\n",
      "Context: ussionist but a terrible wood worker so my husband built this for me. He said it was super easy and did not require a lot of tools. I've stained it black and added silver glitter paint and it looks snazzy. My only complaint is that it has a minimal snare sound. If you are a real percussionist, before you build this you may want to get some snare wires if you want more of a snare sound. I knew going in this would not be easy to put together. I tried to do as much research as possible, but... if y\n",
      "\n",
      "\n",
      "\n"
     ]
    },
    {
     "name": "stderr",
     "output_type": "stream",
     "text": [
      "\n"
     ]
    }
   ],
   "source": [
    "query = \"Is a snare included?\"\n",
    "# drum box\n",
    "asin = \"B009VDW4OW\"\n",
    "number_of_answers_to_fetch = 3\n",
    "\n",
    "prediction = pipe.run(query=query, filters={\"asin\": [asin]}, top_k_retriever=10, top_k_reader=number_of_answers_to_fetch)\n",
    "print(f\"Question: {prediction['query']}\")\n",
    "print(\"\\n\")\n",
    "for i in range(number_of_answers_to_fetch):\n",
    "    print(f\"#{i+1}\")\n",
    "    print(f\"Answer: {prediction['answers'][i]['answer']}\")\n",
    "    print(f\"ASIN: {prediction['answers'][i]['meta']['asin']}\")\n",
    "    print(f\"Is answerable?: {prediction['answers'][i]['meta']['is_answerable']}\")\n",
    "    print(f\"Context: {prediction['answers'][i]['context']}\")\n",
    "    print('\\n\\n')"
   ]
  },
  {
   "cell_type": "markdown",
   "metadata": {},
   "source": [
    "## Fine-tuning"
   ]
  },
  {
   "cell_type": "markdown",
   "metadata": {},
   "source": [
    "TODO: convert to real SQuAD format!"
   ]
  },
  {
   "cell_type": "code",
   "execution_count": null,
   "metadata": {},
   "outputs": [],
   "source": [
    "squad = {\"data\": [{\"title\": row[\"asin\"], \"paragraphs\":{\"asin\": row[\"asin\"], \"is_answerable\": row[\"is_answerable\"]}} for _, row in qa_df.iterrows()]\n"
   ]
  },
  {
   "cell_type": "code",
   "execution_count": null,
   "metadata": {},
   "outputs": [],
   "source": [
    "squad_data = {}\n",
    "\n"
   ]
  },
  {
   "cell_type": "code",
   "execution_count": null,
   "metadata": {},
   "outputs": [
    {
     "data": {
      "text/plain": [
       "[{'id': 943,\n",
       "  'is_impossible': False,\n",
       "  'question': 'ipad',\n",
       "  'answers': [{'answer_start': 1980, 'text': 'for recording. this is a'},\n",
       "   {'answer_start': 1975, 'text': 'used for recording. this is a'},\n",
       "   {'answer_start': 1980, 'text': 'for recording. this is a must'},\n",
       "   {'answer_start': 1984, 'text': 'recording. this is a must'},\n",
       "   {'answer_start': 1995, 'text': 'this is a must but'}],\n",
       "  'human_answers': ['No this is not an iPad',\n",
       "   'Yes. You need a powered USB hub and an iPad camera connection kit. This is NOT officially supported by Focusrite. If you need a DAW program for iPad, Twisted Wave is a great one.',\n",
       "   'It is not comparable with the IPad...',\n",
       "   'It is not comparable with the IPad...']}]"
      ]
     },
     "execution_count": null,
     "metadata": {},
     "output_type": "execute_result"
    }
   ],
   "source": [
    "qa_df.iloc[0][\"qas\"]"
   ]
  },
  {
   "cell_type": "code",
   "execution_count": null,
   "metadata": {},
   "outputs": [
    {
     "data": {
      "text/html": [
       "<div>\n",
       "<style scoped>\n",
       "    .dataframe tbody tr th:only-of-type {\n",
       "        vertical-align: middle;\n",
       "    }\n",
       "\n",
       "    .dataframe tbody tr th {\n",
       "        vertical-align: top;\n",
       "    }\n",
       "\n",
       "    .dataframe thead th {\n",
       "        text-align: right;\n",
       "    }\n",
       "</style>\n",
       "<table border=\"1\" class=\"dataframe\">\n",
       "  <thead>\n",
       "    <tr style=\"text-align: right;\">\n",
       "      <th></th>\n",
       "      <th>asin</th>\n",
       "      <th>text</th>\n",
       "      <th>qas</th>\n",
       "      <th>is_answerable</th>\n",
       "    </tr>\n",
       "  </thead>\n",
       "  <tbody>\n",
       "    <tr>\n",
       "      <th>0</th>\n",
       "      <td>B005OZE9SA</td>\n",
       "      <td>Works perfectly and easy to use. Software download also great.The only surpr...</td>\n",
       "      <td>[{'id': 943, 'is_impossible': False, 'question': 'ipad', 'answers': [{'answe...</td>\n",
       "      <td>1</td>\n",
       "    </tr>\n",
       "    <tr>\n",
       "      <th>1431</th>\n",
       "      <td>B005OZE9SA</td>\n",
       "      <td>As for me it works well with my guitar and passive bass, but my active bass ...</td>\n",
       "      <td>[{'id': 70087, 'is_impossible': False, 'question': 'Can I plug a bass guitar...</td>\n",
       "      <td>1</td>\n",
       "    </tr>\n",
       "    <tr>\n",
       "      <th>2348</th>\n",
       "      <td>B005OZE9SA</td>\n",
       "      <td>Audio quality is good at the price range. One significant gripe: If you plug...</td>\n",
       "      <td>[{'id': 216671, 'is_impossible': False, 'question': 'does this come with the...</td>\n",
       "      <td>1</td>\n",
       "    </tr>\n",
       "    <tr>\n",
       "      <th>3754</th>\n",
       "      <td>B005OZE9SA</td>\n",
       "      <td>Actually Mackie makes a competitor as well, the Onyx Blackjack--but the revi...</td>\n",
       "      <td>[{'id': 14592, 'is_impossible': False, 'question': 'I want to get this devic...</td>\n",
       "      <td>1</td>\n",
       "    </tr>\n",
       "    <tr>\n",
       "      <th>4955</th>\n",
       "      <td>B005OZE9SA</td>\n",
       "      <td>great interface, and awesome customer support. had some issues when switchin...</td>\n",
       "      <td>[{'id': 375866, 'is_impossible': False, 'question': 'Is it compatible with W...</td>\n",
       "      <td>1</td>\n",
       "    </tr>\n",
       "    <tr>\n",
       "      <th>6048</th>\n",
       "      <td>B005OZE9SA</td>\n",
       "      <td>Guess what... This one is not even working. The 48v light turns on when you ...</td>\n",
       "      <td>[{'id': 43453, 'is_impossible': False, 'question': 'So. I want to hook up a ...</td>\n",
       "      <td>1</td>\n",
       "    </tr>\n",
       "    <tr>\n",
       "      <th>7262</th>\n",
       "      <td>B005OZE9SA</td>\n",
       "      <td>Great little device with well-written drivers. 2 in 2 out is all you really ...</td>\n",
       "      <td>[{'id': 624651, 'is_impossible': False, 'question': 'I'm a bit confused abou...</td>\n",
       "      <td>1</td>\n",
       "    </tr>\n",
       "    <tr>\n",
       "      <th>7292</th>\n",
       "      <td>B005OZE9SA</td>\n",
       "      <td>Awesome! It hooked right up, no worries, great for a mac! I am using this wi...</td>\n",
       "      <td>[{'id': 275668, 'is_impossible': False, 'question': 'mac', 'answers': [{'ans...</td>\n",
       "      <td>1</td>\n",
       "    </tr>\n",
       "    <tr>\n",
       "      <th>7458</th>\n",
       "      <td>B005OZE9SA</td>\n",
       "      <td>This is great for recording at home. I used it to record a 5' Grand Piano an...</td>\n",
       "      <td>[{'id': 255964, 'is_impossible': False, 'question': 'Can i record myself at ...</td>\n",
       "      <td>1</td>\n",
       "    </tr>\n",
       "  </tbody>\n",
       "</table>\n",
       "</div>"
      ],
      "text/plain": [
       "            asin  \\\n",
       "0     B005OZE9SA   \n",
       "1431  B005OZE9SA   \n",
       "2348  B005OZE9SA   \n",
       "3754  B005OZE9SA   \n",
       "4955  B005OZE9SA   \n",
       "6048  B005OZE9SA   \n",
       "7262  B005OZE9SA   \n",
       "7292  B005OZE9SA   \n",
       "7458  B005OZE9SA   \n",
       "\n",
       "                                                                                 text  \\\n",
       "0     Works perfectly and easy to use. Software download also great.The only surpr...   \n",
       "1431  As for me it works well with my guitar and passive bass, but my active bass ...   \n",
       "2348  Audio quality is good at the price range. One significant gripe: If you plug...   \n",
       "3754  Actually Mackie makes a competitor as well, the Onyx Blackjack--but the revi...   \n",
       "4955  great interface, and awesome customer support. had some issues when switchin...   \n",
       "6048  Guess what... This one is not even working. The 48v light turns on when you ...   \n",
       "7262  Great little device with well-written drivers. 2 in 2 out is all you really ...   \n",
       "7292  Awesome! It hooked right up, no worries, great for a mac! I am using this wi...   \n",
       "7458  This is great for recording at home. I used it to record a 5' Grand Piano an...   \n",
       "\n",
       "                                                                                  qas  \\\n",
       "0     [{'id': 943, 'is_impossible': False, 'question': 'ipad', 'answers': [{'answe...   \n",
       "1431  [{'id': 70087, 'is_impossible': False, 'question': 'Can I plug a bass guitar...   \n",
       "2348  [{'id': 216671, 'is_impossible': False, 'question': 'does this come with the...   \n",
       "3754  [{'id': 14592, 'is_impossible': False, 'question': 'I want to get this devic...   \n",
       "4955  [{'id': 375866, 'is_impossible': False, 'question': 'Is it compatible with W...   \n",
       "6048  [{'id': 43453, 'is_impossible': False, 'question': 'So. I want to hook up a ...   \n",
       "7262  [{'id': 624651, 'is_impossible': False, 'question': 'I'm a bit confused abou...   \n",
       "7292  [{'id': 275668, 'is_impossible': False, 'question': 'mac', 'answers': [{'ans...   \n",
       "7458  [{'id': 255964, 'is_impossible': False, 'question': 'Can i record myself at ...   \n",
       "\n",
       "      is_answerable  \n",
       "0                 1  \n",
       "1431              1  \n",
       "2348              1  \n",
       "3754              1  \n",
       "4955              1  \n",
       "6048              1  \n",
       "7262              1  \n",
       "7292              1  \n",
       "7458              1  "
      ]
     },
     "execution_count": null,
     "metadata": {},
     "output_type": "execute_result"
    }
   ],
   "source": [
    "qa_df.query(\"asin == 'B005OZE9SA'\")"
   ]
  },
  {
   "cell_type": "code",
   "execution_count": null,
   "metadata": {},
   "outputs": [],
   "source": [
    "qa_df.rename(columns={\"text\":\"context\"})[[\"context\", \"qas\"]].to_json(data/'train-qar_squad-music.jsonl', orient='records', lines=True)"
   ]
  },
  {
   "cell_type": "code",
   "execution_count": null,
   "metadata": {},
   "outputs": [
    {
     "name": "stderr",
     "output_type": "stream",
     "text": [
      "03/04/2021 21:35:27 - INFO - farm.utils -   Using device: CUDA \n",
      "03/04/2021 21:35:27 - INFO - farm.utils -   Number of GPUs: 1\n",
      "03/04/2021 21:35:27 - INFO - farm.utils -   Distributed Training: False\n",
      "03/04/2021 21:35:27 - INFO - farm.utils -   Automatic Mixed Precision: None\n"
     ]
    },
    {
     "ename": "JSONDecodeError",
     "evalue": "Extra data: line 2 column 1 (char 3167)",
     "output_type": "error",
     "traceback": [
      "\u001b[0;31m---------------------------------------------------------------------------\u001b[0m",
      "\u001b[0;31mJSONDecodeError\u001b[0m                           Traceback (most recent call last)",
      "\u001b[0;32m<ipython-input-79-176f9252db40>\u001b[0m in \u001b[0;36m<module>\u001b[0;34m\u001b[0m\n\u001b[1;32m      1\u001b[0m \u001b[0mtrain_data\u001b[0m \u001b[0;34m=\u001b[0m \u001b[0;34m\"data/amazon-qa/\"\u001b[0m\u001b[0;34m\u001b[0m\u001b[0;34m\u001b[0m\u001b[0m\n\u001b[0;32m----> 2\u001b[0;31m \u001b[0mreader\u001b[0m\u001b[0;34m.\u001b[0m\u001b[0mtrain\u001b[0m\u001b[0;34m(\u001b[0m\u001b[0mdata_dir\u001b[0m\u001b[0;34m=\u001b[0m\u001b[0mtrain_data\u001b[0m\u001b[0;34m,\u001b[0m \u001b[0mtrain_filename\u001b[0m\u001b[0;34m=\u001b[0m\u001b[0;34m\"train-qar_squad-music.jsonl\"\u001b[0m\u001b[0;34m,\u001b[0m \u001b[0muse_gpu\u001b[0m\u001b[0;34m=\u001b[0m\u001b[0;32mTrue\u001b[0m\u001b[0;34m,\u001b[0m \u001b[0mn_epochs\u001b[0m\u001b[0;34m=\u001b[0m\u001b[0;36m1\u001b[0m\u001b[0;34m,\u001b[0m \u001b[0msave_dir\u001b[0m\u001b[0;34m=\u001b[0m\u001b[0;34m\"models/haystack\"\u001b[0m\u001b[0;34m)\u001b[0m\u001b[0;34m\u001b[0m\u001b[0;34m\u001b[0m\u001b[0m\n\u001b[0m",
      "\u001b[0;32m~/miniconda3/envs/transformerlab/lib/python3.8/site-packages/haystack/reader/farm.py\u001b[0m in \u001b[0;36mtrain\u001b[0;34m(self, data_dir, train_filename, dev_filename, test_filename, use_gpu, batch_size, n_epochs, learning_rate, max_seq_len, warmup_proportion, dev_split, evaluate_every, save_dir, num_processes, use_amp)\u001b[0m\n\u001b[1;32m    200\u001b[0m         \u001b[0;31m# 2. Create a DataSilo that loads several datasets (train/dev/test), provides DataLoaders for them\u001b[0m\u001b[0;34m\u001b[0m\u001b[0;34m\u001b[0m\u001b[0;34m\u001b[0m\u001b[0m\n\u001b[1;32m    201\u001b[0m         \u001b[0;31m# and calculates a few descriptive statistics of our datasets\u001b[0m\u001b[0;34m\u001b[0m\u001b[0;34m\u001b[0m\u001b[0;34m\u001b[0m\u001b[0m\n\u001b[0;32m--> 202\u001b[0;31m         \u001b[0mdata_silo\u001b[0m \u001b[0;34m=\u001b[0m \u001b[0mDataSilo\u001b[0m\u001b[0;34m(\u001b[0m\u001b[0mprocessor\u001b[0m\u001b[0;34m=\u001b[0m\u001b[0mprocessor\u001b[0m\u001b[0;34m,\u001b[0m \u001b[0mbatch_size\u001b[0m\u001b[0;34m=\u001b[0m\u001b[0mbatch_size\u001b[0m\u001b[0;34m,\u001b[0m \u001b[0mdistributed\u001b[0m\u001b[0;34m=\u001b[0m\u001b[0;32mFalse\u001b[0m\u001b[0;34m,\u001b[0m \u001b[0mmax_processes\u001b[0m\u001b[0;34m=\u001b[0m\u001b[0mnum_processes\u001b[0m\u001b[0;34m)\u001b[0m\u001b[0;34m\u001b[0m\u001b[0;34m\u001b[0m\u001b[0m\n\u001b[0m\u001b[1;32m    203\u001b[0m \u001b[0;34m\u001b[0m\u001b[0m\n\u001b[1;32m    204\u001b[0m         \u001b[0;31m# Quick-fix until this is fixed upstream in FARM:\u001b[0m\u001b[0;34m\u001b[0m\u001b[0;34m\u001b[0m\u001b[0;34m\u001b[0m\u001b[0m\n",
      "\u001b[0;32m~/miniconda3/envs/transformerlab/lib/python3.8/site-packages/farm/data_handler/data_silo.py\u001b[0m in \u001b[0;36m__init__\u001b[0;34m(self, processor, batch_size, eval_batch_size, distributed, automatic_loading, max_multiprocessing_chunksize, max_processes, caching, cache_path)\u001b[0m\n\u001b[1;32m    111\u001b[0m             \u001b[0;31m# In most cases we want to load all data automatically, but in some cases we rather want to do this\u001b[0m\u001b[0;34m\u001b[0m\u001b[0;34m\u001b[0m\u001b[0;34m\u001b[0m\u001b[0m\n\u001b[1;32m    112\u001b[0m             \u001b[0;31m# later or load from dicts instead of file (https://github.com/deepset-ai/FARM/issues/85)\u001b[0m\u001b[0;34m\u001b[0m\u001b[0;34m\u001b[0m\u001b[0;34m\u001b[0m\u001b[0m\n\u001b[0;32m--> 113\u001b[0;31m             \u001b[0mself\u001b[0m\u001b[0;34m.\u001b[0m\u001b[0m_load_data\u001b[0m\u001b[0;34m(\u001b[0m\u001b[0;34m)\u001b[0m\u001b[0;34m\u001b[0m\u001b[0;34m\u001b[0m\u001b[0m\n\u001b[0m\u001b[1;32m    114\u001b[0m \u001b[0;34m\u001b[0m\u001b[0m\n\u001b[1;32m    115\u001b[0m     \u001b[0;34m@\u001b[0m\u001b[0mclassmethod\u001b[0m\u001b[0;34m\u001b[0m\u001b[0;34m\u001b[0m\u001b[0m\n",
      "\u001b[0;32m~/miniconda3/envs/transformerlab/lib/python3.8/site-packages/farm/data_handler/data_silo.py\u001b[0m in \u001b[0;36m_load_data\u001b[0;34m(self, train_dicts, dev_dicts, test_dicts)\u001b[0m\n\u001b[1;32m    220\u001b[0m             \u001b[0mtrain_file\u001b[0m \u001b[0;34m=\u001b[0m \u001b[0mself\u001b[0m\u001b[0;34m.\u001b[0m\u001b[0mprocessor\u001b[0m\u001b[0;34m.\u001b[0m\u001b[0mdata_dir\u001b[0m \u001b[0;34m/\u001b[0m \u001b[0mself\u001b[0m\u001b[0;34m.\u001b[0m\u001b[0mprocessor\u001b[0m\u001b[0;34m.\u001b[0m\u001b[0mtrain_filename\u001b[0m\u001b[0;34m\u001b[0m\u001b[0;34m\u001b[0m\u001b[0m\n\u001b[1;32m    221\u001b[0m             \u001b[0mlogger\u001b[0m\u001b[0;34m.\u001b[0m\u001b[0minfo\u001b[0m\u001b[0;34m(\u001b[0m\u001b[0;34m\"Loading train set from: {} \"\u001b[0m\u001b[0;34m.\u001b[0m\u001b[0mformat\u001b[0m\u001b[0;34m(\u001b[0m\u001b[0mtrain_file\u001b[0m\u001b[0;34m)\u001b[0m\u001b[0;34m)\u001b[0m\u001b[0;34m\u001b[0m\u001b[0;34m\u001b[0m\u001b[0m\n\u001b[0;32m--> 222\u001b[0;31m             \u001b[0mself\u001b[0m\u001b[0;34m.\u001b[0m\u001b[0mdata\u001b[0m\u001b[0;34m[\u001b[0m\u001b[0;34m\"train\"\u001b[0m\u001b[0;34m]\u001b[0m\u001b[0;34m,\u001b[0m \u001b[0mself\u001b[0m\u001b[0;34m.\u001b[0m\u001b[0mtensor_names\u001b[0m \u001b[0;34m=\u001b[0m \u001b[0mself\u001b[0m\u001b[0;34m.\u001b[0m\u001b[0m_get_dataset\u001b[0m\u001b[0;34m(\u001b[0m\u001b[0mtrain_file\u001b[0m\u001b[0;34m)\u001b[0m\u001b[0;34m\u001b[0m\u001b[0;34m\u001b[0m\u001b[0m\n\u001b[0m\u001b[1;32m    223\u001b[0m         \u001b[0;32melse\u001b[0m\u001b[0;34m:\u001b[0m\u001b[0;34m\u001b[0m\u001b[0;34m\u001b[0m\u001b[0m\n\u001b[1;32m    224\u001b[0m             \u001b[0mlogger\u001b[0m\u001b[0;34m.\u001b[0m\u001b[0minfo\u001b[0m\u001b[0;34m(\u001b[0m\u001b[0;34m\"No train set is being loaded\"\u001b[0m\u001b[0;34m)\u001b[0m\u001b[0;34m\u001b[0m\u001b[0;34m\u001b[0m\u001b[0m\n",
      "\u001b[0;32m~/miniconda3/envs/transformerlab/lib/python3.8/site-packages/farm/data_handler/data_silo.py\u001b[0m in \u001b[0;36m_get_dataset\u001b[0;34m(self, filename, dicts)\u001b[0m\n\u001b[1;32m    139\u001b[0m         \u001b[0;31m# loading dicts from file (default)\u001b[0m\u001b[0;34m\u001b[0m\u001b[0;34m\u001b[0m\u001b[0;34m\u001b[0m\u001b[0m\n\u001b[1;32m    140\u001b[0m         \u001b[0;32mif\u001b[0m \u001b[0mdicts\u001b[0m \u001b[0;32mis\u001b[0m \u001b[0;32mNone\u001b[0m\u001b[0;34m:\u001b[0m\u001b[0;34m\u001b[0m\u001b[0;34m\u001b[0m\u001b[0m\n\u001b[0;32m--> 141\u001b[0;31m             \u001b[0mdicts\u001b[0m \u001b[0;34m=\u001b[0m \u001b[0mlist\u001b[0m\u001b[0;34m(\u001b[0m\u001b[0mself\u001b[0m\u001b[0;34m.\u001b[0m\u001b[0mprocessor\u001b[0m\u001b[0;34m.\u001b[0m\u001b[0mfile_to_dicts\u001b[0m\u001b[0;34m(\u001b[0m\u001b[0mfilename\u001b[0m\u001b[0;34m)\u001b[0m\u001b[0;34m)\u001b[0m\u001b[0;34m\u001b[0m\u001b[0;34m\u001b[0m\u001b[0m\n\u001b[0m\u001b[1;32m    142\u001b[0m             \u001b[0;31m#shuffle list of dicts here if we later want to have a random dev set splitted from train set\u001b[0m\u001b[0;34m\u001b[0m\u001b[0;34m\u001b[0m\u001b[0;34m\u001b[0m\u001b[0m\n\u001b[1;32m    143\u001b[0m             \u001b[0;32mif\u001b[0m \u001b[0mstr\u001b[0m\u001b[0;34m(\u001b[0m\u001b[0mself\u001b[0m\u001b[0;34m.\u001b[0m\u001b[0mprocessor\u001b[0m\u001b[0;34m.\u001b[0m\u001b[0mtrain_filename\u001b[0m\u001b[0;34m)\u001b[0m \u001b[0;32min\u001b[0m \u001b[0mstr\u001b[0m\u001b[0;34m(\u001b[0m\u001b[0mfilename\u001b[0m\u001b[0;34m)\u001b[0m\u001b[0;34m:\u001b[0m\u001b[0;34m\u001b[0m\u001b[0;34m\u001b[0m\u001b[0m\n",
      "\u001b[0;32m~/miniconda3/envs/transformerlab/lib/python3.8/site-packages/farm/data_handler/processor.py\u001b[0m in \u001b[0;36mfile_to_dicts\u001b[0;34m(self, file)\u001b[0m\n\u001b[1;32m   1924\u001b[0m \u001b[0;34m\u001b[0m\u001b[0m\n\u001b[1;32m   1925\u001b[0m     \u001b[0;32mdef\u001b[0m \u001b[0mfile_to_dicts\u001b[0m\u001b[0;34m(\u001b[0m\u001b[0mself\u001b[0m\u001b[0;34m,\u001b[0m \u001b[0mfile\u001b[0m\u001b[0;34m:\u001b[0m \u001b[0mstr\u001b[0m\u001b[0;34m)\u001b[0m \u001b[0;34m->\u001b[0m \u001b[0;34m[\u001b[0m\u001b[0mdict\u001b[0m\u001b[0;34m]\u001b[0m\u001b[0;34m:\u001b[0m\u001b[0;34m\u001b[0m\u001b[0;34m\u001b[0m\u001b[0m\n\u001b[0;32m-> 1926\u001b[0;31m         \u001b[0mnested_dicts\u001b[0m \u001b[0;34m=\u001b[0m \u001b[0mread_squad_file\u001b[0m\u001b[0;34m(\u001b[0m\u001b[0mfilename\u001b[0m\u001b[0;34m=\u001b[0m\u001b[0mfile\u001b[0m\u001b[0;34m)\u001b[0m\u001b[0;34m\u001b[0m\u001b[0;34m\u001b[0m\u001b[0m\n\u001b[0m\u001b[1;32m   1927\u001b[0m         \u001b[0mdicts\u001b[0m \u001b[0;34m=\u001b[0m \u001b[0;34m[\u001b[0m\u001b[0my\u001b[0m \u001b[0;32mfor\u001b[0m \u001b[0mx\u001b[0m \u001b[0;32min\u001b[0m \u001b[0mnested_dicts\u001b[0m \u001b[0;32mfor\u001b[0m \u001b[0my\u001b[0m \u001b[0;32min\u001b[0m \u001b[0mx\u001b[0m\u001b[0;34m[\u001b[0m\u001b[0;34m\"paragraphs\"\u001b[0m\u001b[0;34m]\u001b[0m\u001b[0;34m]\u001b[0m\u001b[0;34m\u001b[0m\u001b[0;34m\u001b[0m\u001b[0m\n\u001b[1;32m   1928\u001b[0m         \u001b[0;32mreturn\u001b[0m \u001b[0mdicts\u001b[0m\u001b[0;34m\u001b[0m\u001b[0;34m\u001b[0m\u001b[0m\n",
      "\u001b[0;32m~/miniconda3/envs/transformerlab/lib/python3.8/site-packages/farm/data_handler/utils.py\u001b[0m in \u001b[0;36mread_squad_file\u001b[0;34m(filename, proxies)\u001b[0m\n\u001b[1;32m    282\u001b[0m         \u001b[0m_download_extract_downstream_data\u001b[0m\u001b[0;34m(\u001b[0m\u001b[0mfilename\u001b[0m\u001b[0;34m,\u001b[0m \u001b[0mproxies\u001b[0m\u001b[0;34m)\u001b[0m\u001b[0;34m\u001b[0m\u001b[0;34m\u001b[0m\u001b[0m\n\u001b[1;32m    283\u001b[0m     \u001b[0;32mwith\u001b[0m \u001b[0mopen\u001b[0m\u001b[0;34m(\u001b[0m\u001b[0mfilename\u001b[0m\u001b[0;34m,\u001b[0m \u001b[0;34m\"r\"\u001b[0m\u001b[0;34m,\u001b[0m \u001b[0mencoding\u001b[0m\u001b[0;34m=\u001b[0m\u001b[0;34m\"utf-8\"\u001b[0m\u001b[0;34m)\u001b[0m \u001b[0;32mas\u001b[0m \u001b[0mreader\u001b[0m\u001b[0;34m:\u001b[0m\u001b[0;34m\u001b[0m\u001b[0;34m\u001b[0m\u001b[0m\n\u001b[0;32m--> 284\u001b[0;31m         \u001b[0minput_data\u001b[0m \u001b[0;34m=\u001b[0m \u001b[0mjson\u001b[0m\u001b[0;34m.\u001b[0m\u001b[0mload\u001b[0m\u001b[0;34m(\u001b[0m\u001b[0mreader\u001b[0m\u001b[0;34m)\u001b[0m\u001b[0;34m[\u001b[0m\u001b[0;34m\"data\"\u001b[0m\u001b[0;34m]\u001b[0m\u001b[0;34m\u001b[0m\u001b[0;34m\u001b[0m\u001b[0m\n\u001b[0m\u001b[1;32m    285\u001b[0m     \u001b[0;32mreturn\u001b[0m \u001b[0minput_data\u001b[0m\u001b[0;34m\u001b[0m\u001b[0;34m\u001b[0m\u001b[0m\n\u001b[1;32m    286\u001b[0m \u001b[0;34m\u001b[0m\u001b[0m\n",
      "\u001b[0;32m~/miniconda3/envs/transformerlab/lib/python3.8/json/__init__.py\u001b[0m in \u001b[0;36mload\u001b[0;34m(fp, cls, object_hook, parse_float, parse_int, parse_constant, object_pairs_hook, **kw)\u001b[0m\n\u001b[1;32m    291\u001b[0m     \u001b[0mkwarg\u001b[0m\u001b[0;34m;\u001b[0m \u001b[0motherwise\u001b[0m\u001b[0;31m \u001b[0m\u001b[0;31m`\u001b[0m\u001b[0;31m`\u001b[0m\u001b[0mJSONDecoder\u001b[0m\u001b[0;31m`\u001b[0m\u001b[0;31m`\u001b[0m \u001b[0;32mis\u001b[0m \u001b[0mused\u001b[0m\u001b[0;34m.\u001b[0m\u001b[0;34m\u001b[0m\u001b[0;34m\u001b[0m\u001b[0m\n\u001b[1;32m    292\u001b[0m     \"\"\"\n\u001b[0;32m--> 293\u001b[0;31m     return loads(fp.read(),\n\u001b[0m\u001b[1;32m    294\u001b[0m         \u001b[0mcls\u001b[0m\u001b[0;34m=\u001b[0m\u001b[0mcls\u001b[0m\u001b[0;34m,\u001b[0m \u001b[0mobject_hook\u001b[0m\u001b[0;34m=\u001b[0m\u001b[0mobject_hook\u001b[0m\u001b[0;34m,\u001b[0m\u001b[0;34m\u001b[0m\u001b[0;34m\u001b[0m\u001b[0m\n\u001b[1;32m    295\u001b[0m         \u001b[0mparse_float\u001b[0m\u001b[0;34m=\u001b[0m\u001b[0mparse_float\u001b[0m\u001b[0;34m,\u001b[0m \u001b[0mparse_int\u001b[0m\u001b[0;34m=\u001b[0m\u001b[0mparse_int\u001b[0m\u001b[0;34m,\u001b[0m\u001b[0;34m\u001b[0m\u001b[0;34m\u001b[0m\u001b[0m\n",
      "\u001b[0;32m~/miniconda3/envs/transformerlab/lib/python3.8/json/__init__.py\u001b[0m in \u001b[0;36mloads\u001b[0;34m(s, cls, object_hook, parse_float, parse_int, parse_constant, object_pairs_hook, **kw)\u001b[0m\n\u001b[1;32m    355\u001b[0m             \u001b[0mparse_int\u001b[0m \u001b[0;32mis\u001b[0m \u001b[0;32mNone\u001b[0m \u001b[0;32mand\u001b[0m \u001b[0mparse_float\u001b[0m \u001b[0;32mis\u001b[0m \u001b[0;32mNone\u001b[0m \u001b[0;32mand\u001b[0m\u001b[0;34m\u001b[0m\u001b[0;34m\u001b[0m\u001b[0m\n\u001b[1;32m    356\u001b[0m             parse_constant is None and object_pairs_hook is None and not kw):\n\u001b[0;32m--> 357\u001b[0;31m         \u001b[0;32mreturn\u001b[0m \u001b[0m_default_decoder\u001b[0m\u001b[0;34m.\u001b[0m\u001b[0mdecode\u001b[0m\u001b[0;34m(\u001b[0m\u001b[0ms\u001b[0m\u001b[0;34m)\u001b[0m\u001b[0;34m\u001b[0m\u001b[0;34m\u001b[0m\u001b[0m\n\u001b[0m\u001b[1;32m    358\u001b[0m     \u001b[0;32mif\u001b[0m \u001b[0mcls\u001b[0m \u001b[0;32mis\u001b[0m \u001b[0;32mNone\u001b[0m\u001b[0;34m:\u001b[0m\u001b[0;34m\u001b[0m\u001b[0;34m\u001b[0m\u001b[0m\n\u001b[1;32m    359\u001b[0m         \u001b[0mcls\u001b[0m \u001b[0;34m=\u001b[0m \u001b[0mJSONDecoder\u001b[0m\u001b[0;34m\u001b[0m\u001b[0;34m\u001b[0m\u001b[0m\n",
      "\u001b[0;32m~/miniconda3/envs/transformerlab/lib/python3.8/json/decoder.py\u001b[0m in \u001b[0;36mdecode\u001b[0;34m(self, s, _w)\u001b[0m\n\u001b[1;32m    338\u001b[0m         \u001b[0mend\u001b[0m \u001b[0;34m=\u001b[0m \u001b[0m_w\u001b[0m\u001b[0;34m(\u001b[0m\u001b[0ms\u001b[0m\u001b[0;34m,\u001b[0m \u001b[0mend\u001b[0m\u001b[0;34m)\u001b[0m\u001b[0;34m.\u001b[0m\u001b[0mend\u001b[0m\u001b[0;34m(\u001b[0m\u001b[0;34m)\u001b[0m\u001b[0;34m\u001b[0m\u001b[0;34m\u001b[0m\u001b[0m\n\u001b[1;32m    339\u001b[0m         \u001b[0;32mif\u001b[0m \u001b[0mend\u001b[0m \u001b[0;34m!=\u001b[0m \u001b[0mlen\u001b[0m\u001b[0;34m(\u001b[0m\u001b[0ms\u001b[0m\u001b[0;34m)\u001b[0m\u001b[0;34m:\u001b[0m\u001b[0;34m\u001b[0m\u001b[0;34m\u001b[0m\u001b[0m\n\u001b[0;32m--> 340\u001b[0;31m             \u001b[0;32mraise\u001b[0m \u001b[0mJSONDecodeError\u001b[0m\u001b[0;34m(\u001b[0m\u001b[0;34m\"Extra data\"\u001b[0m\u001b[0;34m,\u001b[0m \u001b[0ms\u001b[0m\u001b[0;34m,\u001b[0m \u001b[0mend\u001b[0m\u001b[0;34m)\u001b[0m\u001b[0;34m\u001b[0m\u001b[0;34m\u001b[0m\u001b[0m\n\u001b[0m\u001b[1;32m    341\u001b[0m         \u001b[0;32mreturn\u001b[0m \u001b[0mobj\u001b[0m\u001b[0;34m\u001b[0m\u001b[0;34m\u001b[0m\u001b[0m\n\u001b[1;32m    342\u001b[0m \u001b[0;34m\u001b[0m\u001b[0m\n",
      "\u001b[0;31mJSONDecodeError\u001b[0m: Extra data: line 2 column 1 (char 3167)"
     ]
    }
   ],
   "source": [
    "train_data = \"data/amazon-qa/\"\n",
    "reader.train(data_dir=train_data, train_filename=\"train-qar_squad-music.jsonl\", use_gpu=True, n_epochs=1, save_dir=\"models/haystack\")"
   ]
  },
  {
   "cell_type": "code",
   "execution_count": null,
   "metadata": {},
   "outputs": [],
   "source": []
  }
 ],
 "metadata": {
  "kernelspec": {
   "display_name": "transformerlab",
   "language": "python",
   "name": "transformerlab"
  }
 },
 "nbformat": 4,
 "nbformat_minor": 4
}
