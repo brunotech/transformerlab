{
 "cells": [
  {
   "cell_type": "markdown",
   "metadata": {},
   "source": [
    "# Transformer Lab\n",
    "\n",
    "> Experiments and misadventures with Transformers"
   ]
  },
  {
   "cell_type": "markdown",
   "metadata": {},
   "source": [
    "<div style=\"text-align: center\">\n",
    "<img src='images/lab.jpg' width='800'>\n",
    "<p style=\"text-align: center;\"> I wonder what happens if I fine-tune this model? </p>\n",
    "</div>"
   ]
  },
  {
   "cell_type": "markdown",
   "metadata": {},
   "source": [
    "## Getting started"
   ]
  },
  {
   "cell_type": "markdown",
   "metadata": {},
   "source": [
    "To get the project up and running, clone the repo and then create a conda environment as follows:\n",
    "\n",
    "```\n",
    "conda create --name transformerlab python=3.8 -y && conda activate transformerlab\n",
    "```\n",
    "\n",
    "Next install the required dependencies\n",
    "\n",
    "```\n",
    "pip install -e .\n",
    "```\n",
    "\n",
    "and you're good to go!"
   ]
  },
  {
   "cell_type": "markdown",
   "metadata": {},
   "source": [
    "## Paper re-implementations"
   ]
  },
  {
   "cell_type": "code",
   "execution_count": null,
   "metadata": {},
   "outputs": [],
   "source": [
    "_"
   ]
  }
 ],
 "metadata": {
  "kernelspec": {
   "display_name": "Python 3",
   "language": "python",
   "name": "python3"
  }
 },
 "nbformat": 4,
 "nbformat_minor": 4
}
