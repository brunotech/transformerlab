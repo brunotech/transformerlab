{
 "cells": [
  {
   "cell_type": "markdown",
   "metadata": {},
   "source": [
    "## Imports"
   ]
  },
  {
   "cell_type": "code",
   "execution_count": null,
   "metadata": {},
   "outputs": [],
   "source": [
    "%load_ext autoreload\n",
    "%autoreload 2"
   ]
  },
  {
   "cell_type": "code",
   "execution_count": null,
   "metadata": {},
   "outputs": [],
   "source": [
    "from pathlib import Path\n",
    "import pandas as pd\n",
    "from tqdm import tqdm\n",
    "import json\n",
    "import os\n",
    "from subprocess import Popen, PIPE, STDOUT\n",
    "import matplotlib.pyplot as plt\n",
    "\n",
    "from haystack.preprocessor.cleaning import clean_wiki_text\n",
    "from haystack.preprocessor.utils import convert_files_to_dicts, fetch_archive_from_http\n",
    "from haystack.reader.farm import FARMReader\n",
    "from haystack.reader.transformers import TransformersReader\n",
    "from haystack.utils import print_answers\n",
    "from haystack.document_store.elasticsearch import ElasticsearchDocumentStore\n",
    "from haystack.document_store.faiss import FAISSDocumentStore\n",
    "from haystack.retriever.sparse import ElasticsearchRetriever\n",
    "from haystack.pipeline import ExtractiveQAPipeline\n",
    "from haystack.generator.transformers import RAGenerator\n",
    "from haystack.retriever.dense import DensePassageRetriever"
   ]
  },
  {
   "cell_type": "markdown",
   "metadata": {},
   "source": [
    "## Load data"
   ]
  },
  {
   "cell_type": "markdown",
   "metadata": {},
   "source": [
    "The subjQA dataset covers 6 categories, with a trian/dev/test split per category:"
   ]
  },
  {
   "cell_type": "code",
   "execution_count": null,
   "metadata": {},
   "outputs": [
    {
     "name": "stdout",
     "output_type": "stream",
     "text": [
      "books  electronics  grocery  movies  restaurants  squad_format\ttripadvisor\n"
     ]
    }
   ],
   "source": [
    "data = Path('./data/subjqa')\n",
    "!ls {data}"
   ]
  },
  {
   "cell_type": "code",
   "execution_count": null,
   "metadata": {},
   "outputs": [
    {
     "name": "stdout",
     "output_type": "stream",
     "text": [
      "dev.csv  test.csv  train.csv\n"
     ]
    }
   ],
   "source": [
    "!ls {data/'electronics/splits'}"
   ]
  },
  {
   "cell_type": "markdown",
   "metadata": {},
   "source": [
    "Let's start by picking a single category like `electronics` and loading each CSV in a DataFrame:"
   ]
  },
  {
   "cell_type": "code",
   "execution_count": null,
   "metadata": {},
   "outputs": [],
   "source": [
    "category = \"electronics\""
   ]
  },
  {
   "cell_type": "code",
   "execution_count": null,
   "metadata": {},
   "outputs": [
    {
     "data": {
      "text/html": [
       "<div>\n",
       "<style scoped>\n",
       "    .dataframe tbody tr th:only-of-type {\n",
       "        vertical-align: middle;\n",
       "    }\n",
       "\n",
       "    .dataframe tbody tr th {\n",
       "        vertical-align: top;\n",
       "    }\n",
       "\n",
       "    .dataframe thead th {\n",
       "        text-align: right;\n",
       "    }\n",
       "</style>\n",
       "<table border=\"1\" class=\"dataframe\">\n",
       "  <thead>\n",
       "    <tr style=\"text-align: right;\">\n",
       "      <th></th>\n",
       "      <th>item_id</th>\n",
       "      <th>domain</th>\n",
       "      <th>nn_mod</th>\n",
       "      <th>nn_asp</th>\n",
       "      <th>query_mod</th>\n",
       "      <th>query_asp</th>\n",
       "      <th>q_review_id</th>\n",
       "      <th>q_reviews_id</th>\n",
       "      <th>question</th>\n",
       "      <th>question_subj_level</th>\n",
       "      <th>ques_subj_score</th>\n",
       "      <th>is_ques_subjective</th>\n",
       "      <th>review_id</th>\n",
       "      <th>review</th>\n",
       "      <th>human_ans_spans</th>\n",
       "      <th>human_ans_indices</th>\n",
       "      <th>answer_subj_level</th>\n",
       "      <th>ans_subj_score</th>\n",
       "      <th>is_ans_subjective</th>\n",
       "    </tr>\n",
       "  </thead>\n",
       "  <tbody>\n",
       "    <tr>\n",
       "      <th>0</th>\n",
       "      <td>B006ZS5ATM</td>\n",
       "      <td>electronics</td>\n",
       "      <td>sore</td>\n",
       "      <td>ear</td>\n",
       "      <td>uncomfortable</td>\n",
       "      <td>headphone</td>\n",
       "      <td>adb20314dbbd8196b7e9fb587b78147f</td>\n",
       "      <td>6e1052529424f3a98d303380155c9dde</td>\n",
       "      <td>What do you think about headphone?</td>\n",
       "      <td>5</td>\n",
       "      <td>0.0</td>\n",
       "      <td>False</td>\n",
       "      <td>197e760a49907baeff809b2ccdfe466f</td>\n",
       "      <td>I had a smaller headset that went on the ear. After a 8 - 10 hour workday, m...</td>\n",
       "      <td>ANSWERNOTFOUND</td>\n",
       "      <td>(547, 561)</td>\n",
       "      <td>5</td>\n",
       "      <td>0.0</td>\n",
       "      <td>False</td>\n",
       "    </tr>\n",
       "  </tbody>\n",
       "</table>\n",
       "</div>"
      ],
      "text/plain": [
       "      item_id       domain nn_mod nn_asp      query_mod  query_asp  \\\n",
       "0  B006ZS5ATM  electronics   sore    ear  uncomfortable  headphone   \n",
       "\n",
       "                        q_review_id                      q_reviews_id  \\\n",
       "0  adb20314dbbd8196b7e9fb587b78147f  6e1052529424f3a98d303380155c9dde   \n",
       "\n",
       "                             question  question_subj_level  ques_subj_score  \\\n",
       "0  What do you think about headphone?                    5              0.0   \n",
       "\n",
       "   is_ques_subjective                         review_id  \\\n",
       "0               False  197e760a49907baeff809b2ccdfe466f   \n",
       "\n",
       "                                                                            review  \\\n",
       "0  I had a smaller headset that went on the ear. After a 8 - 10 hour workday, m...   \n",
       "\n",
       "  human_ans_spans human_ans_indices  answer_subj_level  ans_subj_score  \\\n",
       "0  ANSWERNOTFOUND        (547, 561)                  5             0.0   \n",
       "\n",
       "   is_ans_subjective  \n",
       "0              False  "
      ]
     },
     "metadata": {},
     "output_type": "display_data"
    },
    {
     "data": {
      "text/html": [
       "<div>\n",
       "<style scoped>\n",
       "    .dataframe tbody tr th:only-of-type {\n",
       "        vertical-align: middle;\n",
       "    }\n",
       "\n",
       "    .dataframe tbody tr th {\n",
       "        vertical-align: top;\n",
       "    }\n",
       "\n",
       "    .dataframe thead th {\n",
       "        text-align: right;\n",
       "    }\n",
       "</style>\n",
       "<table border=\"1\" class=\"dataframe\">\n",
       "  <thead>\n",
       "    <tr style=\"text-align: right;\">\n",
       "      <th></th>\n",
       "      <th>item_id</th>\n",
       "      <th>domain</th>\n",
       "      <th>nn_mod</th>\n",
       "      <th>nn_asp</th>\n",
       "      <th>query_mod</th>\n",
       "      <th>query_asp</th>\n",
       "      <th>q_review_id</th>\n",
       "      <th>q_reviews_id</th>\n",
       "      <th>question</th>\n",
       "      <th>question_subj_level</th>\n",
       "      <th>ques_subj_score</th>\n",
       "      <th>is_ques_subjective</th>\n",
       "      <th>review_id</th>\n",
       "      <th>review</th>\n",
       "      <th>human_ans_spans</th>\n",
       "      <th>human_ans_indices</th>\n",
       "      <th>answer_subj_level</th>\n",
       "      <th>ans_subj_score</th>\n",
       "      <th>is_ans_subjective</th>\n",
       "    </tr>\n",
       "  </thead>\n",
       "  <tbody>\n",
       "    <tr>\n",
       "      <th>0</th>\n",
       "      <td>B0000BZOGJ</td>\n",
       "      <td>electronics</td>\n",
       "      <td>double</td>\n",
       "      <td>zipper</td>\n",
       "      <td>wide</td>\n",
       "      <td>strap</td>\n",
       "      <td>19d6980d862e90d9170006eaa8516e58</td>\n",
       "      <td>a26d5bd37e06bc8b284ceea6a1eab28d</td>\n",
       "      <td>What is strap?</td>\n",
       "      <td>5</td>\n",
       "      <td>0.0</td>\n",
       "      <td>False</td>\n",
       "      <td>2e675cc6ca63d7052aa195f41fada781</td>\n",
       "      <td>I purchased this just this week, and while it holds myHP Pavilion DV9830US 1...</td>\n",
       "      <td>ANSWERNOTFOUND</td>\n",
       "      <td>(1135, 1149)</td>\n",
       "      <td>1</td>\n",
       "      <td>0.0</td>\n",
       "      <td>False</td>\n",
       "    </tr>\n",
       "  </tbody>\n",
       "</table>\n",
       "</div>"
      ],
      "text/plain": [
       "      item_id       domain  nn_mod  nn_asp query_mod query_asp  \\\n",
       "0  B0000BZOGJ  electronics  double  zipper      wide     strap   \n",
       "\n",
       "                        q_review_id                      q_reviews_id  \\\n",
       "0  19d6980d862e90d9170006eaa8516e58  a26d5bd37e06bc8b284ceea6a1eab28d   \n",
       "\n",
       "         question  question_subj_level  ques_subj_score  is_ques_subjective  \\\n",
       "0  What is strap?                    5              0.0               False   \n",
       "\n",
       "                          review_id  \\\n",
       "0  2e675cc6ca63d7052aa195f41fada781   \n",
       "\n",
       "                                                                            review  \\\n",
       "0  I purchased this just this week, and while it holds myHP Pavilion DV9830US 1...   \n",
       "\n",
       "  human_ans_spans human_ans_indices  answer_subj_level  ans_subj_score  \\\n",
       "0  ANSWERNOTFOUND      (1135, 1149)                  1             0.0   \n",
       "\n",
       "   is_ans_subjective  \n",
       "0              False  "
      ]
     },
     "metadata": {},
     "output_type": "display_data"
    },
    {
     "data": {
      "text/html": [
       "<div>\n",
       "<style scoped>\n",
       "    .dataframe tbody tr th:only-of-type {\n",
       "        vertical-align: middle;\n",
       "    }\n",
       "\n",
       "    .dataframe tbody tr th {\n",
       "        vertical-align: top;\n",
       "    }\n",
       "\n",
       "    .dataframe thead th {\n",
       "        text-align: right;\n",
       "    }\n",
       "</style>\n",
       "<table border=\"1\" class=\"dataframe\">\n",
       "  <thead>\n",
       "    <tr style=\"text-align: right;\">\n",
       "      <th></th>\n",
       "      <th>item_id</th>\n",
       "      <th>domain</th>\n",
       "      <th>nn_mod</th>\n",
       "      <th>nn_asp</th>\n",
       "      <th>query_mod</th>\n",
       "      <th>query_asp</th>\n",
       "      <th>q_review_id</th>\n",
       "      <th>q_reviews_id</th>\n",
       "      <th>question</th>\n",
       "      <th>question_subj_level</th>\n",
       "      <th>ques_subj_score</th>\n",
       "      <th>is_ques_subjective</th>\n",
       "      <th>review_id</th>\n",
       "      <th>review</th>\n",
       "      <th>human_ans_spans</th>\n",
       "      <th>human_ans_indices</th>\n",
       "      <th>answer_subj_level</th>\n",
       "      <th>ans_subj_score</th>\n",
       "      <th>is_ans_subjective</th>\n",
       "    </tr>\n",
       "  </thead>\n",
       "  <tbody>\n",
       "    <tr>\n",
       "      <th>0</th>\n",
       "      <td>B005HMO6A6</td>\n",
       "      <td>electronics</td>\n",
       "      <td>slim</td>\n",
       "      <td>profile</td>\n",
       "      <td>good</td>\n",
       "      <td>texture</td>\n",
       "      <td>04fc9c2d465cfa33839366b248603a6e</td>\n",
       "      <td>45ea1b08b9f0d821d4496669c4c1f782</td>\n",
       "      <td>How is the texture?</td>\n",
       "      <td>1</td>\n",
       "      <td>0.0</td>\n",
       "      <td>False</td>\n",
       "      <td>2eefbde6d07227e04ab45e59760ca3d1</td>\n",
       "      <td>For my tablets, I wanted to find a way to reduce clutter but still be able t...</td>\n",
       "      <td>ANSWERNOTFOUND</td>\n",
       "      <td>(1331, 1345)</td>\n",
       "      <td>1</td>\n",
       "      <td>0.0</td>\n",
       "      <td>False</td>\n",
       "    </tr>\n",
       "  </tbody>\n",
       "</table>\n",
       "</div>"
      ],
      "text/plain": [
       "      item_id       domain nn_mod   nn_asp query_mod query_asp  \\\n",
       "0  B005HMO6A6  electronics   slim  profile      good   texture   \n",
       "\n",
       "                        q_review_id                      q_reviews_id  \\\n",
       "0  04fc9c2d465cfa33839366b248603a6e  45ea1b08b9f0d821d4496669c4c1f782   \n",
       "\n",
       "              question  question_subj_level  ques_subj_score  \\\n",
       "0  How is the texture?                    1              0.0   \n",
       "\n",
       "   is_ques_subjective                         review_id  \\\n",
       "0               False  2eefbde6d07227e04ab45e59760ca3d1   \n",
       "\n",
       "                                                                            review  \\\n",
       "0  For my tablets, I wanted to find a way to reduce clutter but still be able t...   \n",
       "\n",
       "  human_ans_spans human_ans_indices  answer_subj_level  ans_subj_score  \\\n",
       "0  ANSWERNOTFOUND      (1331, 1345)                  1             0.0   \n",
       "\n",
       "   is_ans_subjective  \n",
       "0              False  "
      ]
     },
     "metadata": {},
     "output_type": "display_data"
    }
   ],
   "source": [
    "dfs = {p.stem: pd.read_csv(p) for p in (data/'electronics/splits/').glob(\"*.csv\")}\n",
    "\n",
    "for k,v in dfs.items(): display(v.head(1))"
   ]
  },
  {
   "cell_type": "markdown",
   "metadata": {},
   "source": [
    "From the [paper](https://arxiv.org/pdf/2004.14283.pdf), here are the breakdown of examples per category / split:\n",
    "\n",
    "| Domain | Train | Dev | Test | Total |\n",
    "| :---: | :---: | :---: | :---: | :---: |\n",
    "| TripAdvisor  | 1165 | 230 | 512 | 1686 |\n",
    "| Restaurants | 1400 | 267 | 266 | 1683 |\n",
    "| Movies | 1369 | 261 | 291 | 1677 |\n",
    "| Books | 1314 | 256 | 345 | 1668 |\n",
    "| Electronics | 1295 | 255 | 358 | 1659 |\n",
    "| Grocery | 1124 | 218 | 591 | 1725 |\n",
    "\n",
    "Let's try to verify them by counting the number of unique question IDs per split:"
   ]
  },
  {
   "cell_type": "code",
   "execution_count": null,
   "metadata": {},
   "outputs": [
    {
     "name": "stdout",
     "output_type": "stream",
     "text": [
      "train 1295\n",
      "test 358\n",
      "dev 255\n"
     ]
    }
   ],
   "source": [
    "for k,v in dfs.items(): print(k, v[\"q_review_id\"].nunique())"
   ]
  },
  {
   "cell_type": "markdown",
   "metadata": {},
   "source": [
    "Looks good."
   ]
  },
  {
   "cell_type": "code",
   "execution_count": null,
   "metadata": {},
   "outputs": [
    {
     "data": {
      "text/plain": [
       "(2345, 19)"
      ]
     },
     "execution_count": null,
     "metadata": {},
     "output_type": "execute_result"
    }
   ],
   "source": [
    "dfs[\"train\"].shape"
   ]
  },
  {
   "cell_type": "code",
   "execution_count": null,
   "metadata": {},
   "outputs": [
    {
     "data": {
      "text/plain": [
       "item_id                                                                                     B003VAGXWK\n",
       "domain                                                                                     electronics\n",
       "nn_mod                                                                                           sleek\n",
       "nn_asp                                                                                        keyboard\n",
       "query_mod                                                                                        solid\n",
       "query_asp                                                                                          key\n",
       "q_review_id                                                           73e8277fbf438a7ade8f720ddf8a4f47\n",
       "q_reviews_id                                                          55576d11e04159c488107b442aaff880\n",
       "question                                                            How are the keys of the  keyboard?\n",
       "question_subj_level                                                                                  1\n",
       "ques_subj_score                                                                                    0.0\n",
       "is_ques_subjective                                                                               False\n",
       "review_id                                                             74ae92c2bbeb9511fce8ddb5a4b9411b\n",
       "review                 I was reluctant to try a wireless keyboard, but due to a wire-chomping kitty...\n",
       "human_ans_spans                                                       The illuminated keys are helpful\n",
       "human_ans_indices                                                                           (421, 453)\n",
       "answer_subj_level                                                                                    1\n",
       "ans_subj_score                                                                                     0.0\n",
       "is_ans_subjective                                                                                False\n",
       "Name: 13, dtype: object"
      ]
     },
     "execution_count": null,
     "metadata": {},
     "output_type": "execute_result"
    }
   ],
   "source": [
    "# peek at single example with valid answer\n",
    "row = dfs[\"train\"].query(\"human_ans_spans != 'ANSWERNOTFOUND'\").iloc[0]\n",
    "row"
   ]
  },
  {
   "cell_type": "code",
   "execution_count": null,
   "metadata": {},
   "outputs": [
    {
     "name": "stdout",
     "output_type": "stream",
     "text": [
      "Question: How are the keys of the  keyboard? \n",
      "\n",
      "Answer: The illuminated keys are helpful \n",
      "\n",
      "Review: I was reluctant to try a wireless keyboard, but due to a wire-chomping kitty, decided it was best to go wireless. I'm so glad I did. This keyboard is sleek and stylish. It has a great feel under my fingertips. I was concerned that a wireless keyboard would be &#34;buggy&#34; and not be efficient, but this keyboard is as good as any corded keyboard. It charges easily via USB port and holds a charge for about ten days. The illuminated keys are helpful, if, like me, your eyes aren't as young as they once were. I already had the logitech unifying plug that plugs into my computer for my mouse and touchpad. I turned the keyboard on and the Logitech plug recognized it right away. I highly recommend this keyboard. ANSWERNOTFOUND\n"
     ]
    }
   ],
   "source": [
    "print(f\"Question: {row['question']}\", \"\\n\")\n",
    "print(f\"Answer: {row['human_ans_spans']}\", \"\\n\")\n",
    "print(f\"Review: {row['review']}\")"
   ]
  },
  {
   "cell_type": "code",
   "execution_count": null,
   "metadata": {},
   "outputs": [
    {
     "data": {
      "text/plain": [
       "'The illuminated keys are helpful'"
      ]
     },
     "execution_count": null,
     "metadata": {},
     "output_type": "execute_result"
    }
   ],
   "source": [
    "# check spans match indices\n",
    "start_idx, end_idx = eval(row[\"human_ans_indices\"])\n",
    "row['review'][start_idx:end_idx]"
   ]
  },
  {
   "cell_type": "markdown",
   "metadata": {},
   "source": [
    "I noticed that some spans don't match the indices, let's take a look:"
   ]
  },
  {
   "cell_type": "code",
   "execution_count": null,
   "metadata": {},
   "outputs": [],
   "source": [
    "train_df = dfs[\"train\"].copy()"
   ]
  },
  {
   "cell_type": "code",
   "execution_count": null,
   "metadata": {},
   "outputs": [],
   "source": [
    "# convert span indices to tuples\n",
    "train_df[\"human_ans_indices\"] = train_df[\"human_ans_indices\"].apply(lambda x : eval(x))"
   ]
  },
  {
   "cell_type": "code",
   "execution_count": null,
   "metadata": {},
   "outputs": [],
   "source": [
    "def extract_answer_spans(row):\n",
    "    start_idx, end_idx = row[\"human_ans_indices\"]\n",
    "    return row[\"review\"][start_idx:end_idx]"
   ]
  },
  {
   "cell_type": "code",
   "execution_count": null,
   "metadata": {},
   "outputs": [
    {
     "data": {
      "text/html": [
       "<div>\n",
       "<style scoped>\n",
       "    .dataframe tbody tr th:only-of-type {\n",
       "        vertical-align: middle;\n",
       "    }\n",
       "\n",
       "    .dataframe tbody tr th {\n",
       "        vertical-align: top;\n",
       "    }\n",
       "\n",
       "    .dataframe thead th {\n",
       "        text-align: right;\n",
       "    }\n",
       "</style>\n",
       "<table border=\"1\" class=\"dataframe\">\n",
       "  <thead>\n",
       "    <tr style=\"text-align: right;\">\n",
       "      <th></th>\n",
       "      <th>item_id</th>\n",
       "      <th>domain</th>\n",
       "      <th>nn_mod</th>\n",
       "      <th>nn_asp</th>\n",
       "      <th>query_mod</th>\n",
       "      <th>query_asp</th>\n",
       "      <th>q_review_id</th>\n",
       "      <th>q_reviews_id</th>\n",
       "      <th>question</th>\n",
       "      <th>question_subj_level</th>\n",
       "      <th>ques_subj_score</th>\n",
       "      <th>is_ques_subjective</th>\n",
       "      <th>review_id</th>\n",
       "      <th>review</th>\n",
       "      <th>human_ans_spans</th>\n",
       "      <th>human_ans_indices</th>\n",
       "      <th>answer_subj_level</th>\n",
       "      <th>ans_subj_score</th>\n",
       "      <th>is_ans_subjective</th>\n",
       "      <th>answer_spans</th>\n",
       "    </tr>\n",
       "  </thead>\n",
       "  <tbody>\n",
       "    <tr>\n",
       "      <th>0</th>\n",
       "      <td>B006ZS5ATM</td>\n",
       "      <td>electronics</td>\n",
       "      <td>sore</td>\n",
       "      <td>ear</td>\n",
       "      <td>uncomfortable</td>\n",
       "      <td>headphone</td>\n",
       "      <td>adb20314dbbd8196b7e9fb587b78147f</td>\n",
       "      <td>6e1052529424f3a98d303380155c9dde</td>\n",
       "      <td>What do you think about headphone?</td>\n",
       "      <td>5</td>\n",
       "      <td>0.0</td>\n",
       "      <td>False</td>\n",
       "      <td>197e760a49907baeff809b2ccdfe466f</td>\n",
       "      <td>I had a smaller headset that went on the ear. After a 8 - 10 hour workday, m...</td>\n",
       "      <td>ANSWERNOTFOUND</td>\n",
       "      <td>(547, 561)</td>\n",
       "      <td>5</td>\n",
       "      <td>0.0</td>\n",
       "      <td>False</td>\n",
       "      <td>ANSWERNOTFOUND</td>\n",
       "    </tr>\n",
       "  </tbody>\n",
       "</table>\n",
       "</div>"
      ],
      "text/plain": [
       "      item_id       domain nn_mod nn_asp      query_mod  query_asp  \\\n",
       "0  B006ZS5ATM  electronics   sore    ear  uncomfortable  headphone   \n",
       "\n",
       "                        q_review_id                      q_reviews_id  \\\n",
       "0  adb20314dbbd8196b7e9fb587b78147f  6e1052529424f3a98d303380155c9dde   \n",
       "\n",
       "                             question  question_subj_level  ques_subj_score  \\\n",
       "0  What do you think about headphone?                    5              0.0   \n",
       "\n",
       "   is_ques_subjective                         review_id  \\\n",
       "0               False  197e760a49907baeff809b2ccdfe466f   \n",
       "\n",
       "                                                                            review  \\\n",
       "0  I had a smaller headset that went on the ear. After a 8 - 10 hour workday, m...   \n",
       "\n",
       "  human_ans_spans human_ans_indices  answer_subj_level  ans_subj_score  \\\n",
       "0  ANSWERNOTFOUND        (547, 561)                  5             0.0   \n",
       "\n",
       "   is_ans_subjective    answer_spans  \n",
       "0              False  ANSWERNOTFOUND  "
      ]
     },
     "execution_count": null,
     "metadata": {},
     "output_type": "execute_result"
    }
   ],
   "source": [
    "train_df[\"answer_spans\"] = train_df.apply(extract_answer_spans, axis=1)\n",
    "train_df.head(1)"
   ]
  },
  {
   "cell_type": "code",
   "execution_count": null,
   "metadata": {},
   "outputs": [],
   "source": [
    "mask = train_df[\"human_ans_spans\"].str.len() != train_df[\"answer_spans\"].str.len()"
   ]
  },
  {
   "cell_type": "code",
   "execution_count": null,
   "metadata": {},
   "outputs": [
    {
     "data": {
      "text/html": [
       "<div>\n",
       "<style scoped>\n",
       "    .dataframe tbody tr th:only-of-type {\n",
       "        vertical-align: middle;\n",
       "    }\n",
       "\n",
       "    .dataframe tbody tr th {\n",
       "        vertical-align: top;\n",
       "    }\n",
       "\n",
       "    .dataframe thead th {\n",
       "        text-align: right;\n",
       "    }\n",
       "</style>\n",
       "<table border=\"1\" class=\"dataframe\">\n",
       "  <thead>\n",
       "    <tr style=\"text-align: right;\">\n",
       "      <th></th>\n",
       "      <th>human_ans_spans</th>\n",
       "      <th>answer_spans</th>\n",
       "    </tr>\n",
       "  </thead>\n",
       "  <tbody>\n",
       "    <tr>\n",
       "      <th>15</th>\n",
       "      <td>The anti - glare function does work as described</td>\n",
       "      <td>The anti-glare function does work as described</td>\n",
       "    </tr>\n",
       "    <tr>\n",
       "      <th>30</th>\n",
       "      <td>SOUND : The sound is actually very good for background music</td>\n",
       "      <td>SOUND: The sound is actually very good for background music</td>\n",
       "    </tr>\n",
       "    <tr>\n",
       "      <th>36</th>\n",
       "      <td>The router took about 10 ' to install and has worked like a charm since then</td>\n",
       "      <td>The router took about 10' to install and has worked like a charm since then</td>\n",
       "    </tr>\n",
       "    <tr>\n",
       "      <th>50</th>\n",
       "      <td>sale for as much as $ 750</td>\n",
       "      <td>sale for as much as $750</td>\n",
       "    </tr>\n",
       "    <tr>\n",
       "      <th>57</th>\n",
       "      <td>It 's actually much faster to use than booting up my roommate 's 360 or PS4 ...</td>\n",
       "      <td>It's actually much faster to use than booting up my roommate's 360 or PS4 to...</td>\n",
       "    </tr>\n",
       "  </tbody>\n",
       "</table>\n",
       "</div>"
      ],
      "text/plain": [
       "                                                                    human_ans_spans  \\\n",
       "15                                 The anti - glare function does work as described   \n",
       "30                     SOUND : The sound is actually very good for background music   \n",
       "36     The router took about 10 ' to install and has worked like a charm since then   \n",
       "50                                                        sale for as much as $ 750   \n",
       "57  It 's actually much faster to use than booting up my roommate 's 360 or PS4 ...   \n",
       "\n",
       "                                                                       answer_spans  \n",
       "15                                   The anti-glare function does work as described  \n",
       "30                      SOUND: The sound is actually very good for background music  \n",
       "36      The router took about 10' to install and has worked like a charm since then  \n",
       "50                                                         sale for as much as $750  \n",
       "57  It's actually much faster to use than booting up my roommate's 360 or PS4 to...  "
      ]
     },
     "execution_count": null,
     "metadata": {},
     "output_type": "execute_result"
    }
   ],
   "source": [
    "train_df.loc[mask].head()[[\"human_ans_spans\", \"answer_spans\"]]"
   ]
  },
  {
   "cell_type": "markdown",
   "metadata": {},
   "source": [
    "So it seems that some sort of tokenization has been introduced for some examples in the training set. How about the dev and test ones?"
   ]
  },
  {
   "cell_type": "code",
   "execution_count": null,
   "metadata": {},
   "outputs": [
    {
     "name": "stdout",
     "output_type": "stream",
     "text": [
      "train fraction of labelling errors: 0.08 \n",
      "\n",
      "test fraction of labelling errors: 0.08 \n",
      "\n",
      "dev fraction of labelling errors: 0.07 \n",
      "\n"
     ]
    }
   ],
   "source": [
    "for k,v in dfs.items():\n",
    "    # convert to tuples\n",
    "    v[\"human_ans_indices\"] = v[\"human_ans_indices\"].apply(lambda x : eval(x))\n",
    "    v[\"answer_spans\"] = v.apply(extract_answer_spans, axis=1)\n",
    "    mask = v[\"human_ans_spans\"].str.len() != v[\"answer_spans\"].str.len()\n",
    "    print(f\"{k} fraction of labelling errors: {len(v.loc[mask]) / len(v):.2f}\", \"\\n\")"
   ]
  },
  {
   "cell_type": "markdown",
   "metadata": {},
   "source": [
    "Assume we can use the indices as answer spans!"
   ]
  },
  {
   "cell_type": "markdown",
   "metadata": {},
   "source": [
    "## Convert to SQuAD format"
   ]
  },
  {
   "cell_type": "markdown",
   "metadata": {},
   "source": [
    "Need this format\n",
    "\n",
    "```json\n",
    "{\n",
    "    \"data\": [\n",
    "        {\n",
    "            \"title\": \"Beyoncé\",\n",
    "            \"paragraphs\": [\n",
    "                {\n",
    "                    \"qas\": [\n",
    "                        {\n",
    "                            \"question\": \"When did Beyonce start becoming popular?\",\n",
    "                            \"id\": \"56be85543aeaaa14008c9063\",\n",
    "                            \"answers\": [\n",
    "                                {\n",
    "                                    \"text\": \"in the late 1990s\",\n",
    "                                    \"answer_start\": 269\n",
    "                                }\n",
    "                            ],\n",
    "                            \"is_impossible\": false\n",
    "                        }\n",
    "                        ...\n",
    "                    ],\n",
    "                    \"context\": \"Beyoncé ...\"\n",
    "                },\n",
    "                ...\n",
    "            ]\n",
    "        }\n",
    "    ]\n",
    "}\n",
    "```"
   ]
  },
  {
   "cell_type": "code",
   "execution_count": null,
   "metadata": {},
   "outputs": [
    {
     "data": {
      "text/plain": [
       "item_id                                                                                     B003VAGXWK\n",
       "domain                                                                                     electronics\n",
       "nn_mod                                                                                           sleek\n",
       "nn_asp                                                                                        keyboard\n",
       "query_mod                                                                                        solid\n",
       "query_asp                                                                                          key\n",
       "q_review_id                                                           73e8277fbf438a7ade8f720ddf8a4f47\n",
       "q_reviews_id                                                          55576d11e04159c488107b442aaff880\n",
       "question                                                            How are the keys of the  keyboard?\n",
       "question_subj_level                                                                                  1\n",
       "ques_subj_score                                                                                    0.0\n",
       "is_ques_subjective                                                                               False\n",
       "review_id                                                             74ae92c2bbeb9511fce8ddb5a4b9411b\n",
       "review                 I was reluctant to try a wireless keyboard, but due to a wire-chomping kitty...\n",
       "human_ans_spans                                                       The illuminated keys are helpful\n",
       "human_ans_indices                                                                           (421, 453)\n",
       "answer_subj_level                                                                                    1\n",
       "ans_subj_score                                                                                     0.0\n",
       "is_ans_subjective                                                                                False\n",
       "answer_spans                                                          The illuminated keys are helpful\n",
       "Name: 13, dtype: object"
      ]
     },
     "execution_count": null,
     "metadata": {},
     "output_type": "execute_result"
    }
   ],
   "source": [
    "# peek at single row\n",
    "row = train_df.query(\"human_ans_spans != 'ANSWERNOTFOUND'\").iloc[0]\n",
    "row"
   ]
  },
  {
   "cell_type": "markdown",
   "metadata": {},
   "source": [
    "So we could have the following field mappings:\n",
    "\n",
    "* title -> item_id\n",
    "* question -> question\n",
    "* id -> q_review_id\n",
    "* answers -> answer_spans (corrects for problems in human_ans_spans)\n",
    "* answer_start -> first element of human_ans_indices\n",
    "* is_impossible -> if human_ans_spans == ANSWERNOTFOUND\n",
    "* context -> review"
   ]
  },
  {
   "cell_type": "markdown",
   "metadata": {},
   "source": [
    "Groupby `item_id` and build data structure from that? First build up paragraphs from row:"
   ]
  },
  {
   "cell_type": "code",
   "execution_count": null,
   "metadata": {},
   "outputs": [
    {
     "data": {
      "text/plain": [
       "[{'qas': [{'question': 'How are the keys of the  keyboard?',\n",
       "    'id': '73e8277fbf438a7ade8f720ddf8a4f47',\n",
       "    'answers': [{'text': 'The illuminated keys are helpful',\n",
       "      'answer_start': 421}],\n",
       "    'is_impossible': False}],\n",
       "  'context': \"I was reluctant to try a wireless keyboard, but due to a wire-chomping kitty, decided it was best to go wireless. I'm so glad I did. This keyboard is sleek and stylish. It has a great feel under my fingertips. I was concerned that a wireless keyboard would be &#34;buggy&#34; and not be efficient, but this keyboard is as good as any corded keyboard. It charges easily via USB port and holds a charge for about ten days. The illuminated keys are helpful, if, like me, your eyes aren't as young as they once were. I already had the logitech unifying plug that plugs into my computer for my mouse and touchpad. I turned the keyboard on and the Logitech plug recognized it right away. I highly recommend this keyboard. ANSWERNOTFOUND\"}]"
      ]
     },
     "execution_count": null,
     "metadata": {},
     "output_type": "execute_result"
    }
   ],
   "source": [
    "pars = [\n",
    "    {\"qas\": \n",
    "     [\n",
    "         {\"question\": row[\"question\"], \n",
    "          \"id\": row[\"q_review_id\"], \n",
    "          \"answers\": [\n",
    "              {\"text\": row[\"answer_spans\"], \n",
    "               \"answer_start\": row[\"human_ans_indices\"][0]}\n",
    "          ], \n",
    "          \"is_impossible\": True if row[\"answer_spans\"] == \"ANSWERNOTFOUND\" else False}],\n",
    "     \"context\": row[\"review\"]\n",
    "    }]\n",
    "pars"
   ]
  },
  {
   "cell_type": "markdown",
   "metadata": {},
   "source": [
    "Test on a subset of two items:"
   ]
  },
  {
   "cell_type": "code",
   "execution_count": null,
   "metadata": {},
   "outputs": [
    {
     "data": {
      "text/html": [
       "<div>\n",
       "<style scoped>\n",
       "    .dataframe tbody tr th:only-of-type {\n",
       "        vertical-align: middle;\n",
       "    }\n",
       "\n",
       "    .dataframe tbody tr th {\n",
       "        vertical-align: top;\n",
       "    }\n",
       "\n",
       "    .dataframe thead th {\n",
       "        text-align: right;\n",
       "    }\n",
       "</style>\n",
       "<table border=\"1\" class=\"dataframe\">\n",
       "  <thead>\n",
       "    <tr style=\"text-align: right;\">\n",
       "      <th></th>\n",
       "      <th>item_id</th>\n",
       "      <th>domain</th>\n",
       "      <th>nn_mod</th>\n",
       "      <th>nn_asp</th>\n",
       "      <th>query_mod</th>\n",
       "      <th>query_asp</th>\n",
       "      <th>q_review_id</th>\n",
       "      <th>q_reviews_id</th>\n",
       "      <th>question</th>\n",
       "      <th>question_subj_level</th>\n",
       "      <th>ques_subj_score</th>\n",
       "      <th>is_ques_subjective</th>\n",
       "      <th>review_id</th>\n",
       "      <th>review</th>\n",
       "      <th>human_ans_spans</th>\n",
       "      <th>human_ans_indices</th>\n",
       "      <th>answer_subj_level</th>\n",
       "      <th>ans_subj_score</th>\n",
       "      <th>is_ans_subjective</th>\n",
       "      <th>answer_spans</th>\n",
       "    </tr>\n",
       "  </thead>\n",
       "  <tbody>\n",
       "    <tr>\n",
       "      <th>0</th>\n",
       "      <td>B006ZS5ATM</td>\n",
       "      <td>electronics</td>\n",
       "      <td>sore</td>\n",
       "      <td>ear</td>\n",
       "      <td>uncomfortable</td>\n",
       "      <td>headphone</td>\n",
       "      <td>adb20314dbbd8196b7e9fb587b78147f</td>\n",
       "      <td>6e1052529424f3a98d303380155c9dde</td>\n",
       "      <td>What do you think about headphone?</td>\n",
       "      <td>5</td>\n",
       "      <td>0.0</td>\n",
       "      <td>False</td>\n",
       "      <td>197e760a49907baeff809b2ccdfe466f</td>\n",
       "      <td>I had a smaller headset that went on the ear. After a 8 - 10 hour workday, m...</td>\n",
       "      <td>ANSWERNOTFOUND</td>\n",
       "      <td>(547, 561)</td>\n",
       "      <td>5</td>\n",
       "      <td>0.0</td>\n",
       "      <td>False</td>\n",
       "      <td>ANSWERNOTFOUND</td>\n",
       "    </tr>\n",
       "  </tbody>\n",
       "</table>\n",
       "</div>"
      ],
      "text/plain": [
       "      item_id       domain nn_mod nn_asp      query_mod  query_asp  \\\n",
       "0  B006ZS5ATM  electronics   sore    ear  uncomfortable  headphone   \n",
       "\n",
       "                        q_review_id                      q_reviews_id  \\\n",
       "0  adb20314dbbd8196b7e9fb587b78147f  6e1052529424f3a98d303380155c9dde   \n",
       "\n",
       "                             question  question_subj_level  ques_subj_score  \\\n",
       "0  What do you think about headphone?                    5              0.0   \n",
       "\n",
       "   is_ques_subjective                         review_id  \\\n",
       "0               False  197e760a49907baeff809b2ccdfe466f   \n",
       "\n",
       "                                                                            review  \\\n",
       "0  I had a smaller headset that went on the ear. After a 8 - 10 hour workday, m...   \n",
       "\n",
       "  human_ans_spans human_ans_indices  answer_subj_level  ans_subj_score  \\\n",
       "0  ANSWERNOTFOUND        (547, 561)                  5             0.0   \n",
       "\n",
       "   is_ans_subjective    answer_spans  \n",
       "0              False  ANSWERNOTFOUND  "
      ]
     },
     "execution_count": null,
     "metadata": {},
     "output_type": "execute_result"
    }
   ],
   "source": [
    "sample_df = train_df.query(\"item_id == 'B006ZS5ATM' | item_id == 'B0074BW614'\")\n",
    "sample_df.head(1)"
   ]
  },
  {
   "cell_type": "code",
   "execution_count": null,
   "metadata": {},
   "outputs": [
    {
     "data": {
      "text/plain": [
       "(108, 20)"
      ]
     },
     "execution_count": null,
     "metadata": {},
     "output_type": "execute_result"
    }
   ],
   "source": [
    "sample_df.shape"
   ]
  },
  {
   "cell_type": "code",
   "execution_count": null,
   "metadata": {},
   "outputs": [
    {
     "data": {
      "text/plain": [
       "item_id\n",
       "B006ZS5ATM      5\n",
       "B0074BW614    103\n",
       "Name: q_review_id, dtype: int64"
      ]
     },
     "execution_count": null,
     "metadata": {},
     "output_type": "execute_result"
    }
   ],
   "source": [
    "sample_df.groupby('item_id')['q_review_id'].count()"
   ]
  },
  {
   "cell_type": "code",
   "execution_count": null,
   "metadata": {},
   "outputs": [],
   "source": [
    "def create_paragraphs(group):\n",
    "    pars = []\n",
    "    \n",
    "    for idx, row in group.iterrows():\n",
    "        qas = {\"qas\": [\n",
    "            {\"question\": row[\"question\"],\n",
    "             \"id\": row[\"q_review_id\"], \n",
    "             \"answers\": [\n",
    "                 {\"text\": row[\"answer_spans\"], \n",
    "                  \"answer_start\": row[\"human_ans_indices\"][0]}\n",
    "                 ],\n",
    "             \"is_impossible\": True if row[\"answer_spans\"] == \"ANSWERNOTFOUND\" else False}\n",
    "        ],\n",
    "               \"context\": row[\"review\"]\n",
    "               }\n",
    "        pars.append(qas)\n",
    "        \n",
    "    return pars"
   ]
  },
  {
   "cell_type": "code",
   "execution_count": null,
   "metadata": {},
   "outputs": [],
   "source": [
    "groups = sample_df.groupby('item_id').apply(create_paragraphs).to_frame(name=\"paragraphs\").reset_index().rename(columns={\"item_id\":'title'})"
   ]
  },
  {
   "cell_type": "code",
   "execution_count": null,
   "metadata": {},
   "outputs": [
    {
     "data": {
      "text/html": [
       "<div>\n",
       "<style scoped>\n",
       "    .dataframe tbody tr th:only-of-type {\n",
       "        vertical-align: middle;\n",
       "    }\n",
       "\n",
       "    .dataframe tbody tr th {\n",
       "        vertical-align: top;\n",
       "    }\n",
       "\n",
       "    .dataframe thead th {\n",
       "        text-align: right;\n",
       "    }\n",
       "</style>\n",
       "<table border=\"1\" class=\"dataframe\">\n",
       "  <thead>\n",
       "    <tr style=\"text-align: right;\">\n",
       "      <th></th>\n",
       "      <th>title</th>\n",
       "      <th>paragraphs</th>\n",
       "    </tr>\n",
       "  </thead>\n",
       "  <tbody>\n",
       "    <tr>\n",
       "      <th>0</th>\n",
       "      <td>B006ZS5ATM</td>\n",
       "      <td>[{'qas': [{'question': 'What do you think about headphone?', 'id': 'adb20314...</td>\n",
       "    </tr>\n",
       "    <tr>\n",
       "      <th>1</th>\n",
       "      <td>B0074BW614</td>\n",
       "      <td>[{'qas': [{'question': 'What are complaint of these guys?', 'id': '991b7bc67...</td>\n",
       "    </tr>\n",
       "  </tbody>\n",
       "</table>\n",
       "</div>"
      ],
      "text/plain": [
       "        title  \\\n",
       "0  B006ZS5ATM   \n",
       "1  B0074BW614   \n",
       "\n",
       "                                                                        paragraphs  \n",
       "0  [{'qas': [{'question': 'What do you think about headphone?', 'id': 'adb20314...  \n",
       "1  [{'qas': [{'question': 'What are complaint of these guys?', 'id': '991b7bc67...  "
      ]
     },
     "execution_count": null,
     "metadata": {},
     "output_type": "execute_result"
    }
   ],
   "source": [
    "groups"
   ]
  },
  {
   "cell_type": "code",
   "execution_count": null,
   "metadata": {},
   "outputs": [
    {
     "data": {
      "text/plain": [
       "103"
      ]
     },
     "execution_count": null,
     "metadata": {},
     "output_type": "execute_result"
    }
   ],
   "source": [
    "len(groups.iloc[1][\"paragraphs\"])"
   ]
  },
  {
   "cell_type": "code",
   "execution_count": null,
   "metadata": {},
   "outputs": [
    {
     "data": {
      "text/plain": [
       "{'title': 'B006ZS5ATM',\n",
       " 'paragraphs': [{'qas': [{'question': 'What do you think about headphone?',\n",
       "     'id': 'adb20314dbbd8196b7e9fb587b78147f',\n",
       "     'answers': [{'text': 'ANSWERNOTFOUND', 'answer_start': 547}],\n",
       "     'is_impossible': True}],\n",
       "   'context': \"I had a smaller headset that went on the ear. After a 8 - 10 hour workday, my ears were throbbing red and painfully sore. With this headset, I can go the same shift and not feel any pain on my ear. They may feel a little on the heavy side, but if you adjust the head phone cups just right and stretch them, you will not have any problems.Quality and sound, words cannot explain. Its so clear and loud, the headset holds in the sound. When I am on a call or listening to music, I do not hear nothing else, but what's coming in through the headset. ANSWERNOTFOUND\"},\n",
       "  {'qas': [{'question': 'What is the sound quality?',\n",
       "     'id': 'a3cd9be41531e7f23a9882c2a3cb15d4',\n",
       "     'answers': [{'text': 'Sound quality is awesome', 'answer_start': 490}],\n",
       "     'is_impossible': False}],\n",
       "   'context': \"So I was looking for a decent headset for pretty cheap, looked on Google to see the best headsets and these were #1, I figured i'd get them because they seemed decent and for pretty cheap. After I ordered them I saw a review saying that they don't work with Windows 8, I have Windows 8 so I started worrying about them. I got them and just as the comment said, they weren't working, so I looked up what to do and found solutions really easily online, now they work perfectly and amazingly. Sound quality is awesome. 7.1 in headphones?!?!?! Deal me in! They really are as comfortable as they look, build quality is just as nice, and the Mic is super clear. So if you're looking for a decent headset for pretty cheap, go with these :) ANSWERNOTFOUND\"},\n",
       "  {'qas': [{'question': 'What is the sound quality?',\n",
       "     'id': 'a3cd9be41531e7f23a9882c2a3cb15d4',\n",
       "     'answers': [{'text': 'Sound quality is awesome', 'answer_start': 490}],\n",
       "     'is_impossible': False}],\n",
       "   'context': \"So I was looking for a decent headset for pretty cheap, looked on Google to see the best headsets and these were #1, I figured i'd get them because they seemed decent and for pretty cheap. After I ordered them I saw a review saying that they don't work with Windows 8, I have Windows 8 so I started worrying about them. I got them and just as the comment said, they weren't working, so I looked up what to do and found solutions really easily online, now they work perfectly and amazingly. Sound quality is awesome. 7.1 in headphones?!?!?! Deal me in! They really are as comfortable as they look, build quality is just as nice, and the Mic is super clear. So if you're looking for a decent headset for pretty cheap, go with these :) ANSWERNOTFOUND\"},\n",
       "  {'qas': [{'question': 'What do you think about headphone?',\n",
       "     'id': 'adb20314dbbd8196b7e9fb587b78147f',\n",
       "     'answers': [{'text': 'ANSWERNOTFOUND', 'answer_start': 547}],\n",
       "     'is_impossible': True}],\n",
       "   'context': \"I had a smaller headset that went on the ear. After a 8 - 10 hour workday, my ears were throbbing red and painfully sore. With this headset, I can go the same shift and not feel any pain on my ear. They may feel a little on the heavy side, but if you adjust the head phone cups just right and stretch them, you will not have any problems.Quality and sound, words cannot explain. Its so clear and loud, the headset holds in the sound. When I am on a call or listening to music, I do not hear nothing else, but what's coming in through the headset. ANSWERNOTFOUND\"},\n",
       "  {'qas': [{'question': 'How is the sound quality of these plantronics microphone ?',\n",
       "     'id': '96406c29b0298769a44ccec56cce38bb',\n",
       "     'answers': [{'text': 'The sound quality is very decent',\n",
       "       'answer_start': 525}],\n",
       "     'is_impossible': False}],\n",
       "   'context': \"Decent sound, but there are negatives to considerThe quality of the construction and materials seems average. I would prefer if they were a little better built, but they're acceptable for the price. The fabric used on the ear pieces and the head padding is the same fabric they use in fabric lint rollers. It's soft enough, but collects lint accordingly. The mic boom is flexible rubber and decent quality, but it doesn't allow you to adjust its location in and out and sits further from the mouth than expected.Pros:Sound - The sound quality is very decent. I'm not an audiophile so take it with a grain of salt, but both games and music are quite enjoyable for me with this headset.Comfort - At first I found these uncomfortable and pinching which after an hour of use caused significant discomfort. However, once I lowered the ear pieces to wear this a bit loose (more loose than I normally prefer headphones) they fit much better. After hours of use they are still comfortable for me.Microphone - The mic is very sensitive and picks up sound really well.Cons:USB - The USB interface is one you want to avoid for headsets if you have a good soundcard. USB headsets include their own audio card built-in to the device in order to work. Therefore, using these will bypass the soundcard in your computer.  Also, the USB cable is quite short. This device isn't compatible with USB 3.0. Since I only have 3.0 on the front panel of my computer I would prefer a longer cord to run it from the back.Dolby - The simulated 7.1 is not appealing to me. It simulates surround by making the audio more `spatial'. This doesn't add to the audio quality though; it makes the sound worse in my opinion. The default setting is off,Volume Control - The volume control is a rocker switch in a convenient location on the back of the left ear-piece. The rocker switch is annoying. You rotate and hold it in one direction or the other to change the volume. I would prefer a dial instead of holding a switch.No Audio Controls - This device has no equalizer to adjust the audio. The audio levels it ships with is okay, but if you wanted to customize your sound you should purchase a different headset.Microphone - The mic is overly sensitive and even on low input volumes it picks up any background noise like you mouse and keyboard, breathing, etc.In summary, decent sound and comfort for the price, but has some limitations. ANSWERNOTFOUND\"}]}"
      ]
     },
     "execution_count": null,
     "metadata": {},
     "output_type": "execute_result"
    }
   ],
   "source": [
    "groups.to_dict(orient='records')[0]"
   ]
  },
  {
   "cell_type": "code",
   "execution_count": null,
   "metadata": {},
   "outputs": [],
   "source": [
    "def convert_to_squad(dfs, output_path: Path):\n",
    "    for split, df in dfs.items():\n",
    "        groups = df.groupby('item_id').apply(create_paragraphs).to_frame(name=\"paragraphs\").reset_index().rename(columns={\"item_id\":'title'})\n",
    "        squad_data = {}\n",
    "        squad_data[\"data\"] = groups.to_dict(orient='records')\n",
    "\n",
    "        with open(output_path/f\"{category}-{split}.json\", 'w', encoding='utf-8') as f:\n",
    "            json.dump(squad_data, f)"
   ]
  },
  {
   "cell_type": "code",
   "execution_count": null,
   "metadata": {},
   "outputs": [],
   "source": [
    "squad_path = Path(\"data/subjqa/squad_format\")"
   ]
  },
  {
   "cell_type": "code",
   "execution_count": null,
   "metadata": {},
   "outputs": [],
   "source": [
    "convert_to_squad(dfs, squad_path)"
   ]
  },
  {
   "cell_type": "markdown",
   "metadata": {},
   "source": [
    "## Evaluate reader"
   ]
  },
  {
   "cell_type": "markdown",
   "metadata": {},
   "source": [
    "Paper uses BERT-base, so let's try RoBERTa-base which should be a little better:"
   ]
  },
  {
   "cell_type": "code",
   "execution_count": null,
   "metadata": {},
   "outputs": [
    {
     "name": "stderr",
     "output_type": "stream",
     "text": [
      "03/07/2021 15:45:39 - INFO - farm.utils -   Using device: CUDA \n",
      "03/07/2021 15:45:39 - INFO - farm.utils -   Number of GPUs: 1\n",
      "03/07/2021 15:45:39 - INFO - farm.utils -   Distributed Training: False\n",
      "03/07/2021 15:45:39 - INFO - farm.utils -   Automatic Mixed Precision: None\n",
      "Some weights of RobertaModel were not initialized from the model checkpoint at deepset/roberta-base-squad2 and are newly initialized: ['roberta.pooler.dense.weight', 'roberta.pooler.dense.bias']\n",
      "You should probably TRAIN this model on a down-stream task to be able to use it for predictions and inference.\n",
      "03/07/2021 15:45:56 - WARNING - farm.utils -   ML Logging is turned off. No parameters, metrics or artifacts will be logged to MLFlow.\n",
      "03/07/2021 15:45:56 - INFO - farm.utils -   Using device: CUDA \n",
      "03/07/2021 15:45:56 - INFO - farm.utils -   Number of GPUs: 1\n",
      "03/07/2021 15:45:56 - INFO - farm.utils -   Distributed Training: False\n",
      "03/07/2021 15:45:56 - INFO - farm.utils -   Automatic Mixed Precision: None\n",
      "03/07/2021 15:45:57 - INFO - farm.infer -   Got ya 7 parallel workers to do inference ...\n",
      "03/07/2021 15:45:57 - INFO - farm.infer -    0    0    0    0    0    0    0 \n",
      "03/07/2021 15:45:57 - INFO - farm.infer -   /w\\  /w\\  /w\\  /w\\  /w\\  /w\\  /w\\\n",
      "03/07/2021 15:45:57 - INFO - farm.infer -   /'\\  / \\  /'\\  /'\\  / \\  / \\  /'\\\n",
      "03/07/2021 15:45:57 - INFO - farm.infer -               \n"
     ]
    }
   ],
   "source": [
    "reader = FARMReader(model_name_or_path=\"deepset/roberta-base-squad2\", use_gpu=True, context_window_size=500)"
   ]
  },
  {
   "cell_type": "code",
   "execution_count": null,
   "metadata": {},
   "outputs": [
    {
     "name": "stderr",
     "output_type": "stream",
     "text": [
      "Preprocessing Dataset data/subjqa/squad_format/electronics-test.json: 100%|██████████| 718/718 [00:01<00:00, 361.94 Dicts/s]\n",
      "Evaluating: 100%|██████████| 35/35 [00:19<00:00,  1.76it/s]\n"
     ]
    }
   ],
   "source": [
    "reader_eval_results = reader.eval_on_file(squad_path, f\"{category}-test.json\", device='cuda')"
   ]
  },
  {
   "cell_type": "code",
   "execution_count": null,
   "metadata": {},
   "outputs": [
    {
     "name": "stdout",
     "output_type": "stream",
     "text": [
      "Reader Top-N-Accuracy: 0.7047353760445683\n",
      "Reader Exact Match: 0.2395543175487465\n",
      "Reader F1-Score: 0.30428376775021326\n"
     ]
    }
   ],
   "source": [
    "print(\"Reader Top-N-Accuracy:\", reader_eval_results[\"top_n_accuracy\"])\n",
    "print(\"Reader Exact Match:\", reader_eval_results[\"EM\"])\n",
    "print(\"Reader F1-Score:\", reader_eval_results[\"f1\"])"
   ]
  },
  {
   "cell_type": "markdown",
   "metadata": {},
   "source": [
    "In the paper they get an F1-score of around 23-24 which is compatible with the 6-7 point difference one sees for BERT vs RoBERTa on SQuAD."
   ]
  },
  {
   "cell_type": "markdown",
   "metadata": {},
   "source": [
    "## Fine-tune"
   ]
  },
  {
   "cell_type": "code",
   "execution_count": null,
   "metadata": {},
   "outputs": [
    {
     "name": "stderr",
     "output_type": "stream",
     "text": [
      "03/07/2021 15:54:47 - INFO - farm.utils -   Using device: CUDA \n",
      "03/07/2021 15:54:47 - INFO - farm.utils -   Number of GPUs: 1\n",
      "03/07/2021 15:54:47 - INFO - farm.utils -   Distributed Training: False\n",
      "03/07/2021 15:54:47 - INFO - farm.utils -   Automatic Mixed Precision: None\n",
      "Preprocessing Dataset data/subjqa/squad_format/electronics-train.json: 100%|██████████| 2345/2345 [00:02<00:00, 968.32 Dicts/s]\n",
      "Preprocessing Dataset data/subjqa/squad_format/electronics-dev.json: 100%|██████████| 261/261 [00:01<00:00, 163.06 Dicts/s]\n",
      "03/07/2021 15:54:59 - WARNING - farm.modeling.prediction_head -   Some unused parameters are passed to the QuestionAnsweringHead. Might not be a problem. Params: {\"training\": false, \"num_labels\": 2, \"ph_output_type\": \"per_token_squad\", \"model_type\": \"span_classification\", \"label_tensor_name\": \"question_answering_label_ids\", \"label_list\": [\"start_token\", \"end_token\"], \"metric\": \"squad\", \"name\": \"QuestionAnsweringHead\"}\n",
      "03/07/2021 15:54:59 - INFO - farm.modeling.optimization -   Loading optimizer `TransformersAdamW`: '{'correct_bias': False, 'weight_decay': 0.01, 'lr': 1e-05}'\n",
      "03/07/2021 15:54:59 - INFO - farm.modeling.optimization -   Using scheduler 'get_linear_schedule_with_warmup'\n",
      "03/07/2021 15:54:59 - INFO - farm.modeling.optimization -   Loading schedule `get_linear_schedule_with_warmup`: '{'num_training_steps': 345, 'num_warmup_steps': 69}'\n",
      "Train epoch 0/0 (Cur. train loss: 0.5543):  29%|██▉       | 100/345 [00:53<02:10,  1.87it/s]\n",
      "Evaluating: 100%|██████████| 41/41 [00:07<00:00,  5.66it/s]\n",
      "03/07/2021 15:56:00 - INFO - farm.eval -   \n",
      "\n",
      "\\\\|//       \\\\|//      \\\\|//       \\\\|//     \\\\|//\n",
      "^^^^^^^^^^^^^^^^^^^^^^^^^^^^^^^^^^^^^^^^^^^^^^^^^^^^^^\n",
      "***************************************************\n",
      "***** EVALUATION | DEV SET | AFTER 100 BATCHES *****\n",
      "***************************************************\n",
      "\\\\|//       \\\\|//      \\\\|//       \\\\|//     \\\\|//\n",
      "^^^^^^^^^^^^^^^^^^^^^^^^^^^^^^^^^^^^^^^^^^^^^^^^^^^^^^\n",
      "\n",
      "03/07/2021 15:56:00 - INFO - farm.eval -   \n",
      " _________ question_answering _________\n",
      "03/07/2021 15:56:00 - INFO - farm.eval -   loss: 0.7348578376059206\n",
      "03/07/2021 15:56:00 - INFO - farm.eval -   task_name: question_answering\n",
      "03/07/2021 15:56:00 - INFO - farm.eval -   EM: 0.6130268199233716\n",
      "03/07/2021 15:56:00 - INFO - farm.eval -   f1: 0.6401422757744597\n",
      "03/07/2021 15:56:00 - INFO - farm.eval -   top_n_accuracy: 0.8390804597701149\n",
      "03/07/2021 15:56:00 - INFO - farm.eval -   report: \n",
      " Not Implemented\n",
      "Train epoch 0/0 (Cur. train loss: 0.0512):  58%|█████▊    | 200/345 [01:52<01:15,  1.92it/s]\n",
      "Evaluating: 100%|██████████| 41/41 [00:07<00:00,  5.48it/s]\n",
      "03/07/2021 15:57:00 - INFO - farm.eval -   \n",
      "\n",
      "\\\\|//       \\\\|//      \\\\|//       \\\\|//     \\\\|//\n",
      "^^^^^^^^^^^^^^^^^^^^^^^^^^^^^^^^^^^^^^^^^^^^^^^^^^^^^^\n",
      "***************************************************\n",
      "***** EVALUATION | DEV SET | AFTER 200 BATCHES *****\n",
      "***************************************************\n",
      "\\\\|//       \\\\|//      \\\\|//       \\\\|//     \\\\|//\n",
      "^^^^^^^^^^^^^^^^^^^^^^^^^^^^^^^^^^^^^^^^^^^^^^^^^^^^^^\n",
      "\n",
      "03/07/2021 15:57:00 - INFO - farm.eval -   \n",
      " _________ question_answering _________\n",
      "03/07/2021 15:57:00 - INFO - farm.eval -   loss: 0.7340521255727881\n",
      "03/07/2021 15:57:00 - INFO - farm.eval -   task_name: question_answering\n",
      "03/07/2021 15:57:00 - INFO - farm.eval -   EM: 0.6283524904214559\n",
      "03/07/2021 15:57:00 - INFO - farm.eval -   f1: 0.6300553426990209\n",
      "03/07/2021 15:57:00 - INFO - farm.eval -   top_n_accuracy: 0.842911877394636\n",
      "03/07/2021 15:57:00 - INFO - farm.eval -   report: \n",
      " Not Implemented\n",
      "Train epoch 0/0 (Cur. train loss: 1.2669):  87%|████████▋ | 300/345 [02:53<00:24,  1.85it/s]\n",
      "Evaluating: 100%|██████████| 41/41 [00:07<00:00,  5.45it/s]\n",
      "03/07/2021 15:58:01 - INFO - farm.eval -   \n",
      "\n",
      "\\\\|//       \\\\|//      \\\\|//       \\\\|//     \\\\|//\n",
      "^^^^^^^^^^^^^^^^^^^^^^^^^^^^^^^^^^^^^^^^^^^^^^^^^^^^^^\n",
      "***************************************************\n",
      "***** EVALUATION | DEV SET | AFTER 300 BATCHES *****\n",
      "***************************************************\n",
      "\\\\|//       \\\\|//      \\\\|//       \\\\|//     \\\\|//\n",
      "^^^^^^^^^^^^^^^^^^^^^^^^^^^^^^^^^^^^^^^^^^^^^^^^^^^^^^\n",
      "\n",
      "03/07/2021 15:58:01 - INFO - farm.eval -   \n",
      " _________ question_answering _________\n",
      "03/07/2021 15:58:01 - INFO - farm.eval -   loss: 0.6924591927054506\n",
      "03/07/2021 15:58:01 - INFO - farm.eval -   task_name: question_answering\n",
      "03/07/2021 15:58:01 - INFO - farm.eval -   EM: 0.6245210727969349\n",
      "03/07/2021 15:58:01 - INFO - farm.eval -   f1: 0.6525702457341901\n",
      "03/07/2021 15:58:01 - INFO - farm.eval -   top_n_accuracy: 0.842911877394636\n",
      "03/07/2021 15:58:01 - INFO - farm.eval -   report: \n",
      " Not Implemented\n",
      "Train epoch 0/0 (Cur. train loss: 1.2154): 100%|██████████| 345/345 [03:25<00:00,  1.68it/s]\n",
      "03/07/2021 15:58:25 - INFO - haystack.reader.farm -   Saving reader model to models/haystack/subjqa/roberta-base-squad2-subjqa\n"
     ]
    }
   ],
   "source": [
    "reader.train(data_dir=squad_path,\n",
    "             train_filename=f\"{category}-train.json\", \n",
    "             dev_filename=f\"{category}-dev.json\", \n",
    "             use_gpu=True, n_epochs=1, save_dir=\"models/haystack/subjqa/roberta-base-squad2-subjqa\",\n",
    "             batch_size=16,\n",
    "             evaluate_every=100)"
   ]
  },
  {
   "cell_type": "code",
   "execution_count": null,
   "metadata": {},
   "outputs": [
    {
     "name": "stderr",
     "output_type": "stream",
     "text": [
      "03/07/2021 16:00:33 - INFO - farm.utils -   Using device: CUDA \n",
      "03/07/2021 16:00:33 - INFO - farm.utils -   Number of GPUs: 1\n",
      "03/07/2021 16:00:33 - INFO - farm.utils -   Distributed Training: False\n",
      "03/07/2021 16:00:33 - INFO - farm.utils -   Automatic Mixed Precision: None\n",
      "03/07/2021 16:00:35 - WARNING - farm.modeling.prediction_head -   Some unused parameters are passed to the QuestionAnsweringHead. Might not be a problem. Params: {\"training\": false, \"num_labels\": 2, \"ph_output_type\": \"per_token_squad\", \"model_type\": \"span_classification\", \"label_tensor_name\": \"question_answering_label_ids\", \"label_list\": [\"start_token\", \"end_token\"], \"metric\": \"squad\", \"name\": \"QuestionAnsweringHead\"}\n",
      "03/07/2021 16:00:36 - WARNING - farm.utils -   ML Logging is turned off. No parameters, metrics or artifacts will be logged to MLFlow.\n",
      "03/07/2021 16:00:36 - INFO - farm.utils -   Using device: CUDA \n",
      "03/07/2021 16:00:36 - INFO - farm.utils -   Number of GPUs: 1\n",
      "03/07/2021 16:00:36 - INFO - farm.utils -   Distributed Training: False\n",
      "03/07/2021 16:00:36 - INFO - farm.utils -   Automatic Mixed Precision: None\n",
      "03/07/2021 16:00:36 - INFO - farm.infer -   Got ya 7 parallel workers to do inference ...\n",
      "03/07/2021 16:00:36 - INFO - farm.infer -    0    0    0    0    0    0    0 \n",
      "03/07/2021 16:00:36 - INFO - farm.infer -   /w\\  /w\\  /w\\  /w\\  /w\\  /w\\  /w\\\n",
      "03/07/2021 16:00:36 - INFO - farm.infer -   /'\\  / \\  /'\\  /'\\  / \\  / \\  /'\\\n",
      "03/07/2021 16:00:36 - INFO - farm.infer -               \n"
     ]
    }
   ],
   "source": [
    "finetuned_reader =  FARMReader(model_name_or_path=\"models/haystack/subjqa/roberta-base-squad2-subjqa\", \n",
    "                               use_gpu=True, context_window_size=500)"
   ]
  },
  {
   "cell_type": "code",
   "execution_count": null,
   "metadata": {},
   "outputs": [
    {
     "name": "stderr",
     "output_type": "stream",
     "text": [
      "Preprocessing Dataset data/subjqa/squad_format/electronics-test.json: 100%|██████████| 718/718 [00:01<00:00, 418.02 Dicts/s]\n",
      "Evaluating: 100%|██████████| 35/35 [00:19<00:00,  1.76it/s]"
     ]
    },
    {
     "name": "stdout",
     "output_type": "stream",
     "text": [
      "Reader Top-N-Accuracy: 0.8217270194986073\n",
      "Reader Exact Match: 0.5793871866295265\n",
      "Reader F1-Score: 0.6090350878594893\n"
     ]
    },
    {
     "name": "stderr",
     "output_type": "stream",
     "text": [
      "\n"
     ]
    }
   ],
   "source": [
    "finetuned_reader_eval_results = finetuned_reader.eval_on_file(squad_path, f\"{category}-test.json\", device='cuda')\n",
    "print(\"Reader Top-N-Accuracy:\", finetuned_reader_eval_results[\"top_n_accuracy\"])\n",
    "print(\"Reader Exact Match:\", finetuned_reader_eval_results[\"EM\"])\n",
    "print(\"Reader F1-Score:\", finetuned_reader_eval_results[\"f1\"])"
   ]
  },
  {
   "cell_type": "markdown",
   "metadata": {},
   "source": [
    "Again, the paper shows values slightly below 0.6 F1-score so we're consistent there. "
   ]
  },
  {
   "cell_type": "code",
   "execution_count": null,
   "metadata": {},
   "outputs": [
    {
     "data": {
      "image/png": "[encoded data removed]",
      "text/plain": [
       "<Figure size 432x288 with 1 Axes>"
      ]
     },
     "metadata": {
      "needs_background": "light"
     },
     "output_type": "display_data"
    }
   ],
   "source": [
    "D = {'RoBERTa-baseline':reader_eval_results[\"f1\"], 'RoBERTa-finetuned':finetuned_reader_eval_results[\"f1\"]}\n",
    "plt.bar(*zip(*D.items()))\n",
    "plt.show()"
   ]
  },
  {
   "cell_type": "markdown",
   "metadata": {},
   "source": [
    "## Retrieval playground"
   ]
  },
  {
   "cell_type": "markdown",
   "metadata": {},
   "source": [
    "### Boot ES"
   ]
  },
  {
   "cell_type": "code",
   "execution_count": null,
   "metadata": {},
   "outputs": [],
   "source": [
    "! wget -nc https://artifacts.elastic.co/downloads/elasticsearch/elasticsearch-7.9.2-linux-x86_64.tar.gz -q\n",
    "! tar -xzf elasticsearch-7.9.2-linux-x86_64.tar.gz\n",
    "! chown -R daemon:daemon elasticsearch-7.9.2\n",
    "\n",
    "es_server = Popen(['elasticsearch-7.9.2/bin/elasticsearch'],\n",
    "                   stdout=PIPE, stderr=STDOUT,\n",
    "                   preexec_fn=lambda: os.setuid(1)  # as daemon\n",
    "                  )\n",
    "# wait until ES has started\n",
    "! sleep 30"
   ]
  },
  {
   "cell_type": "code",
   "execution_count": null,
   "metadata": {},
   "outputs": [
    {
     "name": "stderr",
     "output_type": "stream",
     "text": [
      "03/07/2021 16:21:15 - INFO - elasticsearch -   HEAD http://localhost:9200/ [status:200 request:0.088s]\n",
      "03/07/2021 16:21:15 - INFO - elasticsearch -   HEAD http://localhost:9200/document [status:200 request:0.011s]\n",
      "03/07/2021 16:21:15 - INFO - elasticsearch -   GET http://localhost:9200/document [status:200 request:0.004s]\n",
      "03/07/2021 16:21:15 - INFO - elasticsearch -   PUT http://localhost:9200/document/_mapping [status:200 request:0.021s]\n",
      "03/07/2021 16:21:15 - INFO - elasticsearch -   HEAD http://localhost:9200/label [status:200 request:0.002s]\n"
     ]
    }
   ],
   "source": [
    "document_store = ElasticsearchDocumentStore(host=\"localhost\", username=\"\", password=\"\", index=\"document\")"
   ]
  },
  {
   "cell_type": "code",
   "execution_count": null,
   "metadata": {},
   "outputs": [
    {
     "name": "stderr",
     "output_type": "stream",
     "text": [
      "03/07/2021 16:26:49 - INFO - elasticsearch -   POST http://localhost:9200/document/_delete_by_query [status:200 request:4.074s]\n"
     ]
    }
   ],
   "source": [
    "document_store.delete_all_documents()"
   ]
  },
  {
   "cell_type": "markdown",
   "metadata": {},
   "source": [
    "### Index docs"
   ]
  },
  {
   "cell_type": "code",
   "execution_count": null,
   "metadata": {},
   "outputs": [
    {
     "data": {
      "text/plain": [
       "item_id                                                                                     B003VAGXWK\n",
       "domain                                                                                     electronics\n",
       "nn_mod                                                                                           sleek\n",
       "nn_asp                                                                                        keyboard\n",
       "query_mod                                                                                        solid\n",
       "query_asp                                                                                          key\n",
       "q_review_id                                                           73e8277fbf438a7ade8f720ddf8a4f47\n",
       "q_reviews_id                                                          55576d11e04159c488107b442aaff880\n",
       "question                                                            How are the keys of the  keyboard?\n",
       "question_subj_level                                                                                  1\n",
       "ques_subj_score                                                                                    0.0\n",
       "is_ques_subjective                                                                               False\n",
       "review_id                                                             74ae92c2bbeb9511fce8ddb5a4b9411b\n",
       "review                 I was reluctant to try a wireless keyboard, but due to a wire-chomping kitty...\n",
       "human_ans_spans                                                       The illuminated keys are helpful\n",
       "human_ans_indices                                                                           (421, 453)\n",
       "answer_subj_level                                                                                    1\n",
       "ans_subj_score                                                                                     0.0\n",
       "is_ans_subjective                                                                                False\n",
       "answer_spans                                                          The illuminated keys are helpful\n",
       "Name: 13, dtype: object"
      ]
     },
     "execution_count": null,
     "metadata": {},
     "output_type": "execute_result"
    }
   ],
   "source": [
    "row"
   ]
  },
  {
   "cell_type": "code",
   "execution_count": null,
   "metadata": {},
   "outputs": [
    {
     "data": {
      "text/plain": [
       "0       False\n",
       "1       False\n",
       "2       False\n",
       "3       False\n",
       "4       False\n",
       "        ...  \n",
       "2340     True\n",
       "2341     True\n",
       "2342    False\n",
       "2343    False\n",
       "2344    False\n",
       "Name: answer_spans, Length: 2345, dtype: bool"
      ]
     },
     "execution_count": null,
     "metadata": {},
     "output_type": "execute_result"
    }
   ],
   "source": [
    "train_df[\"answer_spans\"].apply(lambda x : True if x != \"ANSWERNOTFOUND\" else False)"
   ]
  },
  {
   "cell_type": "code",
   "execution_count": null,
   "metadata": {},
   "outputs": [],
   "source": [
    "for k,v in dfs.items():\n",
    "    v[\"is_answerable\"] = v[\"answer_spans\"].apply(lambda x : 1 if x != \"ANSWERNOTFOUND\" else 0)"
   ]
  },
  {
   "cell_type": "code",
   "execution_count": null,
   "metadata": {},
   "outputs": [
    {
     "data": {
      "text/plain": [
       "item_id                                                                                     B006ZS5ATM\n",
       "domain                                                                                     electronics\n",
       "nn_mod                                                                                            sore\n",
       "nn_asp                                                                                             ear\n",
       "query_mod                                                                                uncomfortable\n",
       "query_asp                                                                                    headphone\n",
       "q_review_id                                                           adb20314dbbd8196b7e9fb587b78147f\n",
       "q_reviews_id                                                          6e1052529424f3a98d303380155c9dde\n",
       "question                                                            What do you think about headphone?\n",
       "question_subj_level                                                                                  5\n",
       "ques_subj_score                                                                                    0.0\n",
       "is_ques_subjective                                                                               False\n",
       "review_id                                                             197e760a49907baeff809b2ccdfe466f\n",
       "review                 I had a smaller headset that went on the ear. After a 8 - 10 hour workday, m...\n",
       "human_ans_spans                                                                         ANSWERNOTFOUND\n",
       "human_ans_indices                                                                           (547, 561)\n",
       "answer_subj_level                                                                                    5\n",
       "ans_subj_score                                                                                     0.0\n",
       "is_ans_subjective                                                                                False\n",
       "answer_spans                                                                            ANSWERNOTFOUND\n",
       "is_answerable                                                                                        0\n",
       "Name: 0, dtype: object"
      ]
     },
     "execution_count": null,
     "metadata": {},
     "output_type": "execute_result"
    }
   ],
   "source": [
    "dfs[\"train\"].iloc[0]"
   ]
  },
  {
   "cell_type": "code",
   "execution_count": null,
   "metadata": {},
   "outputs": [
    {
     "data": {
      "text/plain": [
       "{'text': 'I purchased this just this week, and while it holds myHP Pavilion DV9830US 17\" Laptopsufficiently, it\\'s not what I hoped for. First off, the padding around the laptop compartment is barely sufficient. I\\'ve seen laptop backpacks that provide much more padding. Also, who makes a laptop backpack without CD sleeves?! There is also a front flap that\\'s not sealed, so if you\\'re caught in the rain that compartment will get water in it.Overall, I wasn\\'t clear on who they designed this for. It was a water bottle holder and some sections that make it seem more like a sport backpack than a student / business travel oriented item, and yet no one is going to go hiking with a 17\" laptop... are they? Maybe I\\'m wrong.The straps seem solid, though around the shoulders they can dig in a bit. I\\'m overweight, so perhaps someone who had thinner shoulders would not have this problem. The overall construction seems fine. Zippers are mostly double which is good, although the exception is the phone/music player slot on the side, which unzips in such a way that you have to hold your device in place while you re-zip, or it will simply fall out. ANSWERNOTFOUND',\n",
       " 'meta': {'item_id': 'B0000BZOGJ', 'is_answerable': 0}}"
      ]
     },
     "execution_count": null,
     "metadata": {},
     "output_type": "execute_result"
    }
   ],
   "source": [
    "docs = [{\"text\": row[\"review\"], \"meta\":{\"item_id\": row[\"item_id\"], \"is_answerable\": row[\"is_answerable\"]}} for _, row in dfs[\"test\"].iterrows()]\n",
    "docs[0]"
   ]
  },
  {
   "cell_type": "code",
   "execution_count": null,
   "metadata": {},
   "outputs": [
    {
     "name": "stderr",
     "output_type": "stream",
     "text": [
      "03/07/2021 16:26:57 - INFO - elasticsearch -   POST http://localhost:9200/_bulk?refresh=wait_for [status:200 request:1.158s]\n",
      "03/07/2021 16:26:58 - INFO - elasticsearch -   POST http://localhost:9200/_bulk?refresh=wait_for [status:200 request:1.220s]\n"
     ]
    }
   ],
   "source": [
    "document_store.write_documents(docs)"
   ]
  },
  {
   "cell_type": "markdown",
   "metadata": {},
   "source": [
    "### Retriever"
   ]
  },
  {
   "cell_type": "code",
   "execution_count": null,
   "metadata": {},
   "outputs": [],
   "source": [
    "retriever = ElasticsearchRetriever(document_store=document_store)"
   ]
  },
  {
   "cell_type": "markdown",
   "metadata": {},
   "source": [
    "### Reader"
   ]
  },
  {
   "cell_type": "code",
   "execution_count": null,
   "metadata": {},
   "outputs": [
    {
     "name": "stderr",
     "output_type": "stream",
     "text": [
      "03/07/2021 16:27:06 - INFO - farm.utils -   Using device: CUDA \n",
      "03/07/2021 16:27:06 - INFO - farm.utils -   Number of GPUs: 1\n",
      "03/07/2021 16:27:06 - INFO - farm.utils -   Distributed Training: False\n",
      "03/07/2021 16:27:06 - INFO - farm.utils -   Automatic Mixed Precision: None\n",
      "Some weights of RobertaModel were not initialized from the model checkpoint at deepset/roberta-base-squad2 and are newly initialized: ['roberta.pooler.dense.weight', 'roberta.pooler.dense.bias']\n",
      "You should probably TRAIN this model on a down-stream task to be able to use it for predictions and inference.\n",
      "03/07/2021 16:27:19 - WARNING - farm.utils -   ML Logging is turned off. No parameters, metrics or artifacts will be logged to MLFlow.\n",
      "03/07/2021 16:27:19 - INFO - farm.utils -   Using device: CUDA \n",
      "03/07/2021 16:27:19 - INFO - farm.utils -   Number of GPUs: 1\n",
      "03/07/2021 16:27:19 - INFO - farm.utils -   Distributed Training: False\n",
      "03/07/2021 16:27:19 - INFO - farm.utils -   Automatic Mixed Precision: None\n",
      "03/07/2021 16:27:19 - INFO - farm.infer -   Got ya 7 parallel workers to do inference ...\n",
      "03/07/2021 16:27:19 - INFO - farm.infer -    0    0    0    0    0    0    0 \n",
      "03/07/2021 16:27:19 - INFO - farm.infer -   /w\\  /w\\  /w\\  /w\\  /w\\  /w\\  /w\\\n",
      "03/07/2021 16:27:19 - INFO - farm.infer -   /'\\  / \\  /'\\  /'\\  / \\  / \\  /'\\\n",
      "03/07/2021 16:27:19 - INFO - farm.infer -               \n"
     ]
    }
   ],
   "source": [
    "reader = FARMReader(model_name_or_path=\"deepset/roberta-base-squad2\", use_gpu=True, context_window_size=500)"
   ]
  },
  {
   "cell_type": "code",
   "execution_count": null,
   "metadata": {},
   "outputs": [],
   "source": [
    "pipe = ExtractiveQAPipeline(reader, retriever)"
   ]
  },
  {
   "cell_type": "code",
   "execution_count": null,
   "metadata": {},
   "outputs": [
    {
     "data": {
      "text/plain": [
       "item_id                                                                                     B00511PS3C\n",
       "domain                                                                                     electronics\n",
       "nn_mod                                                                                          bright\n",
       "nn_asp                                                                                            lead\n",
       "query_mod                                                                                         dead\n",
       "query_asp                                                                                        phone\n",
       "q_review_id                                                           f61dfa21199ee4fe4b86ed8ad9d0ecf1\n",
       "q_reviews_id                                                          4a475033ad0bcf1fb29680d05495fbe9\n",
       "question                                                                    Do I have to use my phone?\n",
       "question_subj_level                                                                                  1\n",
       "ques_subj_score                                                                                    0.0\n",
       "is_ques_subjective                                                                               False\n",
       "review_id                                                             41987945d9e5742787db5edbec3515ad\n",
       "review                 So, got this last night and was extremely glad it and the cable I purchased ...\n",
       "human_ans_spans                                       can attest that the blue LED is extremely bright\n",
       "human_ans_indices                                                                           (408, 456)\n",
       "answer_subj_level                                                                                    1\n",
       "ans_subj_score                                                                                    0.45\n",
       "is_ans_subjective                                                                                False\n",
       "answer_spans                                          can attest that the blue LED is extremely bright\n",
       "is_answerable                                                                                        1\n",
       "Name: 10, dtype: object"
      ]
     },
     "execution_count": null,
     "metadata": {},
     "output_type": "execute_result"
    }
   ],
   "source": [
    "dfs[\"test\"].query(\"is_answerable == 1\").iloc[0]"
   ]
  },
  {
   "cell_type": "code",
   "execution_count": null,
   "metadata": {},
   "outputs": [
    {
     "name": "stderr",
     "output_type": "stream",
     "text": [
      "03/07/2021 16:33:51 - INFO - elasticsearch -   POST http://localhost:9200/document/_search [status:200 request:0.009s]\n",
      "Inferencing Samples: 100%|██████████| 1/1 [00:00<00:00, 14.51 Batches/s]\n",
      "Inferencing Samples: 100%|██████████| 1/1 [00:00<00:00, 11.52 Batches/s]\n",
      "Inferencing Samples: 100%|██████████| 1/1 [00:00<00:00, 20.95 Batches/s]\n",
      "Inferencing Samples: 100%|██████████| 1/1 [00:00<00:00, 29.75 Batches/s]\n",
      "Inferencing Samples: 100%|██████████| 1/1 [00:00<00:00, 45.54 Batches/s]\n",
      "Inferencing Samples: 100%|██████████| 1/1 [00:00<00:00, 46.99 Batches/s]\n",
      "Inferencing Samples: 100%|██████████| 1/1 [00:00<00:00, 46.58 Batches/s]\n",
      "Inferencing Samples: 100%|██████████| 1/1 [00:00<00:00, 46.66 Batches/s]\n",
      "Inferencing Samples: 100%|██████████| 1/1 [00:00<00:00, 46.99 Batches/s]\n",
      "Inferencing Samples: 100%|██████████| 1/1 [00:00<00:00, 46.98 Batches/s]"
     ]
    },
    {
     "name": "stdout",
     "output_type": "stream",
     "text": [
      "Question: is the keyboard good for writing??\n",
      "\n",
      "\n",
      "#1\n",
      "Answer: feel pretty good to type on\n",
      "ASIN: B005DKZTMG\n",
      "Is answerable?: 0\n",
      "Context: I've used a few different keyboards with my HTPC setup (Microsoft Arc, Apple Bluetooth Wireless) and this is by far the best. The keyboard has a great layout, the keys are a good size and feel pretty good to type on. The touchpad and buttons work well and like the keyboard are a good compromise between usability and size. I also like that it uses RF wireless since it requires zero setup (unlike Bluetooth) and has a fantastic range. I've had it for over 6 months and haven't changed the batteries.\n",
      "\n",
      "\n",
      "\n",
      "#2\n",
      "Answer: feel pretty good to type on\n",
      "ASIN: B005DKZTMG\n",
      "Is answerable?: 0\n",
      "Context: I've used a few different keyboards with my HTPC setup (Microsoft Arc, Apple Bluetooth Wireless) and this is by far the best. The keyboard has a great layout, the keys are a good size and feel pretty good to type on. The touchpad and buttons work well and like the keyboard are a good compromise between usability and size. I also like that it uses RF wireless since it requires zero setup (unlike Bluetooth) and has a fantastic range. I've had it for over 6 months and haven't changed the batteries.\n",
      "\n",
      "\n",
      "\n",
      "#3\n",
      "Answer: It is one of the best wireless keyboards available in the market\n",
      "ASIN: B005DKZTMG\n",
      "Is answerable?: 0\n",
      "Context: I use this keyboard to control my media center PC from my couch. It has a built in mouse-pad and the range of the receiver is pretty impressive. I have the receiver connected to the back of the media PC yet there is no missed keystroke or reduced mice sensitivity.  I love the mid-sized form factor where it is small and light but the keyboard is still comfortable to type on. It is one of the best wireless keyboards available in the market. You cannot go wrong with this purchase. ANSWERNOTFOUND\n",
      "\n",
      "\n",
      "\n"
     ]
    },
    {
     "name": "stderr",
     "output_type": "stream",
     "text": [
      "\n"
     ]
    }
   ],
   "source": [
    "query = \"is the keyboard good for writing??\"\n",
    "# Logitech keyboard: https://www.amazon.com/dp/B005DKZTMG\n",
    "asin = \"B005DKZTMG\"\n",
    "number_of_answers_to_fetch = 3\n",
    "\n",
    "prediction = pipe.run(query=query, filters={\"item_id\": [asin]}, top_k_retriever=10, top_k_reader=number_of_answers_to_fetch)\n",
    "print(f\"Question: {prediction['query']}\")\n",
    "print(\"\\n\")\n",
    "for i in range(number_of_answers_to_fetch):\n",
    "    print(f\"#{i+1}\")\n",
    "    print(f\"Answer: {prediction['answers'][i]['answer']}\")\n",
    "    print(f\"ASIN: {prediction['answers'][i]['meta']['item_id']}\")\n",
    "    print(f\"Is answerable?: {prediction['answers'][i]['meta']['is_answerable']}\")\n",
    "    print(f\"Context: {prediction['answers'][i]['context']}\")\n",
    "    print('\\n\\n')"
   ]
  },
  {
   "cell_type": "code",
   "execution_count": null,
   "metadata": {},
   "outputs": [
    {
     "name": "stderr",
     "output_type": "stream",
     "text": [
      "03/07/2021 16:46:50 - INFO - elasticsearch -   POST http://localhost:9200/document/_search [status:200 request:0.009s]\n"
     ]
    },
    {
     "data": {
      "text/plain": [
       "[{'text': \"I've used a few different keyboards with my HTPC setup (Microsoft Arc, Apple Bluetooth Wireless) and this is by far the best. The keyboard has a great layout, the keys are a good size and feel pretty good to type on. The touchpad and buttons work well and like the keyboard are a good compromise between usability and size. I also like that it uses RF wireless since it requires zero setup (unlike Bluetooth) and has a fantastic range. I've had it for over 6 months and haven't changed the batteries. ANSWERNOTFOUND\", 'id': '782e11c9-58e6-4be2-96be-cd15a588476e', 'score': 6.134665, 'probability': 0.6828354372720072, 'question': None, 'meta': {'item_id': 'B005DKZTMG', 'is_answerable': 0}, 'embedding': None},\n",
       " {'text': \"I've used a few different keyboards with my HTPC setup (Microsoft Arc, Apple Bluetooth Wireless) and this is by far the best. The keyboard has a great layout, the keys are a good size and feel pretty good to type on. The touchpad and buttons work well and like the keyboard are a good compromise between usability and size. I also like that it uses RF wireless since it requires zero setup (unlike Bluetooth) and has a fantastic range. I've had it for over 6 months and haven't changed the batteries. ANSWERNOTFOUND\", 'id': '4dd88477-89a0-4c04-9dc6-8ad21412cfad', 'score': 6.134665, 'probability': 0.6828354372720072, 'question': None, 'meta': {'item_id': 'B005DKZTMG', 'is_answerable': 0}, 'embedding': None},\n",
       " {'text': \"This is a very nice and well thought out keyboard. Since it is from Logitech, the build quality is fantastic. The size and feel is similar to a laptop keyboard and that (for me) is a good thing. The track pad is multi-touch  so you can use two fingers to scroll and pinch to zoom in supported applications. It doesn't have a crazy amount of useless buttons on the top like most multimedia keyboards. By far the best thing about this keyboard is the form factor. It's small, light weight, has smooth lines and will feel just as comfortable on your lap as it will on your desk. There is also a convenient on/off switch located along the top edge, so if you want to throw it under the couch and forget about it until you need to see who that actress in that one show is, the batteries will still be good. Range is excellent, Basically if you can see the words you are typing on the screen, you will be able to type them. No missed keystrokes so far.Con: It is not back-lit, but it never claimed to be and neither is the Kindle.Bottom line: It's well made, inexpensive and works great! ANSWERNOTFOUND\", 'id': 'a0a4538e-173d-4ad6-b262-f28db4ee1b1b', 'score': 5.7058697, 'probability': 0.6711152979294904, 'question': None, 'meta': {'item_id': 'B005DKZTMG', 'is_answerable': 0}, 'embedding': None}]"
      ]
     },
     "execution_count": null,
     "metadata": {},
     "output_type": "execute_result"
    }
   ],
   "source": [
    "retriever.retrieve(query, filters={\"item_id\": [asin]}, top_k=3)"
   ]
  },
  {
   "cell_type": "markdown",
   "metadata": {},
   "source": [
    "## Generative answers"
   ]
  },
  {
   "cell_type": "code",
   "execution_count": null,
   "metadata": {},
   "outputs": [],
   "source": [
    "faiss_document_store = FAISSDocumentStore(\n",
    "    faiss_index_factory_str=\"Flat\",\n",
    "    return_embedding=True\n",
    ")"
   ]
  },
  {
   "cell_type": "code",
   "execution_count": null,
   "metadata": {},
   "outputs": [
    {
     "name": "stderr",
     "output_type": "stream",
     "text": [
      "03/07/2021 16:49:34 - INFO - filelock -   Lock 140632482366464 acquired on /root/.cache/huggingface/transformers/52774638a790c9ebc5ce11005b260f79cd4cc389abdab9eaa31e8f09d15b4f46.13b559f49587470ab6d85a7dde13174670a0b61c1b942d1489c96023f5d03772.lock\n"
     ]
    },
    {
     "data": {
      "application/vnd.jupyter.widget-view+json": {
       "model_id": "dfa68ab5206e4d97a816f0ad59739810",
       "version_major": 2,
       "version_minor": 0
      },
      "text/plain": [
       "HBox(children=(FloatProgress(value=0.0, description='Downloading', max=493.0, style=ProgressStyle(description_…"
      ]
     },
     "metadata": {},
     "output_type": "display_data"
    },
    {
     "name": "stderr",
     "output_type": "stream",
     "text": [
      "03/07/2021 16:49:35 - INFO - filelock -   Lock 140632482366464 released on /root/.cache/huggingface/transformers/52774638a790c9ebc5ce11005b260f79cd4cc389abdab9eaa31e8f09d15b4f46.13b559f49587470ab6d85a7dde13174670a0b61c1b942d1489c96023f5d03772.lock\n"
     ]
    },
    {
     "name": "stdout",
     "output_type": "stream",
     "text": [
      "\n"
     ]
    },
    {
     "name": "stderr",
     "output_type": "stream",
     "text": [
      "03/07/2021 16:49:35 - INFO - filelock -   Lock 140632482489632 acquired on /root/.cache/huggingface/transformers/41dac75f5df9070331cb0e4bf318c9fdeaef38d9ffd8ca80993c7db830d0c674.446ee898f4788c3ee90f8e7ee5a50281905f509e698f76dc0b583eb74ef973bd.lock\n"
     ]
    },
    {
     "data": {
      "application/vnd.jupyter.widget-view+json": {
       "model_id": "8918c8d15dca44a882ea5066c4e1bff1",
       "version_major": 2,
       "version_minor": 0
      },
      "text/plain": [
       "HBox(children=(FloatProgress(value=0.0, description='Downloading', max=437986065.0, style=ProgressStyle(descri…"
      ]
     },
     "metadata": {},
     "output_type": "display_data"
    },
    {
     "name": "stderr",
     "output_type": "stream",
     "text": [
      "03/07/2021 16:49:43 - INFO - filelock -   Lock 140632482489632 released on /root/.cache/huggingface/transformers/41dac75f5df9070331cb0e4bf318c9fdeaef38d9ffd8ca80993c7db830d0c674.446ee898f4788c3ee90f8e7ee5a50281905f509e698f76dc0b583eb74ef973bd.lock\n"
     ]
    },
    {
     "name": "stdout",
     "output_type": "stream",
     "text": [
      "\n"
     ]
    },
    {
     "name": "stderr",
     "output_type": "stream",
     "text": [
      "03/07/2021 16:49:49 - INFO - filelock -   Lock 140632481378464 acquired on /root/.cache/huggingface/transformers/f31ea67434695abc6c4fbe109214416d8b48a44f2fe5a0617e7faa3d6a4f8d05.be8dbf4cc0650b9c5997b3b3bc47d0d6c20749c3871e9285d3b624cd75dd9ee6.lock\n"
     ]
    },
    {
     "data": {
      "application/vnd.jupyter.widget-view+json": {
       "model_id": "3fa95b2feebe40808ff434a35d0b6b66",
       "version_major": 2,
       "version_minor": 0
      },
      "text/plain": [
       "HBox(children=(FloatProgress(value=0.0, description='Downloading', max=492.0, style=ProgressStyle(description_…"
      ]
     },
     "metadata": {},
     "output_type": "display_data"
    },
    {
     "name": "stderr",
     "output_type": "stream",
     "text": [
      "03/07/2021 16:49:49 - INFO - filelock -   Lock 140632481378464 released on /root/.cache/huggingface/transformers/f31ea67434695abc6c4fbe109214416d8b48a44f2fe5a0617e7faa3d6a4f8d05.be8dbf4cc0650b9c5997b3b3bc47d0d6c20749c3871e9285d3b624cd75dd9ee6.lock\n"
     ]
    },
    {
     "name": "stdout",
     "output_type": "stream",
     "text": [
      "\n"
     ]
    },
    {
     "name": "stderr",
     "output_type": "stream",
     "text": [
      "03/07/2021 16:49:50 - INFO - filelock -   Lock 140632481299184 acquired on /root/.cache/huggingface/transformers/2623d56adfe8cc7bf9275b0c620a0e271ee4004c335173bde56310dc8ea99d4f.714228ba33c6248205269978fd6d0ca0ef96508cbd4a11d894882e71d45fad7c.lock\n"
     ]
    },
    {
     "data": {
      "application/vnd.jupyter.widget-view+json": {
       "model_id": "e408c1fd28da4736a1702a5bdebfcb68",
       "version_major": 2,
       "version_minor": 0
      },
      "text/plain": [
       "HBox(children=(FloatProgress(value=0.0, description='Downloading', max=437983985.0, style=ProgressStyle(descri…"
      ]
     },
     "metadata": {},
     "output_type": "display_data"
    },
    {
     "name": "stderr",
     "output_type": "stream",
     "text": [
      "03/07/2021 16:49:57 - INFO - filelock -   Lock 140632481299184 released on /root/.cache/huggingface/transformers/2623d56adfe8cc7bf9275b0c620a0e271ee4004c335173bde56310dc8ea99d4f.714228ba33c6248205269978fd6d0ca0ef96508cbd4a11d894882e71d45fad7c.lock\n"
     ]
    },
    {
     "name": "stdout",
     "output_type": "stream",
     "text": [
      "\n"
     ]
    },
    {
     "name": "stderr",
     "output_type": "stream",
     "text": [
      "03/07/2021 16:50:03 - INFO - filelock -   Lock 140632482366704 acquired on /root/.cache/huggingface/transformers/6337b0203e20d15c98f5e500e1e673c74e71bb8617b2753a53663b9b8e6dfc1a.59948e1fef260da10a0cecb8b6862373c32f40001848a63f985ab4f9d787f3f1.lock\n"
     ]
    },
    {
     "data": {
      "application/vnd.jupyter.widget-view+json": {
       "model_id": "4a3d115a59904bfa894778eff10ca06f",
       "version_major": 2,
       "version_minor": 0
      },
      "text/plain": [
       "HBox(children=(FloatProgress(value=0.0, description='Downloading', max=4602.0, style=ProgressStyle(description…"
      ]
     },
     "metadata": {},
     "output_type": "display_data"
    },
    {
     "name": "stderr",
     "output_type": "stream",
     "text": [
      "03/07/2021 16:50:03 - INFO - filelock -   Lock 140632482366704 released on /root/.cache/huggingface/transformers/6337b0203e20d15c98f5e500e1e673c74e71bb8617b2753a53663b9b8e6dfc1a.59948e1fef260da10a0cecb8b6862373c32f40001848a63f985ab4f9d787f3f1.lock\n"
     ]
    },
    {
     "name": "stdout",
     "output_type": "stream",
     "text": [
      "\n"
     ]
    },
    {
     "name": "stderr",
     "output_type": "stream",
     "text": [
      "03/07/2021 16:50:03 - INFO - filelock -   Lock 140632480585712 acquired on /root/.cache/huggingface/transformers/26cf899a0974235af1f84469ddd94d2ee83c803c23ecead93b511ce8a0744f5c.d789d64ebfe299b0e416afc4a169632f903f693095b4629a7ea271d5a0cf2c99.lock\n"
     ]
    },
    {
     "data": {
      "application/vnd.jupyter.widget-view+json": {
       "model_id": "da8a0e6752f046c1b210235110b8317f",
       "version_major": 2,
       "version_minor": 0
      },
      "text/plain": [
       "HBox(children=(FloatProgress(value=0.0, description='Downloading', max=231508.0, style=ProgressStyle(descripti…"
      ]
     },
     "metadata": {},
     "output_type": "display_data"
    },
    {
     "name": "stderr",
     "output_type": "stream",
     "text": [
      "03/07/2021 16:50:05 - INFO - filelock -   Lock 140632480585712 released on /root/.cache/huggingface/transformers/26cf899a0974235af1f84469ddd94d2ee83c803c23ecead93b511ce8a0744f5c.d789d64ebfe299b0e416afc4a169632f903f693095b4629a7ea271d5a0cf2c99.lock\n"
     ]
    },
    {
     "name": "stdout",
     "output_type": "stream",
     "text": [
      "\n"
     ]
    },
    {
     "name": "stderr",
     "output_type": "stream",
     "text": [
      "03/07/2021 16:50:06 - INFO - filelock -   Lock 140632480648256 acquired on /root/.cache/huggingface/transformers/d4df3c917efc1bf4cde9515ac4432cddf040d3ddacfad55c85445bc985f58ceb.dd8bd9bfd3664b530ea4e645105f557769387b3da9f79bdb55ed556bdd80611d.lock\n"
     ]
    },
    {
     "data": {
      "application/vnd.jupyter.widget-view+json": {
       "model_id": "9ae5583d8ec84307a9a762bd7e2dcf42",
       "version_major": 2,
       "version_minor": 0
      },
      "text/plain": [
       "HBox(children=(FloatProgress(value=0.0, description='Downloading', max=112.0, style=ProgressStyle(description_…"
      ]
     },
     "metadata": {},
     "output_type": "display_data"
    },
    {
     "name": "stderr",
     "output_type": "stream",
     "text": [
      "03/07/2021 16:50:06 - INFO - filelock -   Lock 140632480648256 released on /root/.cache/huggingface/transformers/d4df3c917efc1bf4cde9515ac4432cddf040d3ddacfad55c85445bc985f58ceb.dd8bd9bfd3664b530ea4e645105f557769387b3da9f79bdb55ed556bdd80611d.lock\n"
     ]
    },
    {
     "name": "stdout",
     "output_type": "stream",
     "text": [
      "\n"
     ]
    },
    {
     "name": "stderr",
     "output_type": "stream",
     "text": [
      "03/07/2021 16:50:06 - INFO - filelock -   Lock 140632481070000 acquired on /root/.cache/huggingface/transformers/445caa3aaff6c34b07acdff304db0c8468640baf1139f92c14270fc50cff2eb8.76ea01b4b85ac16e2cec55c398cba7a943d89ab21dfdd973f6630a152e4b9aed.lock\n"
     ]
    },
    {
     "data": {
      "application/vnd.jupyter.widget-view+json": {
       "model_id": "0e598a7fd7034a5791735f5f079e6192",
       "version_major": 2,
       "version_minor": 0
      },
      "text/plain": [
       "HBox(children=(FloatProgress(value=0.0, description='Downloading', max=48.0, style=ProgressStyle(description_w…"
      ]
     },
     "metadata": {},
     "output_type": "display_data"
    },
    {
     "name": "stderr",
     "output_type": "stream",
     "text": [
      "03/07/2021 16:50:07 - INFO - filelock -   Lock 140632481070000 released on /root/.cache/huggingface/transformers/445caa3aaff6c34b07acdff304db0c8468640baf1139f92c14270fc50cff2eb8.76ea01b4b85ac16e2cec55c398cba7a943d89ab21dfdd973f6630a152e4b9aed.lock\n"
     ]
    },
    {
     "name": "stdout",
     "output_type": "stream",
     "text": [
      "\n"
     ]
    },
    {
     "name": "stderr",
     "output_type": "stream",
     "text": [
      "03/07/2021 16:50:07 - INFO - filelock -   Lock 140632480647584 acquired on /root/.cache/huggingface/transformers/786598a0d343d4afb34b4f1ee17c14b58fb129abb0b3db386587bea52ffcfb11.647b4548b6d9ea817e82e7a9231a320231a1c9ea24053cc9e758f3fe68216f05.lock\n"
     ]
    },
    {
     "data": {
      "application/vnd.jupyter.widget-view+json": {
       "model_id": "b68005a44ff84e86b2882b2395fb333d",
       "version_major": 2,
       "version_minor": 0
      },
      "text/plain": [
       "HBox(children=(FloatProgress(value=0.0, description='Downloading', max=898822.0, style=ProgressStyle(descripti…"
      ]
     },
     "metadata": {},
     "output_type": "display_data"
    },
    {
     "name": "stderr",
     "output_type": "stream",
     "text": [
      "03/07/2021 16:50:10 - INFO - filelock -   Lock 140632480647584 released on /root/.cache/huggingface/transformers/786598a0d343d4afb34b4f1ee17c14b58fb129abb0b3db386587bea52ffcfb11.647b4548b6d9ea817e82e7a9231a320231a1c9ea24053cc9e758f3fe68216f05.lock\n"
     ]
    },
    {
     "name": "stdout",
     "output_type": "stream",
     "text": [
      "\n"
     ]
    },
    {
     "name": "stderr",
     "output_type": "stream",
     "text": [
      "03/07/2021 16:50:10 - INFO - filelock -   Lock 140632480583936 acquired on /root/.cache/huggingface/transformers/f5fdd0c4b41c985f791c9a230cdf051da1cf9480d84e0f5f617667760a24f50f.5d12962c5ee615a4c803841266e9c3be9a691a924f72d395d3a6c6c81157788b.lock\n"
     ]
    },
    {
     "data": {
      "application/vnd.jupyter.widget-view+json": {
       "model_id": "a4fd054902c44cb0a84a376d5bf8390e",
       "version_major": 2,
       "version_minor": 0
      },
      "text/plain": [
       "HBox(children=(FloatProgress(value=0.0, description='Downloading', max=456318.0, style=ProgressStyle(descripti…"
      ]
     },
     "metadata": {},
     "output_type": "display_data"
    },
    {
     "name": "stderr",
     "output_type": "stream",
     "text": [
      "03/07/2021 16:50:11 - INFO - filelock -   Lock 140632480583936 released on /root/.cache/huggingface/transformers/f5fdd0c4b41c985f791c9a230cdf051da1cf9480d84e0f5f617667760a24f50f.5d12962c5ee615a4c803841266e9c3be9a691a924f72d395d3a6c6c81157788b.lock\n"
     ]
    },
    {
     "name": "stdout",
     "output_type": "stream",
     "text": [
      "\n"
     ]
    },
    {
     "name": "stderr",
     "output_type": "stream",
     "text": [
      "03/07/2021 16:50:12 - INFO - filelock -   Lock 140632480269984 acquired on /root/.cache/huggingface/transformers/73d054acda2f2b44f075a0d391ed392e6c53f78356bbf279581786ae35a79e4d.cb2244924ab24d706b02fd7fcedaea4531566537687a539ebb94db511fd122a0.lock\n"
     ]
    },
    {
     "data": {
      "application/vnd.jupyter.widget-view+json": {
       "model_id": "9dcec442c7034c48bb231780c2f5dda3",
       "version_major": 2,
       "version_minor": 0
      },
      "text/plain": [
       "HBox(children=(FloatProgress(value=0.0, description='Downloading', max=772.0, style=ProgressStyle(description_…"
      ]
     },
     "metadata": {},
     "output_type": "display_data"
    },
    {
     "name": "stderr",
     "output_type": "stream",
     "text": [
      "03/07/2021 16:50:12 - INFO - filelock -   Lock 140632480269984 released on /root/.cache/huggingface/transformers/73d054acda2f2b44f075a0d391ed392e6c53f78356bbf279581786ae35a79e4d.cb2244924ab24d706b02fd7fcedaea4531566537687a539ebb94db511fd122a0.lock\n"
     ]
    },
    {
     "name": "stdout",
     "output_type": "stream",
     "text": [
      "\n"
     ]
    },
    {
     "name": "stderr",
     "output_type": "stream",
     "text": [
      "03/07/2021 16:50:12 - INFO - filelock -   Lock 140632481069904 acquired on /root/.cache/huggingface/transformers/a2f0711fd4c199beaf3ff2626c4a723e107e79a8d065099a3d24e7aa361c0f18.67d01b18f2079bd75eac0b2f2e7235768c7f26bd728e7a855a1c5acae01a91a8.lock\n"
     ]
    },
    {
     "data": {
      "application/vnd.jupyter.widget-view+json": {
       "model_id": "e4e5defe51cd49cc9d3247a2bc58235d",
       "version_major": 2,
       "version_minor": 0
      },
      "text/plain": [
       "HBox(children=(FloatProgress(value=0.0, description='Downloading', max=26.0, style=ProgressStyle(description_w…"
      ]
     },
     "metadata": {},
     "output_type": "display_data"
    },
    {
     "name": "stderr",
     "output_type": "stream",
     "text": [
      "03/07/2021 16:50:13 - INFO - filelock -   Lock 140632481069904 released on /root/.cache/huggingface/transformers/a2f0711fd4c199beaf3ff2626c4a723e107e79a8d065099a3d24e7aa361c0f18.67d01b18f2079bd75eac0b2f2e7235768c7f26bd728e7a855a1c5acae01a91a8.lock\n"
     ]
    },
    {
     "name": "stdout",
     "output_type": "stream",
     "text": [
      "\n"
     ]
    },
    {
     "name": "stderr",
     "output_type": "stream",
     "text": [
      "03/07/2021 16:50:13 - INFO - filelock -   Lock 140632480382208 acquired on /root/.cache/huggingface/transformers/6288b70ae87b5989f6801120b25a2f6ccf2e88c2f622d94805717b5b043ff71b.bceb1ea6e95a1b39d0a717f315800a39b0847e5cdeeb42615fb498775f632ee6.lock\n"
     ]
    },
    {
     "data": {
      "application/vnd.jupyter.widget-view+json": {
       "model_id": "19b75b4192e54c38bb634542fe0595f7",
       "version_major": 2,
       "version_minor": 0
      },
      "text/plain": [
       "HBox(children=(FloatProgress(value=0.0, description='Downloading', max=2063600064.0, style=ProgressStyle(descr…"
      ]
     },
     "metadata": {},
     "output_type": "display_data"
    },
    {
     "name": "stderr",
     "output_type": "stream",
     "text": [
      "03/07/2021 16:50:49 - INFO - filelock -   Lock 140632480382208 released on /root/.cache/huggingface/transformers/6288b70ae87b5989f6801120b25a2f6ccf2e88c2f622d94805717b5b043ff71b.bceb1ea6e95a1b39d0a717f315800a39b0847e5cdeeb42615fb498775f632ee6.lock\n"
     ]
    },
    {
     "name": "stdout",
     "output_type": "stream",
     "text": [
      "\n"
     ]
    },
    {
     "name": "stderr",
     "output_type": "stream",
     "text": [
      "Some weights of RagTokenForGeneration were not initialized from the model checkpoint at facebook/rag-token-nq and are newly initialized: ['rag.generator.lm_head.weight']\n",
      "You should probably TRAIN this model on a down-stream task to be able to use it for predictions and inference.\n"
     ]
    }
   ],
   "source": [
    "retriever = DensePassageRetriever(\n",
    "    document_store=faiss_document_store,\n",
    "    query_embedding_model=\"facebook/dpr-question_encoder-single-nq-base\",\n",
    "    passage_embedding_model=\"facebook/dpr-ctx_encoder-single-nq-base\",\n",
    "    use_gpu=True,\n",
    "    embed_title=True,\n",
    ")\n",
    "\n",
    "generator = RAGenerator(\n",
    "    model_name_or_path=\"facebook/rag-token-nq\",\n",
    "    use_gpu=True,\n",
    "    top_k_answers=1,\n",
    "    max_length=200,\n",
    "    min_length=2,\n",
    "    embed_title=True,\n",
    "    num_beams=2,\n",
    ")"
   ]
  },
  {
   "cell_type": "code",
   "execution_count": null,
   "metadata": {},
   "outputs": [
    {
     "data": {
      "text/plain": [
       "{'text': 'I purchased this just this week, and while it holds myHP Pavilion DV9830US 17\" Laptopsufficiently, it\\'s not what I hoped for. First off, the padding around the laptop compartment is barely sufficient. I\\'ve seen laptop backpacks that provide much more padding. Also, who makes a laptop backpack without CD sleeves?! There is also a front flap that\\'s not sealed, so if you\\'re caught in the rain that compartment will get water in it.Overall, I wasn\\'t clear on who they designed this for. It was a water bottle holder and some sections that make it seem more like a sport backpack than a student / business travel oriented item, and yet no one is going to go hiking with a 17\" laptop... are they? Maybe I\\'m wrong.The straps seem solid, though around the shoulders they can dig in a bit. I\\'m overweight, so perhaps someone who had thinner shoulders would not have this problem. The overall construction seems fine. Zippers are mostly double which is good, although the exception is the phone/music player slot on the side, which unzips in such a way that you have to hold your device in place while you re-zip, or it will simply fall out. ANSWERNOTFOUND',\n",
       " 'meta': {'name': 'B0000BZOGJ', 'is_answerable': 0}}"
      ]
     },
     "execution_count": null,
     "metadata": {},
     "output_type": "execute_result"
    }
   ],
   "source": [
    "docs = [{\"text\": row[\"review\"], \"meta\":{\"name\": row[\"item_id\"], \"is_answerable\": row[\"is_answerable\"]}} for _, row in dfs[\"test\"].iterrows()]\n",
    "docs[0]"
   ]
  },
  {
   "cell_type": "code",
   "execution_count": null,
   "metadata": {},
   "outputs": [
    {
     "name": "stderr",
     "output_type": "stream",
     "text": [
      "03/07/2021 16:59:26 - INFO - haystack.document_store.faiss -   Updating embeddings for 718 docs...\n",
      "  0%|          | 0/718 [00:00<?, ?it/s]\n",
      "Creating Embeddings:   0%|          | 0/45 [00:00<?, ? Batches/s]\u001b[A\n",
      "Creating Embeddings:   2%|▏         | 1/45 [00:00<00:09,  4.80 Batches/s]\u001b[A\n",
      "Creating Embeddings:   4%|▍         | 2/45 [00:00<00:08,  5.05 Batches/s]\u001b[A\n",
      "Creating Embeddings:   7%|▋         | 3/45 [00:00<00:08,  5.25 Batches/s]\u001b[A\n",
      "Creating Embeddings:   9%|▉         | 4/45 [00:00<00:07,  5.39 Batches/s]\u001b[A\n",
      "Creating Embeddings:  11%|█         | 5/45 [00:00<00:07,  5.50 Batches/s]\u001b[A\n",
      "Creating Embeddings:  13%|█▎        | 6/45 [00:01<00:06,  5.57 Batches/s]\u001b[A\n",
      "Creating Embeddings:  16%|█▌        | 7/45 [00:01<00:06,  5.62 Batches/s]\u001b[A\n",
      "Creating Embeddings:  18%|█▊        | 8/45 [00:01<00:06,  5.66 Batches/s]\u001b[A\n",
      "Creating Embeddings:  20%|██        | 9/45 [00:01<00:06,  5.69 Batches/s]\u001b[A\n",
      "Creating Embeddings:  22%|██▏       | 10/45 [00:01<00:06,  5.71 Batches/s]\u001b[A\n",
      "Creating Embeddings:  24%|██▍       | 11/45 [00:01<00:05,  5.72 Batches/s]\u001b[A\n",
      "Creating Embeddings:  27%|██▋       | 12/45 [00:02<00:05,  5.73 Batches/s]\u001b[A\n",
      "Creating Embeddings:  29%|██▉       | 13/45 [00:02<00:05,  5.73 Batches/s]\u001b[A\n",
      "Creating Embeddings:  31%|███       | 14/45 [00:02<00:05,  5.73 Batches/s]\u001b[A\n",
      "Creating Embeddings:  33%|███▎      | 15/45 [00:02<00:05,  5.73 Batches/s]\u001b[A\n",
      "Creating Embeddings:  36%|███▌      | 16/45 [00:02<00:05,  5.73 Batches/s]\u001b[A\n",
      "Creating Embeddings:  38%|███▊      | 17/45 [00:02<00:04,  5.72 Batches/s]\u001b[A\n",
      "Creating Embeddings:  40%|████      | 18/45 [00:03<00:04,  5.74 Batches/s]\u001b[A\n",
      "Creating Embeddings:  42%|████▏     | 19/45 [00:03<00:04,  5.74 Batches/s]\u001b[A\n",
      "Creating Embeddings:  44%|████▍     | 20/45 [00:03<00:04,  5.74 Batches/s]\u001b[A\n",
      "Creating Embeddings:  47%|████▋     | 21/45 [00:03<00:04,  5.73 Batches/s]\u001b[A\n",
      "Creating Embeddings:  49%|████▉     | 22/45 [00:03<00:04,  5.73 Batches/s]\u001b[A\n",
      "Creating Embeddings:  51%|█████     | 23/45 [00:04<00:03,  5.74 Batches/s]\u001b[A\n",
      "Creating Embeddings:  53%|█████▎    | 24/45 [00:04<00:03,  5.74 Batches/s]\u001b[A\n",
      "Creating Embeddings:  56%|█████▌    | 25/45 [00:04<00:03,  5.75 Batches/s]\u001b[A\n",
      "Creating Embeddings:  58%|█████▊    | 26/45 [00:04<00:03,  5.75 Batches/s]\u001b[A\n",
      "Creating Embeddings:  60%|██████    | 27/45 [00:04<00:03,  5.75 Batches/s]\u001b[A\n",
      "Creating Embeddings:  62%|██████▏   | 28/45 [00:04<00:02,  5.76 Batches/s]\u001b[A\n",
      "Creating Embeddings:  64%|██████▍   | 29/45 [00:05<00:02,  5.76 Batches/s]\u001b[A\n",
      "Creating Embeddings:  67%|██████▋   | 30/45 [00:05<00:02,  5.75 Batches/s]\u001b[A\n",
      "Creating Embeddings:  69%|██████▉   | 31/45 [00:05<00:02,  5.76 Batches/s]\u001b[A\n",
      "Creating Embeddings:  71%|███████   | 32/45 [00:05<00:02,  5.76 Batches/s]\u001b[A\n",
      "Creating Embeddings:  73%|███████▎  | 33/45 [00:05<00:02,  5.76 Batches/s]\u001b[A\n",
      "Creating Embeddings:  76%|███████▌  | 34/45 [00:05<00:01,  5.76 Batches/s]\u001b[A\n",
      "Creating Embeddings:  78%|███████▊  | 35/45 [00:06<00:01,  5.76 Batches/s]\u001b[A\n",
      "Creating Embeddings:  80%|████████  | 36/45 [00:06<00:01,  5.76 Batches/s]\u001b[A\n",
      "Creating Embeddings:  82%|████████▏ | 37/45 [00:06<00:01,  5.76 Batches/s]\u001b[A\n",
      "Creating Embeddings:  84%|████████▍ | 38/45 [00:06<00:01,  5.75 Batches/s]\u001b[A\n",
      "Creating Embeddings:  87%|████████▋ | 39/45 [00:06<00:01,  5.75 Batches/s]\u001b[A\n",
      "Creating Embeddings:  89%|████████▉ | 40/45 [00:06<00:00,  5.75 Batches/s]\u001b[A\n",
      "Creating Embeddings:  91%|█████████ | 41/45 [00:07<00:00,  5.75 Batches/s]\u001b[A\n",
      "Creating Embeddings:  93%|█████████▎| 42/45 [00:07<00:00,  5.76 Batches/s]\u001b[A\n",
      "Creating Embeddings:  96%|█████████▌| 43/45 [00:07<00:00,  5.77 Batches/s]\u001b[A\n",
      "Creating Embeddings:  98%|█████████▊| 44/45 [00:07<00:00,  5.74 Batches/s]\u001b[A\n",
      "Creating Embeddings: 100%|██████████| 45/45 [00:07<00:00,  5.74 Batches/s]\u001b[A\n",
      "10000it [00:09, 1032.32it/s]           \n"
     ]
    }
   ],
   "source": [
    "faiss_document_store.delete_all_documents()\n",
    "\n",
    "faiss_document_store.write_documents(docs)\n",
    "\n",
    "faiss_document_store.update_embeddings(\n",
    "    retriever=retriever)\n"
   ]
  },
  {
   "cell_type": "code",
   "execution_count": null,
   "metadata": {},
   "outputs": [
    {
     "name": "stdout",
     "output_type": "stream",
     "text": [
      "\n",
      "Question: does it work with ps4?\n",
      "RAG answer: there were a lot of whining about defective units\n"
     ]
    }
   ],
   "source": [
    "from haystack.pipeline import GenerativeQAPipeline\n",
    "\n",
    "query= \"does it work with ps4?\"\n",
    "pipe = GenerativeQAPipeline(generator=generator, retriever=retriever)\n",
    "prediction = pipe.run(query=query, top_k_generator=1, top_k_retriever=5)\n",
    "answers = prediction[\"answers\"]\n",
    "print()\n",
    "print(f\"Question: {query}\")\n",
    "print(f\"RAG answer: {answers[0]['answer'].lower()}\")"
   ]
  },
  {
   "cell_type": "code",
   "execution_count": null,
   "metadata": {},
   "outputs": [],
   "source": []
  }
 ],
 "metadata": {
  "kernelspec": {
   "display_name": "transformerlab",
   "language": "python",
   "name": "transformerlab"
  }
 },
 "nbformat": 4,
 "nbformat_minor": 4
}
